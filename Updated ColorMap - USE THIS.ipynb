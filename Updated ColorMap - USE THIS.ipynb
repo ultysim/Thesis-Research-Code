{
 "cells": [
  {
   "cell_type": "code",
   "execution_count": 5,
   "metadata": {},
   "outputs": [
    {
     "name": "stdout",
     "output_type": "stream",
     "text": [
      "Using matplotlib backend: TkAgg\n"
     ]
    }
   ],
   "source": [
    "import numpy as np\n",
    "import matplotlib as mpl\n",
    "from matplotlib import pyplot as plt\n",
    "import Analysis\n",
    "import pylab\n",
    "from matplotlib.gridspec import GridSpec\n",
    "import SG\n",
    "from scipy import interpolate\n",
    "from matplotlib.colors import LinearSegmentedColormap\n",
    "%matplotlib "
   ]
  },
  {
   "cell_type": "markdown",
   "metadata": {
    "heading_collapsed": true
   },
   "source": [
    "# Data"
   ]
  },
  {
   "cell_type": "code",
   "execution_count": 6,
   "metadata": {
    "hidden": true
   },
   "outputs": [],
   "source": [
    "se2014 = np.load('2014se_new.npy')\n",
    "se2011 = np.load('2011se_new.npy')\n",
    "#data2014 = np.load('2014_Prune.npy')\n",
    "data2014 = np.load('2014_Prune_new.npy')\n",
    "data2011 = np.load('2011_Prune.npy')\n",
    "bval2014 = [5.5845,5.5840,5.5835,5.5830,5.5825,5.5820,5.5815,5.5810,5.5805,5.5800,5.5795,5.5790,5.5785,5.5780,5.5775]\n",
    "bval2011 = [5.536,5.5355,5.535,5.5345,5.534,5.5335,5.533,5.5325,5.532,5.5315,5.531,5.5305,5.53,5.5295,5.529,5.5285,5.528,5.5275,5.527,5.5265,5.526,5.5255]\n"
   ]
  },
  {
   "cell_type": "markdown",
   "metadata": {},
   "source": [
    "# Helper Functions"
   ]
  },
  {
   "cell_type": "code",
   "execution_count": 7,
   "metadata": {},
   "outputs": [],
   "source": [
    "cdict = {'red':   ((0.0, 0.0, 0.0),\n",
    "                   (0.5, 1.0, 1.0),\n",
    "                   (1.0, 1.0, 1.0)),\n",
    "\n",
    "         'green': ((0.0, 0.0, 0.0),\n",
    "                   (0.5,0.0,0.0),\n",
    "                   (1.0, 1.0, 1.0)),\n",
    "\n",
    "         'blue':  ((0.0, 1.0, 1.0),\n",
    "                   (0.5, 0.0, 0.0),\n",
    "                   (1.0, 0.0, 0.0))\n",
    "        }\n",
    "        \n",
    "yellowredblue = LinearSegmentedColormap('YellowRedBlue', cdict)"
   ]
  },
  {
   "cell_type": "code",
   "execution_count": 8,
   "metadata": {},
   "outputs": [],
   "source": [
    "def search(data, t):\n",
    "    seq = data[0]    \n",
    "    min = 0\n",
    "    max = len(seq) - 1\n",
    "    while True:        \n",
    "        m = (min + max) // 2\n",
    "        if max < min:\n",
    "            if np.abs(t-seq[m]) < np.abs(t-seq[m-1]):          \n",
    "                return m\n",
    "            else:\n",
    "                return m-1        \n",
    "        if seq[m] < t:\n",
    "            min = m + 1\n",
    "        elif seq[m] > t:\n",
    "            max = m - 1\n",
    "        else:\n",
    "            return m\n",
    "            \n",
    "\n",
    "def clip(d,min,max):\n",
    "    data = np.vstack((d[0],d[1]))\n",
    "    li = search(data,min)\n",
    "    ri = search(data,max)\n",
    "    return data[:,li:ri+1]\n",
    "    \n",
    "def normalize(data):\n",
    "    minv = min(data)\n",
    "    maxv = max(data)\n",
    "    hold = np.array(data)\n",
    "    for i in range(len(hold)):\n",
    "        hold[i] = (hold[i]-minv)/(maxv-minv)\n",
    "    return hold\n",
    "\n",
    "def percentile_normalize(data,p=1):\n",
    "    minv = np.percentile(data,p)\n",
    "    maxv = np.percentile(data,100-p)\n",
    "    hold = np.array(data)\n",
    "    for i in range(len(hold)):\n",
    "        hold[i] = (hold[i]-minv)/(maxv-minv)\n",
    "    return hold"
   ]
  },
  {
   "cell_type": "markdown",
   "metadata": {},
   "source": [
    "# Plots"
   ]
  },
  {
   "cell_type": "code",
   "execution_count": 15,
   "metadata": {},
   "outputs": [],
   "source": [
    "bfieldval = bval2011\n",
    "data = data2011\n",
    "\n",
    "#----------------------------------------------------------------------------\n",
    "n = 1024\n",
    "smoothval = 51\n",
    "poly = 2\n",
    "interpdim = 2\n",
    "cmlabel = 'Normalized $\\Delta$R$_D$ (k$\\Omega$)'\n",
    "data = [x for (y,x) in sorted(zip(bfieldval,data), key=lambda pair: pair[0])]\n",
    "bval = sorted(bfieldval)    \n",
    "xmin = None\n",
    "xmax = 0\n",
    "for i in data:\n",
    "    if i[0][0] > xmin:\n",
    "        xmin = i[0][0]\n",
    "    if i[0][-1] < xmax:\n",
    "        xmax = i[0][-1]\n",
    "xmin += 0.5\n",
    "xmax -= 0.5\n",
    "xv = np.linspace(xmin,xmax,n)\n",
    "intv = list()\n",
    "count = 0\n",
    "for i in data:\n",
    "    if count == 21:\n",
    "        xmin += 1\n",
    "    #Try flipping filtering and interp\n",
    "    dataclip = clip(i,xmin,xmax)\n",
    "    dataclip[1] = SG.savitzky_golay(dataclip[1],smoothval,poly)\n",
    "    tck = interpolate.splrep(dataclip[0], dataclip[1],k=1)\n",
    "    y = interpolate.splev(xv,tck)\n",
    "    intv.append(percentile_normalize(y,1))\n",
    "    count += 1\n",
    "xb = np.linspace(bval[0],bval[-1],n)\n",
    "b = list()\n",
    "for i in range(len(intv[0])):\n",
    "    hold = list()\n",
    "    for j in range(len(intv)):\n",
    "        hold.append(intv[j][i])\n",
    "    b.append(hold)\n",
    "intb = list()\n",
    "for i in b:\n",
    "    tck = interpolate.splrep(bval,i,k=interpdim)\n",
    "    y = interpolate.splev(xb,tck)\n",
    "    intb.append(y)\n",
    "Z = np.array(intb)\n",
    "X,Y = pylab.meshgrid(xb,xv)\n"
   ]
  },
  {
   "cell_type": "code",
   "execution_count": 16,
   "metadata": {
    "collapsed": true
   },
   "outputs": [],
   "source": [
    "colortype = yellowredblue\n",
    "f, ax = plt.subplots()\n",
    "plt.pcolormesh(X,Y,Z,vmin=0,vmax=1,cmap=colortype)\n",
    "plt.ylim(xmin,xmax)\n",
    "plt.xlim(bval[0],bval[-1])\n",
    "plt.ylabel('Gate Voltage (mV)')\n",
    "plt.xlabel('B Field (T)')\n",
    "cbar = plt.colorbar()\n",
    "cbar.set_label(cmlabel)\n",
    "ax.get_xaxis().get_major_formatter().set_useOffset(False)\n",
    "#plt.savefig('ColorMap52_2011',dpi=1200)"
   ]
  },
  {
   "cell_type": "code",
   "execution_count": 17,
   "metadata": {},
   "outputs": [],
   "source": [
    "plt.savefig('ColorMap_2011',dpi=1200)"
   ]
  },
  {
   "cell_type": "code",
   "execution_count": 81,
   "metadata": {
    "collapsed": true
   },
   "outputs": [],
   "source": [
    "se = se2011\n",
    "pi54 = list()\n",
    "pi = list()\n",
    "for i in se[1]:\n",
    "    if i[2]>1.2:\n",
    "        pi54.append(i)\n",
    "    else:\n",
    "        pi.append(i)\n",
    "pi54=np.array(pi54)\n",
    "pi = np.array(pi)"
   ]
  },
  {
   "cell_type": "code",
   "execution_count": 84,
   "metadata": {},
   "outputs": [
    {
     "data": {
      "text/plain": [
       "<matplotlib.collections.PathCollection at 0x2b587208>"
      ]
     },
     "execution_count": 84,
     "metadata": {},
     "output_type": "execute_result"
    }
   ],
   "source": [
    "plt.scatter((pi[:,1]),pi[:,0],s=50,color='w',edgecolor='k')\n",
    "plt.scatter((pi54[:,1]),pi54[:,0],s=80,color='#15ff00',marker='*',edgecolor='k')\n",
    "plt.scatter((se2011[0][:,1]),se2011[0][:,0],s=50,color='#00FFFF',marker='d',edgecolor='k')"
   ]
  },
  {
   "cell_type": "code",
   "execution_count": 85,
   "metadata": {},
   "outputs": [],
   "source": [
    "plt.savefig('ColorMap52_2011',dpi=1200)"
   ]
  },
  {
   "cell_type": "code",
   "execution_count": 18,
   "metadata": {},
   "outputs": [],
   "source": [
    "bfieldval = bval2014\n",
    "data = data2014\n",
    "\n",
    "#----------------------------------------------------------------------------\n",
    "n = 1024\n",
    "smoothval = 51\n",
    "poly = 2\n",
    "interpdim = 2\n",
    "cmlabel = 'Normalized $\\Delta$R$_D$ (k$\\Omega$)'\n",
    "data = [x for (y,x) in sorted(zip(bfieldval,data), key=lambda pair: pair[0])]\n",
    "bval = sorted(bfieldval)    \n",
    "xmin = None\n",
    "xmax = 0\n",
    "for i in data:\n",
    "    if i[0][0] > xmin:\n",
    "        xmin = i[0][0]\n",
    "    if i[0][-1] < xmax:\n",
    "        xmax = i[0][-1]\n",
    "xmin += 0.5\n",
    "xmax -= 0.5\n",
    "xv = np.linspace(xmin,xmax,n)\n",
    "intv = list()\n",
    "count = 0\n",
    "for i in data:\n",
    "    if count == 21:\n",
    "        xmin += 1\n",
    "    #Try flipping filtering and interp\n",
    "    dataclip = clip(i,xmin,xmax)\n",
    "    dataclip[1] = SG.savitzky_golay(dataclip[1],smoothval,poly)\n",
    "    tck = interpolate.splrep(dataclip[0], dataclip[1],k=1)\n",
    "    y = interpolate.splev(xv,tck)\n",
    "    intv.append(percentile_normalize(y,1))\n",
    "    count += 1\n",
    "xb = np.linspace(bval[0],bval[-1],n)\n",
    "b = list()\n",
    "for i in range(len(intv[0])):\n",
    "    hold = list()\n",
    "    for j in range(len(intv)):\n",
    "        hold.append(intv[j][i])\n",
    "    b.append(hold)\n",
    "intb = list()\n",
    "for i in b:\n",
    "    tck = interpolate.splrep(bval,i,k=interpdim)\n",
    "    y = interpolate.splev(xb,tck)\n",
    "    intb.append(y)\n",
    "Z = np.array(intb)\n",
    "X,Y = pylab.meshgrid(xb,xv)\n"
   ]
  },
  {
   "cell_type": "code",
   "execution_count": 19,
   "metadata": {},
   "outputs": [],
   "source": [
    "colortype = yellowredblue\n",
    "f, ax = plt.subplots()\n",
    "plt.pcolormesh(X,Y,Z,vmin=0,vmax=1,cmap=colortype)\n",
    "plt.ylim(xmin,xmax)\n",
    "plt.xlim(bval[0],bval[-1])\n",
    "plt.ylabel('Gate Voltage (mV)')\n",
    "plt.xlabel('B Field (T)')\n",
    "cbar = plt.colorbar()\n",
    "cbar.set_label(cmlabel)\n",
    "ax.get_xaxis().get_major_formatter().set_useOffset(False)\n",
    "#plt.savefig('ColorMap52_2011',dpi=1200)"
   ]
  },
  {
   "cell_type": "code",
   "execution_count": 20,
   "metadata": {},
   "outputs": [],
   "source": [
    "plt.savefig('ColorMap_2014',dpi=1200)"
   ]
  },
  {
   "cell_type": "code",
   "execution_count": 97,
   "metadata": {},
   "outputs": [],
   "source": [
    "se = se2014\n",
    "pi54 = list()\n",
    "pi = list()\n",
    "for i in se[1]:\n",
    "    if i[2]>1.2:\n",
    "        pi54.append(i)\n",
    "    else:\n",
    "        pi.append(i)\n",
    "pi54=np.array(pi54)\n",
    "pi = np.array(pi)"
   ]
  },
  {
   "cell_type": "code",
   "execution_count": 98,
   "metadata": {},
   "outputs": [
    {
     "data": {
      "text/plain": [
       "<matplotlib.collections.PathCollection at 0x255ac0b8>"
      ]
     },
     "execution_count": 98,
     "metadata": {},
     "output_type": "execute_result"
    }
   ],
   "source": [
    "plt.scatter((pi[:,1]),pi[:,0],s=50,color='w',edgecolor='k')\n",
    "#plt.scatter((pi54[:,1]),pi54[:,0],s=80,color='#15ff00',marker='*',edgecolor='k')\n",
    "plt.scatter((se[0][:,1]),se[0][:,0],s=50,color='#00FFFF',marker='d',edgecolor='k')"
   ]
  },
  {
   "cell_type": "code",
   "execution_count": 99,
   "metadata": {},
   "outputs": [],
   "source": [
    "plt.savefig('ColorMap52_2014',dpi=1200)"
   ]
  },
  {
   "cell_type": "code",
   "execution_count": null,
   "metadata": {},
   "outputs": [],
   "source": []
  }
 ],
 "metadata": {
  "kernelspec": {
   "display_name": "Python 2",
   "language": "python",
   "name": "python2"
  },
  "language_info": {
   "codemirror_mode": {
    "name": "ipython",
    "version": 2
   },
   "file_extension": ".py",
   "mimetype": "text/x-python",
   "name": "python",
   "nbconvert_exporter": "python",
   "pygments_lexer": "ipython2",
   "version": "2.7.10"
  }
 },
 "nbformat": 4,
 "nbformat_minor": 2
}
