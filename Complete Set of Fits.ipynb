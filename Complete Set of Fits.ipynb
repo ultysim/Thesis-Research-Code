{
 "cells": [
  {
   "cell_type": "code",
   "execution_count": 1,
   "metadata": {},
   "outputs": [
    {
     "name": "stdout",
     "output_type": "stream",
     "text": [
      "Using matplotlib backend: TkAgg\n"
     ]
    }
   ],
   "source": [
    "import Analysis\n",
    "import numpy as np\n",
    "import matplotlib as mpl\n",
    "from matplotlib import pyplot as plt\n",
    "from matplotlib.gridspec import GridSpec\n",
    "%matplotlib\n",
    "se2011 = np.load('2011se.npy')\n",
    "se52 = np.load('52se.npy')\n"
   ]
  },
  {
   "cell_type": "code",
   "execution_count": 2,
   "metadata": {
    "collapsed": true
   },
   "outputs": [],
   "source": [
    "gs = GridSpec(1000,1000)"
   ]
  },
  {
   "cell_type": "code",
   "execution_count": 213,
   "metadata": {
    "collapsed": true
   },
   "outputs": [],
   "source": [
    "run = Analysis.Run(np.load('2014_Raw.npy'), np.load('2014_Prune.npy'), Analysis.bval2014, np.load('2014bf_new_residual.npy'))"
   ]
  },
  {
   "cell_type": "code",
   "execution_count": 178,
   "metadata": {
    "collapsed": true
   },
   "outputs": [],
   "source": [
    "run = Analysis.Run(np.load('2011_Raw.npy'), np.load('2011_Prune.npy'), Analysis.bval2011, np.load('2011bf_new_residual.npy'))"
   ]
  },
  {
   "cell_type": "code",
   "execution_count": 10,
   "metadata": {
    "collapsed": true
   },
   "outputs": [],
   "source": [
    "L = 0\n",
    "for i in run.prune_data:\n",
    "    for j in i.fits:\n",
    "        L += 1\n",
    "        "
   ]
  },
  {
   "cell_type": "code",
   "execution_count": 13,
   "metadata": {
    "collapsed": true
   },
   "outputs": [],
   "source": [
    "c = 1\n",
    "fig = plt.figure(figsize=(5,100))\n",
    "for i in run.prune_data:\n",
    "    for j in i.fits:\n",
    "        ax = plt.subplot(L,1,c)\n",
    "        i.plot()\n",
    "        j.plot(False,linewidth=1)\n",
    "        ax.set_xlim(j.pos_left,j.pos_right) #Tight\n",
    "        #ax.set_xlim(min(i.x),max(i.x)) #Full\n",
    "        (y_min,y_max) = ax.get_ylim()\n",
    "        dy = (y_max - y_min)*0.1\n",
    "        ax.set_ylim(y_min - dy, y_max + dy)\n",
    "        ax.tick_params(axis='both', which = 'both', bottom = 'off', top = 'off', left = 'off', right = 'off', labelleft = 'off', labelbottom = 'off')\n",
    "        c += 1\n",
    "plt.show()"
   ]
  },
  {
   "cell_type": "code",
   "execution_count": 14,
   "metadata": {
    "collapsed": true
   },
   "outputs": [],
   "source": [
    "fig.savefig('2011 Complete Fits - Tight',dpi=1200)"
   ]
  },
  {
   "cell_type": "code",
   "execution_count": 196,
   "metadata": {},
   "outputs": [
    {
     "name": "stdout",
     "output_type": "stream",
     "text": [
      "0\n",
      "1\n",
      "3\n",
      "4\n",
      "5\n",
      "6\n",
      "7\n",
      "8\n",
      "9\n",
      "10\n",
      "11\n",
      "12\n",
      "13\n",
      "14\n",
      "15\n",
      "16\n",
      "17\n",
      "18\n",
      "19\n",
      "21\n"
     ]
    }
   ],
   "source": [
    "L = 0\n",
    "for i in run.prune_data:\n",
    "    if len(i.fits) > 0:\n",
    "        L += 1\n",
    "        \n",
    "n = 0\n",
    "c = 1\n",
    "fig = plt.figure(figsize=(5,100))\n",
    "for i in run.prune_data:\n",
    "    if len(i.fits) > 0:\n",
    "        ax = plt.subplot(L,1,c)\n",
    "        i.plot()\n",
    "        c += 1\n",
    "        print(n)\n",
    "        for j in i.fits:\n",
    "\n",
    "\n",
    "            j.plot(False,linewidth=1)\n",
    "            #ax.set_xlim(j.pos_left,j.pos_right) #Tight\n",
    "            ax.set_xlim(min(i.x),max(i.x)) #Full\n",
    "            (y_min,y_max) = ax.get_ylim()\n",
    "            dy = (y_max - y_min)*0.1\n",
    "            ax.set_ylim(y_min - dy, y_max + dy)\n",
    "            #ax.tick_params(axis='both', which = 'both', bottom = 'off', top = 'off', left = 'off', right = 'off', labelleft = 'off', labelbottom = 'off')\n",
    "    n += 1\n",
    "plt.show()"
   ]
  },
  {
   "cell_type": "code",
   "execution_count": 21,
   "metadata": {
    "collapsed": true
   },
   "outputs": [],
   "source": [
    "fig.savefig('2014 Complete Fits - Overlapping',dpi=1200)"
   ]
  },
  {
   "cell_type": "code",
   "execution_count": 195,
   "metadata": {},
   "outputs": [
    {
     "data": {
      "text/plain": [
       "array([  6.60169058e-01,   1.10549065e-01,   5.60046395e+00,\n",
       "         2.36022846e+00,   1.14359351e+01,  -4.74149116e-04,\n",
       "         1.00000000e+00,  -3.88814000e+01,  -3.16284635e+01,\n",
       "         1.03139899e+00,   1.00000000e+00,  -3.76284635e+01])"
      ]
     },
     "execution_count": 195,
     "metadata": {},
     "output_type": "execute_result"
    }
   ],
   "source": [
    "run.prune_data[12].fits[1].output_array()"
   ]
  },
  {
   "cell_type": "code",
   "execution_count": 41,
   "metadata": {
    "collapsed": true
   },
   "outputs": [],
   "source": [
    "temp = run.prune_data[2].fits[1].output_array()"
   ]
  },
  {
   "cell_type": "code",
   "execution_count": 44,
   "metadata": {
    "collapsed": true
   },
   "outputs": [],
   "source": [
    "temp[2],temp[3] = temp[3],temp[2]\n",
    "plotFig([run.prune_data[2].x,run.prune_data[2].y],temp)"
   ]
  },
  {
   "cell_type": "code",
   "execution_count": 45,
   "metadata": {},
   "outputs": [
    {
     "data": {
      "text/plain": [
       "<matplotlib.text.Text at 0x2586eda0>"
      ]
     },
     "execution_count": 45,
     "metadata": {},
     "output_type": "execute_result"
    }
   ],
   "source": [
    "plt.xlabel('$V_{P} (mV)$')\n",
    "plt.ylabel('$R_{D} (k\\Omega)$')"
   ]
  },
  {
   "cell_type": "code",
   "execution_count": 46,
   "metadata": {},
   "outputs": [
    {
     "data": {
      "text/plain": [
       "(11.1857, 11.787)"
      ]
     },
     "execution_count": 46,
     "metadata": {},
     "output_type": "execute_result"
    }
   ],
   "source": [
    "plt.xlim([-19.4583,-15.4361])\n",
    "plt.ylim([11.1857,11.787])"
   ]
  },
  {
   "cell_type": "code",
   "execution_count": 47,
   "metadata": {},
   "outputs": [
    {
     "data": {
      "text/plain": [
       "<matplotlib.lines.Line2D at 0x259f9dd8>"
      ]
     },
     "execution_count": 47,
     "metadata": {},
     "output_type": "execute_result"
    }
   ],
   "source": [
    "plt.axvline(x=-17.4361, color='k', linestyle='--')"
   ]
  },
  {
   "cell_type": "code",
   "execution_count": 159,
   "metadata": {
    "collapsed": true
   },
   "outputs": [],
   "source": [
    "#Prune data:\n",
    "def pR(data,points=30,count=20,tol=0.072):\n",
    "    hold_x = list()\n",
    "    hold_y = list()\n",
    "    j = points   \n",
    "    while j < (len(data[1])-points):\n",
    "        counts = 0        \n",
    "        for k in range(1,points+1):\n",
    "            if np.abs(data[1,j]-data[1,j+k]) > tol:\n",
    "                counts += 1\n",
    "            if np.abs(data[1,j]-data[1,j-k]) > tol:\n",
    "                counts += 1\n",
    "        if counts <= count:\n",
    "            hold_x.append(data[0,j])\n",
    "            hold_y.append(data[1,j])\n",
    "        j += 1\n",
    "    new = np.array([np.array(hold_x),np.array(hold_y)])    \n",
    "    return new"
   ]
  },
  {
   "cell_type": "code",
   "execution_count": 39,
   "metadata": {
    "collapsed": true
   },
   "outputs": [],
   "source": [
    "def plotFig(data,fitbit):\n",
    "    xa = fitbit\n",
    "    freq = xa[0]\n",
    "    amp = xa[1] \n",
    "    phasel = xa[2]\n",
    "    phaser = xa[3]\n",
    "    height = xa[4]\n",
    "    slope = xa[5]\n",
    "    posleft = min(data[0])\n",
    "    posright = max(data[0]) \n",
    "    v0 = xa[11]     \n",
    "    xpos = np.linspace(posleft,posright,10000)\n",
    "    ytargl = height + amp*np.sin(freq*xpos + phasel) + slope*(xpos - v0)\n",
    "    ytargr = height + amp*np.sin(freq*xpos + phaser) + slope*(xpos - v0)\n",
    "    plt.plot(data[0],data[1])\n",
    "    plt.plot(xpos,ytargl,'k',linewidth=2)\n",
    "    plt.plot(xpos,ytargr,'r',linewidth=2) "
   ]
  },
  {
   "cell_type": "code",
   "execution_count": 215,
   "metadata": {
    "collapsed": true
   },
   "outputs": [],
   "source": [
    "n = [0,2,4,5,7,8,9,13]"
   ]
  },
  {
   "cell_type": "code",
   "execution_count": 216,
   "metadata": {},
   "outputs": [
    {
     "data": {
      "text/plain": [
       "<matplotlib.text.Text at 0x55d51ef0>"
      ]
     },
     "execution_count": 216,
     "metadata": {},
     "output_type": "execute_result"
    }
   ],
   "source": [
    "fig = plt.figure(figsize=(6,20))\n",
    "\n",
    "\n",
    "c = 1\n",
    "for j in n:\n",
    "    ax = plt.subplot(8,1,c)\n",
    "    run.prune_data[j].plot()\n",
    "    for i in run.prune_data[j].fits:\n",
    "        i.plot(False,linewidth=1)\n",
    "\n",
    "    ax.set_xlim(min(run.prune_data[j].x),max(run.prune_data[j].x)) #Full\n",
    "    (y_min,y_max) = ax.get_ylim()\n",
    "    dy = (y_max - y_min)*0.1\n",
    "    ax.set_ylim(y_min - dy, y_max + dy)\n",
    "    ax.set_xticks([-10,-20,-30])\n",
    "    y_ticks = np.percentile(np.linspace(y_min - dy, y_max + dy,100),[25,50,80])\n",
    "    y_ticks = [round(i,1) for i in y_ticks]\n",
    "    ax.set_yticks(y_ticks)\n",
    "    c += 1\n",
    "    ax.tick_params(axis='x',which='both',bottom='on',top='on',labelbottom='off')\n",
    "    if c == 5:\n",
    "        ax.set_ylabel('$R_{D} (k\\Omega)$')\n",
    "ax.tick_params(axis='x',which='both',bottom='on',top='on',labelbottom='on')\n",
    "ax.set_xlabel('$V_{P} (mV)$')"
   ]
  },
  {
   "cell_type": "code",
   "execution_count": 217,
   "metadata": {
    "collapsed": true
   },
   "outputs": [],
   "source": [
    "fig.savefig('2014 Supplemental High Prune',dpi=1200)"
   ]
  },
  {
   "cell_type": "code",
   "execution_count": 218,
   "metadata": {},
   "outputs": [
    {
     "data": {
      "text/plain": [
       "<matplotlib.text.Text at 0x578f0470>"
      ]
     },
     "execution_count": 218,
     "metadata": {},
     "output_type": "execute_result"
    }
   ],
   "source": [
    "fig = plt.figure(figsize=(6,20))\n",
    "\n",
    "\n",
    "c = 1\n",
    "for j in n:\n",
    "    ax = plt.subplot(8,1,c)\n",
    "    run.raw_data[j].plot()\n",
    "    for i in run.raw_data[j].fits:\n",
    "        i.plot(False,linewidth=1)\n",
    "\n",
    "    ax.set_xlim(min(run.raw_data[j].x),max(run.raw_data[j].x)) #Full\n",
    "    (y_min,y_max) = ax.get_ylim()\n",
    "    dy = (y_max - y_min)*0.1\n",
    "    ax.set_ylim(y_min - dy, y_max + dy)\n",
    "    ax.set_xticks([-10,-20,-30])\n",
    "    y_ticks = np.percentile(np.linspace(y_min - dy, y_max + dy,100),[25,50,80])\n",
    "    y_ticks = [round(i,1) for i in y_ticks]\n",
    "    ax.set_yticks(y_ticks)\n",
    "    c += 1\n",
    "    ax.tick_params(axis='x',which='both',bottom='on',top='on',labelbottom='off')\n",
    "    if c == 5:\n",
    "        ax.set_ylabel('$R_{D} (k\\Omega)$')\n",
    "ax.tick_params(axis='x',which='both',bottom='on',top='on',labelbottom='on')\n",
    "ax.set_xlabel('$V_{P} (mV)$')"
   ]
  },
  {
   "cell_type": "code",
   "execution_count": 219,
   "metadata": {
    "collapsed": true
   },
   "outputs": [],
   "source": [
    "fig.savefig('2014 Supplemental Raw',dpi=1200)"
   ]
  },
  {
   "cell_type": "code",
   "execution_count": 220,
   "metadata": {},
   "outputs": [
    {
     "data": {
      "text/plain": [
       "<matplotlib.text.Text at 0x58767748>"
      ]
     },
     "execution_count": 220,
     "metadata": {},
     "output_type": "execute_result"
    }
   ],
   "source": [
    "fig = plt.figure(figsize=(6,20))\n",
    "\n",
    "\n",
    "c = 1\n",
    "for j in n:\n",
    "    ax = plt.subplot(8,1,c)\n",
    "    hold = pR(np.array([run.raw_data[j].x,run.raw_data[j].y]),count=25) \n",
    "    plt.plot(hold[0],hold[1])\n",
    "    for i in run.raw_data[j].fits:\n",
    "        i.plot(False,linewidth=1)\n",
    "\n",
    "    ax.set_xlim(min(hold[0]),max(hold[0]))\n",
    "    (y_min,y_max) = ax.get_ylim()\n",
    "    dy = (y_max - y_min)*0.1\n",
    "    ax.set_ylim(y_min - dy, y_max + dy)\n",
    "    ax.set_xticks([-10,-20,-30])\n",
    "    y_ticks = np.percentile(np.linspace(y_min - dy, y_max + dy,100),[25,50,80])\n",
    "    y_ticks = [round(i,1) for i in y_ticks]\n",
    "    ax.set_yticks(y_ticks)\n",
    "    c += 1\n",
    "    ax.tick_params(axis='x',which='both',bottom='on',top='on',labelbottom='off')\n",
    "    if c == 5:\n",
    "        ax.set_ylabel('$R_{D} (k\\Omega)$')\n",
    "ax.tick_params(axis='x',which='both',bottom='on',top='on',labelbottom='on')\n",
    "ax.set_xlabel('$V_{P} (mV)$')"
   ]
  },
  {
   "cell_type": "code",
   "execution_count": 221,
   "metadata": {
    "collapsed": true
   },
   "outputs": [],
   "source": [
    "fig.savefig('2014 Supplemental Low Prune',dpi=1200)"
   ]
  },
  {
   "cell_type": "code",
   "execution_count": null,
   "metadata": {
    "collapsed": true
   },
   "outputs": [],
   "source": []
  }
 ],
 "metadata": {
  "kernelspec": {
   "display_name": "Python 2",
   "language": "python",
   "name": "python2"
  },
  "language_info": {
   "codemirror_mode": {
    "name": "ipython",
    "version": 2
   },
   "file_extension": ".py",
   "mimetype": "text/x-python",
   "name": "python",
   "nbconvert_exporter": "python",
   "pygments_lexer": "ipython2",
   "version": "2.7.10"
  }
 },
 "nbformat": 4,
 "nbformat_minor": 2
}
