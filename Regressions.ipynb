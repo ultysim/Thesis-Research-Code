{
 "cells": [
  {
   "cell_type": "code",
   "execution_count": 30,
   "metadata": {},
   "outputs": [
    {
     "name": "stdout",
     "output_type": "stream",
     "text": [
      "Using matplotlib backend: TkAgg\n"
     ]
    }
   ],
   "source": [
    "import lmfit\n",
    "from lmfit import minimize, Parameters, fit_report\n",
    "import numpy as np\n",
    "import matplotlib as mpl\n",
    "from matplotlib import pyplot as plt\n",
    "import Analysis\n",
    "%matplotlib"
   ]
  },
  {
   "cell_type": "code",
   "execution_count": 2,
   "metadata": {
    "collapsed": true
   },
   "outputs": [],
   "source": [
    "def sigmoid(x,v0):\n",
    "    return 1.0 / (1 + np.exp(np.array((-x+v0)/0.1,dtype='float')))\n",
    "\n",
    "\n",
    "def residual(params, x, y, eps_data):\n",
    "    amp = params['amp']\n",
    "    phase = params['phase']\n",
    "    delta_phase = params['delta_phase']\n",
    "    freq = params['frequency']\n",
    "    slope = params['slope']\n",
    "    height = params['height']\n",
    "    v0 = params['v0']\n",
    "    model_r = height + amp * np.sin(np.array(x*freq+ phase,dtype='float')) + slope * (x - v0)\n",
    "    model_l = height + amp * np.sin(np.array(x*freq + (phase+delta_phase*np.pi),dtype='float')) + slope * (x - v0)\n",
    "    \n",
    "    out_r = (y-model_r)*sigmoid(x,v0)\n",
    "    out_l = (y-model_l)*(1.0-sigmoid(x,v0))\n",
    "    \n",
    "    return np.array((out_r+out_l)/eps_data,dtype='float')\n",
    "\n",
    "\n"
   ]
  },
  {
   "cell_type": "code",
   "execution_count": 68,
   "metadata": {},
   "outputs": [],
   "source": [
    "def search(seq, t):  \n",
    "    min = 0\n",
    "    max = len(seq) - 1\n",
    "    while True:        \n",
    "        m = (min + max) // 2\n",
    "        if max <= min:\n",
    "            if np.abs(t-seq[m]) < np.abs(t-seq[m-1]):          \n",
    "                return m\n",
    "            else:\n",
    "                return m-1        \n",
    "        if seq[m] < t:\n",
    "            min = m + 1\n",
    "        elif seq[m] > t:\n",
    "            max = m - 1\n",
    "        else:\n",
    "            return m"
   ]
  },
  {
   "cell_type": "code",
   "execution_count": 4,
   "metadata": {
    "collapsed": true
   },
   "outputs": [],
   "source": [
    "def plot_result(min_result):\n",
    "    params = min_result.params\n",
    "    x = np.arange(0,30,30.0/1000)[::-1]*-1.0\n",
    "    amp = params['amp']\n",
    "    phase = params['phase']\n",
    "    delta_phase = params['delta_phase']\n",
    "    freq = params['frequency']\n",
    "    slope = params['slope']\n",
    "    height = params['height']\n",
    "    v0 = params['v0']\n",
    "    model_r = height + amp * np.sin(np.array(x*freq+ phase,dtype='float')) + slope * (x - v0)\n",
    "    model_l = height + amp * np.sin(np.array(x*freq + (phase+delta_phase*np.pi),dtype='float')) + slope * (x - v0)\n",
    "    plt.plot(x,model_r,c='r')\n",
    "    plt.plot(x,model_l,c='k')"
   ]
  },
  {
   "cell_type": "code",
   "execution_count": 80,
   "metadata": {},
   "outputs": [],
   "source": [
    "def regression(x_min,x_max,data,plot=False):\n",
    "    \n",
    "    i_min = search(data.x,x_min)\n",
    "    i_max = search(data.x,x_max)+1\n",
    "    \n",
    "    x = data.x[i_min:i_max]\n",
    "    y = data.y[i_min:i_max]\n",
    "    \n",
    "    a = (np.percentile(y,99)-np.percentile(y,1))/2.0\n",
    "    \n",
    "    params = Parameters()\n",
    "    params.add('amp', value = a, min = a*0.8, max = a*1.2)\n",
    "    h = np.mean(y)\n",
    "    params.add('height', value = h, min = h*0.99, max = h*1.01)\n",
    "    params.add('phase', value = 0.0, min = 0.0, max = 2*np.pi)\n",
    "    params.add('delta_phase', value = np.random.uniform(0.1,1.9), min = 0.0, max = 2.0)\n",
    "    params.add('frequency', value = 0.63, min = 0.6, max = 0.76)\n",
    "    params.add('slope',value = 0.0, min = -0.01, max = 0.01)\n",
    "    params.add('v0', value = (x_min+x_max)/2.0, vary = False)\n",
    "    \n",
    "    \n",
    "    \n",
    "    eps_data = 0.1\n",
    "    \n",
    "    out = minimize(residual, params, args=(x, y, eps_data))\n",
    "    \n",
    "    if plot:\n",
    "        params = out.params\n",
    "        amp = params['amp']\n",
    "        phase = params['phase']\n",
    "        delta_phase = params['delta_phase']\n",
    "        freq = params['frequency']\n",
    "        slope = params['slope']\n",
    "        height = params['height']\n",
    "        v0 = params['v0']\n",
    "        model_r = height + amp * np.sin(np.array(x*freq+ phase,dtype='float')) + slope * (x - v0)\n",
    "        model_l = height + amp * np.sin(np.array(x*freq + (phase+delta_phase*np.pi),dtype='float')) + slope * (x - v0)\n",
    "        plt.plot(x,y)\n",
    "        plt.plot(x,model_r,c='r')\n",
    "        plt.plot(x,model_l,c='k')\n",
    "    \n",
    "    return out    \n"
   ]
  },
  {
   "cell_type": "code",
   "execution_count": 35,
   "metadata": {},
   "outputs": [],
   "source": [
    "def multi_regression(x_min,x_max,data,n=20):\n",
    "    red_chi_sq = np.inf\n",
    "    result_hold = lmfit.minimizer.MinimizerResult()\n",
    "    for _ in range(n):\n",
    "        result = regression(x_min,x_max,data)\n",
    "        if result.success:\n",
    "            if result.redchi < red_chi_sq:\n",
    "                red_chi_sq = result.redchi\n",
    "                result_hold = result\n",
    "    return result_hold"
   ]
  },
  {
   "cell_type": "code",
   "execution_count": 6,
   "metadata": {
    "collapsed": true
   },
   "outputs": [],
   "source": [
    "run = Analysis.generate_2014()"
   ]
  },
  {
   "cell_type": "code",
   "execution_count": 81,
   "metadata": {
    "collapsed": true
   },
   "outputs": [],
   "source": [
    "test_reg = regression(-31.020389999999999, -25.020389999999999,run.prune_data[0],True)"
   ]
  },
  {
   "cell_type": "code",
   "execution_count": 77,
   "metadata": {},
   "outputs": [],
   "source": [
    "test_multi_reg = multi_regression(-31.020389999999999, -25.020389999999999, run.prune_data[0])"
   ]
  },
  {
   "cell_type": "code",
   "execution_count": 79,
   "metadata": {},
   "outputs": [],
   "source": [
    "run.prune_data[0].plot()\n",
    "plot_result(test_multi_reg)"
   ]
  },
  {
   "cell_type": "code",
   "execution_count": 100,
   "metadata": {},
   "outputs": [],
   "source": [
    "def sweep_regression(data,d=6.0,c=20,n=20):\n",
    "    out = list()\n",
    "    x_max = max(data.x)\n",
    "    x_min = min(data.x)\n",
    "    step = (x_max-x_min-2*d)/c\n",
    "    for i in range(c):\n",
    "        center = x_min + d +  i*step\n",
    "        low = center - d\n",
    "        high = center + d\n",
    "        print(low,high)\n",
    "        result = multi_regression(low, high, data,n)\n",
    "        out.append({'result':result, 'x_min':low, 'x_max':high})\n",
    "    return out\n",
    "    \n",
    "    "
   ]
  },
  {
   "cell_type": "code",
   "execution_count": 101,
   "metadata": {},
   "outputs": [
    {
     "name": "stdout",
     "output_type": "stream",
     "text": [
      "(-31.020389999999999, -19.020389999999999)\n",
      "(-30.266910599999999, -18.266910599999999)\n",
      "(-29.513431199999999, -17.513431199999999)\n",
      "(-28.7599518, -16.7599518)\n",
      "(-28.0064724, -16.0064724)\n",
      "(-27.252993, -15.252993)\n",
      "(-26.4995136, -14.4995136)\n",
      "(-25.746034199999997, -13.746034199999997)\n",
      "(-24.992554800000001, -12.992554800000001)\n",
      "(-24.239075399999997, -12.239075399999997)\n",
      "(-23.485596000000001, -11.485596000000001)\n",
      "(-22.732116599999998, -10.732116599999998)\n",
      "(-21.978637199999998, -9.9786371999999979)\n",
      "(-21.225157799999998, -9.2251577999999981)\n",
      "(-20.471678399999998, -8.4716783999999983)\n",
      "(-19.718198999999998, -7.7181989999999985)\n",
      "(-18.964719599999999, -6.9647195999999987)\n",
      "(-18.211240199999999, -6.2112401999999989)\n",
      "(-17.457760799999999, -5.4577607999999991)\n",
      "(-16.704281399999999, -4.7042813999999993)\n"
     ]
    }
   ],
   "source": [
    "test_sweep_reg = sweep_regression(run.prune_data[0])"
   ]
  },
  {
   "cell_type": "code",
   "execution_count": 102,
   "metadata": {},
   "outputs": [],
   "source": [
    "for i in test_sweep_reg:\n",
    "    plt.figure()\n",
    "    run.prune_data[0].plot()\n",
    "    \n",
    "    plot_result(i['result'])\n",
    "    plt.xlim(i['x_min'],i['x_max'])"
   ]
  },
  {
   "cell_type": "code",
   "execution_count": 103,
   "metadata": {},
   "outputs": [
    {
     "name": "stdout",
     "output_type": "stream",
     "text": [
      "1\n",
      "(<Parameter 'delta_phase', value=1.8443266044570585 +/- 0.0157, bounds=[0.0:2.0]>, 0.3014174544476404)\n",
      "2\n",
      "(<Parameter 'delta_phase', value=1.8269587644432685 +/- 0, bounds=[0.0:2.0]>, 0.33533717465095381)\n",
      "3\n",
      "(<Parameter 'delta_phase', value=1.8583547291349172 +/- 0.00963, bounds=[0.0:2.0]>, 0.43747412840359495)\n",
      "4\n",
      "(<Parameter 'delta_phase', value=1.6302391491020967 +/- 0.0127, bounds=[0.0:2.0]>, 0.42730073651054562)\n",
      "5\n",
      "(<Parameter 'delta_phase', value=1.5890204594715573 +/- 0, bounds=[0.0:2.0]>, 0.23805153250134703)\n",
      "6\n",
      "(<Parameter 'delta_phase', value=1.5977134429594164 +/- 0.0184, bounds=[0.0:2.0]>, 0.24234482748291467)\n",
      "7\n",
      "(<Parameter 'delta_phase', value=1.612591831044015 +/- 0.0154, bounds=[0.0:2.0]>, 0.38663554257128946)\n",
      "8\n",
      "(<Parameter 'delta_phase', value=1.5009675370344013 +/- 0.0155, bounds=[0.0:2.0]>, 0.46133179795709051)\n",
      "9\n",
      "(<Parameter 'delta_phase', value=1.3343169369983947 +/- 0.016, bounds=[0.0:2.0]>, 0.39700525154157668)\n",
      "10\n",
      "(<Parameter 'delta_phase', value=1.4919903060082436 +/- 0.0428, bounds=[0.0:2.0]>, 0.62717183513354224)\n",
      "11\n",
      "(<Parameter 'delta_phase', value=1.5936219139472458 +/- 0, bounds=[0.0:2.0]>, 1.1506663126056624)\n",
      "12\n",
      "(<Parameter 'delta_phase', value=1.0897072267460546 +/- 0, bounds=[0.0:2.0]>, 0.67543967715901021)\n",
      "13\n",
      "(<Parameter 'delta_phase', value=1.1760598600075212 +/- 0.016, bounds=[0.0:2.0]>, 0.38456795989547604)\n",
      "14\n",
      "(<Parameter 'delta_phase', value=1.084178476560983 +/- 0.0126, bounds=[0.0:2.0]>, 0.33449934485279365)\n",
      "15\n",
      "(<Parameter 'delta_phase', value=0.96392825876447219 +/- 0, bounds=[0.0:2.0]>, 0.38423600327053198)\n",
      "16\n",
      "(<Parameter 'delta_phase', value=1.0638334268209306 +/- 0.0491, bounds=[0.0:2.0]>, 0.53117156761350159)\n",
      "17\n",
      "(<Parameter 'delta_phase', value=1.3129147963429266 +/- 0.0307, bounds=[0.0:2.0]>, 0.45608941755511434)\n",
      "18\n",
      "(<Parameter 'delta_phase', value=1.2383935707670763 +/- 0, bounds=[0.0:2.0]>, 0.56554480518988004)\n",
      "19\n",
      "(<Parameter 'delta_phase', value=1.1350176868938693 +/- 0, bounds=[0.0:2.0]>, 0.80599567969202568)\n",
      "20\n",
      "(<Parameter 'delta_phase', value=1.7052726725137051 +/- 0.0242, bounds=[0.0:2.0]>, 0.53392099428741302)\n"
     ]
    }
   ],
   "source": [
    "c = 1\n",
    "for i in test_sweep_reg:\n",
    "    print(c)\n",
    "    c+=1\n",
    "    print(i['result'].params['delta_phase'],i['result'].redchi)"
   ]
  },
  {
   "cell_type": "code",
   "execution_count": null,
   "metadata": {
    "collapsed": true
   },
   "outputs": [],
   "source": []
  }
 ],
 "metadata": {
  "kernelspec": {
   "display_name": "Python 2",
   "language": "python",
   "name": "python2"
  },
  "language_info": {
   "codemirror_mode": {
    "name": "ipython",
    "version": 2
   },
   "file_extension": ".py",
   "mimetype": "text/x-python",
   "name": "python",
   "nbconvert_exporter": "python",
   "pygments_lexer": "ipython2",
   "version": "2.7.10"
  }
 },
 "nbformat": 4,
 "nbformat_minor": 2
}
