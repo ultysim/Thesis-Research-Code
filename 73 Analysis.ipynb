{
 "cells": [
  {
   "cell_type": "code",
   "execution_count": 1,
   "metadata": {},
   "outputs": [],
   "source": [
    "import Analysis\n",
    "import numpy as np\n",
    "import matplotlib as mpl\n",
    "from matplotlib import pyplot as plt\n",
    "from matplotlib.gridspec import GridSpec\n",
    "import regression_cv as rcv\n",
    "\n",
    "import FitRoutine2 as fr"
   ]
  },
  {
   "cell_type": "code",
   "execution_count": 6,
   "metadata": {},
   "outputs": [
    {
     "name": "stdout",
     "output_type": "stream",
     "text": [
      "Using matplotlib backend: TkAgg\n"
     ]
    }
   ],
   "source": [
    "%matplotlib"
   ]
  },
  {
   "cell_type": "code",
   "execution_count": 2,
   "metadata": {},
   "outputs": [],
   "source": [
    "def csf(scipy_fit):\n",
    "    x = scipy_fit['result'].x\n",
    "    out = list()\n",
    "    out.append(x[2])\n",
    "    out.append(x[1])\n",
    "    out.append(x[3]+x[4]*np.pi)\n",
    "    out.append(x[3])\n",
    "    out.append(x[0])\n",
    "    out.append(x[5])\n",
    "    out.append(scipy_fit['val_acc'])\n",
    "    out.append(scipy_fit['x_min'])\n",
    "    out.append(scipy_fit['x_max'])\n",
    "    phi = x[4]\n",
    "    out.append(phi)\n",
    "    out.append(scipy_fit['ci_deltaphi'])\n",
    "    out.append((scipy_fit['x_min'] + scipy_fit['x_max'])/2)\n",
    "    return np.array(out)"
   ]
  },
  {
   "cell_type": "code",
   "execution_count": 3,
   "metadata": {},
   "outputs": [],
   "source": [
    "def search(seq, t):  \n",
    "    min = 0\n",
    "    max = len(seq) - 1\n",
    "    while True:        \n",
    "        m = (min + max) // 2\n",
    "        if max <= min:\n",
    "            if np.abs(t-seq[m]) < np.abs(t-seq[m-1]):          \n",
    "                return m\n",
    "            else:\n",
    "                return m-1        \n",
    "        if seq[m] < t:\n",
    "            min = m + 1\n",
    "        elif seq[m] > t:\n",
    "            max = m - 1\n",
    "        else:\n",
    "            return m\n",
    "\n",
    "\n",
    "def plot(data,result,full=False,if_data=True):\n",
    "    x_min = result['x_min']\n",
    "    x_max = result['x_max']\n",
    "    if full:\n",
    "        x = data.x\n",
    "        y = data.y\n",
    "    else:\n",
    "        i_min = search(data.x,x_min)\n",
    "        i_max = search(data.x,x_max)+1\n",
    "\n",
    "        x = data.x[i_min:i_max]\n",
    "        y = data.y[i_min:i_max]\n",
    "\n",
    "    v0 = (x_min+x_max)/2.0\n",
    "\n",
    "    params = result['result'].x\n",
    "    model_l = params[0] + params[1] * np.sin(x*params[2] + (params[3]+params[4]*np.pi)) + params[5] * (x - v0)\n",
    "    model_r = params[0] + params[1] * np.sin(x*params[2] + params[3]) + params[5] * (x - v0)\n",
    "    if if_data:\n",
    "        plt.plot(x,y)\n",
    "    plt.plot(x,model_r,c='r')\n",
    "    plt.plot(x,model_l,c='k')"
   ]
  },
  {
   "cell_type": "code",
   "execution_count": 4,
   "metadata": {},
   "outputs": [],
   "source": [
    "run = Analysis.Run(np.load('73_Raw.npy'), np.load('73_Prune_new.npy'), Analysis.bval73, np.load('73bf_new.npy'))"
   ]
  },
  {
   "cell_type": "code",
   "execution_count": 17,
   "metadata": {},
   "outputs": [],
   "source": [
    "run.prune_data[filenum].plot()\n",
    "for i in run.prune_data[filenum].fits:\n",
    "    i.plot(False)"
   ]
  },
  {
   "cell_type": "code",
   "execution_count": 18,
   "metadata": {},
   "outputs": [
    {
     "name": "stdout",
     "output_type": "stream",
     "text": [
      "Running sweep 0\n",
      "Running sweep 1\n",
      "Running sweep 2\n",
      "Running sweep 3\n",
      "Running sweep 4\n",
      "Running sweep 5\n",
      "Running sweep 6\n",
      "Running sweep 7\n",
      "Running sweep 8\n",
      "Running sweep 9\n",
      "Running sweep 10\n",
      "Running sweep 11\n",
      "Running sweep 12\n",
      "Running sweep 13\n",
      "Running sweep 14\n",
      "Running sweep 15\n",
      "Running sweep 16\n"
     ]
    }
   ],
   "source": [
    "run_new_rand_d45 = rcv.run_regression(run.prune_data, rcv.regression_CV, d = 3, residual = rcv.residual_new, c = 50, eps = 0.01, x_scale = [10.0,0.1,0.1,1.0,1.0,10**-3], loss = 'huber', y_tol=0.02)\n",
    "np.save('73_CV_new_res_d3.npy',run_new_rand_d45)"
   ]
  },
  {
   "cell_type": "code",
   "execution_count": 19,
   "metadata": {},
   "outputs": [
    {
     "name": "stdout",
     "output_type": "stream",
     "text": [
      "Running sweep 0\n",
      "Running sweep 1\n",
      "Running sweep 2\n",
      "Running sweep 3\n",
      "Running sweep 4\n",
      "Running sweep 5\n",
      "Running sweep 6\n",
      "Running sweep 7\n",
      "Running sweep 8\n",
      "Running sweep 9\n",
      "Running sweep 10\n",
      "Running sweep 11\n",
      "Running sweep 12\n",
      "Running sweep 13\n",
      "Running sweep 14\n",
      "Running sweep 15\n",
      "Running sweep 16\n"
     ]
    }
   ],
   "source": [
    "run_new_rand_d5 = rcv.run_regression(run.prune_data, rcv.regression_CV, d = 4, residual = rcv.residual_new, c = 50, eps = 0.01, x_scale = [10.0,0.1,0.1,1.0,1.0,10**-3], loss = 'huber', y_tol=0.02)\n",
    "np.save('73_CV_new_res_d4.npy',run_new_rand_d5)"
   ]
  },
  {
   "cell_type": "code",
   "execution_count": 20,
   "metadata": {},
   "outputs": [
    {
     "name": "stdout",
     "output_type": "stream",
     "text": [
      "Running sweep 0\n",
      "Running sweep 1\n",
      "Running sweep 2\n",
      "Running sweep 3\n",
      "Running sweep 4\n",
      "Running sweep 5\n",
      "Running sweep 6\n",
      "Running sweep 7\n",
      "Running sweep 8\n",
      "Running sweep 9\n",
      "Running sweep 10\n",
      "Running sweep 11\n",
      "Running sweep 12\n",
      "Running sweep 13\n",
      "Running sweep 14\n",
      "Running sweep 15\n",
      "Running sweep 16\n"
     ]
    }
   ],
   "source": [
    "run_new_rand_d6 = rcv.run_regression(run.prune_data, rcv.regression_CV, d = 5, residual = rcv.residual_new, c = 50, eps = 0.01, x_scale = [10.0,0.1,0.1,1.0,1.0,10**-3], loss = 'huber', y_tol=0.02)\n",
    "np.save('73_CV_new_res_d5.npy',run_new_rand_d6)"
   ]
  },
  {
   "cell_type": "code",
   "execution_count": 21,
   "metadata": {},
   "outputs": [
    {
     "name": "stdout",
     "output_type": "stream",
     "text": [
      "Running sweep 0\n",
      "Running sweep 1\n",
      "Running sweep 2\n",
      "Running sweep 3\n",
      "Running sweep 4\n",
      "Running sweep 5\n",
      "Running sweep 6\n",
      "Running sweep 7\n",
      "Running sweep 8\n",
      "Running sweep 9\n",
      "Running sweep 10\n",
      "Running sweep 11\n",
      "Running sweep 12\n",
      "Running sweep 13\n",
      "Running sweep 14\n",
      "Running sweep 15\n",
      "Running sweep 16\n"
     ]
    }
   ],
   "source": [
    "run_new_rand_d7 = rcv.run_regression(run.prune_data, rcv.regression_CV, d = 6, residual = rcv.residual_new, c = 50, eps = 0.01, x_scale = [10.0,0.1,0.1,1.0,1.0,10**-3], loss = 'huber',y_tol=0.02)\n",
    "np.save('73_CV_new_res_d6.npy',run_new_rand_d7)"
   ]
  },
  {
   "cell_type": "code",
   "execution_count": 359,
   "metadata": {},
   "outputs": [],
   "source": [
    "filenum = 11\n",
    "val_acc = 0.65\n",
    "ci_deltaphi = 0.01"
   ]
  },
  {
   "cell_type": "code",
   "execution_count": 379,
   "metadata": {},
   "outputs": [],
   "source": [
    "for i in run.prune_data[filenum].fits:\n",
    "    plt.figure()\n",
    "    run.prune_data[filenum].plot()\n",
    "    i.plot(False)\n",
    "    plt.title(i.delta_phi)"
   ]
  },
  {
   "cell_type": "code",
   "execution_count": 577,
   "metadata": {},
   "outputs": [],
   "source": [
    "t = run_new_rand_d7[filenum]\n",
    "count = 0\n",
    "for i in t:\n",
    "    if i['val_acc']>val_acc and 0.16 < i['result'].x[4] < 1.80:\n",
    "        plt.figure()\n",
    "        plot(run.prune_data[filenum],i)\n",
    "        plt.title(str(count) + ', '+ str(i['result'].x[4])+ ', '+ str(i['val_acc']))\n",
    "    count += 1"
   ]
  },
  {
   "cell_type": "code",
   "execution_count": 576,
   "metadata": {},
   "outputs": [
    {
     "data": {
      "text/plain": [
       "<matplotlib.text.Text at 0xa5b26588>"
      ]
     },
     "execution_count": 576,
     "metadata": {},
     "output_type": "execute_result"
    }
   ],
   "source": [
    "i = run_new_rand_d5[filenum][19]\n",
    "plt.figure()\n",
    "plot(run.prune_data[filenum],i,True)\n",
    "plt.title(str(i['ci_deltaphi']) + ', '+ str(i['result'].x[4])+ ', '+ str(i['val_acc']))"
   ]
  },
  {
   "cell_type": "code",
   "execution_count": 366,
   "metadata": {},
   "outputs": [],
   "source": [
    "t = run_new_rand_d7[filenum]\n",
    "start = 5\n",
    "length = 10\n",
    "for i in t[start:start+length]:\n",
    "    if i['val_acc']>0 and 0.16 < i['result'].x[4] < 1.80:\n",
    "        plt.figure()\n",
    "        plot(run.prune_data[filenum],i)\n",
    "        plt.title(str(start) + ', '+ str(i['ci_deltaphi']) + ', '+ str(i['result'].x[4])+ ', '+ str(i['val_acc']))\n",
    "    start += 1"
   ]
  },
  {
   "cell_type": "code",
   "execution_count": 90,
   "metadata": {},
   "outputs": [
    {
     "data": {
      "text/plain": [
       "0.42191836371380759"
      ]
     },
     "execution_count": 90,
     "metadata": {},
     "output_type": "execute_result"
    }
   ],
   "source": [
    "(run.prune_data[filenum].fits[0].phase_l-run.prune_data[filenum].fits[0].phase_r)/np.pi"
   ]
  },
  {
   "cell_type": "code",
   "execution_count": 82,
   "metadata": {},
   "outputs": [
    {
     "data": {
      "text/plain": [
       "(array([ 4.,  0.,  1.,  0.,  0.,  0.,  0.,  1.,  9.,  4.]),\n",
       " array([ 0.        ,  0.15024489,  0.30048979,  0.45073468,  0.60097958,\n",
       "         0.75122447,  0.90146937,  1.05171426,  1.20195916,  1.35220405,\n",
       "         1.50244895]),\n",
       " <a list of 10 Patch objects>)"
      ]
     },
     "execution_count": 82,
     "metadata": {},
     "output_type": "execute_result"
    }
   ],
   "source": [
    "hold = list()\n",
    "for i in run.prune_data:\n",
    "    for j in i.fits:\n",
    "        hold.append((j.phase_l-j.phase_r)/np.pi%2)\n",
    "plt.hist(hold)"
   ]
  },
  {
   "cell_type": "code",
   "execution_count": 218,
   "metadata": {},
   "outputs": [],
   "source": [
    "bf = list()"
   ]
  },
  {
   "cell_type": "code",
   "execution_count": 304,
   "metadata": {},
   "outputs": [],
   "source": [
    "filenum = 16"
   ]
  },
  {
   "cell_type": "code",
   "execution_count": 305,
   "metadata": {},
   "outputs": [],
   "source": [
    "hold = list()\n",
    "hold.append(csf(run_new_rand_d5[filenum][19]))\n",
    "#hold.append(run.prune_data[filenum].fits[0].output_array())\n",
    "#hold.append(csf(run_new_rand_d6[filenum][2]))\n",
    "#hold.append([])\n",
    "bf.append(np.array(hold))"
   ]
  },
  {
   "cell_type": "code",
   "execution_count": 306,
   "metadata": {},
   "outputs": [
    {
     "data": {
      "text/plain": [
       "17"
      ]
     },
     "execution_count": 306,
     "metadata": {},
     "output_type": "execute_result"
    }
   ],
   "source": [
    "len(bf)"
   ]
  },
  {
   "cell_type": "code",
   "execution_count": 378,
   "metadata": {},
   "outputs": [],
   "source": [
    "run = Analysis.Run(np.load('73_Raw.npy'), np.load('73_Prune_new.npy'), Analysis.bval73, np.load('73bf_new.npy'))"
   ]
  },
  {
   "cell_type": "code",
   "execution_count": null,
   "metadata": {},
   "outputs": [],
   "source": [
    "L = len(run.prune_data)\n",
    "plt.rc('font', size=6)    \n",
    "c = 1\n",
    "  \n",
    "fig = plt.figure(figsize=(20,20))\n",
    "for i in run.prune_data:\n",
    "    ax = plt.subplot(L,1,c)\n",
    "    i.plot()\n",
    "    for j in i.fits:\n",
    "        j.plot(False)\n",
    "    c += 1\n",
    "plt.tight_layout()"
   ]
  },
  {
   "cell_type": "code",
   "execution_count": 605,
   "metadata": {},
   "outputs": [],
   "source": [
    "L = len(run.prune_data)\n",
    "plt.rc('font', size=6)    \n",
    "c = 1\n",
    "b = 2 \n",
    "fig = plt.figure(figsize=(20,20))\n",
    "for i in run.prune_data:\n",
    "    ax = plt.subplot(round(float(L)/b),b,c)\n",
    "    i.plot()\n",
    "    for j in i.fits:\n",
    "        j.plot(False)\n",
    "    c += 1\n",
    "plt.tight_layout()"
   ]
  },
  {
   "cell_type": "code",
   "execution_count": 606,
   "metadata": {},
   "outputs": [],
   "source": [
    "fig.savefig('73 All fits',dpi=1200)"
   ]
  },
  {
   "cell_type": "code",
   "execution_count": 324,
   "metadata": {},
   "outputs": [],
   "source": [
    "temp = list(bf[13][0])\n",
    "temp = np.zeros(12)\n",
    "bf[15] = np.array([np.array(temp)])"
   ]
  },
  {
   "cell_type": "code",
   "execution_count": 332,
   "metadata": {},
   "outputs": [],
   "source": [
    "bf[10][0] = run.prune_data[10].fits[0].output_array()"
   ]
  },
  {
   "cell_type": "code",
   "execution_count": 331,
   "metadata": {},
   "outputs": [
    {
     "data": {
      "text/plain": [
       "array([  6.23531275e-01,   6.58852736e-02,   8.23948569e+00,\n",
       "         4.14459865e+00,   1.21505585e+01,   7.69458576e-06,\n",
       "         3.69668637e-01,  -1.83529700e+01,  -1.03532800e+01,\n",
       "         1.30344303e+00,   1.05780000e+04,  -1.43540600e+01])"
      ]
     },
     "execution_count": 331,
     "metadata": {},
     "output_type": "execute_result"
    }
   ],
   "source": [
    "run.prune_data[10].fits[0].output_array()"
   ]
  },
  {
   "cell_type": "markdown",
   "metadata": {},
   "source": [
    "# Computing Slips"
   ]
  },
  {
   "cell_type": "code",
   "execution_count": 599,
   "metadata": {},
   "outputs": [],
   "source": [
    "run = Analysis.Run(np.load('73_Raw.npy'), np.load('73_Prune_new.npy'), Analysis.bval73, np.load('73bf_new.npy'))"
   ]
  },
  {
   "cell_type": "code",
   "execution_count": 391,
   "metadata": {},
   "outputs": [],
   "source": [
    "se = list()"
   ]
  },
  {
   "cell_type": "code",
   "execution_count": 426,
   "metadata": {},
   "outputs": [],
   "source": [
    "mom = 3\n",
    "mindiff = 0.025\n",
    "dV = 0.05\n",
    "minsep = 0.3"
   ]
  },
  {
   "cell_type": "code",
   "execution_count": 569,
   "metadata": {},
   "outputs": [],
   "source": [
    "filenum = 16"
   ]
  },
  {
   "cell_type": "code",
   "execution_count": 570,
   "metadata": {},
   "outputs": [],
   "source": [
    "x = run.prune_data[filenum].x\n",
    "y = run.prune_data[filenum].y\n",
    "fit_hold = run.prune_data[filenum].fits\n",
    "b = run.prune_data[filenum].b_val"
   ]
  },
  {
   "cell_type": "code",
   "execution_count": 571,
   "metadata": {},
   "outputs": [],
   "source": [
    "temp = list(fr.countEdge(x,y,fit_hold,1,dV=dV,momentum=mom,minsep=minsep,mindiff = mindiff))"
   ]
  },
  {
   "cell_type": "code",
   "execution_count": 572,
   "metadata": {},
   "outputs": [],
   "source": [
    "e = fr.findEdge(x,y,fit_hold,dV=dV,momentum=mom,mindiff = mindiff)"
   ]
  },
  {
   "cell_type": "code",
   "execution_count": 573,
   "metadata": {},
   "outputs": [],
   "source": [
    "c = 0\n",
    "for i in e:\n",
    "    if len(i)>0:\n",
    "        plt.figure()\n",
    "        plt.plot(x,y)\n",
    "        fit_hold[c].plot(False)\n",
    "        for j in i:\n",
    "            index = rcv.search(x,j[3])\n",
    "            plt.plot(x[index],y[index],'c*',markersize=20)\n",
    "            index = rcv.search(x,j[2])\n",
    "            plt.plot(x[index],y[index],'y*',markersize=20)\n",
    "            plt.title(j[0])\n",
    "    c += 1"
   ]
  },
  {
   "cell_type": "code",
   "execution_count": 582,
   "metadata": {},
   "outputs": [
    {
     "data": {
      "text/plain": [
       "[array([-20.398215  ,   1.        ,   1.20266313,   0.80586451]),\n",
       " array([-20.292575  ,   1.        ,   1.20266313,   0.80586451]),\n",
       " array([-18.525795  ,   1.        ,   1.20266313,   0.80586451]),\n",
       " array([-18.244665  ,   1.        ,   1.20266313,   0.80586451]),\n",
       " array([-18.143195  ,   1.        ,   1.20266313,   0.80586451]),\n",
       " array([-17.7641    ,   1.        ,   1.20266313,   0.80586451]),\n",
       " array([-17.64741   ,   1.        ,   1.20266313,   0.80586451]),\n",
       " array([-16.763765  ,   1.        ,   1.20266313,   0.80586451]),\n",
       " array([-16.70749   ,   1.        ,   1.20266313,   0.80586451])]"
      ]
     },
     "execution_count": 582,
     "metadata": {},
     "output_type": "execute_result"
    }
   ],
   "source": [
    "temp"
   ]
  },
  {
   "cell_type": "code",
   "execution_count": 583,
   "metadata": {},
   "outputs": [],
   "source": [
    "plt.figure()\n",
    "plt.plot(x,y)\n",
    "for i in temp:\n",
    "    j = i[0]\n",
    "    index = rcv.search(x,j)\n",
    "    plt.plot(x[index],y[index],'y*',markersize=20)\n",
    "    for k in fit_hold:\n",
    "        k.plot(False)"
   ]
  },
  {
   "cell_type": "code",
   "execution_count": 555,
   "metadata": {},
   "outputs": [],
   "source": [
    "del temp[-1]"
   ]
  },
  {
   "cell_type": "code",
   "execution_count": 473,
   "metadata": {},
   "outputs": [],
   "source": [
    "temp[-2][0] = -17.1389"
   ]
  },
  {
   "cell_type": "code",
   "execution_count": 584,
   "metadata": {},
   "outputs": [],
   "source": [
    "se.append(np.array(temp))"
   ]
  },
  {
   "cell_type": "code",
   "execution_count": 585,
   "metadata": {},
   "outputs": [
    {
     "data": {
      "text/plain": [
       "17"
      ]
     },
     "execution_count": 585,
     "metadata": {},
     "output_type": "execute_result"
    }
   ],
   "source": [
    "len(se)"
   ]
  },
  {
   "cell_type": "code",
   "execution_count": 581,
   "metadata": {},
   "outputs": [],
   "source": [
    "for i in range(len(temp)):\n",
    "    temp[i][2] = (fit_hold[0].phase_r-fit_hold[0].phase_l)/np.pi%2"
   ]
  },
  {
   "cell_type": "code",
   "execution_count": 566,
   "metadata": {},
   "outputs": [],
   "source": [
    "temp = np.array([])"
   ]
  },
  {
   "cell_type": "code",
   "execution_count": 580,
   "metadata": {},
   "outputs": [
    {
     "data": {
      "text/plain": [
       "1.2026631254379323"
      ]
     },
     "execution_count": 580,
     "metadata": {},
     "output_type": "execute_result"
    }
   ],
   "source": [
    "(fit_hold[0].phase_r-fit_hold[0].phase_l)/np.pi%2"
   ]
  },
  {
   "cell_type": "code",
   "execution_count": 586,
   "metadata": {},
   "outputs": [],
   "source": [
    "np.save('73se_new',se)"
   ]
  },
  {
   "cell_type": "code",
   "execution_count": 690,
   "metadata": {},
   "outputs": [],
   "source": [
    "hold = list()\n",
    "for i in se:\n",
    "    for k in i:\n",
    "        hold.append(2-k[2])"
   ]
  },
  {
   "cell_type": "code",
   "execution_count": 691,
   "metadata": {},
   "outputs": [
    {
     "data": {
      "text/plain": [
       "<matplotlib.text.Text at 0x88a2d710>"
      ]
     },
     "execution_count": 691,
     "metadata": {},
     "output_type": "execute_result"
    }
   ],
   "source": [
    "plt.rc('font', size=12)    \n",
    "plt.hist(hold)\n",
    "plt.xlabel('$\\Delta\\phi$ ($\\pi$)')\n",
    "plt.ylabel('Counts')"
   ]
  },
  {
   "cell_type": "code",
   "execution_count": 694,
   "metadata": {},
   "outputs": [],
   "source": [
    "plt.savefig('73 Hist', dpi=1200)"
   ]
  },
  {
   "cell_type": "code",
   "execution_count": 693,
   "metadata": {},
   "outputs": [
    {
     "data": {
      "text/plain": [
       "0.073921788922506629"
      ]
     },
     "execution_count": 693,
     "metadata": {},
     "output_type": "execute_result"
    }
   ],
   "source": [
    "np.std(hold)"
   ]
  },
  {
   "cell_type": "code",
   "execution_count": 692,
   "metadata": {},
   "outputs": [
    {
     "data": {
      "text/plain": [
       "0.65190729579890072"
      ]
     },
     "execution_count": 692,
     "metadata": {},
     "output_type": "execute_result"
    }
   ],
   "source": [
    "np.mean(hold)"
   ]
  },
  {
   "cell_type": "markdown",
   "metadata": {},
   "source": [
    "# Making Figures"
   ]
  },
  {
   "cell_type": "code",
   "execution_count": 7,
   "metadata": {},
   "outputs": [],
   "source": [
    "run = Analysis.Run(np.load('73_Raw.npy'), np.load('73_Prune_new.npy'), Analysis.bval73, np.load('73bf_new.npy'))"
   ]
  },
  {
   "cell_type": "code",
   "execution_count": 610,
   "metadata": {},
   "outputs": [],
   "source": [
    "filenum = 4\n",
    "run.prune_data[filenum].plot()\n",
    "run.prune_data[filenum].fits[0].plot()\n",
    "run.prune_data[filenum].fits[1].plot()"
   ]
  },
  {
   "cell_type": "code",
   "execution_count": 623,
   "metadata": {},
   "outputs": [],
   "source": [
    "\n",
    "fits_list = [[0,0],[1,1],[2,1],[4,0],[4,1],[5,0],[6,0],[7,0],[10,0]]\n",
    "L = len(fits_list)\n",
    "plt.rc('font', size=6)    \n",
    "c = 1\n",
    "b = 2 \n",
    "fig = plt.figure(figsize=(20,20))\n",
    "for k in fits_list:\n",
    "    i = run.prune_data[k[0]]\n",
    "    ax = plt.subplot(round(float(L)/b),b,c)\n",
    "    i.plot_fit(k[1],False)\n",
    "    c += 1\n",
    "plt.tight_layout()"
   ]
  },
  {
   "cell_type": "code",
   "execution_count": 613,
   "metadata": {},
   "outputs": [],
   "source": [
    "fig.savefig('73 Best Looking fits',dpi=1200)"
   ]
  },
  {
   "cell_type": "code",
   "execution_count": 614,
   "metadata": {},
   "outputs": [],
   "source": [
    "bf = np.load('73bf_new.npy')"
   ]
  },
  {
   "cell_type": "code",
   "execution_count": 618,
   "metadata": {},
   "outputs": [],
   "source": [
    "bf[7][0][7] = -20"
   ]
  },
  {
   "cell_type": "code",
   "execution_count": 620,
   "metadata": {},
   "outputs": [],
   "source": [
    "run.prune_data[4].plot_fit(0,False)"
   ]
  },
  {
   "cell_type": "code",
   "execution_count": 695,
   "metadata": {},
   "outputs": [],
   "source": [
    "fits_list = [[0,0],[2,1],[6,0],[7,0]]\n",
    "L = len(fits_list)\n",
    "plt.rc('font', size=12)    \n",
    "c = 1\n",
    "b = 2 \n",
    "fig = plt.figure(figsize=(10,5))\n",
    "for k in fits_list:\n",
    "    i = run.prune_data[k[0]]\n",
    "    ax = plt.subplot(round(float(L)/b),b,c)\n",
    "    i.plot_fit(k[1],False)\n",
    "    ax.annotate('{}$\\pi$ $\\Delta\\phi$'.format(round(2-i.fits[k[1]].delta_phi,2)), xy=(0.01, 0.88), xycoords=\"axes fraction\")\n",
    "    if c == 1:\n",
    "        ax.set_xticks([-28,-26,-24,-22])\n",
    "        ax.set_yticks([12.0,12.1,12.2,12.3])\n",
    "    if c == 2:\n",
    "        ax.set_xticks([-26,-24,-22,-20])\n",
    "        ax.set_yticks([12.0,12.1,12.2,12.3])\n",
    "    if c == 3:\n",
    "        ax.set_xticks([-26,-24,-22,-20,-18])\n",
    "        ax.set_yticks([12.0,12.1,12.2])\n",
    "        ax.set_ylabel('R$_D$ (k$\\Omega$)') \n",
    "        ax.yaxis.set_label_coords(-0.15,1.1)\n",
    "        ax.set_xlabel('V$_p$ (mV)')\n",
    "        ax.xaxis.set_label_coords(1.1,-0.15)\n",
    "    if c == 4:\n",
    "        ax.set_xticks([-20,-18,-16,-14,-12,-10])\n",
    "        ax.set_yticks([12.1,12.2,12.3])\n",
    "    c += 1\n"
   ]
  },
  {
   "cell_type": "code",
   "execution_count": 696,
   "metadata": {},
   "outputs": [],
   "source": [
    "fig.savefig('73 Phase Slips',dpi=1200)"
   ]
  },
  {
   "cell_type": "code",
   "execution_count": 689,
   "metadata": {},
   "outputs": [],
   "source": [
    "filenum = -6\n",
    "run.prune_data[filenum].plot()\n",
    "for i in run.prune_data[filenum].fits:\n",
    "    i.plot()"
   ]
  },
  {
   "cell_type": "code",
   "execution_count": 646,
   "metadata": {},
   "outputs": [],
   "source": [
    "plt.tight_layout()"
   ]
  },
  {
   "cell_type": "code",
   "execution_count": 640,
   "metadata": {},
   "outputs": [],
   "source": [
    "ax.xaxis.set_label_coords(1.05,-.2)"
   ]
  },
  {
   "cell_type": "code",
   "execution_count": 645,
   "metadata": {},
   "outputs": [],
   "source": [
    "ax.yaxis.set_label_coords(-1.2,-.2)"
   ]
  },
  {
   "cell_type": "code",
   "execution_count": 697,
   "metadata": {},
   "outputs": [],
   "source": [
    "plt.clf()"
   ]
  },
  {
   "cell_type": "code",
   "execution_count": 11,
   "metadata": {},
   "outputs": [
    {
     "data": {
      "text/plain": [
       "17"
      ]
     },
     "execution_count": 11,
     "metadata": {},
     "output_type": "execute_result"
    }
   ],
   "source": [
    "len(run.prune_data)"
   ]
  },
  {
   "cell_type": "code",
   "execution_count": 15,
   "metadata": {},
   "outputs": [],
   "source": [
    "for i in run.prune_data:\n",
    "    plt.figure()\n",
    "    i.plot()"
   ]
  },
  {
   "cell_type": "code",
   "execution_count": 16,
   "metadata": {},
   "outputs": [],
   "source": [
    "run.prune_data[9].plot()"
   ]
  },
  {
   "cell_type": "code",
   "execution_count": null,
   "metadata": {},
   "outputs": [],
   "source": []
  }
 ],
 "metadata": {
  "kernelspec": {
   "display_name": "Python 2",
   "language": "python",
   "name": "python2"
  },
  "language_info": {
   "codemirror_mode": {
    "name": "ipython",
    "version": 2
   },
   "file_extension": ".py",
   "mimetype": "text/x-python",
   "name": "python",
   "nbconvert_exporter": "python",
   "pygments_lexer": "ipython2",
   "version": "2.7.10"
  }
 },
 "nbformat": 4,
 "nbformat_minor": 2
}
