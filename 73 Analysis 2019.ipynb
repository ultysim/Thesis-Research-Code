{
 "cells": [
  {
   "cell_type": "code",
   "execution_count": 1,
   "metadata": {},
   "outputs": [],
   "source": [
    "import Analysis\n",
    "import numpy as np\n",
    "import matplotlib as mpl\n",
    "from matplotlib import pyplot as plt"
   ]
  },
  {
   "cell_type": "code",
   "execution_count": 2,
   "metadata": {},
   "outputs": [
    {
     "name": "stdout",
     "output_type": "stream",
     "text": [
      "Using matplotlib backend: TkAgg\n"
     ]
    }
   ],
   "source": [
    "%matplotlib"
   ]
  },
  {
   "cell_type": "code",
   "execution_count": 38,
   "metadata": {},
   "outputs": [],
   "source": [
    "plt.rc('text', usetex=True) \n",
    "\n",
    "# Helvetica \n",
    "# set serif, too. Otherwise setting to times and then \n",
    "# Helvetica causes an error. \n",
    "font = {'family':'sans-serif','sans-serif':['Helvetica'], \n",
    "        'serif':['cm10']} \n",
    "preamble  = r\"\"\" \n",
    "               \\usepackage{color} \n",
    "               \\usepackage[tx]{sfmath} \n",
    "               \\usepackage{helvet} \n",
    "            \"\"\" \n",
    "\n",
    "\n",
    "# Unicode for Tex \n",
    "#preamble =  r\"\"\"\\usepackage[utf8]{inputenc}\"\"\" + preamble \n",
    "# inputenc should be set automatically \n",
    "plt.rcParams['text.latex.unicode']=True \n",
    "\n",
    "#print font, preamble \n",
    "plt.rc('font',**font) \n",
    "plt.rcParams['text.latex.preamble'] = preamble\n",
    "mpl.rcParams.update({'font.size': 11})"
   ]
  },
  {
   "cell_type": "code",
   "execution_count": 42,
   "metadata": {},
   "outputs": [],
   "source": [
    "def t(y_min,y_max):\n",
    "    diff = y_max-y_min\n",
    "    p = float(diff)*0.35\n",
    "    return y_min-p,y_max+p\n",
    "\n",
    "def set_axis(sweep):\n",
    "    x_min = sweep.pos_left\n",
    "    x_max = sweep.pos_right\n",
    "    plt.xlim(x_min,x_max)\n",
    "    x = np.linspace(x_min,x_max)\n",
    "    yl,yr = sweep.yValue(x)\n",
    "    y_min = np.min([yl,yr])\n",
    "    y_max = np.max([yl,yr])\n",
    "    l,h = t(y_min,y_max)\n",
    "    plt.ylim(l,h)\n",
    "    plt.yticks([y_min,y_max],(round(y_min,1),round(y_max,1)))\n",
    "    x_low, x_high = np.percentile(x,[25,75])\n",
    "    plt.xticks([int(x_low),int(x_high)])"
   ]
  },
  {
   "cell_type": "code",
   "execution_count": 7,
   "metadata": {},
   "outputs": [],
   "source": [
    "run = Analysis.Run(np.load('73_all_2019.npy')[:17], np.load('73_pruned_2019.npy'), Analysis.bval73, np.load('73bf_new.npy'))\n",
    "r = run.prune_data\n",
    "old = Analysis.Run(np.load('73_Raw.npy'), np.load('73_Prune_new.npy'), Analysis.bval73, np.load('73bf_new.npy'))\n",
    "o = old.prune_data"
   ]
  },
  {
   "cell_type": "code",
   "execution_count": null,
   "metadata": {},
   "outputs": [],
   "source": [
    "n = 0\n",
    "for i in r:\n",
    "    j = 0\n",
    "    for k in i.fits:\n",
    "        plt.figure()\n",
    "        plt.title('{}:{}'.format(n,j))\n",
    "        i.plot()\n",
    "        k.plot()\n",
    "        j += 1\n",
    "    n += 1"
   ]
  },
  {
   "cell_type": "code",
   "execution_count": 23,
   "metadata": {},
   "outputs": [],
   "source": [
    "#[n,j,type]\n",
    "#0 = old, 1 = new\n",
    "fit_hold = [[0,0,1],[1,1,1],[2,1,0],[3,0,0],[4,0,1],[4,1,1],[5,0,0],[6,0,0],[7,0,0],[8,0,1],[10,0,1],[11,0,0],[14,0,0]]"
   ]
  },
  {
   "cell_type": "code",
   "execution_count": 110,
   "metadata": {},
   "outputs": [
    {
     "name": "stdout",
     "output_type": "stream",
     "text": [
      "(0, 0.52)\n",
      "(1, 0.62)\n",
      "(2, 0.64)\n",
      "(3, 0.68)\n",
      "(4, 0.58)\n",
      "(5, 0.59)\n"
     ]
    }
   ],
   "source": [
    "o[3].fits[0].pos_right = -18.5754\n",
    "xy=(-0.023, 1.02)\n",
    "lw = 2.0 #slip lines\n",
    "linew = 2.5 #fit lines\n",
    "height = 3\n",
    "width = 2\n",
    "row_extra = 9\n",
    "row_len = (100-row_extra*(height-1))/height\n",
    "col_extra = 7\n",
    "col_len = (100-col_extra*(width-1))/width\n",
    "fig = plt.figure(figsize = (1.5*2.42/(col_len/100.),1.5/(row_len/100.)))\n",
    "\n",
    "for i in range(6):\n",
    "    current = (i/width*(row_extra+row_len),i%width*(col_extra+col_len))\n",
    "    plt.subplot2grid((100,100), current, colspan=col_len, rowspan=row_len)\n",
    "    n,j,age = fit_hold[i]\n",
    "    if age == 1:\n",
    "        run = r\n",
    "    else:\n",
    "        run = o\n",
    "    run[n].plot_fit(j,full=False,linewidth=linew)\n",
    "    set_axis(run[n].fits[j])\n",
    "    plt.annotate('{:.4f} T, 2$\\\\theta_S$$_T=$ {:.3f}'.format(run[n].b_val,round(((run[n].fits[j].phase_r-run[n].fits[j].phase_l)/np.pi)%2,3)), xy, xycoords=\"axes fraction\")\n",
    "        \n",
    "    if i == 2:\n",
    "        plt.ylabel('$R_D$ $(k\\Omega)$',labelpad=3,size=18)\n",
    "        \n",
    "    if i == 4:\n",
    "        plt.xlabel('$V_P$ $(mV)$',labelpad=4,size=18)\n",
    "        ax = plt.gca()\n",
    "        ax.xaxis.set_label_coords(1.08,-0.23)\n",
    "    print(i,round(((run[n].fits[j].phase_r-run[n].fits[j].phase_l)/np.pi)%2,2))\n"
   ]
  },
  {
   "cell_type": "code",
   "execution_count": 111,
   "metadata": {},
   "outputs": [],
   "source": [
    "fig.savefig('73_1')"
   ]
  },
  {
   "cell_type": "code",
   "execution_count": 112,
   "metadata": {},
   "outputs": [
    {
     "name": "stdout",
     "output_type": "stream",
     "text": [
      "(0, 0.66)\n",
      "(1, 0.65)\n",
      "(2, 0.67)\n",
      "(3, 0.54)\n",
      "(4, 0.7)\n",
      "(5, 0.79)\n",
      "(6, 0.66)\n"
     ]
    }
   ],
   "source": [
    "o[3].fits[0].pos_right = -18.5754\n",
    "o[11].fits[0].pos_right = -13.36\n",
    "xy=(-0.023, 1.02)\n",
    "lw = 2.0 #slip lines\n",
    "linew = 2.5 #fit lines\n",
    "height = 4\n",
    "width = 2\n",
    "row_extra = 6\n",
    "row_len = (100-row_extra*(height-1))/height\n",
    "col_extra = 7\n",
    "col_len = (100-col_extra*(width-1))/width\n",
    "fig = plt.figure(figsize = (1.5*2.42/(col_len/100.),1.5/(row_len/100.)))\n",
    "\n",
    "for i in range(7):\n",
    "    h = i + 6\n",
    "    current = (i/width*(row_extra+row_len),i%width*(col_extra+col_len))\n",
    "    plt.subplot2grid((100,100), current, colspan=col_len, rowspan=row_len)\n",
    "    n,j,age = fit_hold[h]\n",
    "    if age == 1:\n",
    "        run = r\n",
    "    else:\n",
    "        run = o\n",
    "    run[n].plot_fit(j,full=False,linewidth=linew)\n",
    "    set_axis(run[n].fits[j])\n",
    "    plt.annotate('{:.4f} T, 2$\\\\theta_S$$_T=$ {:.3f}'.format(run[n].b_val,round(((run[n].fits[j].phase_r-run[n].fits[j].phase_l)/np.pi)%2,3)), xy, xycoords=\"axes fraction\")\n",
    "        \n",
    "    if i == 2:\n",
    "        plt.ylabel('$R_D$ $(k\\Omega)$',labelpad=3,size=18)\n",
    "        \n",
    "    if i == 6:\n",
    "        plt.xlabel('$V_P$ $(mV)$',labelpad=4,size=18)\n",
    "        ax = plt.gca()\n",
    "        ax.xaxis.set_label_coords(1.08,-0.23)\n",
    "    print(i,round(((run[n].fits[j].phase_r-run[n].fits[j].phase_l)/np.pi)%2,2))\n"
   ]
  },
  {
   "cell_type": "code",
   "execution_count": 113,
   "metadata": {},
   "outputs": [],
   "source": [
    "fig.savefig('73_2')"
   ]
  },
  {
   "cell_type": "code",
   "execution_count": 96,
   "metadata": {},
   "outputs": [],
   "source": [
    "temp = list()\n",
    "for n,j,age in fit_hold:\n",
    "    temp.append(((run[n].fits[j].phase_r-run[n].fits[j].phase_l)/np.pi)%2)"
   ]
  },
  {
   "cell_type": "code",
   "execution_count": 108,
   "metadata": {},
   "outputs": [
    {
     "data": {
      "text/plain": [
       "0.639"
      ]
     },
     "execution_count": 108,
     "metadata": {},
     "output_type": "execute_result"
    }
   ],
   "source": [
    "round(np.mean(temp),3)"
   ]
  },
  {
   "cell_type": "code",
   "execution_count": 109,
   "metadata": {},
   "outputs": [
    {
     "data": {
      "text/plain": [
       "0.068"
      ]
     },
     "execution_count": 109,
     "metadata": {},
     "output_type": "execute_result"
    }
   ],
   "source": [
    "round(np.std(temp),3)"
   ]
  },
  {
   "cell_type": "code",
   "execution_count": 121,
   "metadata": {},
   "outputs": [],
   "source": [
    "from matplotlib.colors import LinearSegmentedColormap\n",
    "import SG\n",
    "import pylab\n",
    "from scipy import interpolate"
   ]
  },
  {
   "cell_type": "code",
   "execution_count": 115,
   "metadata": {},
   "outputs": [],
   "source": [
    "data73 = np.load('73_pruned_2019.npy')\n",
    "\n",
    "\n",
    "d = list()\n",
    "for i in range(len(data73)):\n",
    "    d.append(np.array([tuple(j) for j in data73[i]],dtype=np.float))"
   ]
  },
  {
   "cell_type": "code",
   "execution_count": 122,
   "metadata": {},
   "outputs": [],
   "source": [
    "cdict = {'red':   ((0.0, 0.0, 0.0),\n",
    "                   (0.5, 1.0, 1.0),\n",
    "                   (1.0, 1.0, 1.0)),\n",
    "\n",
    "         'green': ((0.0, 0.0, 0.0),\n",
    "                   (0.5,0.0,0.0),\n",
    "                   (1.0, 1.0, 1.0)),\n",
    "\n",
    "         'blue':  ((0.0, 1.0, 1.0),\n",
    "                   (0.5, 0.0, 0.0),\n",
    "                   (1.0, 0.0, 0.0))\n",
    "        }\n",
    "        \n",
    "yellowredblue = LinearSegmentedColormap('YellowRedBlue', cdict)\n",
    "\n",
    "\n",
    "def percentile_normalize(data,p=1):\n",
    "    minv = np.percentile(data,p)\n",
    "    maxv = np.percentile(data,100-p)\n",
    "    hold = np.array(data)\n",
    "    for i in range(len(hold)):\n",
    "        hold[i] = (hold[i]-minv)/(maxv-minv)\n",
    "    return hold\n",
    "\n",
    "\n",
    "def search(data, t):\n",
    "    seq = data[0]    \n",
    "    min = 0\n",
    "    max = len(seq) - 1\n",
    "    while True:        \n",
    "        m = (min + max) // 2\n",
    "        if max < min:\n",
    "            if np.abs(t-seq[m]) < np.abs(t-seq[m-1]):          \n",
    "                return m\n",
    "            else:\n",
    "                return m-1        \n",
    "        if seq[m] < t:\n",
    "            min = m + 1\n",
    "        elif seq[m] > t:\n",
    "            max = m - 1\n",
    "        else:\n",
    "            return m\n",
    "            \n",
    "\n",
    "def clip(d,min,max):\n",
    "    data = np.array(d)\n",
    "    li = search(data,min)\n",
    "    ri = search(data,max)\n",
    "    return data[:,li:ri+1]\n",
    "    \n",
    "def normalize(data):\n",
    "    minv = min(data)\n",
    "    maxv = max(data)\n",
    "    hold = np.array(data)\n",
    "    for i in range(len(hold)):\n",
    "        hold[i] = (hold[i]-minv)/(maxv-minv)\n",
    "    return hold"
   ]
  },
  {
   "cell_type": "code",
   "execution_count": null,
   "metadata": {},
   "outputs": [],
   "source": []
  },
  {
   "cell_type": "code",
   "execution_count": 125,
   "metadata": {},
   "outputs": [],
   "source": [
    "#More smoothing, better option\n",
    "bfieldval = Analysis.bval2014\n",
    "n = 1024\n",
    "smoothval = 51\n",
    "poly = 2\n",
    "interpdim = 2\n",
    "data = d\n",
    "cmlabel = 'Normalized $\\Delta$R$_D$ (k$\\Omega$)'\n",
    "data = [x for (y,x) in sorted(zip(bfieldval,data), key=lambda pair: pair[0])]\n",
    "bval = sorted(bfieldval)    \n",
    "xmin = -100\n",
    "xmax = 0\n",
    "for i in data:\n",
    "    if i[0][0] > xmin:\n",
    "        xmin = i[0][0]\n",
    "    if i[0][-1] < xmax:\n",
    "        xmax = i[0][-1]\n",
    "#xmin += 0.01\n",
    "#xmax -= 0.01\n",
    "xv = np.linspace(xmin,xmax,n)\n",
    "intv = list()\n",
    "for i in data:\n",
    "    #Try flipping filtering and interp\n",
    "    dataclip = clip(i,xmin,xmax)\n",
    "    dataclip[1] = SG.savitzky_golay(dataclip[1],smoothval,poly)\n",
    "    tck = interpolate.splrep(dataclip[0], dataclip[1],k=1)\n",
    "    y = interpolate.splev(xv,tck)\n",
    "    intv.append(percentile_normalize(y,1))\n",
    "xb = np.linspace(bval[0],bval[-1],n)\n",
    "b = list()\n",
    "for i in range(len(intv[0])):\n",
    "    hold = list()\n",
    "    for j in range(len(intv)):\n",
    "        hold.append(intv[j][i])\n",
    "    b.append(hold)\n",
    "intb = list()\n",
    "for i in b:\n",
    "    tck = interpolate.splrep(bval,i,k=interpdim)\n",
    "    y = interpolate.splev(xb,tck)\n",
    "    intb.append(y)\n",
    "Z = np.array(intb)\n",
    "X,Y = pylab.meshgrid(xb,xv)"
   ]
  },
  {
   "cell_type": "code",
   "execution_count": 126,
   "metadata": {},
   "outputs": [],
   "source": [
    "colortype = yellowredblue\n",
    "f, ax = plt.subplots()\n",
    "plt.pcolormesh(X,Y,Z,vmin=0,vmax=1,cmap=colortype)\n",
    "plt.ylim(xmin,xmax)\n",
    "plt.xlim(bval[0],bval[-1])\n",
    "plt.ylabel('Gate Voltage (mV)',size=18)\n",
    "plt.xlabel('B Field (T)',size=18)\n",
    "cbar = plt.colorbar()\n",
    "cbar.set_label(cmlabel,size=14)\n",
    "ax.get_xaxis().get_major_formatter().set_useOffset(False)\n",
    "\n",
    "plt.show()"
   ]
  },
  {
   "cell_type": "code",
   "execution_count": 127,
   "metadata": {},
   "outputs": [],
   "source": [
    "f.savefig('Color Map 73',dpi=700)"
   ]
  },
  {
   "cell_type": "code",
   "execution_count": null,
   "metadata": {},
   "outputs": [],
   "source": []
  }
 ],
 "metadata": {
  "kernelspec": {
   "display_name": "Python 2",
   "language": "python",
   "name": "python2"
  },
  "language_info": {
   "codemirror_mode": {
    "name": "ipython",
    "version": 2
   },
   "file_extension": ".py",
   "mimetype": "text/x-python",
   "name": "python",
   "nbconvert_exporter": "python",
   "pygments_lexer": "ipython2",
   "version": "2.7.10"
  }
 },
 "nbformat": 4,
 "nbformat_minor": 2
}
