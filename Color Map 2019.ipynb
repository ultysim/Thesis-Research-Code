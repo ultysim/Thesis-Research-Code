{
 "cells": [
  {
   "cell_type": "code",
   "execution_count": 13,
   "metadata": {},
   "outputs": [],
   "source": [
    "import numpy as np\n",
    "import matplotlib as mpl\n",
    "from matplotlib import pyplot as plt\n",
    "import pylab\n",
    "from matplotlib.colors import LinearSegmentedColormap\n",
    "import SG\n",
    "from scipy import interpolate\n",
    "import Analysis"
   ]
  },
  {
   "cell_type": "code",
   "execution_count": 4,
   "metadata": {},
   "outputs": [
    {
     "name": "stdout",
     "output_type": "stream",
     "text": [
      "Using matplotlib backend: TkAgg\n"
     ]
    }
   ],
   "source": [
    "%matplotlib"
   ]
  },
  {
   "cell_type": "code",
   "execution_count": 5,
   "metadata": {},
   "outputs": [],
   "source": [
    "data2011 = np.load('2011_Prune_strong_flat.npy')\n",
    "data2014 = np.load('2014_Prune_strong.npy')\n",
    "\n",
    "d2011 = list()\n",
    "for i in range(len(data2011)):\n",
    "    d2011.append(np.array([tuple(j) for j in data2011[i]],dtype=np.float))\n",
    "\n",
    "d2014 = list()\n",
    "for i in range(len(data2014)):\n",
    "    d2014.append(np.array([tuple(j) for j in data2014[i]],dtype=np.float))"
   ]
  },
  {
   "cell_type": "code",
   "execution_count": 31,
   "metadata": {},
   "outputs": [],
   "source": [
    "def phase_switch(data,minus=0):\n",
    "    temp = list()\n",
    "    temp.append(np.array(data[0]))\n",
    "    flip = True\n",
    "    for i in range(1,len(data)):\n",
    "        temp.append(np.array(data[i]))\n",
    "        if data[i-1][1] == data[i][1] and data[i-1][2] == data[i][2]:\n",
    "            if flip:\n",
    "                temp[-1][2] = 2*(1 - minus) - temp[-1][2]\n",
    "                flip = False\n",
    "            else:\n",
    "                flip = True\n",
    "        else:\n",
    "            flip = True\n",
    "    return np.array(temp)"
   ]
  },
  {
   "cell_type": "code",
   "execution_count": 32,
   "metadata": {},
   "outputs": [],
   "source": [
    "#Using most recent 2019 fit points\n",
    "pruned14 = np.load('Pruned 025 4_16_2019.npy')\n",
    "pruned34 = np.load('Pruned 075 2_1_2019.npy')\n",
    "pruned12 = np.load('Pruned 05 3_12_2019.npy')\n",
    "prunedfig = np.load('Pruned 1 Fig 3_12_2019.npy')\n",
    "prunedsup = np.load('Pruned 1 Sup 3_12_2019.npy')\n",
    "\n",
    "new14 = list()\n",
    "for i in pruned14:\n",
    "    for j in i:\n",
    "        new14.append(j)\n",
    "new14 = np.array(new14)\n",
    "\n",
    "new34 = list()\n",
    "for i in pruned34:\n",
    "    for j in i:\n",
    "        new34.append(j)\n",
    "new34 = np.array(new34)\n",
    "\n",
    "new12 = list()\n",
    "for i in pruned12:\n",
    "    for j in i:\n",
    "        new12.append(j)\n",
    "new12 = np.array(new12)\n",
    "\n",
    "\n",
    "newfig = list()\n",
    "for i in prunedfig:\n",
    "    for j in i:\n",
    "        newfig.append(j)\n",
    "newfig = np.array(newfig)\n",
    "\n",
    "newsup = list()\n",
    "for i in prunedsup:\n",
    "    for j in i:\n",
    "        newsup.append(j)\n",
    "        \n",
    "newsup = np.array(newsup)\n",
    "\n",
    "temp = list(new14)\n",
    "pi14 = np.array(temp.pop(-3))\n",
    "new14 = np.array(temp)\n",
    "pi = np.vstack((newsup,newfig,pi14))\n",
    "\n",
    "\n",
    "sw14m = phase_switch(new14,minus = 1)\n",
    "pim = phase_switch(pi,minus = 1)\n"
   ]
  },
  {
   "cell_type": "code",
   "execution_count": 6,
   "metadata": {},
   "outputs": [],
   "source": [
    "plt.rc('text', usetex=True) \n",
    "\n",
    "# Helvetica \n",
    "# set serif, too. Otherwise setting to times and then \n",
    "# Helvetica causes an error. \n",
    "font = {'family':'sans-serif','sans-serif':['Helvetica'], \n",
    "        'serif':['cm10']} \n",
    "preamble  = r\"\"\" \n",
    "               \\usepackage{color} \n",
    "               \\usepackage[tx]{sfmath} \n",
    "               \\usepackage{helvet} \n",
    "            \"\"\" \n",
    "\n",
    "\n",
    "# Unicode for Tex \n",
    "#preamble =  r\"\"\"\\usepackage[utf8]{inputenc}\"\"\" + preamble \n",
    "# inputenc should be set automatically \n",
    "plt.rcParams['text.latex.unicode']=True \n",
    "\n",
    "#print font, preamble \n",
    "plt.rc('font',**font) \n",
    "plt.rcParams['text.latex.preamble'] = preamble\n",
    "mpl.rcParams.update({'font.size': 11})"
   ]
  },
  {
   "cell_type": "code",
   "execution_count": 16,
   "metadata": {},
   "outputs": [],
   "source": [
    "cdict = {'red':   ((0.0, 0.0, 0.0),\n",
    "                   (0.5, 1.0, 1.0),\n",
    "                   (1.0, 1.0, 1.0)),\n",
    "\n",
    "         'green': ((0.0, 0.0, 0.0),\n",
    "                   (0.5,0.0,0.0),\n",
    "                   (1.0, 1.0, 1.0)),\n",
    "\n",
    "         'blue':  ((0.0, 1.0, 1.0),\n",
    "                   (0.5, 0.0, 0.0),\n",
    "                   (1.0, 0.0, 0.0))\n",
    "        }\n",
    "        \n",
    "yellowredblue = LinearSegmentedColormap('YellowRedBlue', cdict)"
   ]
  },
  {
   "cell_type": "code",
   "execution_count": 9,
   "metadata": {},
   "outputs": [],
   "source": [
    "def percentile_normalize(data,p=1):\n",
    "    minv = np.percentile(data,p)\n",
    "    maxv = np.percentile(data,100-p)\n",
    "    hold = np.array(data)\n",
    "    for i in range(len(hold)):\n",
    "        hold[i] = (hold[i]-minv)/(maxv-minv)\n",
    "    return hold"
   ]
  },
  {
   "cell_type": "code",
   "execution_count": 10,
   "metadata": {},
   "outputs": [],
   "source": [
    "def search(data, t):\n",
    "    seq = data[0]    \n",
    "    min = 0\n",
    "    max = len(seq) - 1\n",
    "    while True:        \n",
    "        m = (min + max) // 2\n",
    "        if max < min:\n",
    "            if np.abs(t-seq[m]) < np.abs(t-seq[m-1]):          \n",
    "                return m\n",
    "            else:\n",
    "                return m-1        \n",
    "        if seq[m] < t:\n",
    "            min = m + 1\n",
    "        elif seq[m] > t:\n",
    "            max = m - 1\n",
    "        else:\n",
    "            return m\n",
    "            \n",
    "\n",
    "def clip(d,min,max):\n",
    "    data = np.array(d)\n",
    "    li = search(data,min)\n",
    "    ri = search(data,max)\n",
    "    return data[:,li:ri+1]\n",
    "    "
   ]
  },
  {
   "cell_type": "code",
   "execution_count": 11,
   "metadata": {},
   "outputs": [],
   "source": [
    "def normalize(data):\n",
    "    minv = min(data)\n",
    "    maxv = max(data)\n",
    "    hold = np.array(data)\n",
    "    for i in range(len(hold)):\n",
    "        hold[i] = (hold[i]-minv)/(maxv-minv)\n",
    "    return hold"
   ]
  },
  {
   "cell_type": "markdown",
   "metadata": {},
   "source": [
    "# 2014 Data"
   ]
  },
  {
   "cell_type": "code",
   "execution_count": 98,
   "metadata": {},
   "outputs": [],
   "source": [
    "#More smoothing, better option\n",
    "bfieldval = Analysis.bval2014\n",
    "n = 1024\n",
    "smoothval = 51\n",
    "poly = 2\n",
    "interpdim = 2\n",
    "data = d2014\n",
    "cmlabel = 'Normalized $\\Delta$R$_D$ (k$\\Omega$)'\n",
    "data = [x for (y,x) in sorted(zip(bfieldval,data), key=lambda pair: pair[0])]\n",
    "bval = sorted(bfieldval)    \n",
    "xmin = -100\n",
    "xmax = 0\n",
    "for i in data:\n",
    "    if i[0][0] > xmin:\n",
    "        xmin = i[0][0]\n",
    "    if i[0][-1] < xmax:\n",
    "        xmax = i[0][-1]\n",
    "#xmin += 0.01\n",
    "#xmax -= 0.01\n",
    "xv = np.linspace(xmin,xmax,n)\n",
    "intv = list()\n",
    "for i in data:\n",
    "    #Try flipping filtering and interp\n",
    "    dataclip = clip(i,xmin,xmax)\n",
    "    dataclip[1] = SG.savitzky_golay(dataclip[1],smoothval,poly)\n",
    "    tck = interpolate.splrep(dataclip[0], dataclip[1],k=1)\n",
    "    y = interpolate.splev(xv,tck)\n",
    "    intv.append(percentile_normalize(y,1))\n",
    "xb = np.linspace(bval[0],bval[-1],n)\n",
    "b = list()\n",
    "for i in range(len(intv[0])):\n",
    "    hold = list()\n",
    "    for j in range(len(intv)):\n",
    "        hold.append(intv[j][i])\n",
    "    b.append(hold)\n",
    "intb = list()\n",
    "for i in b:\n",
    "    tck = interpolate.splrep(bval,i,k=interpdim)\n",
    "    y = interpolate.splev(xb,tck)\n",
    "    intb.append(y)\n",
    "Z = np.array(intb)\n",
    "X,Y = pylab.meshgrid(xb,xv)"
   ]
  },
  {
   "cell_type": "code",
   "execution_count": 75,
   "metadata": {},
   "outputs": [],
   "source": [
    "colortype = yellowredblue\n",
    "f, ax = plt.subplots()\n",
    "plt.pcolormesh(X,Y,Z,vmin=0,vmax=1,cmap=colortype)\n",
    "plt.ylim(xmin,xmax)\n",
    "plt.xlim(bval[0],bval[-1])\n",
    "plt.ylabel('Gate Voltage (mV)',size=18)\n",
    "plt.xlabel('B Field (T)',size=18)\n",
    "cbar = plt.colorbar()\n",
    "cbar.set_label(cmlabel,size=14)\n",
    "ax.get_xaxis().get_major_formatter().set_useOffset(False)\n",
    "\n",
    "plt.show()"
   ]
  },
  {
   "cell_type": "code",
   "execution_count": 99,
   "metadata": {},
   "outputs": [],
   "source": [
    "#Gray Scale\n",
    "f, ax = plt.subplots()\n",
    "plt.pcolormesh(X,Y,Z,vmin=0,vmax=1,cmap='binary')\n",
    "plt.ylim(xmin,xmax)\n",
    "plt.xlim(bval[0],bval[-1])\n",
    "plt.ylabel('Gate Voltage(mV)',size=18)\n",
    "plt.xlabel('B Field(T)',size=18)\n",
    "cbar = plt.colorbar()\n",
    "cbar.set_label(cmlabel,size=14)\n",
    "ax.get_xaxis().get_major_formatter().set_useOffset(False)"
   ]
  },
  {
   "cell_type": "code",
   "execution_count": 90,
   "metadata": {},
   "outputs": [
    {
     "data": {
      "text/plain": [
       "<matplotlib.legend.Legend at 0x61855e10>"
      ]
     },
     "execution_count": 90,
     "metadata": {},
     "output_type": "execute_result"
    }
   ],
   "source": [
    "#Markers\n",
    "shift = 0.00008\n",
    "for i in sorted(new14,key = lambda x: x[0]):\n",
    "    if i[1]>Analysis.bval2011[0]:\n",
    "        x = float(i[1])\n",
    "        if x==5.5845:\n",
    "            x -= shift\n",
    "        q = plt.scatter(x,i[0],s=70,color='#00FFFF',marker='d',edgecolor='k',linewidth='1',label='$\\Delta\\\\theta=\\pi/4')\n",
    "\n",
    "for i in pi:\n",
    "    if i[1]>Analysis.bval2011[0]:\n",
    "        x = float(i[1])\n",
    "        if x==5.5845:\n",
    "            x -= shift\n",
    "        p = plt.scatter(x,i[0],s=60,color='r',edgecolor='k',linewidth='1',label='$\\Delta\\\\theta=\\pi')\n",
    "\n",
    "plt.legend([q,p], [\"$\\Delta\\\\theta =\\pi/4$\",\"$\\Delta\\\\theta =\\pi$\"],loc=2,scatterpoints=1)"
   ]
  },
  {
   "cell_type": "code",
   "execution_count": 84,
   "metadata": {},
   "outputs": [],
   "source": [
    "f.savefig('Grayscale Color Map with Scatter 14 v2',dpi=1200)"
   ]
  },
  {
   "cell_type": "code",
   "execution_count": 104,
   "metadata": {},
   "outputs": [
    {
     "data": {
      "text/plain": [
       "<matplotlib.legend.Legend at 0x60c21978>"
      ]
     },
     "execution_count": 104,
     "metadata": {},
     "output_type": "execute_result"
    }
   ],
   "source": [
    "#Markers with +/- signs\n",
    "shift = 0.00008\n",
    "for i in sw14m:\n",
    "    if i[1]>Analysis.bval2011[0]:\n",
    "        x = float(i[1])\n",
    "        if x==5.5845:\n",
    "            x -= shift\n",
    "        if i[2] > 0:\n",
    "            q = plt.scatter(x,i[0],s=70,color='#00FFFF',marker='d',edgecolor='k',linewidth='1',label='$\\Delta\\\\theta=\\pi/4')\n",
    "        else:\n",
    "            qm = plt.scatter(x,i[0],s=70,color='#00FF00',marker='d',edgecolor='k',linewidth='1',label='$\\Delta\\\\theta=-\\pi/4')\n",
    "\n",
    "for i in pim:    \n",
    "    if i[1]>Analysis.bval2011[0]:\n",
    "        x = float(i[1])\n",
    "        if x==5.5845:\n",
    "            x -= shift\n",
    "        if i[2] > 0:\n",
    "            p = plt.scatter(x,i[0],s=60,color='r',edgecolor='k',linewidth='1',label='$\\Delta\\\\theta=\\pi')\n",
    "        else:\n",
    "            pm = plt.scatter(x,i[0],s=60,color='orange',edgecolor='k',linewidth='1',label='$\\Delta\\\\theta=-\\pi')\n",
    "\n",
    "plt.legend([q,qm,p,pm], [\"$\\Delta\\\\theta =\\pi/4$\",\"$\\Delta\\\\theta =-\\pi/4$\",\"$\\Delta\\\\theta =\\pi$\",\"$\\Delta\\\\theta =-\\pi$\"],loc=2,scatterpoints=1)"
   ]
  },
  {
   "cell_type": "code",
   "execution_count": 105,
   "metadata": {},
   "outputs": [],
   "source": [
    "f.savefig('Grayscale Color Map with Scatter 14 v3 PM',dpi=1200)"
   ]
  },
  {
   "cell_type": "code",
   "execution_count": 91,
   "metadata": {},
   "outputs": [
    {
     "data": {
      "text/plain": [
       "array([[-30.9763    ,   5.5805    ,   0.35446229,   1.        ],\n",
       "       [-30.11417   ,   5.5805    ,   0.35446229,   1.        ],\n",
       "       [-28.8464    ,   5.5805    ,   0.35446229,   1.        ],\n",
       "       [-26.6193    ,   5.5805    ,   0.35446229,   1.        ],\n",
       "       [-27.5842    ,   5.5805    ,   0.35446229,   1.        ],\n",
       "       [-25.1515    ,   5.5805    ,   0.25995879,   1.        ],\n",
       "       [-25.007     ,   5.5805    ,   0.25995879,   1.        ],\n",
       "       [-21.99253   ,   5.581     ,   0.24561601,   1.        ],\n",
       "       [-21.041845  ,   5.581     ,   0.24561601,   1.        ],\n",
       "       [-20.24955   ,   5.583     ,   0.25      ,   1.        ],\n",
       "       [-19.38313   ,   5.583     ,   0.25      ,   1.        ],\n",
       "       [-19.18627   ,   5.583     ,   0.25      ,   1.        ],\n",
       "       [-24.267575  ,   5.583     ,   0.27320272,   1.        ],\n",
       "       [-19.4861    ,   5.5835    ,   0.27931602,   1.        ],\n",
       "       [-18.62333   ,   5.5835    ,   0.28183099,   1.        ],\n",
       "       [-18.2212    ,   5.5835    ,   0.28183099,   1.        ],\n",
       "       [-17.759945  ,   5.5835    ,   0.28183099,   1.        ],\n",
       "       [-17.42249   ,   5.5835    ,   0.28183099,   1.        ],\n",
       "       [ -8.44257   ,   5.5845    ,   0.23912058,   1.        ],\n",
       "       [-19.43367   ,   5.5845    ,   0.30364428,   1.        ],\n",
       "       [-22.19066   ,   5.5845    ,   0.25114535,   0.75232775]])"
      ]
     },
     "execution_count": 91,
     "metadata": {},
     "output_type": "execute_result"
    }
   ],
   "source": [
    "new14"
   ]
  },
  {
   "cell_type": "markdown",
   "metadata": {},
   "source": [
    "# 2011 Data"
   ]
  },
  {
   "cell_type": "code",
   "execution_count": 106,
   "metadata": {},
   "outputs": [],
   "source": [
    "bfieldval = Analysis.bval2011\n",
    "n = 1024\n",
    "smoothval = 51\n",
    "poly = 2\n",
    "interpdim = 2\n",
    "data = d2011\n",
    "cmlabel = 'Normalized $\\Delta$R$_D$ (k$\\Omega$)'\n",
    "data = [x for (y,x) in sorted(zip(bfieldval,data), key=lambda pair: pair[0])]\n",
    "bval = sorted(bfieldval)    \n",
    "xmin = None\n",
    "xmax = 0\n",
    "for i in data:\n",
    "    if i[0][0] > xmin:\n",
    "        xmin = i[0][0]\n",
    "    if i[0][-1] < xmax:\n",
    "        xmax = i[0][-1]\n",
    "xmin += 0.5\n",
    "xmax -= 0.5\n",
    "xv = np.linspace(xmin,xmax,n)\n",
    "intv = list()\n",
    "count = 0\n",
    "for i in data:\n",
    "    if count == 21:\n",
    "        xmin += 1\n",
    "    #Try flipping filtering and interp\n",
    "    dataclip = clip(i,xmin,xmax)\n",
    "    dataclip[1] = SG.savitzky_golay(dataclip[1],smoothval,poly)\n",
    "    tck = interpolate.splrep(dataclip[0], dataclip[1],k=1)\n",
    "    y = interpolate.splev(xv,tck)\n",
    "    intv.append(percentile_normalize(y,1))\n",
    "    count += 1\n",
    "xb = np.linspace(bval[0],bval[-1],n)\n",
    "b = list()\n",
    "for i in range(len(intv[0])):\n",
    "    hold = list()\n",
    "    for j in range(len(intv)):\n",
    "        hold.append(intv[j][i])\n",
    "    b.append(hold)\n",
    "intb = list()\n",
    "for i in b:\n",
    "    tck = interpolate.splrep(bval,i,k=interpdim)\n",
    "    y = interpolate.splev(xb,tck)\n",
    "    intb.append(y)\n",
    "Z = np.array(intb)\n",
    "X,Y = pylab.meshgrid(xb,xv)\n"
   ]
  },
  {
   "cell_type": "code",
   "execution_count": 53,
   "metadata": {},
   "outputs": [],
   "source": [
    "colortype = yellowredblue\n",
    "f, ax = plt.subplots()\n",
    "plt.pcolormesh(X,Y,Z,vmin=0,vmax=1,cmap=colortype)\n",
    "plt.ylim(xmin,xmax)\n",
    "plt.xlim(bval[0],bval[-1])\n",
    "plt.ylabel('Gate Voltage (mV)',size=18)\n",
    "plt.xlabel('B Field (T)',size=18)\n",
    "cbar = plt.colorbar()\n",
    "cbar.set_label(cmlabel,size=14)\n",
    "ax.get_xaxis().get_major_formatter().set_useOffset(False)\n",
    "\n",
    "plt.show()"
   ]
  },
  {
   "cell_type": "code",
   "execution_count": 108,
   "metadata": {},
   "outputs": [],
   "source": [
    "#Gray Scale\n",
    "f, ax = plt.subplots()\n",
    "plt.pcolormesh(X,Y,Z,vmin=0,vmax=1,cmap='binary')\n",
    "plt.ylim(xmin,xmax)\n",
    "plt.xlim(bval[0],bval[-1])\n",
    "plt.ylabel('Gate Voltage(mV)',size=18)\n",
    "plt.xlabel('B Field(T)',size=18)\n",
    "cbar = plt.colorbar()\n",
    "cbar.set_label(cmlabel,size=14)\n",
    "ax.get_xaxis().get_major_formatter().set_useOffset(False)"
   ]
  },
  {
   "cell_type": "code",
   "execution_count": 94,
   "metadata": {},
   "outputs": [
    {
     "data": {
      "text/plain": [
       "<matplotlib.legend.Legend at 0x620a38d0>"
      ]
     },
     "execution_count": 94,
     "metadata": {},
     "output_type": "execute_result"
    }
   ],
   "source": [
    "#Markers\n",
    "#for i in new14:\n",
    "#    if i[1]<=bval2011[0]:\n",
    "#        q = plt.scatter(i[1],i[0],s=60,color='#00FFFF',marker='d',edgecolor='k',linewidth='1',label='$\\Delta\\phi=\\pi/4')\n",
    "for i in pi:    \n",
    "    if i[1]<=Analysis.bval2011[0]:\n",
    "        p = plt.scatter(i[1],i[0],s=60,color='r',edgecolor='k',linewidth='1',label='$\\Delta\\theta=\\pi')\n",
    "plt.legend([p], [\"$\\Delta\\\\theta =\\pi$\"],loc=2,scatterpoints=1)"
   ]
  },
  {
   "cell_type": "code",
   "execution_count": 109,
   "metadata": {},
   "outputs": [
    {
     "data": {
      "text/plain": [
       "<matplotlib.legend.Legend at 0x598d06a0>"
      ]
     },
     "execution_count": 109,
     "metadata": {},
     "output_type": "execute_result"
    }
   ],
   "source": [
    "#Markers PM\n",
    "#for i in new14:\n",
    "#    if i[1]<=bval2011[0]:\n",
    "#        q = plt.scatter(i[1],i[0],s=60,color='#00FFFF',marker='d',edgecolor='k',linewidth='1',label='$\\Delta\\phi=\\pi/4')\n",
    "for i in pim:\n",
    "    if i[1]<=Analysis.bval2011[0]:\n",
    "        if i[2] > 0:\n",
    "            p = plt.scatter(i[1],i[0],s=70,color='r',edgecolor='k',linewidth='1',label='$\\Delta\\theta=\\pi')\n",
    "        else:\n",
    "            pm = plt.scatter(i[1],i[0],s=70,color='orange',edgecolor='k',linewidth='1',label='$\\Delta\\theta=-\\pi')\n",
    "plt.legend([p,pm], [\"$\\Delta\\\\theta =\\pi$\",\"$\\Delta\\\\theta =-\\pi$\"],loc=2,scatterpoints=1)"
   ]
  },
  {
   "cell_type": "code",
   "execution_count": 110,
   "metadata": {},
   "outputs": [],
   "source": [
    "f.savefig('Grayscale Color Map with Scatter 11 v3 PM',dpi=1200)"
   ]
  },
  {
   "cell_type": "code",
   "execution_count": 111,
   "metadata": {},
   "outputs": [
    {
     "data": {
      "text/plain": [
       "array([[-24.66637   ,   5.5265    ,   0.47590564,   0.8836773 ],\n",
       "       [-30.623075  ,   5.534     ,   0.532419  ,   0.80487805],\n",
       "       [-28.549115  ,   5.534     ,   0.532419  ,   0.80487805],\n",
       "       [-28.18076   ,   5.534     ,   0.532419  ,   0.80487805],\n",
       "       [-27.62813   ,   5.534     ,   0.532419  ,   0.80487805],\n",
       "       [-27.450285  ,   5.534     ,   0.532419  ,   0.80487805]])"
      ]
     },
     "execution_count": 111,
     "metadata": {},
     "output_type": "execute_result"
    }
   ],
   "source": [
    "new12"
   ]
  },
  {
   "cell_type": "code",
   "execution_count": 112,
   "metadata": {},
   "outputs": [
    {
     "data": {
      "text/plain": [
       "array([[-35.4633    ,   5.5355    ,   0.75090375,   0.91954023],\n",
       "       [ -6.1461205 ,   5.583     ,   0.8       ,   1.        ],\n",
       "       [-34.79144   ,   5.531     ,   0.79002495,   0.90654206],\n",
       "       [ -9.12448   ,   5.5835    ,   0.71595502,   1.        ],\n",
       "       [-37.5528    ,   5.536     ,   0.79171949,   0.90690691],\n",
       "       [-37.19396   ,   5.536     ,   0.79171949,   0.90690691],\n",
       "       [-36.85785   ,   5.536     ,   0.79171949,   0.90690691],\n",
       "       [-36.437425  ,   5.536     ,   0.79171949,   0.90690691],\n",
       "       [-36.142725  ,   5.536     ,   0.79171949,   0.90690691],\n",
       "       [-34.101725  ,   5.5295    ,   0.78772907,   0.91935484]])"
      ]
     },
     "execution_count": 112,
     "metadata": {},
     "output_type": "execute_result"
    }
   ],
   "source": [
    "new34"
   ]
  },
  {
   "cell_type": "code",
   "execution_count": null,
   "metadata": {},
   "outputs": [],
   "source": []
  }
 ],
 "metadata": {
  "kernelspec": {
   "display_name": "Python 2",
   "language": "python",
   "name": "python2"
  },
  "language_info": {
   "codemirror_mode": {
    "name": "ipython",
    "version": 2
   },
   "file_extension": ".py",
   "mimetype": "text/x-python",
   "name": "python",
   "nbconvert_exporter": "python",
   "pygments_lexer": "ipython2",
   "version": "2.7.10"
  }
 },
 "nbformat": 4,
 "nbformat_minor": 2
}
