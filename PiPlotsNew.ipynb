{
 "cells": [
  {
   "cell_type": "code",
   "execution_count": 1,
   "metadata": {},
   "outputs": [
    {
     "name": "stdout",
     "output_type": "stream",
     "text": [
      "Using matplotlib backend: TkAgg\n"
     ]
    }
   ],
   "source": [
    "import numpy as np\n",
    "import matplotlib as mpl\n",
    "from matplotlib import pyplot as plt\n",
    "from matplotlib.gridspec import GridSpec\n",
    "import CompleteHist as ch\n",
    "import Analysis\n",
    "%matplotlib"
   ]
  },
  {
   "cell_type": "code",
   "execution_count": 2,
   "metadata": {},
   "outputs": [
    {
     "name": "stdout",
     "output_type": "stream",
     "text": [
      "Using matplotlib backend: TkAgg\n"
     ]
    }
   ],
   "source": [
    "%matplotlib"
   ]
  },
  {
   "cell_type": "code",
   "execution_count": 3,
   "metadata": {},
   "outputs": [],
   "source": [
    "run14 = Analysis.Run(np.load('2014_Raw.npy'), np.load('2014_Prune_strong.npy'), Analysis.bval2014, np.load('2014bf_new_prune_edit.npy'))\n",
    "run11 = Analysis.Run(np.load('2011_Raw.npy'), np.load('2011_Prune_strong_flat.npy'), Analysis.bval2011, np.load('2011bf_new_prune_flat_edit.npy'))\n",
    "\n",
    "soft11 = Analysis.Run(np.load('2011_Raw.npy'), np.load('2011_Prune_new_flat.npy'), Analysis.bval2011, np.load('2011bf_new_prune_flat_edit.npy'))\n",
    "soft14 = Analysis.Run(np.load('2014_Raw.npy'), np.load('2014_Prune_new.npy'), Analysis.bval2014, np.load('2014bf_new_prune_edit.npy'))\n",
    "\n",
    "i14 = run14.prune_data\n",
    "i11 = run11.prune_data\n",
    "\n",
    "s14 = soft14.prune_data\n",
    "s11 = soft11.prune_data"
   ]
  },
  {
   "cell_type": "code",
   "execution_count": 4,
   "metadata": {},
   "outputs": [],
   "source": [
    "se14 = np.load('2014se_new_sign.npy')\n",
    "se11 = np.load('2011se_new_sign.npy')\n",
    "#use this to plot slips:\n",
    "#for k in se11[n][np.abs(se11[n][:,2] - i11[n].fits[j].delta_phi)<0.01]:\n",
    "    #ax5.axvline(k[0],color='k',lw=2)"
   ]
  },
  {
   "cell_type": "code",
   "execution_count": 5,
   "metadata": {},
   "outputs": [],
   "source": [
    "plt.rc('text', usetex=True) \n",
    "\n",
    "# Helvetica \n",
    "# set serif, too. Otherwise setting to times and then \n",
    "# Helvetica causes an error. \n",
    "font = {'family':'sans-serif','sans-serif':['Helvetica'], \n",
    "        'serif':['cm10']} \n",
    "preamble  = r\"\"\" \n",
    "               \\usepackage{color} \n",
    "               \\usepackage[tx]{sfmath} \n",
    "               \\usepackage{helvet} \n",
    "            \"\"\" \n",
    "\n",
    "\n",
    "# Unicode for Tex \n",
    "#preamble =  r\"\"\"\\usepackage[utf8]{inputenc}\"\"\" + preamble \n",
    "# inputenc should be set automatically \n",
    "plt.rcParams['text.latex.unicode']=True \n",
    "\n",
    "#print font, preamble \n",
    "plt.rc('font',**font) \n",
    "plt.rcParams['text.latex.preamble'] = preamble\n",
    "mpl.rcParams.update({'font.size': 11})"
   ]
  },
  {
   "cell_type": "code",
   "execution_count": 6,
   "metadata": {},
   "outputs": [],
   "source": [
    "from matplotlib.gridspec import GridSpec\n",
    "gs = GridSpec(1000,1000)\n",
    "\n",
    "def search(data, t):\n",
    "    seq = data\n",
    "    min = 0\n",
    "    max = len(seq) - 1\n",
    "    while True:        \n",
    "        m = (min + max) // 2\n",
    "        if max < min:\n",
    "            if np.abs(t-seq[m]) < np.abs(t-seq[m-1]):          \n",
    "                return m\n",
    "            else:\n",
    "                return m-1        \n",
    "        if seq[m] < t:\n",
    "            min = m + 1\n",
    "        elif seq[m] > t:\n",
    "            max = m - 1\n",
    "        else:\n",
    "            return m\n",
    "\n",
    "def t(y_min,y_max):\n",
    "    diff = y_max-y_min\n",
    "    p = float(diff)*0.35\n",
    "    return y_min-p,y_max+p\n",
    "\n",
    "def init_plot(i):\n",
    "    i.plot()\n",
    "    plt.xlim([min(i.x),max(i.x)])\n",
    "    plt.ylim([min(i.y)-0.05,max(i.y)+0.05])\n",
    "    \n",
    "def stitch(i,x):\n",
    "    i.fits[1].plot_select('b',['k','r'],[2,2],i.fits[1].pos_left,x)\n",
    "    i.fits[0].plot_select('b',['r','#00ff00'],[2,2],x,i.fits[0].pos_right)\n",
    "    \n",
    "def set_axis(sweep,x_min,x_max):\n",
    "    plt.xlim(x_min,x_max)\n",
    "    x = np.linspace(x_min,x_max)\n",
    "    yl,yr = sweep.fits[j].yValue(x)\n",
    "    y_min = np.min([yl,yr])\n",
    "    y_max = np.max([yl,yr])\n",
    "    l,h = t(y_min,y_max)\n",
    "    plt.ylim(l,h)\n",
    "    plt.yticks([y_min,y_max],(round(y_min,1),round(y_max,1)))\n",
    "    x_low, x_high = np.percentile(x,[25,75])\n",
    "    plt.xticks([int(x_low),int(x_high)])\n"
   ]
  },
  {
   "cell_type": "code",
   "execution_count": 7,
   "metadata": {},
   "outputs": [],
   "source": [
    "def newSE_count(run,se,n,j):\n",
    "    temp = list()\n",
    "    for k in se[n][np.abs(se[n][:,2] - (run.prune_data[n].fits[j].phase_r-run.prune_data[n].fits[j].phase_l)/np.pi%2)<0.001]:\n",
    "        temp.append(k)\n",
    "    return temp\n"
   ]
  },
  {
   "cell_type": "code",
   "execution_count": 8,
   "metadata": {},
   "outputs": [],
   "source": [
    "def plotGrid(run,se,start,fit_list,k,x_low,x_high,colspan,rowspan,xy=(-0.05, 1.02),lw=1.2,linew=2):\n",
    "    plt.subplot2grid((100,100), start, colspan=colspan, rowspan=rowspan)\n",
    "    j = fit_list[k][1]\n",
    "    n = fit_list[k][0]\n",
    "    run.prune_data[n].plot_fit(j,linewidth=linew)\n",
    "    axes(run.prune_data[n],j,x_low,x_high)\n",
    "    for k in se[n][np.abs(se[n][:,2] - (run.prune_data[n].fits[j].phase_r-run.prune_data[n].fits[j].phase_l)/np.pi%2)<0.001]:\n",
    "        plt.axvline(k[0],color='k',lw=lw)\n",
    "    plt.annotate('{:.4f} T, $\\Delta\\\\theta=$ {:.3f}'.format(run.prune_data[n].b_val,round(((run.prune_data[n].fits[j].phase_r-run.prune_data[n].fits[j].phase_l)/np.pi)%2,3)), xy, xycoords=\"axes fraction\")\n",
    "        \n",
    "\n",
    "def axes(sweep,j,x_min,x_max):\n",
    "    plt.xlim(x_min,x_max)\n",
    "    x = np.linspace(x_min,x_max)\n",
    "    yl,yr = sweep.fits[j].yValue(x)\n",
    "    y_min = np.min([yl,yr])\n",
    "    y_max = np.max([yl,yr])\n",
    "    l,h = t(y_min,y_max)\n",
    "    plt.ylim(l,h)\n",
    "    plt.yticks([y_min,y_max],(round(y_min,1),round(y_max,1)))\n",
    "    x_low, x_high = np.percentile(x,[25,75])\n",
    "    plt.xticks([int(x_low),int(x_high)])\n",
    "    ax = plt.gca()\n",
    "    ax.tick_params('y',pad=2)\n",
    "    ax.tick_params('x',pad=3)\n",
    "    \n",
    "    \n",
    "def newplotGrid(bounds,colspan,rowspan,xy=(-0.05, 1.02)):\n",
    "    run,se,fit_list,k,x_low,x_high = bounds\n",
    "    j = fit_list[k][1]\n",
    "    n = fit_list[k][0]\n",
    "    run.prune_data[n].plot_fit(j)\n",
    "    axes(run.prune_data[n],j,x_low,x_high)\n",
    "    for k in se[n][np.abs(se[n][:,2] - (run.prune_data[n].fits[j].phase_r-run.prune_data[n].fits[j].phase_l)/np.pi%2)<0.001]:\n",
    "        plt.axvline(k[0],color='k',lw=2)\n",
    "    plt.annotate('{} T'.format(run.prune_data[n].b_val), xy, xycoords=\"axes fraction\")\n"
   ]
  },
  {
   "cell_type": "code",
   "execution_count": 9,
   "metadata": {},
   "outputs": [],
   "source": [
    "pi4_14 = [[0,0],[0,2],[0,3],[2,1],[2,2],[3,3],[3,4],[4,1],[5,0],[7,2],[8,0],[8,3],[9,0]]\n",
    "pi2_14 = [[3,2],[3,1]] \n",
    "pi34_14 = [[2,0],[2,3],[3,0],[8,1]]\n",
    "pi_14 = [[0,1],[4,0],[5,1],[6,0],[7,1],[8,2],[9,1],[10,0],[11,0],[13,0],[13,1]]\n",
    "pi74_14 = [[5,2]]\n",
    "#------------------------------------------\n",
    "pi4_11 = [[0,0],[5,0],[9,1],[11,0],[14,0],[19,1]]\n",
    "pi2_11 = [[2,1],[4,0],[12,1],[15,0],[19,0]]\n",
    "pi34_11 = [[0,1],[1,1],[10,0],[13,0]]\n",
    "pi_11 = [[1,0],[2,0],[3,0],[4,1],[5,1],[6,0],[7,0],[8,0],[9,2],[11,1],[12,0],[14,1],[15,1],[16,0],[17,0],[19,2],[21,0]]\n",
    "#No pi7/4 for 2011"
   ]
  },
  {
   "cell_type": "code",
   "execution_count": 10,
   "metadata": {},
   "outputs": [],
   "source": [
    "pi_11_bounds = [[soft11,se11,pi_11,0,-26.34,-18.02],[run11,se11,pi_11,1,-38.84,-29.39],\n",
    "                [run11,se11,pi_11,2,-41.13,-29.99],[soft11,se11,pi_11,3,-42.59,-31.06],\n",
    "                [run11,se11,pi_11,4,-41.27,-30.44],[soft11,se11,pi_11,5,-41,-30],\n",
    "                [soft11,se11,pi_11,6,-40,-29.82],[run11,se11,pi_11,7,-39.23,-28.47],\n",
    "                [run11,se11,pi_11,8,-39.9,-29.56],[run11,se11,pi_11,9,-38.2,-29.144],\n",
    "                [run11,se11,pi_11,10,-42.07,-31.46],[run11,se11,pi_11,11,-41.87,-29.9],\n",
    "                [run11,se11,pi_11,12,-41.29,-30.3],[run11,se11,pi_11,13,-40.29,-30.86],\n",
    "                [run11,se11,pi_11,14,-41.36,-32.15],[run11,se11,pi_11,15,-41.33,-31.54],\n",
    "                [run11,se11,pi_11,16,-40.7672,-30.3]]\n",
    "\n",
    "pi_14_bounds = [[soft14,se14,pi_14,0,-19.48,-9.83],[soft14,se14,pi_14,1,-18.18,-7.05],\n",
    "       [run14,se14,pi_14,2,-21.14,-8.78],[run14,se14,pi_14,3,-16.54,-9],\n",
    "       [soft14,se14,pi_14,4,-17.8,-10.38],[run14,se14,pi_14,5,-15.18,-7.22],\n",
    "       [soft14,se14,pi_14,6,-17.8,-9.72],[soft14,se14,pi_14,7,-20.02,-9.20],\n",
    "       [run14,se14,pi_14,8,-20.4,-8.65],[run14,se14,pi_14,9,-19.32,-7.76],\n",
    "       [run14,se14,pi_14,10,-27.51,-17.93]]"
   ]
  },
  {
   "cell_type": "code",
   "execution_count": 11,
   "metadata": {},
   "outputs": [],
   "source": [
    "pi_new = list()\n",
    "\n",
    "pi_bounds = list(pi_11_bounds)\n",
    "pi_bounds.extend(pi_14_bounds)\n",
    "pi_bounds = np.array(pi_bounds)\n",
    "\n",
    "\n",
    "for j in [14,13,12,11,8,7,6,5,4,3,2,0,23,21,20]:\n",
    "    pi_new.append(pi_bounds[j])\n",
    "\n",
    "\n",
    "pi_new[0][-2],pi_new[0][-1] = -42.01,-29.714\n",
    "pi_new[1][-2],pi_new[1][-1] = -43.739,-30.7454\n",
    "pi_new[2][-2],pi_new[2][-1] = -45.9674,-30.1864\n",
    "pi_new[3][-2],pi_new[3][-1] = -42.0237, -29.9358\n",
    "pi_new[4][-2],pi_new[4][-1] = -41.2647, -29.5113\n",
    "pi_new[5][-2],pi_new[5][-1] = -40.6632, -28.4236\n",
    "pi_new[6][-2],pi_new[6][-1] = -40, -29.8989\n",
    "pi_new[7][-2],pi_new[7][-1] = -45.3157, -29.8903\n",
    "pi_new[8][-2],pi_new[8][-1] = -43.3091, -30.3461\n",
    "pi_new[9][-2],pi_new[9][-1] = -42.7017, -31.0218\n",
    "pi_new[10][-2],pi_new[10][-1] = -41.9687, -29.6581\n",
    "pi_new[11][-2],pi_new[11][-1] = -26.4479, -17.6429\n",
    "pi_new[12][-2],pi_new[12][-1] = -19.7687, -7.3317\n",
    "pi_new[13][-2],pi_new[13][-1] = -21.0172, -9.7475\n",
    "pi_new[14][-2],pi_new[14][-1] = -17.1242, -5.575"
   ]
  },
  {
   "cell_type": "code",
   "execution_count": 15,
   "metadata": {},
   "outputs": [],
   "source": [
    "lw = 1.6 #slip lines\n",
    "linew = 2.5 #fit lines\n",
    "xy=(-0.023, 1.02)\n",
    "height = 5\n",
    "width = 3\n",
    "row_extra = 4\n",
    "row_len = (100-row_extra*(height-1))/height\n",
    "col_extra = 4\n",
    "col_len = (100-col_extra*(width-1))/width\n",
    "fig = plt.figure(figsize = (1.5*2.42/(col_len/100.),1.5/(row_len/100.)))\n",
    "\n",
    "for i in range(len(pi_new)):\n",
    "    current = (i/width*(row_extra+row_len),i%width*(col_extra+col_len))\n",
    "    hold = list(pi_new[i])\n",
    "    plotGrid(hold[0],hold[1],current,hold[2],hold[3],hold[4],hold[5],col_len,row_len,xy=xy,lw=lw,linew=linew)\n",
    "    if i == 6:\n",
    "        plt.ylabel('$R_D$ $(k\\Omega)$',labelpad=4,size=18)\n",
    "        #ax = plt.gca()\n",
    "        #ax.yaxis.set_label_coords(-.17,1.1)\n",
    "    if i == 13:\n",
    "        plt.xlabel('$V_P$ $(mV)$',labelpad=4,size=18)    "
   ]
  },
  {
   "cell_type": "code",
   "execution_count": 22,
   "metadata": {},
   "outputs": [],
   "source": [
    "fig.savefig('Pi v2',dpi=1000)"
   ]
  },
  {
   "cell_type": "code",
   "execution_count": 16,
   "metadata": {},
   "outputs": [],
   "source": [
    "lw = 1.6 #slip lines\n",
    "linew = 2.5 #fit lines\n",
    "xy=(-0.023, 1.02)\n",
    "height = 5\n",
    "width = 3\n",
    "row_extra = 4\n",
    "row_len = (100-row_extra*(height-1))/height\n",
    "col_extra = 4\n",
    "col_len = (100-col_extra*(width-1))/width\n",
    "fig = plt.figure(figsize = (1.5*2.42/(col_len/100.),1.5/(row_len/100.)))\n",
    "\n",
    "for i in range(len(pi_new)):\n",
    "    current = (i/width*(row_extra+row_len),i%width*(col_extra+col_len))\n",
    "    hold = list(pi_new[-i-1])\n",
    "    plotGrid(hold[0],hold[1],current,hold[2],hold[3],hold[4],hold[5],col_len,row_len,xy=xy,lw=lw,linew=linew)\n",
    "    if i == 6:\n",
    "        plt.ylabel('$R_D$ $(k\\Omega)$',labelpad=4,size=18)\n",
    "        #ax = plt.gca()\n",
    "        #ax.yaxis.set_label_coords(-.17,1.1)\n",
    "    if i == 13:\n",
    "        plt.xlabel('$V_P$ $(mV)$',labelpad=4,size=18)    "
   ]
  },
  {
   "cell_type": "code",
   "execution_count": 24,
   "metadata": {},
   "outputs": [],
   "source": [
    "fig.savefig('Pi v2b',dpi=1000)"
   ]
  },
  {
   "cell_type": "code",
   "execution_count": 37,
   "metadata": {},
   "outputs": [],
   "source": [
    "def find_edge(a):\n",
    "    for i in a:\n",
    "        k = i[3]\n",
    "        n = i[2][k][0]\n",
    "        j = i[2][k][1]\n",
    "        plt.figure()\n",
    "        yield i[0].prune_data[n].plot_fit(j)"
   ]
  },
  {
   "cell_type": "code",
   "execution_count": 38,
   "metadata": {},
   "outputs": [
    {
     "ename": "NameError",
     "evalue": "name 'pi_sup' is not defined",
     "output_type": "error",
     "traceback": [
      "\u001b[1;31m---------------------------------------------------------------------------\u001b[0m",
      "\u001b[1;31mNameError\u001b[0m                                 Traceback (most recent call last)",
      "\u001b[1;32m<ipython-input-38-fe0ec0331c55>\u001b[0m in \u001b[0;36m<module>\u001b[1;34m()\u001b[0m\n\u001b[1;32m----> 1\u001b[1;33m \u001b[0ma\u001b[0m \u001b[1;33m=\u001b[0m \u001b[0mfind_edge\u001b[0m\u001b[1;33m(\u001b[0m\u001b[0mpi_sup\u001b[0m\u001b[1;33m)\u001b[0m\u001b[1;33m\u001b[0m\u001b[0m\n\u001b[0m",
      "\u001b[1;31mNameError\u001b[0m: name 'pi_sup' is not defined"
     ]
    }
   ],
   "source": [
    "a = find_edge(pi_sup)"
   ]
  },
  {
   "cell_type": "code",
   "execution_count": 12,
   "metadata": {},
   "outputs": [],
   "source": [
    "pi_sup = list()\n",
    "\n",
    "pi_bounds = list(pi_11_bounds)\n",
    "pi_bounds.extend(pi_14_bounds)\n",
    "pi_bounds = np.array(pi_bounds)\n",
    "\n",
    "\n",
    "for j in [16,15,10,9,1,27,26,25,24,22,19,18,17]:\n",
    "    pi_sup.append(pi_bounds[j])\n",
    "\n",
    "\n",
    "pi_sup[0][-2],pi_sup[0][-1] = -42.9495,-30.1496\n",
    "pi_sup[1][-2],pi_sup[1][-1] = -42.3122, -30.0638\n",
    "pi_sup[2][-2],pi_sup[2][-1] = -46.7153, -30.7536\n",
    "pi_sup[3][-2],pi_sup[3][-1] = -43.7484, -29.2676\n",
    "pi_sup[4][-2],pi_sup[4][-1] = -38.8846, -29.3708\n",
    "pi_sup[5][-2],pi_sup[5][-1] = -27.4837, -17.0424\n",
    "pi_sup[6][-2],pi_sup[6][-1] = -19.7555, -7.7148\n",
    "pi_sup[7][-2],pi_sup[7][-1] = -20.5392, -8.4924\n",
    "pi_sup[8][-2],pi_sup[8][-1] = -20.2131, -8.3886\n",
    "pi_sup[9][-2],pi_sup[9][-1] = -15.3165, -7.1523\n",
    "pi_sup[10][-2],pi_sup[10][-1] = -20.9327, -12.2644\n",
    "pi_sup[11][-2],pi_sup[11][-1] = -20.6114, -7.0573\n",
    "pi_sup[12][-2],pi_sup[12][-1] = -19.4212, -8.5128\n",
    "#pi_sup[13][-2],pi_sup[13][-1] = \n",
    "#pi_sup[14][-2],pi_sup[14][-1] = "
   ]
  },
  {
   "cell_type": "code",
   "execution_count": 213,
   "metadata": {},
   "outputs": [],
   "source": [
    "lw = 1.6 #slip lines\n",
    "linew = 2.5 #fit lines\n",
    "xy=(-0.023, 1.02)\n",
    "height = 5\n",
    "width = 3\n",
    "row_extra = 4\n",
    "row_len = (100-row_extra*(height-1))/height\n",
    "col_extra = 4\n",
    "col_len = (100-col_extra*(width-1))/width\n",
    "fig = plt.figure(figsize = (1.5*2.42/(col_len/100.),1.5/(row_len/100.)))\n",
    "\n",
    "for i in range(len(pi_sup)):\n",
    "    current = (i/width*(row_extra+row_len),i%width*(col_extra+col_len))\n",
    "    hold = list(pi_sup[i])\n",
    "    if i == 12:\n",
    "        i += 1\n",
    "        current = (i/width*(row_extra+row_len),i%width*(col_extra+col_len))\n",
    "        plotGrid(hold[0],hold[1],current,hold[2],hold[3],hold[4],hold[5],col_len,row_len,xy=xy,lw=lw,linew=linew)\n",
    "        plt.xlabel('$V_P$ $(mV)$',labelpad=4,size=18)\n",
    "        continue\n",
    "    plotGrid(hold[0],hold[1],current,hold[2],hold[3],hold[4],hold[5],col_len,row_len,xy=xy,lw=lw,linew=linew)\n",
    "    if i == 6:\n",
    "        plt.ylabel('$R_D$ $(k\\Omega)$',labelpad=4,size=18)\n",
    "        #ax = plt.gca()\n",
    "        #ax.yaxis.set_label_coords(-.17,1.1)\n",
    "      "
   ]
  },
  {
   "cell_type": "code",
   "execution_count": 63,
   "metadata": {},
   "outputs": [],
   "source": [
    "fig.savefig('Supplemental Pi v1a',dpi=1000)"
   ]
  },
  {
   "cell_type": "code",
   "execution_count": 214,
   "metadata": {},
   "outputs": [],
   "source": [
    "lw = 1.6 #slip lines\n",
    "linew = 2.5 #fit lines\n",
    "xy=(-0.023, 1.02)\n",
    "height = 5\n",
    "width = 3\n",
    "row_extra = 4\n",
    "row_len = (100-row_extra*(height-1))/height\n",
    "col_extra = 4\n",
    "col_len = (100-col_extra*(width-1))/width\n",
    "fig = plt.figure(figsize = (1.5*2.42/(col_len/100.),1.5/(row_len/100.)))\n",
    "\n",
    "for i in range(len(pi_sup)):\n",
    "    current = (i/width*(row_extra+row_len),i%width*(col_extra+col_len))\n",
    "    hold = list(pi_sup[-i-1])\n",
    "    if i == 12:\n",
    "        i += 1\n",
    "        current = (i/width*(row_extra+row_len),i%width*(col_extra+col_len))\n",
    "        plotGrid(hold[0],hold[1],current,hold[2],hold[3],hold[4],hold[5],col_len,row_len,xy=xy,lw=lw,linew=linew)\n",
    "        plt.xlabel('$V_P$ $(mV)$',labelpad=4,size=18)\n",
    "        continue\n",
    "    plotGrid(hold[0],hold[1],current,hold[2],hold[3],hold[4],hold[5],col_len,row_len,xy=xy,lw=lw,linew=linew)\n",
    "    if i == 6:\n",
    "        plt.ylabel('$R_D$ $(k\\Omega)$',labelpad=4,size=18)\n",
    "        #ax = plt.gca()\n",
    "        #ax.yaxis.set_label_coords(-.17,1.1)\n",
    "      "
   ]
  },
  {
   "cell_type": "code",
   "execution_count": 65,
   "metadata": {},
   "outputs": [],
   "source": [
    "fig.savefig('Supplemental Pi v1b',dpi=1000)"
   ]
  },
  {
   "cell_type": "code",
   "execution_count": 56,
   "metadata": {},
   "outputs": [],
   "source": [
    "i14[4].plot_fit(0)"
   ]
  },
  {
   "cell_type": "code",
   "execution_count": 57,
   "metadata": {},
   "outputs": [],
   "source": [
    "soft14.prune_data[4].plot_fit(0)"
   ]
  },
  {
   "cell_type": "code",
   "execution_count": 66,
   "metadata": {},
   "outputs": [
    {
     "data": {
      "text/plain": [
       "array([[-34.666045  ,   5.5325    ,   0.90381885,   0.93540052],\n",
       "       [-34.49799   ,   5.5325    ,   0.90381885,   0.93540052],\n",
       "       [-33.65      ,   5.5325    ,   0.90381885,   0.93540052]])"
      ]
     },
     "execution_count": 66,
     "metadata": {},
     "output_type": "execute_result"
    }
   ],
   "source": [
    "se11[7]"
   ]
  },
  {
   "cell_type": "code",
   "execution_count": 76,
   "metadata": {},
   "outputs": [
    {
     "data": {
      "text/plain": [
       "19"
      ]
     },
     "execution_count": 76,
     "metadata": {},
     "output_type": "execute_result"
    }
   ],
   "source": [
    "run11.bvals.index(5.5265)"
   ]
  },
  {
   "cell_type": "code",
   "execution_count": 64,
   "metadata": {},
   "outputs": [],
   "source": [
    "plt.figure(figsize=(9,11))\n",
    "l = [0,5,6,15,17,19,21]\n",
    "for i in range(7):\n",
    "    plt.subplot(7,1,i+1)\n",
    "    s11[l[i]].plot_fit(0)"
   ]
  },
  {
   "cell_type": "code",
   "execution_count": 58,
   "metadata": {},
   "outputs": [],
   "source": [
    "j = 0"
   ]
  },
  {
   "cell_type": "code",
   "execution_count": 59,
   "metadata": {},
   "outputs": [
    {
     "name": "stdout",
     "output_type": "stream",
     "text": [
      "21\n"
     ]
    }
   ],
   "source": [
    "plt.clf()\n",
    "i11[j].plot_fit(0)\n",
    "print(j)\n",
    "j += 1"
   ]
  },
  {
   "cell_type": "code",
   "execution_count": 79,
   "metadata": {},
   "outputs": [],
   "source": [
    "fig = plt.figure(figsize=(9,11))\n",
    "count = 6\n",
    "#data_type = i11 #version A\n",
    "data_type = s11 #Version B\n",
    "\n",
    "plt.subplot(count,1,1)\n",
    "n = 0\n",
    "j = 1\n",
    "data_type[n].plot_fit(j, False)\n",
    "axes(data_type[n],j,-42.9,-23.4912)\n",
    "\n",
    "plt.subplot(count,1,2)\n",
    "n = 5\n",
    "j = 1\n",
    "data_type[n].plot_fit(j, False)\n",
    "axes(data_type[n],j,-44.44,-20)\n",
    "\n",
    "plt.subplot(count,1,3)\n",
    "n = 6\n",
    "j = 0\n",
    "s11[n].plot_fit(j, False)\n",
    "axes(data_type[n],j,-45,-23.87)\n",
    "\n",
    "plt.subplot(count,1,4)\n",
    "n = 17\n",
    "j = 0\n",
    "data_type[n].plot_fit(j, False)\n",
    "axes(data_type[n],j,-45.798,-20)\n",
    "\n",
    "plt.subplot(count,1,5)\n",
    "n = 19\n",
    "j = 2\n",
    "data_type[n].plot_fit(j, False)\n",
    "axes(data_type[n],j,-42.4,-17.465)\n",
    "\n",
    "plt.subplot(count,1,6)\n",
    "n = 21\n",
    "j = 0\n",
    "data_type[n].plot_fit(j, False)\n",
    "axes(data_type[n],j,-42.05,-20.52)"
   ]
  },
  {
   "cell_type": "code",
   "execution_count": 80,
   "metadata": {},
   "outputs": [],
   "source": [
    "fig.savefig('Long Pi v1b',dpi=1000)"
   ]
  },
  {
   "cell_type": "code",
   "execution_count": 14,
   "metadata": {},
   "outputs": [],
   "source": [
    "data_type = i11 #version A\n",
    "#data_type = s11 #Version B\n",
    "\n",
    "\n",
    "xy=(-0.023, 1.02)\n",
    "lw = 2.0 #slip lines\n",
    "linew = 2.5 #fit lines\n",
    "height = 3\n",
    "width = 1\n",
    "row_extra = 8\n",
    "row_len = (100-row_extra*(height-1))/height\n",
    "col_extra = 0\n",
    "col_len = (100-col_extra*(width-1))/width\n",
    "fig = plt.figure(figsize = (2*1.5*2.42/(col_len/100.),1.5/(row_len/100.)))\n",
    "\n",
    "out = list()\n",
    "for i in range(3):\n",
    "    current = (i/width*(row_extra+row_len),i%width*(col_extra+col_len))\n",
    "    plt.subplot2grid((100,100), current, colspan=col_len, rowspan=row_len)\n",
    "\n",
    "\n",
    "    if i == 0:\n",
    "        n = 17\n",
    "        j = 0\n",
    "        data_type[n].plot()\n",
    "        data_type[n].fits[j].plot_select('b',['k','r'],[linew,linew],-41.35,-31.249)\n",
    "        axes(data_type[n],j,-42.01,-21.37)\n",
    "        plt.annotate('{:.4f} T'.format(data_type[n].b_val), xy, xycoords=\"axes fraction\")\n",
    "        plt.xticks([-40,-30])\n",
    "        \n",
    "        for k in se11[n][np.abs(se11[n][:,2] -  (2-data_type[n].fits[j].delta_phi))<0.01]:\n",
    "            plt.axvline(k[0],color='k',lw=lw)\n",
    "\n",
    "    if i == 1:\n",
    "        n = 19\n",
    "        j = 2\n",
    "        data_type[n].plot()\n",
    "        data_type[n].fits[j].plot_select('b',['k','r'],[linew,linew],-41.98,-31.72)\n",
    "        data_type[n].fits[0].plot_select('b',['k','r'],[linew,linew],-28.17,-17.465)        \n",
    "        axes(data_type[n],j,-42.4,-17.465)\n",
    "        plt.annotate('{:.4f} T'.format(data_type[n].b_val), xy, xycoords=\"axes fraction\")\n",
    "        plt.xticks([-40,-30,-20])\n",
    "        plt.ylabel('$R_D$ $(k\\Omega)$',labelpad=3,size=18)\n",
    "        \n",
    "        for k in se11[n][np.abs(se11[n][:,2] -  (2-data_type[n].fits[j].delta_phi))<0.01]:\n",
    "            plt.axvline(k[0],color='k',lw=lw)\n",
    "        for k in se11[n][np.abs(se11[n][:,2] -  (2-data_type[n].fits[0].delta_phi))<0.01]:\n",
    "            plt.axvline(k[0],color='k',lw=lw)\n",
    "\n",
    "    if i == 2:\n",
    "        n = 21\n",
    "        j = 0\n",
    "        data_type[n].plot()\n",
    "        data_type[n].fits[j].plot_select('b',['k','r'],[linew,linew],-40.68,-30.77)\n",
    "        axes(data_type[n],j,-42.05,-21.52)\n",
    "        plt.annotate('{:.4f} T'.format(data_type[n].b_val), xy, xycoords=\"axes fraction\")\n",
    "        plt.xticks([-40,-30])\n",
    "        plt.xlabel('$V_P$ $(mV)$',labelpad=4,size=18)\n",
    "        \n",
    "        for k in se11[n][np.abs(se11[n][:,2] -  (2-data_type[n].fits[j].delta_phi))<0.01]:\n",
    "            plt.axvline(k[0],color='k',lw=lw)\n",
    "        "
   ]
  },
  {
   "cell_type": "code",
   "execution_count": 134,
   "metadata": {},
   "outputs": [],
   "source": [
    "fig.savefig('Long Pi v2',dpi=1000)"
   ]
  },
  {
   "cell_type": "code",
   "execution_count": 102,
   "metadata": {},
   "outputs": [],
   "source": [
    "data_type[n].fits[j].plot()"
   ]
  },
  {
   "cell_type": "code",
   "execution_count": 12,
   "metadata": {},
   "outputs": [],
   "source": [
    "data_type = i11 #version A\n",
    "#data_type = s11 #Version B\n",
    "\n",
    "\n",
    "\n",
    "lw = 2.0 #slip lines\n",
    "linew = 2.5 #fit lines\n",
    "long_slips = 3\n",
    "height = 8\n",
    "width = 3\n",
    "row_extra = 3\n",
    "row_len = (100-row_extra*(height-1))/height\n",
    "col_extra = 4\n",
    "col_len = (100-col_extra*(width-1))/width\n",
    "fig = plt.figure(figsize = (1.5*2.42/(col_len/100.),1.5/(row_len/100.)))\n",
    "\n",
    "out = list()\n",
    "\n",
    "xy=(-0.008, 1.02)\n",
    "for i in range(3):\n",
    "    current = (i%height*(row_extra+row_len),i/height*(col_extra+col_len))\n",
    "    plt.subplot2grid((100,100), current, colspan=3*col_len+2*col_extra, rowspan=row_len)\n",
    "\n",
    "\n",
    "    if i == 0:\n",
    "        n = 17\n",
    "        j = 0\n",
    "        data_type[n].plot()\n",
    "        data_type[n].fits[j].plot_select('b',['k','r'],[linew,linew],-41.35,-31.249)\n",
    "        axes(data_type[n],j,-42.01,-22.83)\n",
    "        plt.annotate('{:.4f} T'.format(data_type[n].b_val), xy, xycoords=\"axes fraction\")\n",
    "        plt.xticks([-40,-30])\n",
    "        \n",
    "        for k in se11[n][np.abs(se11[n][:,2] -  (2-data_type[n].fits[j].delta_phi))<0.01]:\n",
    "            plt.axvline(k[0],color='k',lw=lw)\n",
    "\n",
    "    if i == 1:\n",
    "        n = 19\n",
    "        j = 2\n",
    "        data_type[n].plot()\n",
    "        data_type[n].fits[j].plot_select('b',['k','r'],[linew,linew],-41.98,-31.72)\n",
    "        data_type[n].fits[0].plot_select('b',['k','r'],[linew,linew],-28.17,-17.465)        \n",
    "        axes(data_type[n],j,-42.4,-17.465)\n",
    "        plt.annotate('{:.4f} T'.format(data_type[n].b_val), xy, xycoords=\"axes fraction\")\n",
    "        plt.xticks([-40,-30,-20])\n",
    "        #plt.ylabel('$R_D$ $(k\\Omega)$',labelpad=3,size=18)\n",
    "        \n",
    "        for k in se11[n][np.abs(se11[n][:,2] -  (2-data_type[n].fits[j].delta_phi))<0.01]:\n",
    "            plt.axvline(k[0],color='k',lw=lw)\n",
    "        for k in se11[n][np.abs(se11[n][:,2] -  (2-data_type[n].fits[0].delta_phi))<0.01]:\n",
    "            plt.axvline(k[0],color='k',lw=lw)\n",
    "\n",
    "    if i == 2:\n",
    "        n = 21\n",
    "        j = 0\n",
    "        data_type[n].plot()\n",
    "        data_type[n].fits[j].plot_select('b',['k','r'],[linew,linew],-40.68,-30.77)\n",
    "        axes(data_type[n],j,-42.05,-22.61)\n",
    "        plt.annotate('{:.4f} T'.format(data_type[n].b_val), xy, xycoords=\"axes fraction\")\n",
    "        plt.xticks([-40,-30])\n",
    "        #plt.xlabel('$V_P$ $(mV)$',labelpad=4,size=18)\n",
    "        \n",
    "        for k in se11[n][np.abs(se11[n][:,2] -  (2-data_type[n].fits[j].delta_phi))<0.01]:\n",
    "            plt.axvline(k[0],color='k',lw=lw)\n",
    "\n",
    "xy=(-0.023, 1.02)\n",
    "for i in range(long_slips*3,len(pi_new)+long_slips*3):\n",
    "    current = (i/width*(row_extra+row_len),i%width*(col_extra+col_len))\n",
    "    hold = list(pi_new[-i+long_slips*3-1])\n",
    "    plotGrid(hold[0],hold[1],current,hold[2],hold[3],hold[4],hold[5],col_len,row_len,xy=xy,lw=lw,linew=linew)\n",
    "    if i == long_slips*3+3:\n",
    "        plt.ylabel('$R_D$ $(k\\Omega)$',labelpad=4,size=18)\n",
    "        ax = plt.gca()\n",
    "        ax.yaxis.set_label_coords(-.17,1.1)\n",
    "    if i == long_slips*3+13:\n",
    "        plt.xlabel('$V_P$ $(mV)$',labelpad=4,size=18)    "
   ]
  },
  {
   "cell_type": "code",
   "execution_count": 172,
   "metadata": {},
   "outputs": [],
   "source": [
    "fig.savefig('Pi v3a',dpi=1000)"
   ]
  },
  {
   "cell_type": "code",
   "execution_count": 13,
   "metadata": {},
   "outputs": [],
   "source": [
    "data_type = i11 #version A\n",
    "#data_type = s11 #Version B\n",
    "\n",
    "\n",
    "\n",
    "lw = 2.0 #slip lines\n",
    "linew = 2.5 #fit lines\n",
    "long_slips = 2\n",
    "height = 7\n",
    "width = 3\n",
    "row_extra = 3\n",
    "row_len = (100-row_extra*(height-1))/height\n",
    "col_extra = 4\n",
    "col_len = (100-col_extra*(width-1))/width\n",
    "fig = plt.figure(figsize = (1.5*2.42/(col_len/100.),1.5/(row_len/100.)))\n",
    "\n",
    "out = list()\n",
    "\n",
    "xy=(-0.008, 1.02)\n",
    "for i in range(long_slips):\n",
    "    current = (i%height*(row_extra+row_len),i/height*(col_extra+col_len))\n",
    "    plt.subplot2grid((100,100), current, colspan=3*col_len+2*col_extra, rowspan=row_len)\n",
    "\n",
    "\n",
    "    #if i == 0:\n",
    "    #    n = 17\n",
    "    #    j = 0\n",
    "    #    data_type[n].plot()\n",
    "    #    data_type[n].fits[j].plot_select('b',['k','r'],[linew,linew],-41.35,-31.249)\n",
    "    #    axes(data_type[n],j,-42.01,-22.83)\n",
    "    #    plt.annotate('{:.4f} T'.format(data_type[n].b_val), xy, xycoords=\"axes fraction\")\n",
    "    #    plt.xticks([-40,-30])\n",
    "    #    \n",
    "    #    for k in se11[n][np.abs(se11[n][:,2] -  (2-data_type[n].fits[j].delta_phi))<0.01]:\n",
    "    #        plt.axvline(k[0],color='k',lw=lw)\n",
    "\n",
    "    if i == 0:\n",
    "        n = 19\n",
    "        j = 2\n",
    "        data_type[n].plot()\n",
    "        data_type[n].fits[j].plot_select('b',['k','r'],[linew,linew],-41.98,-31.72)\n",
    "        data_type[n].fits[0].plot_select('b',['k','r'],[linew,linew],-28.17,-17.465)        \n",
    "        axes(data_type[n],j,-42.4,-17.465)\n",
    "        plt.annotate('{:.4f} T'.format(data_type[n].b_val), xy, xycoords=\"axes fraction\")\n",
    "        plt.xticks([-40,-30,-20])\n",
    "        #plt.ylabel('$R_D$ $(k\\Omega)$',labelpad=3,size=18)\n",
    "        \n",
    "        for k in se11[n][np.abs(se11[n][:,2] -  (2-data_type[n].fits[j].delta_phi))<0.01]:\n",
    "            plt.axvline(k[0],color='k',lw=lw)\n",
    "        for k in se11[n][np.abs(se11[n][:,2] -  (2-data_type[n].fits[0].delta_phi))<0.01]:\n",
    "            plt.axvline(k[0],color='k',lw=lw)\n",
    "\n",
    "    if i == 1:\n",
    "        n = 21\n",
    "        j = 0\n",
    "        data_type[n].plot()\n",
    "        data_type[n].fits[j].plot_select('b',['k','r'],[linew,linew],-40.68,-30.77)\n",
    "        axes(data_type[n],j,-42.05,-22.61)\n",
    "        plt.annotate('{:.4f} T'.format(data_type[n].b_val), xy, xycoords=\"axes fraction\")\n",
    "        plt.xticks([-40,-30])\n",
    "        #plt.xlabel('$V_P$ $(mV)$',labelpad=4,size=18)\n",
    "        \n",
    "        for k in se11[n][np.abs(se11[n][:,2] -  (2-data_type[n].fits[j].delta_phi))<0.01]:\n",
    "            plt.axvline(k[0],color='k',lw=lw)\n",
    "\n",
    "xy=(-0.023, 1.02)\n",
    "for i in range(long_slips*3,len(pi_new)+long_slips*3):\n",
    "    current = (i/width*(row_extra+row_len),i%width*(col_extra+col_len))\n",
    "    hold = list(pi_new[-i+long_slips*3-1])\n",
    "    plotGrid(hold[0],hold[1],current,hold[2],hold[3],hold[4],hold[5],col_len,row_len,xy=xy,lw=lw,linew=linew)\n",
    "    if i == long_slips*3+3:\n",
    "        plt.ylabel('$R_D$ $(k\\Omega)$',labelpad=4,size=18)\n",
    "        ax = plt.gca()\n",
    "        ax.yaxis.set_label_coords(-.17,1.1)\n",
    "    if i == long_slips*3+13:\n",
    "        plt.xlabel('$V_P$ $(mV)$',labelpad=4,size=18)    "
   ]
  },
  {
   "cell_type": "code",
   "execution_count": 175,
   "metadata": {},
   "outputs": [],
   "source": [
    "fig.savefig('Pi v3b',dpi=1000)"
   ]
  },
  {
   "cell_type": "code",
   "execution_count": 205,
   "metadata": {},
   "outputs": [],
   "source": [
    "data_type = i11 #version A\n",
    "#data_type = s11 #Version B\n",
    "\n",
    "\n",
    "\n",
    "lw = 2.0 #slip lines\n",
    "linew = 2.5 #fit lines\n",
    "long_slips = 2\n",
    "height = 7\n",
    "width = 3\n",
    "row_extra = 3\n",
    "row_len = (100-row_extra*(height-1))/height\n",
    "col_extra = 4\n",
    "col_len = (100-col_extra*(width-1))/width\n",
    "fig = plt.figure(figsize = (1.5*2.42/(col_len/100.),1.5/(row_len/100.)))\n",
    "\n",
    "out = list()\n",
    "\n",
    "xy=(-0.008, 1.02)\n",
    "for i in range(long_slips):\n",
    "    current = (i%height*(row_extra+row_len),i/height*(col_extra+col_len))\n",
    "    plt.subplot2grid((100,100), current, colspan=3*col_len+2*col_extra, rowspan=row_len)\n",
    "\n",
    "\n",
    "    #if i == 0:\n",
    "    #    n = 17\n",
    "    #    j = 0\n",
    "    #    data_type[n].plot()\n",
    "    #    data_type[n].fits[j].plot_select('b',['k','r'],[linew,linew],-41.35,-31.249)\n",
    "    #    axes(data_type[n],j,-42.01,-22.83)\n",
    "    #    plt.annotate('{:.4f} T'.format(data_type[n].b_val), xy, xycoords=\"axes fraction\")\n",
    "    #    plt.xticks([-40,-30])\n",
    "    #    out.append(newSE_count(hold[0],hold[1],hold[2][hold[3]][0],hold[2][hold[3]][1]))\n",
    "    #    for k in se11[n][np.abs(se11[n][:,2] -  (2-data_type[n].fits[j].delta_phi))<0.01]:\n",
    "    #        plt.axvline(k[0],color='k',lw=lw)\n",
    "\n",
    "    if i == 0:\n",
    "        n = 19\n",
    "        j = 2\n",
    "        data_type[n].plot()\n",
    "        data_type[n].fits[j].plot_select('b',['k','r'],[linew,linew],-41.98,-31.72)       \n",
    "        axes(data_type[n],j,-42.4,-24.8)\n",
    "        plt.annotate('{:.4f} T'.format(data_type[n].b_val), xy, xycoords=\"axes fraction\")\n",
    "        plt.xticks([-40,-30])\n",
    "        #plt.ylabel('$R_D$ $(k\\Omega)$',labelpad=3,size=18)\n",
    "        out.append(newSE_count(run11,se11,n,j))\n",
    "        for k in se11[n][np.abs(se11[n][:,2] -  (2-data_type[n].fits[j].delta_phi))<0.01]:\n",
    "            plt.axvline(k[0],color='k',lw=lw)\n",
    "\n",
    "\n",
    "    if i == 1:\n",
    "        n = 21\n",
    "        j = 0\n",
    "        data_type[n].plot()\n",
    "        data_type[n].fits[j].plot_select('b',['k','r'],[linew,linew],-40.68,-30.77)\n",
    "        axes(data_type[n],j,-42.05,-22.61)\n",
    "        plt.annotate('{:.4f} T'.format(data_type[n].b_val), xy, xycoords=\"axes fraction\")\n",
    "        plt.xticks([-40,-30])\n",
    "        #plt.xlabel('$V_P$ $(mV)$',labelpad=4,size=18)\n",
    "        out.append(newSE_count(run11,se11,n,j))\n",
    "        for k in se11[n][np.abs(se11[n][:,2] -  (2-data_type[n].fits[j].delta_phi))<0.01]:\n",
    "            plt.axvline(k[0],color='k',lw=lw)\n",
    "\n",
    "xy=(-0.023, 1.02)\n",
    "for i in range(long_slips*3,len(pi_new)+long_slips*3):\n",
    "    current = (i/width*(row_extra+row_len),i%width*(col_extra+col_len))\n",
    "    hold = list(pi_new[-i+long_slips*3-1])\n",
    "    plotGrid(hold[0],hold[1],current,hold[2],hold[3],hold[4],hold[5],col_len,row_len,xy=xy,lw=lw,linew=linew)\n",
    "    out.append(newSE_count(hold[0],hold[1],hold[2][hold[3]][0],hold[2][hold[3]][1]))\n",
    "    if i == long_slips*3+3:\n",
    "        plt.ylabel('$R_D$ $(k\\Omega)$',labelpad=4,size=18)\n",
    "        ax = plt.gca()\n",
    "        ax.yaxis.set_label_coords(-.17,1.1)\n",
    "    if i == long_slips*3+13:\n",
    "        plt.xlabel('$V_P$ $(mV)$',labelpad=4,size=18)    "
   ]
  },
  {
   "cell_type": "code",
   "execution_count": 184,
   "metadata": {},
   "outputs": [],
   "source": [
    "fig.savefig('Pi v3c',dpi=1000)"
   ]
  },
  {
   "cell_type": "code",
   "execution_count": 206,
   "metadata": {},
   "outputs": [
    {
     "data": {
      "text/plain": [
       "[[array([-35.38952   ,   5.5265    ,   0.96946642,   0.95348837])],\n",
       " [array([-34.89967   ,   5.5255    ,   0.90145079,   0.92      ])],\n",
       " [array([-15.1785    ,   5.5815    ,   0.89620572,   1.        ])],\n",
       " [array([-14.168     ,   5.581     ,   0.99735913,   1.        ])],\n",
       " [array([-13.838535 ,   5.58     ,   1.0219144,   1.       ])],\n",
       " [array([-20.059545  ,   5.5355    ,   1.15402782,   0.47787611])],\n",
       " [array([-35.49629   ,   5.5345    ,   0.94090891,   0.84615385]),\n",
       "  array([-33.935365  ,   5.5345    ,   0.94090891,   0.84615385]),\n",
       "  array([-33.72232   ,   5.5345    ,   0.94090891,   0.84615385])],\n",
       " [array([-41.42871   ,   5.534     ,   0.9524676 ,   0.85202864]),\n",
       "  array([-41.257855  ,   5.534     ,   0.9524676 ,   0.85202864]),\n",
       "  array([-36.534725  ,   5.534     ,   0.9524676 ,   0.85202864]),\n",
       "  array([-36.01296   ,   5.534     ,   0.9524676 ,   0.85202864]),\n",
       "  array([-35.657465  ,   5.534     ,   0.9524676 ,   0.85202864])],\n",
       " [array([-35.21645   ,   5.5335    ,   0.98255864,   0.85204991])],\n",
       " [array([-35.672935  ,   5.533     ,   1.0434522 ,   0.91071429]),\n",
       "  array([-31.94816   ,   5.533     ,   1.0434522 ,   0.91071429]),\n",
       "  array([-31.542765  ,   5.533     ,   1.0434522 ,   0.91071429])],\n",
       " [array([-34.666045  ,   5.5325    ,   0.90381885,   0.93540052]),\n",
       "  array([-34.49799   ,   5.5325    ,   0.90381885,   0.93540052]),\n",
       "  array([-33.65      ,   5.5325    ,   0.90381885,   0.93540052])],\n",
       " [array([-34.804065  ,   5.532     ,   0.90299721,   0.90184049]),\n",
       "  array([-34.059005  ,   5.532     ,   0.90299721,   0.90184049]),\n",
       "  array([-33.463285  ,   5.532     ,   0.90299721,   0.90184049])],\n",
       " [array([-34.91161   ,   5.5315    ,   0.89867025,   0.89195402]),\n",
       "  array([-34.708945  ,   5.5315    ,   0.89867025,   0.89195402]),\n",
       "  array([-33.97106   ,   5.5315    ,   0.89867025,   0.89195402])],\n",
       " [array([-33.968275  ,   5.529     ,   0.89275068,   0.91603053])],\n",
       " [array([-34.073705  ,   5.5285    ,   0.99572698,   0.90948276])],\n",
       " [array([-34.9435    ,   5.528     ,   0.90209203,   0.95738636])],\n",
       " [array([-35.333515  ,   5.5275    ,   0.94678747,   0.94791667]),\n",
       "  array([-34.41847   ,   5.5275    ,   0.94678747,   0.94791667]),\n",
       "  array([-34.15476   ,   5.5275    ,   0.94678747,   0.94791667])]]"
      ]
     },
     "execution_count": 206,
     "metadata": {},
     "output_type": "execute_result"
    }
   ],
   "source": [
    "out"
   ]
  },
  {
   "cell_type": "code",
   "execution_count": 208,
   "metadata": {},
   "outputs": [],
   "source": [
    "np.save('Pruned 1 Fig 3_12_2019', out)"
   ]
  },
  {
   "cell_type": "code",
   "execution_count": 55,
   "metadata": {},
   "outputs": [],
   "source": [
    "lw = 1.6 #slip lines\n",
    "linew = 2.5 #fit lines\n",
    "xy=(-0.023, 1.02)\n",
    "height = 4\n",
    "width = 3\n",
    "row_extra = 4\n",
    "row_len = (100-row_extra*(height-1))/height\n",
    "col_extra = 4\n",
    "col_len = (100-col_extra*(width-1))/width\n",
    "fig = plt.figure(figsize = (1.5*2.42/(col_len/100.),1.5/(row_len/100.)))\n",
    "out = list()\n",
    "for i in range(len(pi_sup)-1):\n",
    "    current = (i/width*(row_extra+row_len),i%width*(col_extra+col_len))\n",
    "    hold = list(pi_sup[-i-2])\n",
    "    plotGrid(hold[0],hold[1],current,hold[2],hold[3],hold[4],hold[5],col_len,row_len,xy=xy,lw=lw,linew=linew)\n",
    "    out.append(newSE_count(hold[0],hold[1],hold[2][hold[3]][0],hold[2][hold[3]][1]))\n",
    "    if i == 6:\n",
    "        plt.ylabel('$R_D$ $(k\\Omega)$',labelpad=4,size=18)\n",
    "        ax = plt.gca()\n",
    "        ax.yaxis.set_label_coords(-.17,1.1)\n",
    "    if i == 10:\n",
    "        plt.xlabel('$V_P$ $(mV)$',labelpad=4,size=18)\n",
    "      "
   ]
  },
  {
   "cell_type": "code",
   "execution_count": 223,
   "metadata": {},
   "outputs": [],
   "source": [
    "fig.savefig('Supplemental Pi v2',dpi=1000)"
   ]
  },
  {
   "cell_type": "code",
   "execution_count": 225,
   "metadata": {},
   "outputs": [
    {
     "data": {
      "text/plain": [
       "[[array([-14.4746    ,   5.5825    ,   1.02110047,   1.        ]),\n",
       "  array([-7.651     ,  5.5825    ,  1.02110047,  1.        ]),\n",
       "  array([-7.43      ,  5.5825    ,  1.02110047,  1.        ])],\n",
       " [array([-14.2383    ,   5.582     ,   0.99611736,   1.        ])],\n",
       " [array([-13.8221   ,   5.5805   ,   0.9816624,   1.       ])],\n",
       " [array([-13.9362    ,   5.5795    ,   0.95692798,   1.        ])],\n",
       " [array([-13.7099    ,   5.579     ,   0.94285897,   1.        ])],\n",
       " [array([-15.348325  ,   5.578     ,   0.91429435,   1.        ]),\n",
       "  array([-14.955145  ,   5.578     ,   0.91429435,   1.        ]),\n",
       "  array([-12.94725   ,   5.578     ,   0.91429435,   1.        ])],\n",
       " [array([-21.7499    ,   5.578     ,   0.94609601,   1.        ])],\n",
       " [array([-35.588805  ,   5.535     ,   0.94226665,   0.83892617])],\n",
       " [array([-35.00868   ,   5.5305    ,   0.91014898,   0.89013453]),\n",
       "  array([-34.85053   ,   5.5305    ,   0.91014898,   0.89013453]),\n",
       "  array([-33.961335  ,   5.5305    ,   0.91014898,   0.89013453]),\n",
       "  array([-33.723595  ,   5.5305    ,   0.91014898,   0.89013453]),\n",
       "  array([-33.550765  ,   5.5305    ,   0.91014898,   0.89013453]),\n",
       "  array([-32.311505  ,   5.5305    ,   0.91014898,   0.89013453]),\n",
       "  array([-31.948505  ,   5.5305    ,   0.91014898,   0.89013453])],\n",
       " [array([-35.9441    ,   5.53      ,   0.95087474,   0.8913738 ])],\n",
       " [array([-35.38952   ,   5.5265    ,   0.96946642,   0.95348837])],\n",
       " [array([-34.89967   ,   5.5255    ,   0.90145079,   0.92      ])]]"
      ]
     },
     "execution_count": 225,
     "metadata": {},
     "output_type": "execute_result"
    }
   ],
   "source": [
    "out"
   ]
  },
  {
   "cell_type": "code",
   "execution_count": 226,
   "metadata": {},
   "outputs": [],
   "source": [
    "np.save('Pruned 1 Sup 3_12_2019', out)"
   ]
  },
  {
   "cell_type": "code",
   "execution_count": 231,
   "metadata": {},
   "outputs": [
    {
     "data": {
      "text/plain": [
       "6"
      ]
     },
     "execution_count": 231,
     "metadata": {},
     "output_type": "execute_result"
    }
   ],
   "source": [
    "run14.bvals.index(5.5815)"
   ]
  },
  {
   "cell_type": "code",
   "execution_count": 232,
   "metadata": {},
   "outputs": [
    {
     "data": {
      "text/plain": [
       "array([[-15.1785    ,   5.5815    ,   0.89620572,   1.        ]])"
      ]
     },
     "execution_count": 232,
     "metadata": {},
     "output_type": "execute_result"
    }
   ],
   "source": [
    "se14[6]"
   ]
  },
  {
   "cell_type": "code",
   "execution_count": 239,
   "metadata": {},
   "outputs": [
    {
     "data": {
      "text/plain": [
       "0.89620572379399155"
      ]
     },
     "execution_count": 239,
     "metadata": {},
     "output_type": "execute_result"
    }
   ],
   "source": [
    "(i14[6].fits[0].phase_r-i14[6].fits[0].phase_l)/(np.pi)%2"
   ]
  },
  {
   "cell_type": "code",
   "execution_count": 14,
   "metadata": {},
   "outputs": [],
   "source": [
    "pi_new = list()\n",
    "\n",
    "pi_bounds = list(pi_11_bounds)\n",
    "pi_bounds.extend(pi_14_bounds)\n",
    "pi_bounds = np.array(pi_bounds)\n",
    "\n",
    "\n",
    "for j in [15,14,13,12,11,8,7,6,5,4,3,2,23,21,20]:\n",
    "    pi_new.append(pi_bounds[j])\n",
    "\n",
    "pi_new[0][-2],pi_sup[0][-1] = -42.3122, -30.0638\n",
    "pi_new[1][-2],pi_new[1][-1] = -42.01,-29.714\n",
    "pi_new[2][-2],pi_new[2][-1] = -43.739,-30.7454\n",
    "pi_new[3][-2],pi_new[3][-1] = -45.9674,-30.1864\n",
    "pi_new[4][-2],pi_new[4][-1] = -42.0237, -29.9358\n",
    "pi_new[5][-2],pi_new[5][-1] = -41.2647, -29.5113\n",
    "pi_new[6][-2],pi_new[6][-1] = -40.6632, -28.4236\n",
    "pi_new[7][-2],pi_new[7][-1] = -40, -29.8989\n",
    "pi_new[8][-2],pi_new[8][-1] = -45.3157, -29.8903\n",
    "pi_new[9][-2],pi_new[9][-1] = -43.3091, -30.3461\n",
    "pi_new[10][-2],pi_new[10][-1] = -42.7017, -31.0218\n",
    "pi_new[11][-2],pi_new[11][-1] = -41.9687, -29.6581\n",
    "pi_new[12][-2],pi_new[12][-1] = -19.7687, -7.3317\n",
    "pi_new[13][-2],pi_new[13][-1] = -21.0172, -9.7475\n",
    "pi_new[14][-2],pi_new[14][-1] = -17.1242, -5.575"
   ]
  },
  {
   "cell_type": "code",
   "execution_count": 15,
   "metadata": {},
   "outputs": [],
   "source": [
    "pi_sup = list()\n",
    "\n",
    "pi_bounds = list(pi_11_bounds)\n",
    "pi_bounds.extend(pi_14_bounds)\n",
    "pi_bounds = np.array(pi_bounds)\n",
    "\n",
    "\n",
    "for j in [16,10,9,1,27,26,25,24,22,19,18,17]:\n",
    "    pi_sup.append(pi_bounds[j])\n",
    "\n",
    "\n",
    "pi_sup[0][-2],pi_sup[0][-1] = -42.9495,-30.1496\n",
    "\n",
    "pi_sup[1][-2],pi_sup[1][-1] = -46.7153, -30.7536\n",
    "pi_sup[2][-2],pi_sup[2][-1] = -43.7484, -29.2676\n",
    "pi_sup[3][-2],pi_sup[3][-1] = -38.8846, -29.3708\n",
    "pi_sup[4][-2],pi_sup[4][-1] = -27.4837, -17.0424\n",
    "pi_sup[5][-2],pi_sup[5][-1] = -19.7555, -7.7148\n",
    "pi_sup[6][-2],pi_sup[6][-1] = -20.5392, -8.4924\n",
    "pi_sup[7][-2],pi_sup[7][-1] = -20.2131, -8.3886\n",
    "pi_sup[8][-2],pi_sup[8][-1] = -15.3165, -7.1523\n",
    "pi_sup[9][-2],pi_sup[9][-1] = -20.9327, -12.2644\n",
    "pi_sup[10][-2],pi_sup[10][-1] = -20.6114, -7.0573\n",
    "pi_sup[11][-2],pi_sup[11][-1] = -19.4212, -8.5128\n",
    "#pi_sup[13][-2],pi_sup[13][-1] = \n",
    "#pi_sup[14][-2],pi_sup[14][-1] = "
   ]
  },
  {
   "cell_type": "code",
   "execution_count": 27,
   "metadata": {},
   "outputs": [],
   "source": [
    "#This is stupid but I'm commited to the dumb list\n",
    "\n",
    "pi = list()\n",
    "pi.append(pi_sup[0])\n",
    "pi.extend(pi_new[0:5])\n",
    "pi.extend(pi_sup[1:3])\n",
    "pi.extend(pi_new[5:12])\n",
    "pi.extend(pi_sup[3:8])\n",
    "pi.append(pi_new[-3])\n",
    "pi.append(pi_sup[8])\n",
    "pi.extend(pi_new[-2:])\n",
    "pi.extend(pi_sup[-3:])\n",
    "\n",
    "pi = pi[::-1]\n"
   ]
  },
  {
   "cell_type": "code",
   "execution_count": 28,
   "metadata": {},
   "outputs": [],
   "source": [
    "lw = 1.6 #slip lines\n",
    "linew = 2.5 #fit lines\n",
    "xy=(-0.023, 1.02)\n",
    "height = 4\n",
    "width = 2\n",
    "row_extra = 6\n",
    "row_len = (100-row_extra*(height-1))/height\n",
    "col_extra = 6\n",
    "col_len = (100-col_extra*(width-1))/width\n",
    "fig = plt.figure(figsize = (1.5*2.42/(col_len/100.),1.5/(row_len/100.)))\n",
    "\n",
    "for i in range(8):\n",
    "    current = (i/width*(row_extra+row_len),i%width*(col_extra+col_len))\n",
    "    hold = list(pi[i])\n",
    "    plotGrid(hold[0],hold[1],current,hold[2],hold[3],hold[4],hold[5],col_len,row_len,xy=xy,lw=lw,linew=linew)\n",
    "    if i == 4:\n",
    "        plt.ylabel('$R_D$ $(k\\Omega)$',labelpad=4,size=18)\n",
    "        ax = plt.gca()\n",
    "        ax.yaxis.set_label_coords(-.17,1.1)\n",
    "    if i == 6:\n",
    "        plt.xlabel('$V_P$ $(mV)$',labelpad=4,size=18)\n",
    "        ax = plt.gca()\n",
    "        ax.xaxis.set_label_coords(1.05,-0.23)"
   ]
  },
  {
   "cell_type": "code",
   "execution_count": 19,
   "metadata": {},
   "outputs": [],
   "source": [
    "lw = 1.6 #slip lines\n",
    "linew = 2.5 #fit lines\n",
    "xy=(-0.023, 1.02)\n",
    "height = 4\n",
    "width = 2\n",
    "row_extra = 6\n",
    "row_len = (100-row_extra*(height-1))/height\n",
    "col_extra = 6\n",
    "col_len = (100-col_extra*(width-1))/width\n",
    "fig = plt.figure(figsize = (1.5*2.42/(col_len/100.),1.5/(row_len/100.)))\n",
    "\n",
    "for i in range(8):\n",
    "    current = (i/width*(row_extra+row_len),i%width*(col_extra+col_len))\n",
    "    hold = list(pi_new[-i-1])\n",
    "    plotGrid(hold[0],hold[1],current,hold[2],hold[3],hold[4],hold[5],col_len,row_len,xy=xy,lw=lw,linew=linew)\n",
    "    if i == 4:\n",
    "        plt.ylabel('$R_D$ $(k\\Omega)$',labelpad=4,size=18)\n",
    "        ax = plt.gca()\n",
    "        ax.yaxis.set_label_coords(-.17,1.1)\n",
    "    if i == 6:\n",
    "        plt.xlabel('$V_P$ $(mV)$',labelpad=4,size=18)\n",
    "        ax = plt.gca()\n",
    "        ax.xaxis.set_label_coords(1.05,-0.23)"
   ]
  },
  {
   "cell_type": "code",
   "execution_count": 20,
   "metadata": {},
   "outputs": [],
   "source": [
    "fig.savefig('52_1')"
   ]
  },
  {
   "cell_type": "code",
   "execution_count": 22,
   "metadata": {},
   "outputs": [],
   "source": [
    "lw = 1.6 #slip lines\n",
    "linew = 2.5 #fit lines\n",
    "xy=(-0.023, 1.02)\n",
    "height = 4\n",
    "width = 2\n",
    "row_extra = 6\n",
    "row_len = (100-row_extra*(height-1))/height\n",
    "col_extra = 6\n",
    "col_len = (100-col_extra*(width-1))/width\n",
    "fig = plt.figure(figsize = (1.5*2.42/(col_len/100.),1.5/(row_len/100.)))\n",
    "\n",
    "for i in range(7):\n",
    "    current = (i/width*(row_extra+row_len),i%width*(col_extra+col_len))\n",
    "    hold = list(pi_new[-i-8])\n",
    "    plotGrid(hold[0],hold[1],current,hold[2],hold[3],hold[4],hold[5],col_len,row_len,xy=xy,lw=lw,linew=linew)\n",
    "    if i == 4:\n",
    "        plt.ylabel('$R_D$ $(k\\Omega)$',labelpad=4,size=18)\n",
    "        ax = plt.gca()\n",
    "        ax.yaxis.set_label_coords(-.17,1.1)\n",
    "    if i == 6:\n",
    "        plt.xlabel('$V_P$ $(mV)$',labelpad=4,size=18)\n",
    "        ax = plt.gca()\n",
    "        ax.xaxis.set_label_coords(1.05,-0.23)"
   ]
  },
  {
   "cell_type": "code",
   "execution_count": 35,
   "metadata": {},
   "outputs": [],
   "source": [
    "fig.savefig('52_2')"
   ]
  },
  {
   "cell_type": "code",
   "execution_count": 43,
   "metadata": {},
   "outputs": [],
   "source": [
    "lw = 1.6 #slip lines\n",
    "linew = 2.5 #fit lines\n",
    "xy=(-0.023, 1.02)\n",
    "height = 4\n",
    "width = 2\n",
    "row_extra = 6\n",
    "row_len = (100-row_extra*(height-1))/height\n",
    "col_extra = 6\n",
    "col_len = (100-col_extra*(width-1))/width\n",
    "fig = plt.figure(figsize = (1.5*2.42/(col_len/100.),1.5/(row_len/100.)))\n",
    "out = list()\n",
    "for i in range(8):\n",
    "    current = (i/width*(row_extra+row_len),i%width*(col_extra+col_len))\n",
    "    hold = list(pi_sup[-i-2])\n",
    "    plotGrid(hold[0],hold[1],current,hold[2],hold[3],hold[4],hold[5],col_len,row_len,xy=xy,lw=lw,linew=linew)\n",
    "    out.append(newSE_count(hold[0],hold[1],hold[2][hold[3]][0],hold[2][hold[3]][1]))\n",
    "    if i == 4:\n",
    "        plt.ylabel('$R_D$ $(k\\Omega)$',labelpad=4,size=18)\n",
    "        ax = plt.gca()\n",
    "        ax.yaxis.set_label_coords(-.17,1.1)\n",
    "    if i == 6:\n",
    "        plt.xlabel('$V_P$ $(mV)$',labelpad=4,size=18)\n",
    "        ax = plt.gca()\n",
    "        ax.xaxis.set_label_coords(1.05,-0.23)\n",
    "      "
   ]
  },
  {
   "cell_type": "code",
   "execution_count": 44,
   "metadata": {},
   "outputs": [],
   "source": [
    "fig.savefig('52_3')"
   ]
  },
  {
   "cell_type": "code",
   "execution_count": 52,
   "metadata": {},
   "outputs": [],
   "source": [
    "lw = 1.6 #slip lines\n",
    "linew = 2.5 #fit lines\n",
    "xy=(-0.023, 1.02)\n",
    "height = 2\n",
    "width = 2\n",
    "bot = 5\n",
    "row_extra = 12\n",
    "row_len = (100-row_extra*(height-1)-bot)/height\n",
    "col_extra = 6\n",
    "col_len = (100-col_extra*(width-1))/width\n",
    "fig = plt.figure(figsize = (1.5*2.42/(col_len/100.),1.5/(row_len/100.)))\n",
    "out = list()\n",
    "for i in range(4):\n",
    "    current = (i/width*(row_extra+row_len),i%width*(col_extra+col_len))\n",
    "    hold = list(pi_sup[-i-10])\n",
    "    plotGrid(hold[0],hold[1],current,hold[2],hold[3],hold[4],hold[5],col_len,row_len,xy=xy,lw=lw,linew=linew)\n",
    "    out.append(newSE_count(hold[0],hold[1],hold[2][hold[3]][0],hold[2][hold[3]][1]))\n",
    "    if i == 2:\n",
    "        plt.ylabel('$R_D$ $(k\\Omega)$',labelpad=4,size=18)\n",
    "        ax = plt.gca()\n",
    "        ax.yaxis.set_label_coords(-.17,1.1)\n",
    "    if i == 2:\n",
    "        plt.xlabel('$V_P$ $(mV)$',labelpad=4,size=18)\n",
    "        ax = plt.gca()\n",
    "        ax.xaxis.set_label_coords(1.05,-0.23)\n",
    "      "
   ]
  },
  {
   "cell_type": "code",
   "execution_count": 53,
   "metadata": {},
   "outputs": [],
   "source": [
    "fig.savefig('52_4')"
   ]
  },
  {
   "cell_type": "code",
   "execution_count": 54,
   "metadata": {},
   "outputs": [],
   "source": [
    "lw = 1.6 #slip lines\n",
    "linew = 2.5 #fit lines\n",
    "xy=(-0.023, 1.02)\n",
    "height = 4\n",
    "width = 2\n",
    "row_extra = 6\n",
    "row_len = (100-row_extra*(height-1))/height\n",
    "col_extra = 6\n",
    "col_len = (100-col_extra*(width-1))/width\n",
    "fig = plt.figure(figsize = (1.5*2.42/(col_len/100.),1.5/(row_len/100.)))\n",
    "\n",
    "for i in range(8):\n",
    "    current = (i/width*(row_extra+row_len),i%width*(col_extra+col_len))\n",
    "    hold = list(pi[i])\n",
    "    plotGrid(hold[0],hold[1],current,hold[2],hold[3],hold[4],hold[5],col_len,row_len,xy=xy,lw=lw,linew=linew)\n",
    "    if i == 4:\n",
    "        plt.ylabel('$R_D(k\\Omega)$',labelpad=4,size=18)\n",
    "        ax = plt.gca()\n",
    "        ax.yaxis.set_label_coords(-.17,1.1)\n",
    "    if i == 6:\n",
    "        plt.xlabel('$V_P(mV)$',labelpad=4,size=18)\n",
    "        ax = plt.gca()\n",
    "        ax.xaxis.set_label_coords(1.05,-0.23)"
   ]
  },
  {
   "cell_type": "code",
   "execution_count": 55,
   "metadata": {},
   "outputs": [],
   "source": [
    "fig.savefig('52_1')"
   ]
  },
  {
   "cell_type": "code",
   "execution_count": 56,
   "metadata": {},
   "outputs": [],
   "source": [
    "lw = 1.6 #slip lines\n",
    "linew = 2.5 #fit lines\n",
    "xy=(-0.023, 1.02)\n",
    "height = 4\n",
    "width = 2\n",
    "row_extra = 6\n",
    "row_len = (100-row_extra*(height-1))/height\n",
    "col_extra = 6\n",
    "col_len = (100-col_extra*(width-1))/width\n",
    "fig = plt.figure(figsize = (1.5*2.42/(col_len/100.),1.5/(row_len/100.)))\n",
    "\n",
    "for i in range(8):\n",
    "    current = (i/width*(row_extra+row_len),i%width*(col_extra+col_len))\n",
    "    hold = list(pi[i+8])\n",
    "    plotGrid(hold[0],hold[1],current,hold[2],hold[3],hold[4],hold[5],col_len,row_len,xy=xy,lw=lw,linew=linew)\n",
    "    if i == 4:\n",
    "        plt.ylabel('$R_D(k\\Omega)$',labelpad=4,size=18)\n",
    "        ax = plt.gca()\n",
    "        ax.yaxis.set_label_coords(-.17,1.1)\n",
    "    if i == 6:\n",
    "        plt.xlabel('$V_P(mV)$',labelpad=4,size=18)\n",
    "        ax = plt.gca()\n",
    "        ax.xaxis.set_label_coords(1.05,-0.23)"
   ]
  },
  {
   "cell_type": "code",
   "execution_count": 57,
   "metadata": {},
   "outputs": [],
   "source": [
    "fig.savefig('52_2')"
   ]
  },
  {
   "cell_type": "code",
   "execution_count": 58,
   "metadata": {},
   "outputs": [],
   "source": [
    "lw = 1.6 #slip lines\n",
    "linew = 2.5 #fit lines\n",
    "xy=(-0.023, 1.02)\n",
    "height = 4\n",
    "width = 2\n",
    "row_extra = 6\n",
    "row_len = (100-row_extra*(height-1))/height\n",
    "col_extra = 6\n",
    "col_len = (100-col_extra*(width-1))/width\n",
    "fig = plt.figure(figsize = (1.5*2.42/(col_len/100.),1.5/(row_len/100.)))\n",
    "\n",
    "for i in range(8):\n",
    "    current = (i/width*(row_extra+row_len),i%width*(col_extra+col_len))\n",
    "    hold = list(pi[i+8+8])\n",
    "    plotGrid(hold[0],hold[1],current,hold[2],hold[3],hold[4],hold[5],col_len,row_len,xy=xy,lw=lw,linew=linew)\n",
    "    if i == 4:\n",
    "        plt.ylabel('$R_D(k\\Omega)$',labelpad=4,size=18)\n",
    "        ax = plt.gca()\n",
    "        ax.yaxis.set_label_coords(-.17,1.1)\n",
    "    if i == 6:\n",
    "        plt.xlabel('$V_P(mV)$',labelpad=4,size=18)\n",
    "        ax = plt.gca()\n",
    "        ax.xaxis.set_label_coords(1.05,-0.23)"
   ]
  },
  {
   "cell_type": "code",
   "execution_count": 59,
   "metadata": {},
   "outputs": [],
   "source": [
    "fig.savefig('52_3')"
   ]
  },
  {
   "cell_type": "code",
   "execution_count": 60,
   "metadata": {},
   "outputs": [],
   "source": [
    "lw = 1.6 #slip lines\n",
    "linew = 2.5 #fit lines\n",
    "xy=(-0.023, 1.02)\n",
    "height = 2\n",
    "width = 2\n",
    "row_extra = 13\n",
    "bot = 5\n",
    "row_len = (100-row_extra*(height-1)-bot)/height\n",
    "col_extra = 6\n",
    "col_len = (100-col_extra*(width-1))/width\n",
    "fig = plt.figure(figsize = (1.5*2.42/(col_len/100.),1.5/(row_len/100.)))\n",
    "\n",
    "for i in range(3):\n",
    "    current = (i/width*(row_extra+row_len),i%width*(col_extra+col_len))\n",
    "    if i == 2:\n",
    "        current = (i/width*(row_extra+row_len),i%width*(col_extra+col_len)+int((col_extra+col_len)/2))\n",
    "    hold = list(pi[i+8+8+8])\n",
    "    plotGrid(hold[0],hold[1],current,hold[2],hold[3],hold[4],hold[5],col_len,row_len,xy=xy,lw=lw,linew=linew)\n",
    "    if i == 2:\n",
    "        plt.ylabel('$R_D(k\\Omega)$',labelpad=4,size=18)\n",
    "        ax = plt.gca()\n",
    "        ax.yaxis.set_label_coords(-.72,1.1)\n",
    "    if i == 2:\n",
    "        plt.xlabel('$V_P(mV)$',labelpad=4,size=18)\n",
    "        #ax = plt.gca()\n",
    "        #ax.xaxis.set_label_coords(1.05,-0.23)"
   ]
  },
  {
   "cell_type": "code",
   "execution_count": 61,
   "metadata": {},
   "outputs": [],
   "source": [
    "fig.savefig('52_4')"
   ]
  },
  {
   "cell_type": "code",
   "execution_count": null,
   "metadata": {},
   "outputs": [],
   "source": []
  }
 ],
 "metadata": {
  "kernelspec": {
   "display_name": "Python 2",
   "language": "python",
   "name": "python2"
  },
  "language_info": {
   "codemirror_mode": {
    "name": "ipython",
    "version": 2
   },
   "file_extension": ".py",
   "mimetype": "text/x-python",
   "name": "python",
   "nbconvert_exporter": "python",
   "pygments_lexer": "ipython2",
   "version": "2.7.10"
  }
 },
 "nbformat": 4,
 "nbformat_minor": 2
}
