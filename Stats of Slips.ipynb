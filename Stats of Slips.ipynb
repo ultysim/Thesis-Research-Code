{
 "cells": [
  {
   "cell_type": "code",
   "execution_count": 1,
   "metadata": {},
   "outputs": [],
   "source": [
    "import Analysis\n",
    "import numpy as np\n",
    "import matplotlib as mpl\n",
    "from matplotlib import pyplot as plt\n",
    "from matplotlib.gridspec import GridSpec\n",
    "import regression_cv as rcv\n",
    "from collections import Counter\n",
    "import FitRoutine2 as fr"
   ]
  },
  {
   "cell_type": "code",
   "execution_count": 64,
   "metadata": {},
   "outputs": [
    {
     "name": "stdout",
     "output_type": "stream",
     "text": [
      "Using matplotlib backend: TkAgg\n"
     ]
    }
   ],
   "source": [
    "%matplotlib"
   ]
  },
  {
   "cell_type": "code",
   "execution_count": 2,
   "metadata": {},
   "outputs": [],
   "source": [
    "run14 = Analysis.Run(np.load('2014_Raw.npy'), np.load('2014_Prune_new.npy'), Analysis.bval2011, np.load('2014bf_new_prune_edit.npy'))\n",
    "run11 = Analysis.Run(np.load('2011_Raw.npy'), np.load('2011_Prune_new_flat.npy'), Analysis.bval2011, np.load('2011bf_new_prune_flat_edit.npy'))\n",
    "se11 = np.load('2011se_new_sign.npy')\n",
    "se14 = np.load('2014se_new_sign.npy')"
   ]
  },
  {
   "cell_type": "code",
   "execution_count": 88,
   "metadata": {},
   "outputs": [
    {
     "name": "stdout",
     "output_type": "stream",
     "text": [
      "0.37939\n"
     ]
    }
   ],
   "source": [
    "#Index for data holding [pi/4,pi/2,3pi/4,pi]\n",
    "se = se11\n",
    "sweep_hold = [[],[],[],[]]\n",
    "phase_hold = [0,0,0,0]\n",
    "unique_hold = [0,0,0,0]\n",
    "for i in se:\n",
    "    if len(i) == 0:\n",
    "        continue\n",
    "    c = Counter([round(j,5) for j in i[:,2]])\n",
    "    for k in c.keys():\n",
    "        if k <= 0.35:\n",
    "            index = 0\n",
    "        elif 0.4 <= k < 0.6:\n",
    "            index = 1\n",
    "        elif 0.65 <= k < 0.85:\n",
    "            index = 2\n",
    "        elif 0.85 <= k < 1.16:\n",
    "            index = 3\n",
    "        else:\n",
    "            print(k)\n",
    "            continue\n",
    "            \n",
    "        sweep_hold[index].append(c[k])\n",
    "        phase_hold[index] += c[k]\n",
    "        unique_hold[index] += 1"
   ]
  },
  {
   "cell_type": "code",
   "execution_count": 89,
   "metadata": {},
   "outputs": [
    {
     "data": {
      "text/plain": [
       "[30, 10, 8, 39]"
      ]
     },
     "execution_count": 89,
     "metadata": {},
     "output_type": "execute_result"
    }
   ],
   "source": [
    "phase_hold"
   ]
  },
  {
   "cell_type": "code",
   "execution_count": 90,
   "metadata": {},
   "outputs": [
    {
     "data": {
      "text/plain": [
       "[6, 4, 4, 17]"
      ]
     },
     "execution_count": 90,
     "metadata": {},
     "output_type": "execute_result"
    }
   ],
   "source": [
    "unique_hold"
   ]
  },
  {
   "cell_type": "code",
   "execution_count": 91,
   "metadata": {},
   "outputs": [
    {
     "data": {
      "text/plain": [
       "[[3, 3, 9, 11, 1, 3],\n",
       " [1, 5, 3, 1],\n",
       " [5, 1, 1, 1],\n",
       " [1, 1, 3, 5, 1, 3, 3, 3, 3, 7, 1, 1, 1, 1, 3, 1, 1]]"
      ]
     },
     "execution_count": 91,
     "metadata": {},
     "output_type": "execute_result"
    }
   ],
   "source": [
    "sweep_hold"
   ]
  },
  {
   "cell_type": "code",
   "execution_count": 87,
   "metadata": {},
   "outputs": [
    {
     "name": "stdout",
     "output_type": "stream",
     "text": [
      "5.0\n",
      "2.5\n",
      "2.0\n",
      "2.29411764706\n"
     ]
    }
   ],
   "source": [
    "for i in sweep_hold:\n",
    "    print(np.mean(i))"
   ]
  },
  {
   "cell_type": "code",
   "execution_count": 38,
   "metadata": {},
   "outputs": [
    {
     "name": "stdout",
     "output_type": "stream",
     "text": [
      "0.25\n",
      "0.6\n",
      "0.75\n",
      "0.529411764706\n"
     ]
    }
   ],
   "source": [
    "for i in sweep_hold:\n",
    "    print(float(Counter(i)[1])/len(i))"
   ]
  },
  {
   "cell_type": "code",
   "execution_count": 92,
   "metadata": {},
   "outputs": [
    {
     "name": "stdout",
     "output_type": "stream",
     "text": [
      "1.72752\n",
      "0.35446\n"
     ]
    }
   ],
   "source": [
    "#Index for data holding [pi/4,pi/2,3pi/4,pi]\n",
    "se = se14\n",
    "sweep_hold = [[],[],[],[]]\n",
    "phase_hold = [0,0,0,0]\n",
    "unique_hold = [0,0,0,0]\n",
    "for i in se:\n",
    "    if len(i) == 0:\n",
    "        continue\n",
    "    c = Counter([round(j,5) for j in i[:,2]])\n",
    "    for k in c.keys():\n",
    "        if k <= 0.35:\n",
    "            index = 0\n",
    "        elif 0.4 <= k < 0.6:\n",
    "            index = 1\n",
    "        elif 0.6 <= k < 0.85:\n",
    "            index = 2\n",
    "        elif 0.85 <= k < 1.16:\n",
    "            index = 3\n",
    "        else:\n",
    "            print(k)\n",
    "            continue\n",
    "        sweep_hold[index].append(c[k])\n",
    "        phase_hold[index] += c[k]\n",
    "        unique_hold[index] += 1"
   ]
  },
  {
   "cell_type": "code",
   "execution_count": 93,
   "metadata": {},
   "outputs": [
    {
     "data": {
      "text/plain": [
       "[35, 5, 10, 15]"
      ]
     },
     "execution_count": 93,
     "metadata": {},
     "output_type": "execute_result"
    }
   ],
   "source": [
    "phase_hold"
   ]
  },
  {
   "cell_type": "code",
   "execution_count": 94,
   "metadata": {},
   "outputs": [
    {
     "data": {
      "text/plain": [
       "[13, 2, 4, 11]"
      ]
     },
     "execution_count": 94,
     "metadata": {},
     "output_type": "execute_result"
    }
   ],
   "source": [
    "unique_hold"
   ]
  },
  {
   "cell_type": "code",
   "execution_count": 95,
   "metadata": {},
   "outputs": [
    {
     "data": {
      "text/plain": [
       "[[1, 1, 1, 4, 1, 3, 3, 3, 2, 2, 7, 5, 2],\n",
       " [1, 4],\n",
       " [1, 5, 1, 3],\n",
       " [1, 3, 1, 1, 1, 1, 1, 1, 1, 3, 1]]"
      ]
     },
     "execution_count": 95,
     "metadata": {},
     "output_type": "execute_result"
    }
   ],
   "source": [
    "sweep_hold"
   ]
  },
  {
   "cell_type": "code",
   "execution_count": 96,
   "metadata": {},
   "outputs": [
    {
     "name": "stdout",
     "output_type": "stream",
     "text": [
      "2.69230769231\n",
      "2.5\n",
      "2.5\n",
      "1.36363636364\n"
     ]
    }
   ],
   "source": [
    "for i in sweep_hold:\n",
    "    print(np.mean(i))"
   ]
  },
  {
   "cell_type": "code",
   "execution_count": 97,
   "metadata": {},
   "outputs": [
    {
     "name": "stdout",
     "output_type": "stream",
     "text": [
      "0.307692307692\n",
      "0.5\n",
      "0.5\n",
      "0.818181818182\n"
     ]
    }
   ],
   "source": [
    "for i in sweep_hold:\n",
    "    print(float(Counter(i)[1])/len(i))"
   ]
  },
  {
   "cell_type": "code",
   "execution_count": 5,
   "metadata": {},
   "outputs": [
    {
     "data": {
      "text/plain": [
       "array([[-30.033675  ,   5.536     ,   0.23388399,   0.83895131],\n",
       "       [-24.453535  ,   5.536     ,   0.23388399,   0.83895131],\n",
       "       [-24.2042    ,   5.536     ,   0.23388399,   0.83895131],\n",
       "       [-37.5528    ,   5.536     ,   0.79171949,   0.90690691],\n",
       "       [-37.19396   ,   5.536     ,   0.79171949,   0.90690691],\n",
       "       [-36.85785   ,   5.536     ,   0.79171949,   0.90690691],\n",
       "       [-36.437425  ,   5.536     ,   0.79171949,   0.90690691],\n",
       "       [-36.142725  ,   5.536     ,   0.79171949,   0.90690691]])"
      ]
     },
     "execution_count": 5,
     "metadata": {},
     "output_type": "execute_result"
    }
   ],
   "source": [
    "se11[0]"
   ]
  },
  {
   "cell_type": "code",
   "execution_count": 11,
   "metadata": {},
   "outputs": [],
   "source": [
    "se = se11\n",
    "unique_events = list()\n",
    "for i in se:\n",
    "    if len(i) == 0:\n",
    "        continue\n",
    "    c = Counter(i[:,2])\n",
    "    temp = list()\n",
    "    for k in c.keys():\n",
    "        average = np.mean(i[i[:,2]==k][:,0])\n",
    "        temp.append([k,round(average,3)])\n",
    "    unique_events.append(temp)"
   ]
  },
  {
   "cell_type": "code",
   "execution_count": 12,
   "metadata": {},
   "outputs": [
    {
     "data": {
      "text/plain": [
       "[[[0.23388399213566169, -26.23], [0.79171949252248686, -36.837]],\n",
       " [[0.75090375066816173, -35.463], [1.1540278194830778, -20.06]],\n",
       " [[0.94226665053361613, -35.589], [0.41755434432761795, -38.883]],\n",
       " [[0.94090891445494074, -34.385]],\n",
       " [[0.53241899618298572, -28.486], [0.95246759708680973, -38.178]],\n",
       " [[0.29000000000000004, -29.258], [0.98255864356271694, -35.216]],\n",
       " [[1.0434521977063795, -33.055]],\n",
       " [[0.90381884573442361, -34.181]],\n",
       " [[0.90299721179284487, -34.109]],\n",
       " [[0.89867024926675243, -34.531], [0.2750423655570664, -22.21]],\n",
       " [[0.79002494524182554, -34.791]],\n",
       " [[0.91014897936298444, -33.622], [0.2798410127890445, -20.395]],\n",
       " [[0.95087473539557488, -35.944], [0.4908317991546669, -39.588]],\n",
       " [[0.7877290669756527, -34.102]],\n",
       " [[0.89275068115286693, -33.968], [0.26858244730528202, -29.416]],\n",
       " [[0.37938660430748228, -23.87], [0.99572697506617702, -34.074]],\n",
       " [[0.90209203227700319, -34.944]],\n",
       " [[0.94678746920899637, -34.636]],\n",
       " [[0.47590563535462516, -24.666],\n",
       "  [0.96946642129198879, -35.39],\n",
       "  [0.2565655464695582, -31.38]],\n",
       " [[0.90145079298285458, -34.9]]]"
      ]
     },
     "execution_count": 12,
     "metadata": {},
     "output_type": "execute_result"
    }
   ],
   "source": [
    "unique_events"
   ]
  },
  {
   "cell_type": "code",
   "execution_count": 13,
   "metadata": {},
   "outputs": [],
   "source": [
    "np.save('2011_unique_events_average',unique_events)"
   ]
  },
  {
   "cell_type": "code",
   "execution_count": 30,
   "metadata": {},
   "outputs": [],
   "source": [
    "se = se14\n",
    "unique_events = list()\n",
    "for i in se:\n",
    "    if len(i) == 0:\n",
    "        continue\n",
    "    c = Counter(i[:,2])\n",
    "    temp = list()\n",
    "    for k in c.keys():\n",
    "        average = np.mean(i[i[:,2]==k][:,0])\n",
    "        temp.append([k,round(average,3)])\n",
    "    unique_events.append(temp)"
   ]
  },
  {
   "cell_type": "code",
   "execution_count": 39,
   "metadata": {},
   "outputs": [
    {
     "data": {
      "text/plain": [
       "[[[0.90058100651464557, -14.868],\n",
       "  [0.30364427802587768, -19.434],\n",
       "  [0.23912058381098777, -8.443],\n",
       "  [0.25114534591939464, -22.191]],\n",
       " [[0.71595502422133239, -9.01],\n",
       "  [0.68410783153160781, -25.693],\n",
       "  [0.28183098861837907, -18.32]],\n",
       " [[0.27320272290478353, -23.33],\n",
       "  [0.51069423353960852, -15.3475],\n",
       "  [0.80000000000000004, -6.146],\n",
       "  [0.24999999999999986, -19.606]],\n",
       " [[0.29834066017978378, -21.171], [1.0211004656753278, -9.883]],\n",
       " [[0.99611735726265604, -14.238],\n",
       "  [1.7275235302882146, -22.926],\n",
       "  [0.33543673270070923, -11.622]],\n",
       " [[0.89620572379399155, -14.802]],\n",
       " [[0.24561601414016496, -21.517], [0.99735913166635548, -14.168]],\n",
       " [[0.25995878912887282, -21.096],\n",
       "  [0.74279518937228395, -6.674],\n",
       "  [0.3544622914034401, -28.291],\n",
       "  [0.98166239943532663, -13.822]],\n",
       " [[1.0219144019391457, -13.839], [0.28920460060240716, -22.28]],\n",
       " [[0.95692797839661292, -13.936]],\n",
       " [[0.94285896988479689, -13.71]],\n",
       " [[0.28237179867239076, -26.966]],\n",
       " [[0.91429434792710929, -14.417], [0.94609600538698002, -21.75]]]"
      ]
     },
     "execution_count": 39,
     "metadata": {},
     "output_type": "execute_result"
    }
   ],
   "source": [
    "unique_events"
   ]
  },
  {
   "cell_type": "code",
   "execution_count": 40,
   "metadata": {},
   "outputs": [],
   "source": [
    "np.save('2014_unique_events_average',unique_events)"
   ]
  },
  {
   "cell_type": "code",
   "execution_count": 41,
   "metadata": {},
   "outputs": [],
   "source": [
    "events_11 = np.load('2011_unique_events_average.npy')\n",
    "events_14 = np.load('2014_unique_events_average.npy')"
   ]
  },
  {
   "cell_type": "code",
   "execution_count": 1,
   "metadata": {},
   "outputs": [],
   "source": [
    "x = [12,15,18,20,22]\n",
    "y = [2.76,2.6187,2.5594,2.5487,2.4895]"
   ]
  }
 ],
 "metadata": {
  "kernelspec": {
   "display_name": "Python 2",
   "language": "python",
   "name": "python2"
  },
  "language_info": {
   "codemirror_mode": {
    "name": "ipython",
    "version": 2
   },
   "file_extension": ".py",
   "mimetype": "text/x-python",
   "name": "python",
   "nbconvert_exporter": "python",
   "pygments_lexer": "ipython2",
   "version": "2.7.10"
  }
 },
 "nbformat": 4,
 "nbformat_minor": 2
}
