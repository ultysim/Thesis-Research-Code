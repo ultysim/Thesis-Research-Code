{
 "cells": [
  {
   "cell_type": "code",
   "execution_count": 1,
   "metadata": {
    "collapsed": true
   },
   "outputs": [],
   "source": [
    "bval52 = [5.5845,5.5840,5.5835,5.5830,5.5825,5.5820,5.5815,5.5810,5.5805,5.5800,5.5795,5.5790,5.5785,5.5780,5.5775]\n",
    "bval73 = [5.7485,5.7480,5.7475,5.7470,5.7465,5.7460,5.7455,5.7450,5.7445,5.7440,5.7435,5.7430,5.7425,5.7420,5.7415,5.7410,5.7405]\n",
    "bval2011 = [5.536,5.5355,5.535,5.5345,5.534,5.5335,5.533,5.5325,5.532,5.5315,5.531,5.5305,5.53,5.5295,5.529,5.5285,5.528,5.5275,5.527,5.5265,5.526,5.5255]\n"
   ]
  },
  {
   "cell_type": "code",
   "execution_count": 14,
   "metadata": {},
   "outputs": [],
   "source": [
    "import numpy as np\n",
    "import matplotlib as mpl\n",
    "from matplotlib import pyplot as plt\n",
    "import CompleteHist as ch\n",
    "import pylab\n",
    "from matplotlib.colors import LinearSegmentedColormap"
   ]
  },
  {
   "cell_type": "code",
   "execution_count": 3,
   "metadata": {},
   "outputs": [
    {
     "name": "stdout",
     "output_type": "stream",
     "text": [
      "Using matplotlib backend: TkAgg\n"
     ]
    }
   ],
   "source": [
    "%matplotlib"
   ]
  },
  {
   "cell_type": "code",
   "execution_count": 6,
   "metadata": {
    "collapsed": true
   },
   "outputs": [],
   "source": [
    "import SG\n",
    "from scipy import interpolate"
   ]
  },
  {
   "cell_type": "code",
   "execution_count": 122,
   "metadata": {
    "collapsed": true
   },
   "outputs": [],
   "source": [
    "se52 = np.load('52se.npy')\n",
    "se2011 = np.load('2011se.npy')\n",
    "ch.parsePrune('soft')\n",
    "ch.parseData()"
   ]
  },
  {
   "cell_type": "code",
   "execution_count": 179,
   "metadata": {},
   "outputs": [],
   "source": [
    "data2011 = np.load('2011_Prune_strong_flat.npy')\n",
    "data2014 = np.load('2014_Prune_strong.npy')\n",
    "\n",
    "d2011 = list()\n",
    "for i in range(len(data2011)):\n",
    "    d2011.append(np.array([tuple(j) for j in data2011[i]],dtype=np.float))\n",
    "\n",
    "d2014 = list()\n",
    "for i in range(len(data2014)):\n",
    "    d2014.append(np.array([tuple(j) for j in data2014[i]],dtype=np.float))"
   ]
  },
  {
   "cell_type": "code",
   "execution_count": 8,
   "metadata": {},
   "outputs": [],
   "source": [
    "slips14 = np.load('2014se_new_sign.npy')\n",
    "slips11 = np.load('2011se_new_sign.npy')\n",
    "slips11[9][0:9,2] = 0.26118338789834672\n",
    "slips14[12] = np.array([])\n",
    "\n",
    "\n",
    "\n",
    "se14 = list()\n",
    "for i in slips14:\n",
    "    for j in i:\n",
    "        se14.append(j)\n",
    "se14 = np.array(se14)\n",
    "\n",
    "se11 = list()\n",
    "for i in slips11:\n",
    "    for j in i:\n",
    "        se11.append(j)\n",
    "        \n",
    "se11 = np.array(se11)\n",
    "\n",
    "\n",
    "bins = np.arange(0.0,2.0,0.03)\n",
    "se11[:,2] = se11[:,2]%2 \n",
    "se14[:,2] = se14[:,2]%2\n",
    "\n",
    "hist11, bins11 = np.histogram(se11[:,2],bins)\n",
    "hist14, bins14 = np.histogram(se14[:,2],bins)\n",
    "hist_all, bins_all = np.histogram(np.vstack((np.vstack(se14[:,2]),np.vstack(se11[:,2]))),bins)\n"
   ]
  },
  {
   "cell_type": "code",
   "execution_count": 62,
   "metadata": {},
   "outputs": [],
   "source": [
    "plt.rc('text', usetex=True) \n",
    "\n",
    "# Helvetica \n",
    "# set serif, too. Otherwise setting to times and then \n",
    "# Helvetica causes an error. \n",
    "font = {'family':'sans-serif','sans-serif':['Helvetica'], \n",
    "        'serif':['cm10']} \n",
    "preamble  = r\"\"\" \n",
    "               \\usepackage{color} \n",
    "               \\usepackage[tx]{sfmath} \n",
    "               \\usepackage{helvet} \n",
    "            \"\"\" \n",
    "\n",
    "\n",
    "# Unicode for Tex \n",
    "#preamble =  r\"\"\"\\usepackage[utf8]{inputenc}\"\"\" + preamble \n",
    "# inputenc should be set automatically \n",
    "plt.rcParams['text.latex.unicode']=True \n",
    "\n",
    "#print font, preamble \n",
    "plt.rc('font',**font) \n",
    "plt.rcParams['text.latex.preamble'] = preamble\n",
    "mpl.rcParams.update({'font.size': 11})"
   ]
  },
  {
   "cell_type": "code",
   "execution_count": 9,
   "metadata": {},
   "outputs": [],
   "source": [
    "cdict = {'red': ((0.0, 0.0, 0.0),\n",
    "                 (0.25, 0.0, 0.0),\n",
    "                   (0.375, 1.0, 1.0),\n",
    "                   (0.5, 1.0, 1.0),\n",
    "                   (0.625, 1.0, 1.0),\n",
    "                  (1.0, 0.5, 0.5)),\n",
    "\n",
    "         'green': ((0.0, 1, 1),\n",
    "                   (0.125, 0.0, 0.0),\n",
    "                   (0.25, 1.0, 1.0),\n",
    "                   (0.5, 0.0, 0.0),\n",
    "                   (0.625, 1.0, 1.0),\n",
    "                  (1.0, 1, 1)),\n",
    "\n",
    "         'blue': ((0.0, 0.0, 0.0),\n",
    "                   (0.125, 1.0, 1.0),\n",
    "                   (0.25, 1.0, 1.0),\n",
    "                   (0.375, 1.0, 1.0),\n",
    "                   (0.5, 0.0, 0.0),\n",
    "                   (1.0, 0.0, 0.0)),\n",
    "        }\n",
    "        \n",
    "fullC = LinearSegmentedColormap('fullC', cdict)\n",
    "cmap = fullC\n",
    "colors = cmap(np.linspace(0.0,1.0,len(bins_all)-1))"
   ]
  },
  {
   "cell_type": "code",
   "execution_count": 10,
   "metadata": {
    "collapsed": true
   },
   "outputs": [],
   "source": [
    "def percentile_normalize(data,p=1):\n",
    "    minv = np.percentile(data,p)\n",
    "    maxv = np.percentile(data,100-p)\n",
    "    hold = np.array(data)\n",
    "    for i in range(len(hold)):\n",
    "        hold[i] = (hold[i]-minv)/(maxv-minv)\n",
    "    return hold"
   ]
  },
  {
   "cell_type": "code",
   "execution_count": 11,
   "metadata": {
    "collapsed": true
   },
   "outputs": [],
   "source": [
    "def search(data, t):\n",
    "    seq = data[0]    \n",
    "    min = 0\n",
    "    max = len(seq) - 1\n",
    "    while True:        \n",
    "        m = (min + max) // 2\n",
    "        if max < min:\n",
    "            if np.abs(t-seq[m]) < np.abs(t-seq[m-1]):          \n",
    "                return m\n",
    "            else:\n",
    "                return m-1        \n",
    "        if seq[m] < t:\n",
    "            min = m + 1\n",
    "        elif seq[m] > t:\n",
    "            max = m - 1\n",
    "        else:\n",
    "            return m\n",
    "            \n",
    "\n",
    "def clip(d,min,max):\n",
    "    data = np.array(d)\n",
    "    li = search(data,min)\n",
    "    ri = search(data,max)\n",
    "    return data[:,li:ri+1]\n",
    "    "
   ]
  },
  {
   "cell_type": "code",
   "execution_count": 12,
   "metadata": {
    "collapsed": true
   },
   "outputs": [],
   "source": [
    "def normalize(data):\n",
    "    minv = min(data)\n",
    "    maxv = max(data)\n",
    "    hold = np.array(data)\n",
    "    for i in range(len(hold)):\n",
    "        hold[i] = (hold[i]-minv)/(maxv-minv)\n",
    "    return hold"
   ]
  },
  {
   "cell_type": "code",
   "execution_count": null,
   "metadata": {
    "collapsed": true
   },
   "outputs": [],
   "source": [
    "#Less smoothing\n",
    "bfieldval = bval52\n",
    "n = 1024\n",
    "smoothval = 51\n",
    "poly = 2 \n",
    "interpdim = 2 \n",
    "data = ch.getData()\n",
    "cmlabel = 'Normalized $\\Delta$R$_D$ (k$\\Omega$)'\n",
    "data = [x for (y,x) in sorted(zip(bfieldval,data), key=lambda pair: pair[0])]\n",
    "bval = sorted(bfieldval)    \n",
    "xmin = None\n",
    "xmax = 0\n",
    "for i in data:\n",
    "    if i[0][0] > xmin:\n",
    "        xmin = i[0][0]\n",
    "    if i[0][-1] < xmax:\n",
    "        xmax = i[0][-1]\n",
    "xmin += 0.5\n",
    "xmax -= 0.5\n",
    "xv = np.linspace(xmin,xmax,n)\n",
    "intv = list()\n",
    "for i in data:\n",
    "    #Try flipping filtering and interp\n",
    "    dataclip = clip(i,xmin,xmax)\n",
    "    dataclip[1] = SG.savitzky_golay(dataclip[1],smoothval,poly)\n",
    "    tck = interpolate.splrep(dataclip[0], dataclip[1])\n",
    "    y = interpolate.splev(xv,tck)\n",
    "    intv.append(normalize(y))\n",
    "xb = np.linspace(bval[0],bval[-1],n)\n",
    "b = list()\n",
    "for i in range(len(intv[0])):\n",
    "    hold = list()\n",
    "    for j in range(len(intv)):\n",
    "        hold.append(intv[j][i])\n",
    "    b.append(hold)\n",
    "intb = list()\n",
    "for i in b:\n",
    "    tck = interpolate.splrep(bval,i,k=interpdim)\n",
    "    y = interpolate.splev(xb,tck)\n",
    "    intb.append(y)\n",
    "Z = np.array(intb)\n",
    "X,Y = pylab.meshgrid(xb,xv)\n",
    "\n"
   ]
  },
  {
   "cell_type": "code",
   "execution_count": 182,
   "metadata": {
    "collapsed": true
   },
   "outputs": [],
   "source": [
    "#More smoothing, better option\n",
    "bfieldval = bval52\n",
    "n = 1024\n",
    "smoothval = 51\n",
    "poly = 2\n",
    "interpdim = 2\n",
    "data = d2014#ch.getPrune()\n",
    "cmlabel = 'Normalized $\\Delta$R$_D$ (k$\\Omega$)'\n",
    "data = [x for (y,x) in sorted(zip(bfieldval,data), key=lambda pair: pair[0])]\n",
    "bval = sorted(bfieldval)    \n",
    "xmin = -100\n",
    "xmax = 0\n",
    "for i in data:\n",
    "    if i[0][0] > xmin:\n",
    "        xmin = i[0][0]\n",
    "    if i[0][-1] < xmax:\n",
    "        xmax = i[0][-1]\n",
    "xmin += 0.5\n",
    "xmax -= 0.5\n",
    "xv = np.linspace(xmin,xmax,n)\n",
    "intv = list()\n",
    "for i in data:\n",
    "    #Try flipping filtering and interp\n",
    "    dataclip = clip(i,xmin,xmax)\n",
    "    dataclip[1] = SG.savitzky_golay(dataclip[1],smoothval,poly)\n",
    "    tck = interpolate.splrep(dataclip[0], dataclip[1],k=1)\n",
    "    y = interpolate.splev(xv,tck)\n",
    "    intv.append(percentile_normalize(y,1))\n",
    "xb = np.linspace(bval[0],bval[-1],n)\n",
    "b = list()\n",
    "for i in range(len(intv[0])):\n",
    "    hold = list()\n",
    "    for j in range(len(intv)):\n",
    "        hold.append(intv[j][i])\n",
    "    b.append(hold)\n",
    "intb = list()\n",
    "for i in b:\n",
    "    tck = interpolate.splrep(bval,i,k=interpdim)\n",
    "    y = interpolate.splev(xb,tck)\n",
    "    intb.append(y)\n",
    "Z = np.array(intb)\n",
    "X,Y = pylab.meshgrid(xb,xv)\n",
    "\n"
   ]
  },
  {
   "cell_type": "code",
   "execution_count": 183,
   "metadata": {
    "collapsed": true
   },
   "outputs": [],
   "source": [
    "colortype = ch.yellowredblue\n",
    "f, ax = plt.subplots()\n",
    "plt.pcolormesh(X,Y,Z,vmin=0,vmax=1,cmap=colortype)\n",
    "plt.ylim(xmin,xmax)\n",
    "plt.xlim(bval[0],bval[-1])\n",
    "plt.ylabel('Gate Voltage (mV)')\n",
    "plt.xlabel('B Field (T)')\n",
    "cbar = plt.colorbar()\n",
    "cbar.set_label(cmlabel)\n",
    "ax.get_xaxis().get_major_formatter().set_useOffset(False)\n",
    "\n",
    "plt.show()"
   ]
  },
  {
   "cell_type": "code",
   "execution_count": 92,
   "metadata": {},
   "outputs": [],
   "source": [
    "#Using most recent 2019 fit points\n",
    "pruned14 = np.load('Pruned 025 3_12_2019.npy')\n",
    "pruned34 = np.load('Pruned 075 2_1_2019.npy')\n",
    "pruned12 = np.load('Pruned 05 3_12_2019.npy')\n",
    "prunedfig = np.load('Pruned 1 Fig 3_12_2019.npy')\n",
    "prunedsup = np.load('Pruned 1 Sup 3_12_2019.npy')\n",
    "\n",
    "new14 = list()\n",
    "for i in pruned14:\n",
    "    for j in i:\n",
    "        new14.append(j)\n",
    "new14 = np.array(new14)\n",
    "\n",
    "new34 = list()\n",
    "for i in pruned34:\n",
    "    for j in i:\n",
    "        new34.append(j)\n",
    "new34 = np.array(new34)\n",
    "\n",
    "new12 = list()\n",
    "for i in pruned12:\n",
    "    for j in i:\n",
    "        new12.append(j)\n",
    "new12 = np.array(new12)\n",
    "\n",
    "\n",
    "newfig = list()\n",
    "for i in prunedfig:\n",
    "    for j in i:\n",
    "        newfig.append(j)\n",
    "newfig = np.array(newfig)\n",
    "\n",
    "newsup = list()\n",
    "for i in prunedsup:\n",
    "    for j in i:\n",
    "        newsup.append(j)\n",
    "        \n",
    "newsup = np.array(newsup)\n",
    "\n",
    "temp = list(new14)\n",
    "pi14 = np.array(temp.pop(-3))\n",
    "new14 = np.array(temp)\n",
    "pi = np.vstack((newsup,newfig,pi14))"
   ]
  },
  {
   "cell_type": "code",
   "execution_count": 93,
   "metadata": {},
   "outputs": [],
   "source": []
  },
  {
   "cell_type": "code",
   "execution_count": 184,
   "metadata": {},
   "outputs": [],
   "source": [
    "#Gray Scale\n",
    "f, ax = plt.subplots()\n",
    "plt.pcolormesh(X,Y,Z,vmin=0,vmax=1,cmap='binary')\n",
    "plt.ylim(xmin,xmax)\n",
    "plt.xlim(bval[0],bval[-1])\n",
    "plt.ylabel('Gate Voltage(mV)',size=18)\n",
    "plt.xlabel('B Field(T)',size=18)\n",
    "cbar = plt.colorbar()\n",
    "cbar.set_label(cmlabel,size=14)\n",
    "ax.get_xaxis().get_major_formatter().set_useOffset(False)\n",
    "#plt.savefig('ColorMap52_2011',dpi=1200)"
   ]
  },
  {
   "cell_type": "code",
   "execution_count": 109,
   "metadata": {},
   "outputs": [
    {
     "data": {
      "text/plain": [
       "<matplotlib.legend.Legend at 0x2f855ac8>"
      ]
     },
     "execution_count": 109,
     "metadata": {},
     "output_type": "execute_result"
    }
   ],
   "source": [
    "#MOST RECENT\n",
    "for i in new14:\n",
    "    if i[1]>bval2011[0]:\n",
    "        q = plt.scatter(i[1],i[0],s=60,color='#00FFFF',marker='d',edgecolor='k',linewidth='1',label='$\\Delta\\\\theta=\\pi/4')\n",
    "        if i[1]==5.5845:\n",
    "            q = plt.scatter(i[1]-0.00005,i[0],s=60,color='#00FFFF',marker='d',edgecolor='k',linewidth='1',label='$\\Delta\\\\theta=\\pi/4')\n",
    "\n",
    "for i in pi:    \n",
    "    if i[1]>bval2011[0]:\n",
    "        p = plt.scatter(i[1],i[0],s=60,color='r',edgecolor='k',linewidth='1',label='$\\Delta\\\\theta=\\pi')\n",
    "        if i[1]==5.5845:\n",
    "            p = plt.scatter(i[1]-0.00005,i[0],s=60,color='r',edgecolor='k',linewidth='1',label='$\\Delta\\\\theta=\\pi')\n",
    "\n",
    "plt.legend([q,p], [\"$\\Delta\\\\theta =\\pi/4$\",\"$\\Delta\\\\theta =\\pi$\"],loc=2,scatterpoints=1)"
   ]
  },
  {
   "cell_type": "code",
   "execution_count": 110,
   "metadata": {},
   "outputs": [],
   "source": [
    "f.savefig('Grayscale Color Map with Scatter 14 v2',dpi=1200)"
   ]
  },
  {
   "cell_type": "code",
   "execution_count": 24,
   "metadata": {},
   "outputs": [
    {
     "data": {
      "text/plain": [
       "<matplotlib.legend.Legend at 0x20ee7fd0>"
      ]
     },
     "execution_count": 24,
     "metadata": {},
     "output_type": "execute_result"
    }
   ],
   "source": [
    "#Only pi and pi/4 with different markers\n",
    "for i in se14:\n",
    "    if 0<i[2]<0.35:\n",
    "        q = plt.scatter(i[1],i[0],s=60,color='#00FFFF',marker='d',edgecolor='k',label='$\\Delta\\phi=\\pi/4')\n",
    "    elif 0.85<i[2]<1.15:\n",
    "        p = plt.scatter(i[1],i[0],s=60,color='r',edgecolor='k',label='$\\Delta\\phi=\\pi')\n",
    "plt.legend([q,p], [\"$\\Delta\\phi =\\pi/4$\",\"$\\Delta\\phi =\\pi$\"],loc=2,scatterpoints=1)"
   ]
  },
  {
   "cell_type": "code",
   "execution_count": 34,
   "metadata": {},
   "outputs": [],
   "source": [
    "f.savefig('Grayscale Color Map with Scatter PandQ 14',dpi=1200)"
   ]
  },
  {
   "cell_type": "code",
   "execution_count": 65,
   "metadata": {},
   "outputs": [],
   "source": [
    "for i in se14:\n",
    "    plt.scatter(i[1],i[0],s=50,color=colors[int(i[2]/0.03)],edgecolor='k',linewidth='2')"
   ]
  },
  {
   "cell_type": "code",
   "execution_count": null,
   "metadata": {},
   "outputs": [],
   "source": [
    "plt.scatter((se2011[1][:,1]),se2011[1][:,0],s=50,color='w',edgecolor='k')\n",
    "plt.scatter((se2011[0][:,1]),se2011[0][:,0],s=50,color='#00FFFF',marker='d',edgecolor='k')"
   ]
  },
  {
   "cell_type": "code",
   "execution_count": 41,
   "metadata": {},
   "outputs": [
    {
     "data": {
      "text/plain": [
       "<matplotlib.collections.PathCollection at 0x30761ef0>"
      ]
     },
     "execution_count": 41,
     "metadata": {},
     "output_type": "execute_result"
    }
   ],
   "source": [
    "plt.scatter([1,2,3],[1,2,3],color=['r','k','b'])"
   ]
  },
  {
   "cell_type": "code",
   "execution_count": 66,
   "metadata": {},
   "outputs": [],
   "source": [
    "f.savefig('Color Map with Scatter 14',dpi=1200)"
   ]
  },
  {
   "cell_type": "code",
   "execution_count": 26,
   "metadata": {
    "collapsed": true
   },
   "outputs": [
    {
     "ename": "NameError",
     "evalue": "name 'GridSpec' is not defined",
     "output_type": "error",
     "traceback": [
      "\u001b[1;31m---------------------------------------------------------------------------\u001b[0m",
      "\u001b[1;31mNameError\u001b[0m                                 Traceback (most recent call last)",
      "\u001b[1;32m<ipython-input-26-f4aa55015fbf>\u001b[0m in \u001b[0;36m<module>\u001b[1;34m()\u001b[0m\n\u001b[1;32m----> 1\u001b[1;33m \u001b[0mgs\u001b[0m \u001b[1;33m=\u001b[0m \u001b[0mGridSpec\u001b[0m\u001b[1;33m(\u001b[0m\u001b[1;36m1000\u001b[0m\u001b[1;33m,\u001b[0m\u001b[1;36m1000\u001b[0m\u001b[1;33m)\u001b[0m\u001b[1;33m\u001b[0m\u001b[0m\n\u001b[0m",
      "\u001b[1;31mNameError\u001b[0m: name 'GridSpec' is not defined"
     ]
    }
   ],
   "source": [
    "gs = GridSpec(1000,1000)\n"
   ]
  },
  {
   "cell_type": "code",
   "execution_count": 25,
   "metadata": {
    "collapsed": true
   },
   "outputs": [
    {
     "ename": "NameError",
     "evalue": "name 'gs' is not defined",
     "output_type": "error",
     "traceback": [
      "\u001b[1;31m---------------------------------------------------------------------------\u001b[0m",
      "\u001b[1;31mNameError\u001b[0m                                 Traceback (most recent call last)",
      "\u001b[1;32m<ipython-input-25-fd4d26e5fed2>\u001b[0m in \u001b[0;36m<module>\u001b[1;34m()\u001b[0m\n\u001b[0;32m      6\u001b[0m \u001b[0mcolortype\u001b[0m \u001b[1;33m=\u001b[0m \u001b[0mch\u001b[0m\u001b[1;33m.\u001b[0m\u001b[0myellowredblue\u001b[0m\u001b[1;33m\u001b[0m\u001b[0m\n\u001b[0;32m      7\u001b[0m \u001b[0mf\u001b[0m\u001b[1;33m=\u001b[0m \u001b[0mplt\u001b[0m\u001b[1;33m.\u001b[0m\u001b[0mfigure\u001b[0m\u001b[1;33m(\u001b[0m\u001b[0mfigsize\u001b[0m\u001b[1;33m=\u001b[0m\u001b[1;33m[\u001b[0m\u001b[1;36m3.1\u001b[0m\u001b[1;33m,\u001b[0m\u001b[1;36m3.3\u001b[0m\u001b[1;33m]\u001b[0m\u001b[1;33m)\u001b[0m\u001b[1;33m\u001b[0m\u001b[0m\n\u001b[1;32m----> 8\u001b[1;33m \u001b[0max\u001b[0m \u001b[1;33m=\u001b[0m \u001b[0mf\u001b[0m\u001b[1;33m.\u001b[0m\u001b[0madd_subplot\u001b[0m\u001b[1;33m(\u001b[0m\u001b[0mgs\u001b[0m\u001b[1;33m[\u001b[0m\u001b[1;36m100\u001b[0m\u001b[1;33m:\u001b[0m\u001b[0my_len\u001b[0m\u001b[1;33m,\u001b[0m\u001b[1;36m100\u001b[0m\u001b[1;33m:\u001b[0m\u001b[1;33m]\u001b[0m\u001b[1;33m)\u001b[0m\u001b[1;33m\u001b[0m\u001b[0m\n\u001b[0m\u001b[0;32m      9\u001b[0m \u001b[0mim\u001b[0m \u001b[1;33m=\u001b[0m \u001b[0max\u001b[0m\u001b[1;33m.\u001b[0m\u001b[0mpcolormesh\u001b[0m\u001b[1;33m(\u001b[0m\u001b[0mX\u001b[0m\u001b[1;33m,\u001b[0m\u001b[0mY\u001b[0m\u001b[1;33m,\u001b[0m\u001b[0mZ\u001b[0m\u001b[1;33m,\u001b[0m\u001b[0mvmin\u001b[0m\u001b[1;33m=\u001b[0m\u001b[1;36m0\u001b[0m\u001b[1;33m,\u001b[0m\u001b[0mvmax\u001b[0m\u001b[1;33m=\u001b[0m\u001b[1;36m1\u001b[0m\u001b[1;33m,\u001b[0m\u001b[0mcmap\u001b[0m\u001b[1;33m=\u001b[0m\u001b[0mcolortype\u001b[0m\u001b[1;33m)\u001b[0m\u001b[1;33m\u001b[0m\u001b[0m\n\u001b[0;32m     10\u001b[0m \u001b[0max\u001b[0m\u001b[1;33m.\u001b[0m\u001b[0mget_xaxis\u001b[0m\u001b[1;33m(\u001b[0m\u001b[1;33m)\u001b[0m\u001b[1;33m.\u001b[0m\u001b[0mget_major_formatter\u001b[0m\u001b[1;33m(\u001b[0m\u001b[1;33m)\u001b[0m\u001b[1;33m.\u001b[0m\u001b[0mset_useOffset\u001b[0m\u001b[1;33m(\u001b[0m\u001b[0mFalse\u001b[0m\u001b[1;33m)\u001b[0m\u001b[1;33m\u001b[0m\u001b[0m\n",
      "\u001b[1;31mNameError\u001b[0m: name 'gs' is not defined"
     ]
    }
   ],
   "source": [
    "#Has Vertical Scale\n",
    "xin = 3.1\n",
    "yin = 3.1\n",
    "img = xin*0.9\n",
    "y_len = int(img/yin*1000)\n",
    "colortype = ch.yellowredblue\n",
    "f= plt.figure(figsize=[3.1,3.3])\n",
    "ax = f.add_subplot(gs[100:y_len,100:])\n",
    "im = ax.pcolormesh(X,Y,Z,vmin=0,vmax=1,cmap=colortype)\n",
    "ax.get_xaxis().get_major_formatter().set_useOffset(False)\n",
    "plt.xticks([5.578,5.581,5.584])\n",
    "plt.yticks([-30,-20,-10])\n",
    "ax.set_ylim(xmin,xmax)\n",
    "ax.set_xlim(bval[0],bval[-1])\n",
    "plt.ylabel('V$_{p}$ (mV)',labelpad=-1)\n",
    "\n",
    "plt.xlabel('B (T)')\n",
    "cax = f.add_subplot(gs[65:90,400:700])\n",
    "\n",
    "cbar = plt.colorbar(im,cax=cax,ticks=[0.0,1.0],orientation='horizontal')\n",
    "cax.xaxis.set_label_position('top')\n",
    "cax.set_xlabel('R$_D$ (k$\\Omega$)')\n",
    "cax.set_xticklabels([10.8,11.5])\n",
    "cax.xaxis.labelpad = 2\n",
    "cax.tick_params(axis='x',which='both',bottom='on',top='on',labelbottom='off',labeltop='on',labelsize=8,pad=0)"
   ]
  },
  {
   "cell_type": "code",
   "execution_count": 36,
   "metadata": {
    "collapsed": true
   },
   "outputs": [],
   "source": [
    "#V2\n",
    "#Has Vertical Scale\n",
    "#Default is 12\n",
    "mpl.rcParams.update({'font.size': 8})\n",
    "xin = 3.1\n",
    "yin = 3.1\n",
    "img = xin*0.9\n",
    "y_len = int(img/yin*1000)\n",
    "colortype = ch.yellowredblue\n",
    "\n",
    "f = plt.figure(figsize=[3.1,3.3])\n",
    "ax = f.add_subplot(gs[100:y_len,100:])\n",
    "im = ax.pcolormesh(X,Y,Z,vmin=0,vmax=1,cmap=colortype)\n",
    "ax.get_xaxis().get_major_formatter().set_useOffset(False)\n",
    "plt.xticks([5.579,5.583])\n",
    "plt.yticks([-30,-20,-10])\n",
    "ax.set_ylim(xmin,xmax)\n",
    "ax.set_xlim(bval[0],bval[-1])\n",
    "plt.ylabel('V$_{p}$ (mV)',size = 12)\n",
    "plt.xlabel('B (T)',size = 12)\n",
    "ax.tick_params(axis='y',pad = 2)\n",
    "\n",
    "cax = f.add_subplot(gs[55:80,400:700])\n",
    "cbar = plt.colorbar(im,cax=cax,ticks=[0.0,1.0],orientation='horizontal')\n",
    "cax.xaxis.set_label_position('top')\n",
    "cax.set_xlabel('R$_D$ (k$\\Omega$)',size=9)\n",
    "cax.set_xticklabels([10.8,11.5])\n",
    "cax.xaxis.labelpad = 1\n",
    "cax.tick_params(axis='x',which='both',bottom='on',top='on',labelbottom='off',labeltop='on',labelsize=7,pad=1)"
   ]
  },
  {
   "cell_type": "code",
   "execution_count": 43,
   "metadata": {
    "collapsed": true
   },
   "outputs": [],
   "source": [
    "f.savefig('Color Map v2',dpi=1200)"
   ]
  },
  {
   "cell_type": "code",
   "execution_count": 37,
   "metadata": {
    "collapsed": true
   },
   "outputs": [],
   "source": [
    "colortype = ch.yellowredblue\n",
    "f, ax = plt.subplots()\n",
    "plt.pcolormesh(X,Y,Z,vmin=0,vmax=1,cmap=colortype)\n",
    "plt.ylim(xmin,xmax)\n",
    "plt.xlim(bval[0],bval[-1])\n",
    "plt.ylabel('V$_{p}$ (mV)')\n",
    "plt.xlabel('B (T)')\n",
    "cbar = plt.colorbar(shrink=0.5,ticks=[0,1])\n",
    "cbar.set_label('R$_D$ (k$\\Omega$)')\n",
    "cbar.set_ticklabels([10.8,11.5])\n",
    "ax.get_xaxis().get_major_formatter().set_useOffset(False)\n",
    "plt.xticks([5.578,5.581,5.584])\n",
    "plt.yticks([-30,-20,-10])\n",
    "plt.show()"
   ]
  },
  {
   "cell_type": "code",
   "execution_count": 159,
   "metadata": {
    "collapsed": true
   },
   "outputs": [],
   "source": [
    "f.savefig('Vertical Scale UnNormalized Larger Labels',dpi=1200)"
   ]
  },
  {
   "cell_type": "code",
   "execution_count": 168,
   "metadata": {
    "collapsed": true
   },
   "outputs": [],
   "source": [
    "#Default is 12\n",
    "mpl.rcParams.update({'font.size': 10})"
   ]
  },
  {
   "cell_type": "code",
   "execution_count": 17,
   "metadata": {
    "collapsed": true
   },
   "outputs": [],
   "source": [
    "ch.parsePrune('soft')"
   ]
  },
  {
   "cell_type": "markdown",
   "metadata": {},
   "source": [
    "Use 2011 data:"
   ]
  },
  {
   "cell_type": "code",
   "execution_count": 51,
   "metadata": {
    "collapsed": true
   },
   "outputs": [],
   "source": [
    "ch.parsePrune('soft')"
   ]
  },
  {
   "cell_type": "code",
   "execution_count": 185,
   "metadata": {},
   "outputs": [],
   "source": [
    "bfieldval = bval2011\n",
    "n = 1024\n",
    "smoothval = 51\n",
    "poly = 2\n",
    "interpdim = 2\n",
    "data = d2011#ch.getPrune()\n",
    "cmlabel = 'Normalized $\\Delta$R$_D$ (k$\\Omega$)'\n",
    "data = [x for (y,x) in sorted(zip(bfieldval,data), key=lambda pair: pair[0])]\n",
    "bval = sorted(bfieldval)    \n",
    "xmin = None\n",
    "xmax = 0\n",
    "for i in data:\n",
    "    if i[0][0] > xmin:\n",
    "        xmin = i[0][0]\n",
    "    if i[0][-1] < xmax:\n",
    "        xmax = i[0][-1]\n",
    "xmin += 0.5\n",
    "xmax -= 0.5\n",
    "xv = np.linspace(xmin,xmax,n)\n",
    "intv = list()\n",
    "count = 0\n",
    "for i in data:\n",
    "    if count == 21:\n",
    "        xmin += 1\n",
    "    #Try flipping filtering and interp\n",
    "    dataclip = clip(i,xmin,xmax)\n",
    "    dataclip[1] = SG.savitzky_golay(dataclip[1],smoothval,poly)\n",
    "    tck = interpolate.splrep(dataclip[0], dataclip[1],k=1)\n",
    "    y = interpolate.splev(xv,tck)\n",
    "    intv.append(percentile_normalize(y,1))\n",
    "    count += 1\n",
    "xb = np.linspace(bval[0],bval[-1],n)\n",
    "b = list()\n",
    "for i in range(len(intv[0])):\n",
    "    hold = list()\n",
    "    for j in range(len(intv)):\n",
    "        hold.append(intv[j][i])\n",
    "    b.append(hold)\n",
    "intb = list()\n",
    "for i in b:\n",
    "    tck = interpolate.splrep(bval,i,k=interpdim)\n",
    "    y = interpolate.splev(xb,tck)\n",
    "    intb.append(y)\n",
    "Z = np.array(intb)\n",
    "X,Y = pylab.meshgrid(xb,xv)\n"
   ]
  },
  {
   "cell_type": "code",
   "execution_count": 186,
   "metadata": {
    "collapsed": true
   },
   "outputs": [],
   "source": [
    "colortype = ch.yellowredblue\n",
    "f, ax = plt.subplots()\n",
    "plt.pcolormesh(X,Y,Z,vmin=0,vmax=1,cmap=colortype)\n",
    "plt.ylim(xmin,xmax)\n",
    "plt.xlim(bval[0],bval[-1])\n",
    "plt.ylabel('Gate Voltage(mV)',size=18)\n",
    "plt.xlabel('B Field(T)',size=18)\n",
    "cbar = plt.colorbar()\n",
    "cbar.set_label(cmlabel,size=14)\n",
    "ax.get_xaxis().get_major_formatter().set_useOffset(False)\n",
    "#plt.savefig('ColorMap52_2011',dpi=1200)"
   ]
  },
  {
   "cell_type": "code",
   "execution_count": 125,
   "metadata": {},
   "outputs": [
    {
     "data": {
      "text/plain": [
       "<matplotlib.legend.Legend at 0x3d70e240>"
      ]
     },
     "execution_count": 125,
     "metadata": {},
     "output_type": "execute_result"
    }
   ],
   "source": [
    "#MOST RECENT\n",
    "#for i in new14:\n",
    "#    if i[1]<=bval2011[0]:\n",
    "#        q = plt.scatter(i[1],i[0],s=60,color='#00FFFF',marker='d',edgecolor='k',linewidth='1',label='$\\Delta\\phi=\\pi/4')\n",
    "for i in pi:    \n",
    "    if i[1]<=bval2011[0]:\n",
    "        p = plt.scatter(i[1],i[0],s=60,color='r',edgecolor='k',linewidth='1',label='$\\Delta\\theta=\\pi')\n",
    "plt.legend([p], [\"$\\Delta\\\\theta =\\pi$\"],loc=2,scatterpoints=1)"
   ]
  },
  {
   "cell_type": "code",
   "execution_count": 107,
   "metadata": {},
   "outputs": [
    {
     "data": {
      "text/plain": [
       "<matplotlib.legend.Legend at 0x41e31f28>"
      ]
     },
     "execution_count": 107,
     "metadata": {},
     "output_type": "execute_result"
    }
   ],
   "source": [
    "#Only pi and pi/4 with different markers\n",
    "for i in se11:\n",
    "    if 0<i[2]<0.35:\n",
    "        q = plt.scatter(i[1],i[0],s=60,color='#00FFFF',marker='d',edgecolor='k',linewidth='1',label='$\\Delta\\phi=\\pi/4')\n",
    "    elif 0.85<i[2]<1.15:\n",
    "        p = plt.scatter(i[1],i[0],s=60,color='w',edgecolor='k',linewidth='1',label='$\\Delta\\phi=\\pi')\n",
    "plt.legend([q,p], [\"$\\Delta\\phi =\\pi/4$\",\"$\\Delta\\phi =\\pi$\"],loc=2,scatterpoints=1)"
   ]
  },
  {
   "cell_type": "code",
   "execution_count": 96,
   "metadata": {},
   "outputs": [],
   "source": [
    "f.savefig('Color Map with Scatter PandQ 11',dpi=1200)"
   ]
  },
  {
   "cell_type": "code",
   "execution_count": 104,
   "metadata": {},
   "outputs": [],
   "source": [
    "for i in se11:\n",
    "    plt.scatter(i[1],i[0],s=50,color=colors[int(i[2]/0.03)],edgecolor='k',linewidth='1')"
   ]
  },
  {
   "cell_type": "code",
   "execution_count": 73,
   "metadata": {},
   "outputs": [],
   "source": [
    "f.savefig('Color Map with Scatter 11',dpi=1200)"
   ]
  },
  {
   "cell_type": "code",
   "execution_count": 105,
   "metadata": {},
   "outputs": [],
   "source": [
    "f.savefig('Grayscale Color Map with Scatter 11',dpi=1200)"
   ]
  },
  {
   "cell_type": "code",
   "execution_count": 124,
   "metadata": {},
   "outputs": [],
   "source": [
    "#Gray Scale\n",
    "f, ax = plt.subplots()\n",
    "plt.pcolormesh(X,Y,Z,vmin=0,vmax=1,cmap='binary')\n",
    "plt.ylim(xmin,xmax)\n",
    "plt.xlim(bval[0],bval[-1])\n",
    "plt.ylabel('Gate Voltage(mV)',size=18)\n",
    "plt.xlabel('B Field(T)',size=18)\n",
    "cbar = plt.colorbar()\n",
    "cbar.set_label(cmlabel,size=14)\n",
    "ax.get_xaxis().get_major_formatter().set_useOffset(False)\n",
    "#plt.savefig('ColorMap52_2011',dpi=1200)"
   ]
  },
  {
   "cell_type": "code",
   "execution_count": 115,
   "metadata": {},
   "outputs": [
    {
     "data": {
      "text/plain": [
       "<matplotlib.legend.Legend at 0x31a72d30>"
      ]
     },
     "execution_count": 115,
     "metadata": {},
     "output_type": "execute_result"
    }
   ],
   "source": [
    "#Only pi and pi/4 with different markers\n",
    "for i in se11:\n",
    "    if 0<i[2]<0.35:\n",
    "        q = plt.scatter(i[1],i[0],s=60,color='#00FFFF',marker='d',edgecolor='k',label='$\\Delta\\phi=\\pi/4')\n",
    "    elif 0.85<i[2]<1.15:\n",
    "        p = plt.scatter(i[1],i[0],s=60,color='r',edgecolor='k',label='$\\Delta\\phi=\\pi')\n",
    "plt.legend([q,p], [\"$\\Delta\\phi =\\pi/4$\",\"$\\Delta\\phi =\\pi$\"],loc=2,scatterpoints=1)"
   ]
  },
  {
   "cell_type": "code",
   "execution_count": 126,
   "metadata": {},
   "outputs": [],
   "source": [
    "f.savefig('Grayscale Color Map with Scatter 11 v2',dpi=1200)"
   ]
  },
  {
   "cell_type": "code",
   "execution_count": 296,
   "metadata": {},
   "outputs": [
    {
     "data": {
      "text/plain": [
       "<matplotlib.collections.PathCollection at 0x55e639e8>"
      ]
     },
     "execution_count": 296,
     "metadata": {},
     "output_type": "execute_result"
    }
   ],
   "source": [
    "plt.scatter((se2011[1][:,1]),se2011[1][:,0],s=50,color='w',edgecolor='k')\n",
    "plt.scatter((se2011[0][:,1]),se2011[0][:,0],s=50,color='#00FFFF',marker='d',edgecolor='k')"
   ]
  },
  {
   "cell_type": "code",
   "execution_count": null,
   "metadata": {},
   "outputs": [],
   "source": []
  },
  {
   "cell_type": "code",
   "execution_count": null,
   "metadata": {},
   "outputs": [],
   "source": []
  },
  {
   "cell_type": "code",
   "execution_count": null,
   "metadata": {},
   "outputs": [],
   "source": []
  },
  {
   "cell_type": "code",
   "execution_count": null,
   "metadata": {},
   "outputs": [],
   "source": []
  },
  {
   "cell_type": "code",
   "execution_count": null,
   "metadata": {},
   "outputs": [],
   "source": []
  },
  {
   "cell_type": "code",
   "execution_count": null,
   "metadata": {},
   "outputs": [],
   "source": []
  },
  {
   "cell_type": "code",
   "execution_count": null,
   "metadata": {},
   "outputs": [],
   "source": []
  },
  {
   "cell_type": "markdown",
   "metadata": {},
   "source": [
    "7/3 data"
   ]
  },
  {
   "cell_type": "code",
   "execution_count": 300,
   "metadata": {
    "collapsed": true
   },
   "outputs": [],
   "source": [
    "ch.parsePrune('soft')\n",
    "ch.parseData()"
   ]
  },
  {
   "cell_type": "code",
   "execution_count": 392,
   "metadata": {
    "collapsed": true
   },
   "outputs": [],
   "source": [
    "bfieldval = bval73\n",
    "n = 2048\n",
    "smoothval = 311\n",
    "poly = 1\n",
    "interpdim = 2\n",
    "data = ch.getPrune()\n",
    "cmlabel = 'Normalized $\\Delta$R$_D$ (k$\\Omega$)'\n",
    "data = [x for (y,x) in sorted(zip(bfieldval,data), key=lambda pair: pair[0])]\n",
    "bval = sorted(bfieldval)    \n",
    "xmin = None\n",
    "xmax = 0\n",
    "for i in data:\n",
    "    if i[0][0] > xmin:\n",
    "        xmin = i[0][0]\n",
    "    if i[0][-1] < xmax:\n",
    "        xmax = i[0][-1]\n",
    "xmin += 0.5\n",
    "xmax -= 0.5\n",
    "xv = np.linspace(xmin,xmax,n)\n",
    "intv = list()\n",
    "count = 0\n",
    "for i in data:\n",
    "    if count == 21:\n",
    "        xmin += 1\n",
    "    #Try flipping filtering and interp\n",
    "    dataclip = clip(i,xmin,xmax)\n",
    "    dataclip[1] = SG.savitzky_golay(dataclip[1],smoothval,poly)\n",
    "    tck = interpolate.splrep(dataclip[0], dataclip[1],k=1)\n",
    "    y = interpolate.splev(xv,tck)\n",
    "    intv.append(percentile_normalize(y,0.25))\n",
    "    count += 1\n",
    "xb = np.linspace(bval[0],bval[-1],n)\n",
    "b = list()\n",
    "for i in range(len(intv[0])):\n",
    "    hold = list()\n",
    "    for j in range(len(intv)):\n",
    "        hold.append(intv[j][i])\n",
    "    b.append(hold)\n",
    "intb = list()\n",
    "for i in b:\n",
    "    tck = interpolate.splrep(bval,i,k=interpdim)\n",
    "    y = interpolate.splev(xb,tck)\n",
    "    intb.append(y)\n",
    "Z = np.array(intb)\n",
    "X,Y = pylab.meshgrid(xb,xv)\n"
   ]
  },
  {
   "cell_type": "code",
   "execution_count": 393,
   "metadata": {
    "collapsed": true
   },
   "outputs": [],
   "source": [
    "colortype = ch.yellowredblue\n",
    "f, ax = plt.subplots()\n",
    "plt.pcolormesh(X,Y,Z,vmin=0,vmax=1,cmap=colortype)\n",
    "plt.ylim(xmin,xmax)\n",
    "plt.xlim(bval[0],bval[-1])\n",
    "plt.ylabel('Gate Voltage (mV)')\n",
    "plt.xlabel('B Field (T)')\n",
    "cbar = plt.colorbar()\n",
    "cbar.set_label(cmlabel)\n",
    "ax.get_xaxis().get_major_formatter().set_useOffset(False)\n"
   ]
  },
  {
   "cell_type": "code",
   "execution_count": 305,
   "metadata": {
    "collapsed": true
   },
   "outputs": [],
   "source": [
    "se73 = np.load('73se.npy')"
   ]
  },
  {
   "cell_type": "code",
   "execution_count": 361,
   "metadata": {
    "collapsed": true
   },
   "outputs": [],
   "source": [
    "x = []\n",
    "y = []\n",
    "for i in range(len(se73)):\n",
    "    if len(se73[i])==0:\n",
    "        continue\n",
    "    x.extend(se73[i][:,1])\n",
    "    y.extend(se73[i][:,0])"
   ]
  },
  {
   "cell_type": "code",
   "execution_count": 363,
   "metadata": {},
   "outputs": [
    {
     "data": {
      "text/plain": [
       "<matplotlib.collections.PathCollection at 0x4d20c208>"
      ]
     },
     "execution_count": 363,
     "metadata": {},
     "output_type": "execute_result"
    }
   ],
   "source": [
    "plt.scatter(x,y,s=50,color='w',edgecolor='k')"
   ]
  },
  {
   "cell_type": "code",
   "execution_count": 367,
   "metadata": {
    "collapsed": true
   },
   "outputs": [],
   "source": [
    "ch.interp2D(bval73)\n",
    "ax.get_xaxis().get_major_formatter().set_useOffset(False)"
   ]
  },
  {
   "cell_type": "code",
   "execution_count": 404,
   "metadata": {
    "collapsed": true
   },
   "outputs": [],
   "source": [
    "n=2048\n",
    "xv = np.linspace(xmin,xmax,n)\n",
    "for i in data:\n",
    "    if count == 21:\n",
    "        xmin += 1\n",
    "    #Try flipping filtering and interp\n",
    "    plt.figure()\n",
    "    dataclip = clip(i,xmin,xmax)\n",
    "    plt.plot(dataclip[0],dataclip[1])\n",
    "    dataclip[1] = SG.savitzky_golay(dataclip[1],51,1)\n",
    "    plt.plot(dataclip[0],dataclip[1],c='r')\n",
    "    tck = interpolate.splrep(dataclip[0], dataclip[1],k=1)\n",
    "    y = interpolate.splev(xv,tck)\n",
    "    plt.plot(xv,y)\n",
    "    plt.ylim(12,12.4)\n",
    "    count += 1\n",
    "    plt.plot()"
   ]
  },
  {
   "cell_type": "code",
   "execution_count": 403,
   "metadata": {
    "collapsed": true
   },
   "outputs": [],
   "source": [
    "for i in intv:\n",
    "    plt.figure()\n",
    "    plt.plot(xv,i)\n",
    "    plt.ylim(0,1)"
   ]
  },
  {
   "cell_type": "code",
   "execution_count": 396,
   "metadata": {
    "collapsed": true
   },
   "outputs": [],
   "source": [
    "hist73 = np.load('73hist.npy')"
   ]
  }
 ],
 "metadata": {
  "kernelspec": {
   "display_name": "Python 2",
   "language": "python",
   "name": "python2"
  },
  "language_info": {
   "codemirror_mode": {
    "name": "ipython",
    "version": 2
   },
   "file_extension": ".py",
   "mimetype": "text/x-python",
   "name": "python",
   "nbconvert_exporter": "python",
   "pygments_lexer": "ipython2",
   "version": "2.7.10"
  }
 },
 "nbformat": 4,
 "nbformat_minor": 2
}
