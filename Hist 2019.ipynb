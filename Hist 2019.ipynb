{
 "cells": [
  {
   "cell_type": "code",
   "execution_count": 1,
   "metadata": {},
   "outputs": [
    {
     "name": "stdout",
     "output_type": "stream",
     "text": [
      "Using matplotlib backend: TkAgg\n"
     ]
    }
   ],
   "source": [
    "import numpy as np\n",
    "import matplotlib as mpl\n",
    "from matplotlib import pyplot as plt\n",
    "from matplotlib.gridspec import GridSpec\n",
    "import CompleteHist as ch\n",
    "%matplotlib"
   ]
  },
  {
   "cell_type": "code",
   "execution_count": 2,
   "metadata": {},
   "outputs": [
    {
     "name": "stdout",
     "output_type": "stream",
     "text": [
      "Using matplotlib backend: TkAgg\n"
     ]
    }
   ],
   "source": [
    "%matplotlib"
   ]
  },
  {
   "cell_type": "code",
   "execution_count": 3,
   "metadata": {},
   "outputs": [],
   "source": [
    "from matplotlib.colors import LinearSegmentedColormap\n",
    "def get_axis_limits(ax, xscale=-1.01, yscale=1.0):\n",
    "    return ax.get_xlim()[1]*xscale, ax.get_ylim()[1]*yscale"
   ]
  },
  {
   "cell_type": "code",
   "execution_count": 4,
   "metadata": {},
   "outputs": [],
   "source": [
    "def phase_switch(data,minus=0):\n",
    "    temp = list()\n",
    "    temp.append(np.array(data[0]))\n",
    "    flip = True\n",
    "    for i in range(1,len(data)):\n",
    "        temp.append(np.array(data[i]))\n",
    "        if data[i-1][1] == data[i][1] and data[i-1][2] == data[i][2]:\n",
    "            if flip:\n",
    "                temp[-1][2] = 2*(1 - minus) - temp[-1][2]\n",
    "                flip = False\n",
    "            else:\n",
    "                flip = True\n",
    "        else:\n",
    "            flip = True\n",
    "    return np.array(temp)"
   ]
  },
  {
   "cell_type": "code",
   "execution_count": 5,
   "metadata": {},
   "outputs": [],
   "source": [
    "#plotting from 0:2pi\n",
    "#Current Color Scheme!!!!!\n",
    "cdict = {'red': ((0.0, 0.0, 0.0),\n",
    "                 (0.25, 0.0, 0.0),\n",
    "                   (0.375, 1.0, 1.0),\n",
    "                   (0.5, 1.0, 1.0),\n",
    "                   (0.625, 1.0, 1.0),\n",
    "                  (1.0, 0.5, 0.5)),\n",
    "\n",
    "         'green': ((0.0, 1, 1),\n",
    "                   (0.125, 0.0, 0.0),\n",
    "                   (0.25, 1.0, 1.0),\n",
    "                   (0.5, 0.0, 0.0),\n",
    "                   (0.625, 1.0, 1.0),\n",
    "                  (1.0, 1, 1)),\n",
    "\n",
    "         'blue': ((0.0, 0.0, 0.0),\n",
    "                   (0.125, 1.0, 1.0),\n",
    "                   (0.25, 1.0, 1.0),\n",
    "                   (0.375, 1.0, 1.0),\n",
    "                   (0.5, 0.0, 0.0),\n",
    "                   (1.0, 0.0, 0.0)),\n",
    "        }\n",
    "        \n",
    "fullC = LinearSegmentedColormap('fullC', cdict)"
   ]
  },
  {
   "cell_type": "code",
   "execution_count": 7,
   "metadata": {},
   "outputs": [],
   "source": [
    "#-pi to pi mirror color scheme\n",
    "cdict = {'red': ((0.0, 1.0, 1.0),\n",
    "                (0.125, 1.0, 1.0),\n",
    "                (0.25, 0.0, 0.0),\n",
    "                (0.5, 0.0, 0.0),\n",
    "                 (0.75, 0.0, 0.0),\n",
    "                   (0.875, 1.0, 1.0),\n",
    "                   (1.0, 1.0, 1.0)),\n",
    "\n",
    "         'green': ((0.0, 0.0, 0.0),\n",
    "                     (0.25, 1.0, 1.0),\n",
    "                     (0.375, 0.0, 0.0),\n",
    "                     (0.5, 1, 1),\n",
    "                   (0.625, 0.0, 0.0),\n",
    "                   (0.75, 1.0, 1.0),\n",
    "                   (1.0, 0.0, 0.0)),\n",
    "\n",
    "         'blue': ((0.0, 0.0, 0.0),\n",
    "                 (0.125, 1.0, 1.0),\n",
    "                 (0.25, 1.0, 1.0),\n",
    "                 (0.375, 1.0, 1.0),\n",
    "                 (0.5, 0.0, 0.0),\n",
    "                   (0.625, 1.0, 1.0),\n",
    "                   (0.75, 1.0, 1.0),\n",
    "                   (0.875, 1.0, 1.0),\n",
    "                   (1.0, 0.0, 0.0)),\n",
    "        }\n",
    "        \n",
    "fullCMirror = LinearSegmentedColormap('fullCMirror', cdict)"
   ]
  },
  {
   "cell_type": "code",
   "execution_count": 6,
   "metadata": {},
   "outputs": [],
   "source": [
    "#Prepare DATA\n",
    "pruned14 = np.load('Pruned 025 4_16_2019.npy')\n",
    "pruned34 = np.load('Pruned 075 2_1_2019.npy')\n",
    "pruned12 = np.load('Pruned 05 3_12_2019.npy')\n",
    "prunedfig = np.load('Pruned 1 Fig 3_12_2019.npy')\n",
    "prunedsup = np.load('Pruned 1 Sup 3_12_2019.npy')\n",
    "\n",
    "new14 = list()\n",
    "for i in pruned14:\n",
    "    for j in i:\n",
    "        new14.append(j)\n",
    "new14 = np.array(new14)\n",
    "\n",
    "new34 = list()\n",
    "for i in pruned34:\n",
    "    for j in i:\n",
    "        new34.append(j)\n",
    "new34 = np.array(new34)\n",
    "\n",
    "new12 = list()\n",
    "for i in pruned12:\n",
    "    for j in i:\n",
    "        new12.append(j)\n",
    "new12 = np.array(new12)\n",
    "\n",
    "\n",
    "newfig = list()\n",
    "for i in prunedfig:\n",
    "    for j in i:\n",
    "        newfig.append(j)\n",
    "newfig = np.array(newfig)\n",
    "\n",
    "newsup = list()\n",
    "for i in prunedsup:\n",
    "    for j in i:\n",
    "        newsup.append(j)\n",
    "        \n",
    "newsup = np.array(newsup)\n",
    "\n",
    "\n",
    "sw14 = phase_switch(new14)\n",
    "sw12 = phase_switch(new12)\n",
    "sw34 = phase_switch(new34)\n",
    "swfig = phase_switch(newfig)\n",
    "swsup = phase_switch(newsup)"
   ]
  },
  {
   "cell_type": "code",
   "execution_count": 7,
   "metadata": {},
   "outputs": [],
   "source": [
    "plt.rc('text', usetex=True) \n",
    "\n",
    "# Helvetica \n",
    "# set serif, too. Otherwise setting to times and then \n",
    "# Helvetica causes an error. \n",
    "font = {'family':'sans-serif','sans-serif':['Helvetica'], \n",
    "        'serif':['cm10']} \n",
    "preamble  = r\"\"\" \n",
    "               \\usepackage{color} \n",
    "               \\usepackage[tx]{sfmath} \n",
    "               \\usepackage{helvet} \n",
    "            \"\"\" \n",
    "\n",
    "\n",
    "# Unicode for Tex \n",
    "#preamble =  r\"\"\"\\usepackage[utf8]{inputenc}\"\"\" + preamble \n",
    "# inputenc should be set automatically \n",
    "plt.rcParams['text.latex.unicode']=True \n",
    "\n",
    "#print font, preamble \n",
    "plt.rc('font',**font) \n",
    "plt.rcParams['text.latex.preamble'] = preamble\n",
    "mpl.rcParams.update({'font.size': 11})"
   ]
  },
  {
   "cell_type": "code",
   "execution_count": 8,
   "metadata": {},
   "outputs": [
    {
     "ename": "NameError",
     "evalue": "name 'nice_height' is not defined",
     "output_type": "error",
     "traceback": [
      "\u001b[1;31m---------------------------------------------------------------------------\u001b[0m",
      "\u001b[1;31mNameError\u001b[0m                                 Traceback (most recent call last)",
      "\u001b[1;32m<ipython-input-8-e7a9e9cda23a>\u001b[0m in \u001b[0;36m<module>\u001b[1;34m()\u001b[0m\n\u001b[0;32m      2\u001b[0m \u001b[1;33m\u001b[0m\u001b[0m\n\u001b[0;32m      3\u001b[0m \u001b[1;31m#Fig height:\u001b[0m\u001b[1;33m\u001b[0m\u001b[1;33m\u001b[0m\u001b[0m\n\u001b[1;32m----> 4\u001b[1;33m \u001b[0mheight\u001b[0m \u001b[1;33m=\u001b[0m \u001b[1;36m3\u001b[0m \u001b[1;33m*\u001b[0m \u001b[0mnice_height\u001b[0m\u001b[1;33m\u001b[0m\u001b[0m\n\u001b[0m\u001b[0;32m      5\u001b[0m \u001b[0mbot\u001b[0m \u001b[1;33m=\u001b[0m \u001b[1;36m4.6\u001b[0m\u001b[1;33m*\u001b[0m\u001b[1;36m1.2\u001b[0m\u001b[1;33m*\u001b[0m\u001b[1;36m90\u001b[0m\u001b[1;33m/\u001b[0m\u001b[1;36m1000\u001b[0m\u001b[1;33m/\u001b[0m\u001b[1;36m4.0\u001b[0m\u001b[1;33m\u001b[0m\u001b[0m\n\u001b[0;32m      6\u001b[0m \u001b[0mheight\u001b[0m \u001b[1;33m+=\u001b[0m \u001b[0mbot\u001b[0m\u001b[1;33m\u001b[0m\u001b[0m\n",
      "\u001b[1;31mNameError\u001b[0m: name 'nice_height' is not defined"
     ]
    }
   ],
   "source": [
    "#All data\n",
    "\n",
    "#Fig height:\n",
    "height = 3 * nice_height\n",
    "bot = 4.6*1.2*90/1000/4.0\n",
    "height += bot\n",
    "\n",
    "gs = GridSpec(1000,1000)\n",
    "#Data---------------------------------------------------------------------------------\n",
    "width = 0.03\n",
    "offset = 0\n",
    "bins = np.arange(offset,2.0,width)\n",
    "\n",
    "data = np.vstack((new14,new12,new34,newfig,newsup))\n",
    "\n",
    "\n",
    "hist_all, bins_all = np.histogram(data[:,2],bins)\n",
    "\n",
    "#-------------------------------------------------------------------------------------\n",
    "#Get color bars:\n",
    "cmap = fullC\n",
    "colors = cmap(np.linspace(0.0,1.0,len(bins_all)-1))\n",
    "\n",
    "fig = plt.figure(figsize=[9.2,height])\n",
    "\n",
    "#use half bot_space between same axes\n",
    "\n",
    "\n",
    "plt.bar(bins_all[:-1], hist_all, width=width, color=colors, alpha=0.8)\n",
    "plt.ylim(0,22)\n",
    "plt.yticks([0,10,20])\n",
    "plt.xlim(0,2)\n",
    "plt.xlabel('$\\Delta\\phi$ ($\\pi$)',size=18,labelpad = 3)\n",
    "plt.ylabel('$Count$',size=18)\n",
    "\n"
   ]
  },
  {
   "cell_type": "code",
   "execution_count": null,
   "metadata": {},
   "outputs": [],
   "source": [
    "fig.savefig('Hist 3_2019 All Data',dpi=1000)"
   ]
  },
  {
   "cell_type": "code",
   "execution_count": null,
   "metadata": {},
   "outputs": [],
   "source": [
    "#Only main paper\n",
    "\n",
    "#Fig height:\n",
    "height = 3 * nice_height\n",
    "bot = 4.6*1.2*90/1000/4.0\n",
    "height += bot\n",
    "\n",
    "gs = GridSpec(1000,1000)\n",
    "#Data---------------------------------------------------------------------------------\n",
    "width = 0.03\n",
    "offset = 0\n",
    "bins = np.arange(offset,2.0,width)\n",
    "\n",
    "data = np.vstack((new14,newfig))\n",
    "\n",
    "\n",
    "hist_all, bins_all = np.histogram(data[:,2],bins)\n",
    "\n",
    "#-------------------------------------------------------------------------------------\n",
    "#Get color bars:\n",
    "cmap = fullC\n",
    "colors = cmap(np.linspace(0.0,1.0,len(bins_all)-1))\n",
    "\n",
    "fig = plt.figure(figsize=[9.2,height])\n",
    "\n",
    "#use half bot_space between same axes\n",
    "\n",
    "\n",
    "plt.bar(bins_all[:-1], hist_all, width=width, color=colors, alpha=0.8)\n",
    "plt.ylim(0,12)\n",
    "plt.yticks([0,5,10])\n",
    "plt.xlim(0,2)\n",
    "plt.xlabel('$\\Delta\\phi$ ($\\pi$)',size=18,labelpad = 3)\n",
    "plt.ylabel('$Count$',size=18)\n",
    "\n"
   ]
  },
  {
   "cell_type": "code",
   "execution_count": null,
   "metadata": {},
   "outputs": [],
   "source": [
    "fig.savefig('Hist 3_2019 Paper Data',dpi=1000)"
   ]
  },
  {
   "cell_type": "code",
   "execution_count": null,
   "metadata": {},
   "outputs": [],
   "source": [
    "#PM pi/4\n",
    "\n",
    "#Fig height:\n",
    "height = 3 * nice_height\n",
    "bot = 4.6*1.2*90/1000/4.0\n",
    "height += bot\n",
    "\n",
    "gs = GridSpec(1000,1000)\n",
    "#Data---------------------------------------------------------------------------------\n",
    "width = 0.03\n",
    "offset = 0\n",
    "bins = np.arange(offset,2.0,width)\n",
    "\n",
    "data = np.vstack((new14,new12,new34,newfig,newsup))\n",
    "\n",
    "\n",
    "hist_all, bins_all = np.histogram(data[:,2],bins)\n",
    "\n",
    "#-------------------------------------------------------------------------------------\n",
    "#Get color bars:\n",
    "cmap = fullC\n",
    "colors = cmap(np.linspace(0.0,1.0,len(bins_all)-1))\n",
    "\n",
    "fig = plt.figure(figsize=[9.2,height])\n",
    "\n",
    "#use half bot_space between same axes\n",
    "\n",
    "\n",
    "plt.bar(bins_all[:-1], hist_all, width=width, color=colors, alpha=0.8)\n",
    "plt.ylim(0,22)\n",
    "plt.yticks([0,10,20])\n",
    "plt.xlim(0,2)\n",
    "plt.xlabel('$\\Delta\\phi$ ($\\pi$)',size=18,labelpad = 3)\n",
    "plt.ylabel('$Count$',size=18)\n",
    "\n"
   ]
  },
  {
   "cell_type": "code",
   "execution_count": null,
   "metadata": {},
   "outputs": [],
   "source": [
    "fig.savefig('Hist 3_2019 All Data PM 025Pi',dpi=1000)"
   ]
  },
  {
   "cell_type": "code",
   "execution_count": null,
   "metadata": {},
   "outputs": [],
   "source": [
    "#Only pm pi\n",
    "\n",
    "#Fig height:\n",
    "height = 3 * nice_height\n",
    "bot = 4.6*1.2*90/1000/4.0\n",
    "height += bot\n",
    "\n",
    "gs = GridSpec(1000,1000)\n",
    "#Data---------------------------------------------------------------------------------\n",
    "width = 0.03\n",
    "offset = 0\n",
    "bins = np.arange(offset,2.0,width)\n",
    "\n",
    "data = new14\n",
    "\n",
    "\n",
    "hist_all, bins_all = np.histogram(data[:,2],bins)\n",
    "\n",
    "#-------------------------------------------------------------------------------------\n",
    "#Get color bars:\n",
    "cmap = fullC\n",
    "colors = cmap(np.linspace(0.0,1.0,len(bins_all)-1))\n",
    "\n",
    "fig = plt.figure(figsize=[9.2,height])\n",
    "\n",
    "#use half bot_space between same axes\n",
    "\n",
    "\n",
    "plt.bar(bins_all[:-1], hist_all, width=width, color=colors, alpha=0.8)\n",
    "plt.ylim(0,7)\n",
    "plt.yticks([0,5])\n",
    "plt.xlim(0,2)\n",
    "plt.xlabel('$\\Delta\\phi$ ($\\pi$)',size=18,labelpad = 3)\n",
    "plt.ylabel('$Count$',size=18)\n",
    "\n"
   ]
  },
  {
   "cell_type": "code",
   "execution_count": null,
   "metadata": {},
   "outputs": [],
   "source": [
    "fig.savefig('Hist 3_2019 Only PM 025Pi',dpi=1000)"
   ]
  },
  {
   "cell_type": "code",
   "execution_count": null,
   "metadata": {},
   "outputs": [],
   "source": [
    "#Only Pi paper\n",
    "\n",
    "pi14 = np.array(new14[-3])\n",
    "\n",
    "\n",
    "#Fig height:\n",
    "height = 3 * nice_height\n",
    "bot = 4.6*1.2*90/1000/4.0\n",
    "height += bot\n",
    "\n",
    "gs = GridSpec(1000,1000)\n",
    "#Data---------------------------------------------------------------------------------\n",
    "width = 0.03\n",
    "offset = 0\n",
    "bins = np.arange(offset,2.0,width)\n",
    "\n",
    "data = np.vstack((pi14,newfig))\n",
    "\n",
    "\n",
    "hist_all, bins_all = np.histogram(data[:,2],bins)\n",
    "\n",
    "#-------------------------------------------------------------------------------------\n",
    "#Get color bars:\n",
    "cmap = fullC\n",
    "colors = cmap(np.linspace(0.0,1.0,len(bins_all)-1))\n",
    "\n",
    "fig = plt.figure(figsize=[9.2,height])\n",
    "\n",
    "#use half bot_space between same axes\n",
    "\n",
    "\n",
    "plt.bar(bins_all[:-1], hist_all, width=width, color=colors, alpha=0.8)\n",
    "plt.ylim(0,12)\n",
    "plt.yticks([0,5,10])\n",
    "plt.xlim(0,2)\n",
    "plt.xlabel('$\\Delta\\phi$ ($\\pi$)',size=18,labelpad = 3)\n",
    "plt.ylabel('$Count$',size=18)\n",
    "\n"
   ]
  },
  {
   "cell_type": "code",
   "execution_count": null,
   "metadata": {},
   "outputs": [],
   "source": [
    "fig.savefig('Hist 3_2019 Only Pi Paper',dpi=1000)"
   ]
  },
  {
   "cell_type": "markdown",
   "metadata": {},
   "source": [
    "# With phase_switch"
   ]
  },
  {
   "cell_type": "code",
   "execution_count": 9,
   "metadata": {},
   "outputs": [
    {
     "ename": "NameError",
     "evalue": "name 'nice_height' is not defined",
     "output_type": "error",
     "traceback": [
      "\u001b[1;31m---------------------------------------------------------------------------\u001b[0m",
      "\u001b[1;31mNameError\u001b[0m                                 Traceback (most recent call last)",
      "\u001b[1;32m<ipython-input-9-13c29f3f1105>\u001b[0m in \u001b[0;36m<module>\u001b[1;34m()\u001b[0m\n\u001b[0;32m      8\u001b[0m \u001b[1;33m\u001b[0m\u001b[0m\n\u001b[0;32m      9\u001b[0m \u001b[1;31m#Fig height:\u001b[0m\u001b[1;33m\u001b[0m\u001b[1;33m\u001b[0m\u001b[0m\n\u001b[1;32m---> 10\u001b[1;33m \u001b[0mheight\u001b[0m \u001b[1;33m=\u001b[0m \u001b[1;36m3\u001b[0m \u001b[1;33m*\u001b[0m \u001b[0mnice_height\u001b[0m\u001b[1;33m\u001b[0m\u001b[0m\n\u001b[0m\u001b[0;32m     11\u001b[0m \u001b[0mbot\u001b[0m \u001b[1;33m=\u001b[0m \u001b[1;36m4.6\u001b[0m\u001b[1;33m*\u001b[0m\u001b[1;36m1.2\u001b[0m\u001b[1;33m*\u001b[0m\u001b[1;36m90\u001b[0m\u001b[1;33m/\u001b[0m\u001b[1;36m1000\u001b[0m\u001b[1;33m/\u001b[0m\u001b[1;36m4.0\u001b[0m\u001b[1;33m\u001b[0m\u001b[0m\n\u001b[0;32m     12\u001b[0m \u001b[0mheight\u001b[0m \u001b[1;33m+=\u001b[0m \u001b[0mbot\u001b[0m\u001b[1;33m\u001b[0m\u001b[0m\n",
      "\u001b[1;31mNameError\u001b[0m: name 'nice_height' is not defined"
     ]
    }
   ],
   "source": [
    "#All data with phase switch\n",
    "\n",
    "sw14 = phase_switch(new14)\n",
    "sw12 = phase_switch(new12)\n",
    "sw34 = phase_switch(new34)\n",
    "swfig = phase_switch(newfig)\n",
    "swsup = phase_switch(newsup)\n",
    "\n",
    "#Fig height:\n",
    "height = 3 * nice_height\n",
    "bot = 4.6*1.2*90/1000/4.0\n",
    "height += bot\n",
    "\n",
    "gs = GridSpec(1000,1000)\n",
    "#Data---------------------------------------------------------------------------------\n",
    "width = 0.03\n",
    "offset = 0\n",
    "bins = np.arange(offset,2.0,width)\n",
    "\n",
    "#This is where to pick data for plotting\n",
    "data = np.vstack((sw14,sw12,sw34,swfig,swsup))\n",
    "\n",
    "\n",
    "hist_all, bins_all = np.histogram(data[:,2],bins)\n",
    "\n",
    "#-------------------------------------------------------------------------------------\n",
    "#Get color bars:\n",
    "cmap = fullC\n",
    "colors = cmap(np.linspace(0.0,1.0,len(bins_all)-1))\n",
    "\n",
    "fig = plt.figure(figsize=[9.2,height])\n",
    "\n",
    "#use half bot_space between same axes\n",
    "\n",
    "\n",
    "plt.bar(bins_all[:-1], hist_all, width=width, color=colors, alpha=0.8)\n",
    "plt.ylim(0,16)\n",
    "plt.yticks([0,5,10,15])\n",
    "plt.xlim(0,2)\n",
    "plt.xlabel('$\\Delta\\phi$ ($\\pi$)',size=18,labelpad = 3)\n",
    "plt.ylabel('$Count$',size=18)"
   ]
  },
  {
   "cell_type": "code",
   "execution_count": null,
   "metadata": {},
   "outputs": [],
   "source": [
    "fig.savefig('Hist 3_2019 All Data PM slips',dpi=1000)"
   ]
  },
  {
   "cell_type": "code",
   "execution_count": null,
   "metadata": {},
   "outputs": [],
   "source": [
    "#Only main paper\n",
    "\n",
    "#Fig height:\n",
    "height = 3 * nice_height\n",
    "bot = 4.6*1.2*90/1000/4.0\n",
    "height += bot\n",
    "\n",
    "gs = GridSpec(1000,1000)\n",
    "#Data---------------------------------------------------------------------------------\n",
    "width = 0.03\n",
    "offset = 0\n",
    "bins = np.arange(offset,2.0,width)\n",
    "\n",
    "data = np.vstack((sw14,swfig))\n",
    "\n",
    "\n",
    "hist_all, bins_all = np.histogram(data[:,2],bins)\n",
    "\n",
    "#-------------------------------------------------------------------------------------\n",
    "#Get color bars:\n",
    "cmap = fullC\n",
    "colors = cmap(np.linspace(0.0,1.0,len(bins_all)-1))\n",
    "\n",
    "fig = plt.figure(figsize=[9.2,height])\n",
    "\n",
    "#use half bot_space between same axes\n",
    "\n",
    "\n",
    "plt.bar(bins_all[:-1], hist_all, width=width, color=colors, alpha=0.8)\n",
    "plt.ylim(0,9)\n",
    "plt.yticks([0,5])\n",
    "plt.xlim(0,2)\n",
    "plt.xlabel('$\\Delta\\phi$ ($\\pi$)',size=18,labelpad = 3)\n",
    "plt.ylabel('$Count$',size=18)\n",
    "\n"
   ]
  },
  {
   "cell_type": "code",
   "execution_count": null,
   "metadata": {},
   "outputs": [],
   "source": [
    "fig.savefig('Hist 3_2019 Paper Data PM slips',dpi=1000)"
   ]
  },
  {
   "cell_type": "code",
   "execution_count": 10,
   "metadata": {},
   "outputs": [
    {
     "ename": "NameError",
     "evalue": "name 'fullCMirror' is not defined",
     "output_type": "error",
     "traceback": [
      "\u001b[1;31m---------------------------------------------------------------------------\u001b[0m",
      "\u001b[1;31mNameError\u001b[0m                                 Traceback (most recent call last)",
      "\u001b[1;32m<ipython-input-10-fdde742488b2>\u001b[0m in \u001b[0;36m<module>\u001b[1;34m()\u001b[0m\n\u001b[0;32m     16\u001b[0m \u001b[1;31m#-------------------------------------------------------------------------------------\u001b[0m\u001b[1;33m\u001b[0m\u001b[1;33m\u001b[0m\u001b[0m\n\u001b[0;32m     17\u001b[0m \u001b[1;31m#Get color bars:\u001b[0m\u001b[1;33m\u001b[0m\u001b[1;33m\u001b[0m\u001b[0m\n\u001b[1;32m---> 18\u001b[1;33m \u001b[0mcmap\u001b[0m \u001b[1;33m=\u001b[0m \u001b[0mfullCMirror\u001b[0m\u001b[1;33m\u001b[0m\u001b[0m\n\u001b[0m\u001b[0;32m     19\u001b[0m \u001b[0mcolors\u001b[0m \u001b[1;33m=\u001b[0m \u001b[0mcmap\u001b[0m\u001b[1;33m(\u001b[0m\u001b[0mnp\u001b[0m\u001b[1;33m.\u001b[0m\u001b[0mlinspace\u001b[0m\u001b[1;33m(\u001b[0m\u001b[1;36m0.0\u001b[0m\u001b[1;33m,\u001b[0m\u001b[1;36m1.0\u001b[0m\u001b[1;33m,\u001b[0m\u001b[0mlen\u001b[0m\u001b[1;33m(\u001b[0m\u001b[0mbins_all\u001b[0m\u001b[1;33m)\u001b[0m\u001b[1;33m-\u001b[0m\u001b[1;36m1\u001b[0m\u001b[1;33m)\u001b[0m\u001b[1;33m)\u001b[0m\u001b[1;33m\u001b[0m\u001b[0m\n\u001b[0;32m     20\u001b[0m \u001b[1;33m\u001b[0m\u001b[0m\n",
      "\u001b[1;31mNameError\u001b[0m: name 'fullCMirror' is not defined"
     ]
    }
   ],
   "source": [
    "#Only PI main paper, with minus\n",
    "\n",
    "sw14m = phase_switch(new14,minus=1)\n",
    "\n",
    "#Data---------------------------------------------------------------------------------\n",
    "width = 0.017\n",
    "start = -1.0\n",
    "end = 1.0\n",
    "bins = np.arange(start,end,width)\n",
    "\n",
    "data = np.vstack((sw14m))\n",
    "\n",
    "\n",
    "hist_all, bins_all = np.histogram(data[:,2],bins)\n",
    "\n",
    "#-------------------------------------------------------------------------------------\n",
    "#Get color bars:\n",
    "cmap = fullCMirror\n",
    "colors = cmap(np.linspace(0.0,1.0,len(bins_all)-1))\n",
    "\n",
    "fig = plt.figure(figsize=[6,3])\n",
    "\n",
    "#use half bot_space between same axes\n",
    "\n",
    "plt.subplot2grid((100,100), (0,0), colspan=100, rowspan=95) #for 3x6\n",
    "plt.bar(bins_all[:-1], hist_all, width=width, color=colors, alpha=0.8)\n",
    "plt.ylim(0,5)\n",
    "plt.yticks([0,2,4])\n",
    "plt.xlim(-0.4,0.4)\n",
    "plt.xlabel('$\\Delta\\phi$ ($\\pi$)',size=18,labelpad = 3)\n",
    "plt.ylabel('$Count$',size=18)\n",
    "\n"
   ]
  },
  {
   "cell_type": "code",
   "execution_count": null,
   "metadata": {},
   "outputs": [],
   "source": [
    "fig.savefig('Hist 3_2019 025Pi PM slips 3x6',dpi=1000)"
   ]
  },
  {
   "cell_type": "code",
   "execution_count": null,
   "metadata": {},
   "outputs": [],
   "source": [
    "#Only main paper PM\n",
    "\n",
    "#Fig height:\n",
    "height = 3 * nice_height\n",
    "bot = 4.6*1.2*90/1000/4.0\n",
    "height += bot\n",
    "\n",
    "gs = GridSpec(1000,1000)\n",
    "#Data---------------------------------------------------------------------------------\n",
    "width = 0.02\n",
    "start = 0\n",
    "end = 2.0\n",
    "bins = np.arange(start,end,width)\n",
    "\n",
    "data = np.vstack((swfig,sw14[-3]))\n",
    "\n",
    "\n",
    "hist_all, bins_all = np.histogram(data[:,2],bins)\n",
    "\n",
    "#-------------------------------------------------------------------------------------\n",
    "#Get color bars:\n",
    "cmap = fullC\n",
    "colors = cmap(np.linspace(0.0,1.0,len(bins_all)-1))\n",
    "\n",
    "fig = plt.figure(figsize=[6,3])\n",
    "plt.subplot2grid((100,100), (0,0), colspan=100, rowspan=95) #for 3x6\n",
    "\n",
    "plt.bar(bins_all[:-1], hist_all, width=width, color=colors, alpha=0.8)\n",
    "plt.ylim(0,9)\n",
    "plt.yticks([0,5])\n",
    "plt.xlim(0.6,1.4)\n",
    "plt.xlabel('$\\Delta\\phi$ ($\\pi$)',size=18,labelpad = 3)\n",
    "plt.ylabel('$Count$',size=18)\n",
    "\n"
   ]
  },
  {
   "cell_type": "code",
   "execution_count": null,
   "metadata": {},
   "outputs": [],
   "source": [
    "fig.savefig('Hist 3_2019 Paper Pi PM slips 3x6',dpi=1000)"
   ]
  },
  {
   "cell_type": "code",
   "execution_count": null,
   "metadata": {},
   "outputs": [],
   "source": [
    "#All Pi PM\n",
    "\n",
    "gs = GridSpec(1000,1000)\n",
    "#Data---------------------------------------------------------------------------------\n",
    "width = 0.017\n",
    "start = 0\n",
    "end = 2.0\n",
    "bins = np.arange(start,end,width)\n",
    "\n",
    "data = np.vstack((swfig,sw14[-3],swsup))\n",
    "\n",
    "\n",
    "hist_all, bins_all = np.histogram(data[:,2],bins)\n",
    "\n",
    "#-------------------------------------------------------------------------------------\n",
    "#Get color bars:\n",
    "cmap = fullC\n",
    "colors = cmap(np.linspace(0.0,1.0,len(bins_all)-1))\n",
    "\n",
    "fig = plt.figure(figsize=[6,4])\n",
    "#plt.subplot2grid((100,100), (0,0), colspan=100, rowspan=95) #for 3x6\n",
    "\n",
    "plt.bar(bins_all[:-1], hist_all, width=width, color=colors, alpha=0.8)\n",
    "plt.ylim(0,14)\n",
    "plt.yticks([0,5,10])\n",
    "plt.xlim(0.6,1.4)\n",
    "plt.xlabel('$\\Delta\\phi$ ($\\pi$)',size=18,labelpad = 3)\n",
    "plt.ylabel('$Count$',size=18)\n",
    "\n"
   ]
  },
  {
   "cell_type": "code",
   "execution_count": null,
   "metadata": {},
   "outputs": [],
   "source": [
    "fig.savefig('Hist 3_2019 All Pi PM slips 4x6',dpi=1000)"
   ]
  },
  {
   "cell_type": "code",
   "execution_count": null,
   "metadata": {},
   "outputs": [],
   "source": [
    "#All Pi\n",
    "\n",
    "gs = GridSpec(1000,1000)\n",
    "#Data---------------------------------------------------------------------------------\n",
    "width = 0.014\n",
    "start = 0\n",
    "end = 2.0\n",
    "bins = np.arange(start,end,width)\n",
    "\n",
    "data = np.vstack((newfig,new14[-3],newsup))\n",
    "\n",
    "\n",
    "hist_all, bins_all = np.histogram(data[:,2],bins)\n",
    "\n",
    "#-------------------------------------------------------------------------------------\n",
    "#Get color bars:\n",
    "cmap = fullC\n",
    "colors = cmap(np.linspace(0.0,1.0,len(bins_all)-1))\n",
    "\n",
    "fig = plt.figure(figsize=[6,3])\n",
    "plt.subplot2grid((100,100), (0,0), colspan=100, rowspan=95) #for 3x6\n",
    "\n",
    "plt.bar(bins_all[:-1], hist_all, width=width, color=colors, alpha=0.8)\n",
    "plt.ylim(0,15)\n",
    "plt.yticks([0,10])\n",
    "plt.xlim(0.6,1.4)\n",
    "plt.xlabel('$\\Delta\\phi$ ($\\pi$)',size=18,labelpad = 3)\n",
    "plt.ylabel('$Count$',size=18)\n",
    "\n"
   ]
  },
  {
   "cell_type": "code",
   "execution_count": null,
   "metadata": {},
   "outputs": [],
   "source": [
    "fig.savefig('Hist 3_2019 All Pi slips 3x6',dpi=1000)"
   ]
  },
  {
   "cell_type": "code",
   "execution_count": 33,
   "metadata": {},
   "outputs": [
    {
     "data": {
      "text/plain": [
       "<matplotlib.text.Text at 0x27c08b38>"
      ]
     },
     "execution_count": 33,
     "metadata": {},
     "output_type": "execute_result"
    }
   ],
   "source": [
    "#Paper Pi\n",
    "\n",
    "gs = GridSpec(1000,1000)\n",
    "#Data---------------------------------------------------------------------------------\n",
    "width = 0.02\n",
    "start = 0\n",
    "end = 2.0\n",
    "bins = np.arange(start,end,width)\n",
    "\n",
    "data = np.vstack((newfig,new14[-3]))\n",
    "\n",
    "\n",
    "hist_all, bins_all = np.histogram(data[:,2],bins)\n",
    "\n",
    "#-------------------------------------------------------------------------------------\n",
    "#Get color bars:\n",
    "cmap = fullC\n",
    "colors = cmap(np.linspace(0.0,1.0,len(bins_all)-1))\n",
    "\n",
    "fig = plt.figure(figsize=[6,4])\n",
    "#plt.subplot2grid((100,100), (0,0), colspan=100, rowspan=95) #for 3x6\n",
    "\n",
    "plt.bar(bins_all[:-1], hist_all, width=width, color=colors, alpha=0.8)\n",
    "plt.ylim(0,15)\n",
    "plt.yticks([0,10])\n",
    "plt.xlim(0.6,1.4)\n",
    "plt.xlabel('$\\Delta\\phi$ ($\\pi$)',size=18,labelpad = 3)\n",
    "plt.ylabel('$Count$',size=18)\n",
    "\n"
   ]
  },
  {
   "cell_type": "code",
   "execution_count": null,
   "metadata": {},
   "outputs": [],
   "source": [
    "fig.savefig('Hist 3_2019 Paper Pi slips 4x6',dpi=1000)"
   ]
  },
  {
   "cell_type": "code",
   "execution_count": null,
   "metadata": {},
   "outputs": [],
   "source": [
    "#Paper Pi\n",
    "\n",
    "gs = GridSpec(1000,1000)\n",
    "#Data---------------------------------------------------------------------------------\n",
    "width = 0.03\n",
    "start = 0\n",
    "end = 2.0\n",
    "bins = np.arange(start,end,width)\n",
    "\n",
    "data = np.vstack((swfig,sw14[-3],swsup,sw34))\n",
    "\n",
    "\n",
    "hist_all, bins_all = np.histogram(data[:,2],bins)\n",
    "\n",
    "#-------------------------------------------------------------------------------------\n",
    "#Get color bars:\n",
    "cmap = fullC\n",
    "colors = cmap(np.linspace(0.0,1.0,len(bins_all)-1))\n",
    "\n",
    "fig = plt.figure(figsize=[6,3])\n",
    "plt.subplot2grid((100,100), (0,0), colspan=100, rowspan=95) #for 3x6\n",
    "\n",
    "plt.bar(bins_all[:-1], hist_all, width=width, color=colors, alpha=0.8)\n",
    "plt.ylim(0,15)\n",
    "plt.yticks([0,10])\n",
    "plt.xlim(0.6,1.4)\n",
    "plt.xlabel('$\\Delta\\phi$ ($\\pi$)',size=18,labelpad = 3)\n",
    "plt.ylabel('$Count$',size=18)\n",
    "\n"
   ]
  },
  {
   "cell_type": "code",
   "execution_count": null,
   "metadata": {},
   "outputs": [],
   "source": [
    "fig.savefig('Hist 3_2019 Paper 1 and 34 Pi slips 3x6',dpi=1000)"
   ]
  },
  {
   "cell_type": "markdown",
   "metadata": {},
   "source": [
    "## Centered Bins - $\\Theta$ label"
   ]
  },
  {
   "cell_type": "code",
   "execution_count": 11,
   "metadata": {},
   "outputs": [
    {
     "ename": "NameError",
     "evalue": "name 'fullCMirror' is not defined",
     "output_type": "error",
     "traceback": [
      "\u001b[1;31m---------------------------------------------------------------------------\u001b[0m",
      "\u001b[1;31mNameError\u001b[0m                                 Traceback (most recent call last)",
      "\u001b[1;32m<ipython-input-11-016131026ed6>\u001b[0m in \u001b[0;36m<module>\u001b[1;34m()\u001b[0m\n\u001b[0;32m     15\u001b[0m \u001b[1;31m#-------------------------------------------------------------------------------------\u001b[0m\u001b[1;33m\u001b[0m\u001b[1;33m\u001b[0m\u001b[0m\n\u001b[0;32m     16\u001b[0m \u001b[1;31m#Get color bars:\u001b[0m\u001b[1;33m\u001b[0m\u001b[1;33m\u001b[0m\u001b[0m\n\u001b[1;32m---> 17\u001b[1;33m \u001b[0mcmap\u001b[0m \u001b[1;33m=\u001b[0m \u001b[0mfullCMirror\u001b[0m\u001b[1;33m\u001b[0m\u001b[0m\n\u001b[0m\u001b[0;32m     18\u001b[0m \u001b[1;33m\u001b[0m\u001b[0m\n\u001b[0;32m     19\u001b[0m \u001b[0mfig\u001b[0m \u001b[1;33m=\u001b[0m \u001b[0mplt\u001b[0m\u001b[1;33m.\u001b[0m\u001b[0mfigure\u001b[0m\u001b[1;33m(\u001b[0m\u001b[0mfigsize\u001b[0m\u001b[1;33m=\u001b[0m\u001b[1;33m[\u001b[0m\u001b[1;36m6\u001b[0m\u001b[1;33m,\u001b[0m\u001b[1;36m3\u001b[0m\u001b[1;33m]\u001b[0m\u001b[1;33m)\u001b[0m\u001b[1;33m\u001b[0m\u001b[0m\n",
      "\u001b[1;31mNameError\u001b[0m: name 'fullCMirror' is not defined"
     ]
    }
   ],
   "source": [
    "#025 and 05 PI\n",
    "#Solid colors\n",
    "#Only PI main paper, with minus\n",
    "\n",
    "sw14m = phase_switch(new14,minus=1)\n",
    "#sw12m = phase_switch(new12,minus=1)\n",
    "\n",
    "#Data---------------------------------------------------------------------------------\n",
    "width = 0.025\n",
    "start = -1.0\n",
    "end = 1.0\n",
    "bins = np.hstack((np.arange(0.0,start,-1*width)[::-1],np.arange(0.0,end,width)[1:]))\n",
    "hist_14, bins_14 = np.histogram(sw14m[:,2],bins)\n",
    "\n",
    "#-------------------------------------------------------------------------------------\n",
    "#Get color bars:\n",
    "cmap = fullCMirror\n",
    "\n",
    "fig = plt.figure(figsize=[6,3])\n",
    "plt.subplot2grid((100,100), (0,0), colspan=100, rowspan=92) #for 3x6\n",
    "#plt.subplot2grid((100,100), (0,0), colspan=100, rowspan=97) #for 4x6\n",
    "\n",
    "#for i in colors:\n",
    "plt.bar(bins_14[:-1], hist_14, width=width, color='blue', alpha=0.8)\n",
    "\n",
    "\n",
    "plt.ylim(0,5)\n",
    "plt.yticks([0,2,4])\n",
    "plt.xlim(-0.5,0.5)\n",
    "plt.xticks([-0.5,-0.25,0,0.25,0.5])\n",
    "plt.xlabel('$\\Delta\\\\theta $ ($\\pi$)',size=18,labelpad = 3)\n",
    "plt.ylabel('$Count$',size=18)\n"
   ]
  },
  {
   "cell_type": "code",
   "execution_count": 101,
   "metadata": {},
   "outputs": [],
   "source": [
    "fig.savefig('Hist 3_2019 025Pi PM slips 3x6 v3',dpi=1000)"
   ]
  },
  {
   "cell_type": "code",
   "execution_count": 64,
   "metadata": {},
   "outputs": [
    {
     "data": {
      "text/plain": [
       "<matplotlib.text.Text at 0x2e614da0>"
      ]
     },
     "execution_count": 64,
     "metadata": {},
     "output_type": "execute_result"
    }
   ],
   "source": [
    "#Only main paper PM\n",
    "\n",
    "#Data---------------------------------------------------------------------------------\n",
    "width = 0.03\n",
    "start = 0\n",
    "end = 2.0\n",
    "bins = np.arange(start,end,width)\n",
    "\n",
    "data = np.vstack((swfig,sw14[-3]))\n",
    "\n",
    "\n",
    "hist_all, bins_all = np.histogram(data[:,2],bins)\n",
    "\n",
    "#-------------------------------------------------------------------------------------\n",
    "#Get color bars:\n",
    "cmap = fullC\n",
    "colors = cmap(np.linspace(0.0,1.0,len(bins_all)-1))\n",
    "\n",
    "fig = plt.figure(figsize=[6,3])\n",
    "plt.subplot2grid((100,100), (0,0), colspan=100, rowspan=92) #for 3x6\n",
    "#plt.subplot2grid((100,100), (0,0), colspan=100, rowspan=97) #for 4x6\n",
    "\n",
    "plt.bar(bins_all[:-1], hist_all, width=width, color='red', alpha=0.8)\n",
    "plt.ylim(0,9)\n",
    "plt.yticks([0,5])\n",
    "plt.xlim(0.75,1.25)\n",
    "plt.xticks([0.75,1,1.25])\n",
    "plt.xlabel('$\\Delta\\\\theta$ ($\\pi$)',size=18,labelpad = 3)\n",
    "plt.ylabel('$Count$',size=18)\n",
    "\n"
   ]
  },
  {
   "cell_type": "code",
   "execution_count": 65,
   "metadata": {},
   "outputs": [],
   "source": [
    "fig.savefig('Hist 3_2019 Paper Pi PM slips 3x6 v2',dpi=1000)"
   ]
  },
  {
   "cell_type": "code",
   "execution_count": 105,
   "metadata": {},
   "outputs": [
    {
     "data": {
      "text/plain": [
       "<matplotlib.text.Text at 0x42074cc0>"
      ]
     },
     "execution_count": 105,
     "metadata": {},
     "output_type": "execute_result"
    }
   ],
   "source": [
    "#Only Pi paper\n",
    "\n",
    "pi14 = np.array(new14[-3])\n",
    "\n",
    "#Data---------------------------------------------------------------------------------\n",
    "width = 0.025\n",
    "offset = 0\n",
    "bins = np.arange(offset,2.0,width)\n",
    "\n",
    "data = np.vstack((pi14,newfig))\n",
    "\n",
    "\n",
    "hist_all, bins_all = np.histogram(data[:,2],bins)\n",
    "\n",
    "#-------------------------------------------------------------------------------------\n",
    "#Get color bars:\n",
    "cmap = fullC\n",
    "colors = cmap(np.linspace(0.0,1.0,len(bins_all)-1))\n",
    "\n",
    "fig = plt.figure(figsize=[6,3])\n",
    "plt.subplot2grid((100,100), (0,0), colspan=100, rowspan=92) #for 3x6\n",
    "#plt.subplot2grid((100,100), (0,0), colspan=100, rowspan=97) #for 4x6\n",
    "\n",
    "\n",
    "plt.bar(bins_all[:-1], hist_all, width=width, color='red', alpha=0.8)\n",
    "plt.ylim(0,15)\n",
    "plt.yticks([0,5,10,15])\n",
    "plt.xlim(0.75,1.25)\n",
    "plt.xticks([0.75,1,1.25])\n",
    "plt.xlabel('$\\Delta\\\\theta$ ($\\pi$)',size=18,labelpad = 3)\n",
    "plt.ylabel('$Count$',size=18)\n",
    "\n"
   ]
  },
  {
   "cell_type": "code",
   "execution_count": 104,
   "metadata": {},
   "outputs": [],
   "source": [
    "fig.savefig('Hist 3_2019 Only Pi Paper 3x6 v2',dpi=1000)"
   ]
  },
  {
   "cell_type": "code",
   "execution_count": 108,
   "metadata": {},
   "outputs": [
    {
     "data": {
      "text/plain": [
       "<matplotlib.text.Text at 0x42ac1668>"
      ]
     },
     "execution_count": 108,
     "metadata": {},
     "output_type": "execute_result"
    }
   ],
   "source": [
    "#Only Pi all\n",
    "\n",
    "pi14 = np.array(new14[-3])\n",
    "\n",
    "#Data---------------------------------------------------------------------------------\n",
    "width = 0.025\n",
    "offset = 0\n",
    "bins = np.arange(offset,2.0,width)\n",
    "\n",
    "data = np.vstack((pi14,swfig,swsup))\n",
    "\n",
    "\n",
    "hist_all, bins_all = np.histogram(data[:,2],bins)\n",
    "\n",
    "#-------------------------------------------------------------------------------------\n",
    "#Get color bars:\n",
    "cmap = fullC\n",
    "colors = cmap(np.linspace(0.0,1.0,len(bins_all)-1))\n",
    "\n",
    "fig = plt.figure(figsize=[6,3])\n",
    "plt.subplot2grid((100,100), (0,0), colspan=100, rowspan=92) #for 3x6\n",
    "#plt.subplot2grid((100,100), (0,0), colspan=100, rowspan=97) #for 4x6\n",
    "\n",
    "\n",
    "plt.bar(bins_all[:-1], hist_all, width=width, color='red', alpha=0.8)\n",
    "plt.ylim(0,15)\n",
    "plt.yticks([0,5,10,15])\n",
    "plt.xlim(0.75,1.25)\n",
    "plt.xticks([0.75,1,1.25])\n",
    "plt.xlabel('$\\Delta\\\\theta$ ($\\pi$)',size=18,labelpad = 3)\n",
    "plt.ylabel('$Count$',size=18)\n",
    "\n"
   ]
  },
  {
   "cell_type": "code",
   "execution_count": 109,
   "metadata": {},
   "outputs": [],
   "source": [
    "fig.savefig('Hist 3_2019 Pi PM slips 3x6 v3',dpi=1000)"
   ]
  },
  {
   "cell_type": "code",
   "execution_count": 12,
   "metadata": {},
   "outputs": [
    {
     "data": {
      "text/plain": [
       "<matplotlib.text.Text at 0xc7b7be0>"
      ]
     },
     "execution_count": 12,
     "metadata": {},
     "output_type": "execute_result"
    }
   ],
   "source": [
    "#All data\n",
    "#There is double data in pi, only run pi[:-2]\n",
    "solopi = np.array(new14[-3])\n",
    "pi = np.vstack((solopi,swfig,swsup))\n",
    "\n",
    "#Get the one pi out of the pi/4\n",
    "temp = list(sw14)\n",
    "del temp[-3]\n",
    "pi14 = np.array(temp)\n",
    "\n",
    "#Data---------------------------------------------------------------------------------\n",
    "width = 0.025\n",
    "offset = 0\n",
    "bins = np.arange(offset,2.0,width)\n",
    "\n",
    "data = [sw12,pi14,sw34,pi[:-2]] #BECAUSE OF DOUBLE DATA, SORT OUT WITH WOOWON FOR PI FIGURE\n",
    "\n",
    "#-------------------------------------------------------------------------------------\n",
    "colors = ['green','blue','orange','red']\n",
    "\n",
    "fig = plt.figure(figsize=[6,4])\n",
    "#plt.subplot2grid((100,100), (0,0), colspan=100, rowspan=92) #for 3x6\n",
    "plt.subplot2grid((100,100), (0,0), colspan=100, rowspan=97) #for 4x6\n",
    "\n",
    "temp = np.zeros(len(bins)-1)\n",
    "for i in range(len(colors)):\n",
    "    x,_ = np.histogram(data[i][:,2],bins)\n",
    "    plt.bar(bins[:-1],x,bottom=temp,width=width,color=colors[i], alpha=0.8)\n",
    "    temp+=x\n",
    "\n",
    "plt.ylim(0,15)\n",
    "plt.yticks([0,5,10,15])\n",
    "plt.xlim(0,2)\n",
    "plt.xticks([0,0.25,0.5,0.75,1,1.25,1.5,1.75,2.0])\n",
    "plt.xlabel('$\\Delta\\\\theta$ ($\\pi$)',size=18,labelpad = 3)\n",
    "plt.ylabel('Count',size=18)\n",
    "\n"
   ]
  },
  {
   "cell_type": "code",
   "execution_count": 16,
   "metadata": {},
   "outputs": [],
   "source": [
    "fig.savefig('Hist 3_2019 All Data PM slips 4x6 v4',dpi=1000)"
   ]
  },
  {
   "cell_type": "code",
   "execution_count": 13,
   "metadata": {},
   "outputs": [
    {
     "data": {
      "text/plain": [
       "array([[-14.8683    ,   5.5845    ,   0.90058101,   1.        ],\n",
       "       [-35.38952   ,   5.5265    ,   0.96946642,   0.95348837],\n",
       "       [-34.89967   ,   5.5255    ,   0.90145079,   0.92      ],\n",
       "       [-15.1785    ,   5.5815    ,   0.89620572,   1.        ],\n",
       "       [-14.168     ,   5.581     ,   0.99735913,   1.        ],\n",
       "       [-13.838535  ,   5.58      ,   1.0219144 ,   1.        ],\n",
       "       [-20.059545  ,   5.5355    ,   1.15402782,   0.47787611],\n",
       "       [-35.49629   ,   5.5345    ,   0.94090891,   0.84615385],\n",
       "       [-33.935365  ,   5.5345    ,   1.05909109,   0.84615385],\n",
       "       [-33.72232   ,   5.5345    ,   0.94090891,   0.84615385],\n",
       "       [-41.42871   ,   5.534     ,   0.9524676 ,   0.85202864],\n",
       "       [-41.257855  ,   5.534     ,   1.0475324 ,   0.85202864],\n",
       "       [-36.534725  ,   5.534     ,   0.9524676 ,   0.85202864],\n",
       "       [-36.01296   ,   5.534     ,   1.0475324 ,   0.85202864],\n",
       "       [-35.657465  ,   5.534     ,   0.9524676 ,   0.85202864],\n",
       "       [-35.21645   ,   5.5335    ,   0.98255864,   0.85204991],\n",
       "       [-35.672935  ,   5.533     ,   1.0434522 ,   0.91071429],\n",
       "       [-31.94816   ,   5.533     ,   0.9565478 ,   0.91071429],\n",
       "       [-31.542765  ,   5.533     ,   1.0434522 ,   0.91071429],\n",
       "       [-34.666045  ,   5.5325    ,   0.90381885,   0.93540052],\n",
       "       [-34.49799   ,   5.5325    ,   1.09618115,   0.93540052],\n",
       "       [-33.65      ,   5.5325    ,   0.90381885,   0.93540052],\n",
       "       [-34.804065  ,   5.532     ,   0.90299721,   0.90184049],\n",
       "       [-34.059005  ,   5.532     ,   1.09700279,   0.90184049],\n",
       "       [-33.463285  ,   5.532     ,   0.90299721,   0.90184049],\n",
       "       [-34.91161   ,   5.5315    ,   0.89867025,   0.89195402],\n",
       "       [-34.708945  ,   5.5315    ,   1.10132975,   0.89195402],\n",
       "       [-33.97106   ,   5.5315    ,   0.89867025,   0.89195402],\n",
       "       [-33.968275  ,   5.529     ,   0.89275068,   0.91603053],\n",
       "       [-34.073705  ,   5.5285    ,   0.99572698,   0.90948276],\n",
       "       [-34.9435    ,   5.528     ,   0.90209203,   0.95738636],\n",
       "       [-35.333515  ,   5.5275    ,   0.94678747,   0.94791667],\n",
       "       [-34.41847   ,   5.5275    ,   1.05321253,   0.94791667],\n",
       "       [-34.15476   ,   5.5275    ,   0.94678747,   0.94791667],\n",
       "       [-14.4746    ,   5.5825    ,   1.02110047,   1.        ],\n",
       "       [ -7.651     ,   5.5825    ,   0.97889953,   1.        ],\n",
       "       [ -7.43      ,   5.5825    ,   1.02110047,   1.        ],\n",
       "       [-14.2383    ,   5.582     ,   0.99611736,   1.        ],\n",
       "       [-13.8221    ,   5.5805    ,   0.9816624 ,   1.        ],\n",
       "       [-13.9362    ,   5.5795    ,   0.95692798,   1.        ],\n",
       "       [-13.7099    ,   5.579     ,   0.94285897,   1.        ],\n",
       "       [-15.348325  ,   5.578     ,   0.91429435,   1.        ],\n",
       "       [-14.955145  ,   5.578     ,   1.08570565,   1.        ],\n",
       "       [-12.94725   ,   5.578     ,   0.91429435,   1.        ],\n",
       "       [-21.7499    ,   5.578     ,   0.94609601,   1.        ],\n",
       "       [-35.588805  ,   5.535     ,   0.94226665,   0.83892617],\n",
       "       [-35.00868   ,   5.5305    ,   0.91014898,   0.89013453],\n",
       "       [-34.85053   ,   5.5305    ,   1.08985102,   0.89013453],\n",
       "       [-33.961335  ,   5.5305    ,   0.91014898,   0.89013453],\n",
       "       [-33.723595  ,   5.5305    ,   1.08985102,   0.89013453],\n",
       "       [-33.550765  ,   5.5305    ,   0.91014898,   0.89013453],\n",
       "       [-32.311505  ,   5.5305    ,   1.08985102,   0.89013453],\n",
       "       [-31.948505  ,   5.5305    ,   0.91014898,   0.89013453],\n",
       "       [-35.9441    ,   5.53      ,   0.95087474,   0.8913738 ],\n",
       "       [-35.38952   ,   5.5265    ,   0.96946642,   0.95348837],\n",
       "       [-34.89967   ,   5.5255    ,   0.90145079,   0.92      ]])"
      ]
     },
     "execution_count": 13,
     "metadata": {},
     "output_type": "execute_result"
    }
   ],
   "source": [
    "pi[:]"
   ]
  },
  {
   "cell_type": "code",
   "execution_count": 127,
   "metadata": {},
   "outputs": [
    {
     "data": {
      "text/plain": [
       "<matplotlib.text.Text at 0x49065e48>"
      ]
     },
     "execution_count": 127,
     "metadata": {},
     "output_type": "execute_result"
    }
   ],
   "source": [
    "#1 and 3/4 Pi all\n",
    "solopi = np.array(new14[-3])\n",
    "pi = np.vstack((solopi,swfig,swsup))\n",
    "\n",
    "#Get the one pi out of the pi/4\n",
    "temp = list(sw14)\n",
    "del temp[-3]\n",
    "pi14 = np.array(temp)\n",
    "\n",
    "#Data---------------------------------------------------------------------------------\n",
    "width = 0.025\n",
    "offset = 0\n",
    "bins = np.arange(offset,2.0,width)\n",
    "\n",
    "data = [sw34,pi]\n",
    "\n",
    "#-------------------------------------------------------------------------------------\n",
    "colors = ['orange','red']\n",
    "\n",
    "fig = plt.figure(figsize=[6,4])\n",
    "#plt.subplot2grid((100,100), (0,0), colspan=100, rowspan=92) #for 3x6\n",
    "plt.subplot2grid((100,100), (0,0), colspan=100, rowspan=97) #for 4x6\n",
    "\n",
    "temp = np.zeros(len(bins)-1)\n",
    "for i in range(len(colors)):\n",
    "    x,_ = np.histogram(data[i][:,2],bins)\n",
    "    plt.bar(bins[:-1],x,bottom=temp,width=width,color=colors[i], alpha=0.8)\n",
    "    temp+=x\n",
    "\n",
    "plt.ylim(0,15)\n",
    "plt.yticks([0,5,10,15])\n",
    "plt.xlim(0.70,1.3)\n",
    "plt.xticks([0.75,1,1.25,])\n",
    "plt.xlabel('$\\Delta\\\\theta$ ($\\pi$)',size=18,labelpad = 3)\n",
    "plt.ylabel('$Count$',size=18)\n",
    "\n"
   ]
  },
  {
   "cell_type": "code",
   "execution_count": 128,
   "metadata": {},
   "outputs": [],
   "source": [
    "fig.savefig('Hist 3_2019 1 and 34 Pi PM slips 4x6 v3',dpi=1000)"
   ]
  },
  {
   "cell_type": "code",
   "execution_count": null,
   "metadata": {},
   "outputs": [],
   "source": [
    "import ipywidgets\n",
    "%matplotlib inline\n",
    "\n",
    "def func(width):\n",
    "    bins = np.arange(start,end,width)\n",
    "    data = np.vstack((swfig,sw14[-3],swsup,sw34))\n",
    "    hist_all, bins_all = np.histogram(data[:,2],bins)\n",
    "    colors = cmap(np.linspace(0.0,1.0,len(bins_all)-1))\n",
    "    plt.bar(bins_all[:-1], hist_all, width=width, color=colors, alpha=0.8)\n",
    "    plt.ylim(0,15)\n",
    "    plt.yticks([0,5])\n",
    "    plt.xlim(0.6,1.4)\n",
    "    plt.title(width)\n",
    "     \n",
    "\n",
    "\n",
    "interactive_plot = ipywidgets.interactive(func, width=(0.01, 0.1, 0.001))\n",
    "output = interactive_plot.children[-1]\n",
    "output.layout.height = '350px'\n",
    "output.layout.width = '700px'\n",
    "interactive_plot\n"
   ]
  },
  {
   "cell_type": "code",
   "execution_count": null,
   "metadata": {},
   "outputs": [],
   "source": [
    "%matplotlib"
   ]
  },
  {
   "cell_type": "code",
   "execution_count": null,
   "metadata": {},
   "outputs": [],
   "source": [
    "width = 0.03\n",
    "start = 0\n",
    "end = 2.0\n",
    "bins = np.arange(start,end,width)"
   ]
  },
  {
   "cell_type": "code",
   "execution_count": null,
   "metadata": {},
   "outputs": [],
   "source": [
    "np.hstack((np.arange(0.0,-0.6,-0.03)[::-1],np.arange(0.0,0.6,0.03)[1:]))"
   ]
  },
  {
   "cell_type": "code",
   "execution_count": null,
   "metadata": {},
   "outputs": [],
   "source": [
    "np.arange(0.0,-0.5,-0.03)"
   ]
  },
  {
   "cell_type": "code",
   "execution_count": null,
   "metadata": {},
   "outputs": [],
   "source": [
    "plt.bar(bins_all[:-1], hist_all, width=width, color=colors, alpha=0.8)\n",
    "plt.bar(bins_all[:-1], hist_all, width=width, color=colors, alpha=0.8)"
   ]
  },
  {
   "cell_type": "code",
   "execution_count": 21,
   "metadata": {},
   "outputs": [
    {
     "data": {
      "text/plain": [
       "array([[-35.4633    ,   5.5355    ,   0.75090375,   0.91954023],\n",
       "       [ -6.1461205 ,   5.583     ,   0.8       ,   1.        ],\n",
       "       [-34.79144   ,   5.531     ,   0.79002495,   0.90654206],\n",
       "       [ -9.12448   ,   5.5835    ,   0.71595502,   1.        ],\n",
       "       [-37.5528    ,   5.536     ,   0.79171949,   0.90690691],\n",
       "       [-37.19396   ,   5.536     ,   0.79171949,   0.90690691],\n",
       "       [-36.85785   ,   5.536     ,   0.79171949,   0.90690691],\n",
       "       [-36.437425  ,   5.536     ,   0.79171949,   0.90690691],\n",
       "       [-36.142725  ,   5.536     ,   0.79171949,   0.90690691],\n",
       "       [-34.101725  ,   5.5295    ,   0.78772907,   0.91935484]])"
      ]
     },
     "execution_count": 21,
     "metadata": {},
     "output_type": "execute_result"
    }
   ],
   "source": [
    "new34"
   ]
  },
  {
   "cell_type": "code",
   "execution_count": null,
   "metadata": {},
   "outputs": [],
   "source": []
  }
 ],
 "metadata": {
  "kernelspec": {
   "display_name": "Python 2",
   "language": "python",
   "name": "python2"
  },
  "language_info": {
   "codemirror_mode": {
    "name": "ipython",
    "version": 2
   },
   "file_extension": ".py",
   "mimetype": "text/x-python",
   "name": "python",
   "nbconvert_exporter": "python",
   "pygments_lexer": "ipython2",
   "version": "2.7.10"
  }
 },
 "nbformat": 4,
 "nbformat_minor": 2
}
