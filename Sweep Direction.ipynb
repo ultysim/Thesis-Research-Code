{
 "cells": [
  {
   "cell_type": "code",
   "execution_count": 11,
   "metadata": {},
   "outputs": [
    {
     "name": "stdout",
     "output_type": "stream",
     "text": [
      "Using matplotlib backend: TkAgg\n"
     ]
    }
   ],
   "source": [
    "import Analysis\n",
    "import numpy as np\n",
    "import matplotlib as mpl\n",
    "from matplotlib import pyplot as plt\n",
    "from matplotlib.gridspec import GridSpec\n",
    "import regression_cv as rcv\n",
    "%matplotlib\n",
    "\n",
    "import copy\n",
    "import FitRoutine2 as fr"
   ]
  },
  {
   "cell_type": "code",
   "execution_count": 123,
   "metadata": {},
   "outputs": [],
   "source": [
    "bf_hold = list()"
   ]
  },
  {
   "cell_type": "code",
   "execution_count": 7,
   "metadata": {},
   "outputs": [],
   "source": [
    "def parseData():\n",
    "    f = open('filenames')\n",
    "    raw = f.read()\n",
    "    parse = raw.split('\\n',-1)\n",
    "    out = list()\n",
    "    f.close()\n",
    "    n = 0\n",
    "    for i in parse:\n",
    "        if i == '':\n",
    "            continue\n",
    "        f = open('C:\\\\Users\\\\Simas\\Desktop\\\\Simon Matlab\\\\matlab\\\\'+str(i), 'r')\n",
    "        raw = f.readline()\n",
    "        parse = raw.split('\\r',-1)\n",
    "        data =np.ndarray(shape=(2,len(parse)-2))   \n",
    "        count = 0\n",
    "        for a in parse: \n",
    "            if count > 0 and count < (len(parse)-1):\n",
    "                hold = a.split('\\t',-1)                    \n",
    "                data[0,count-1]=float(hold[0])\n",
    "                data[1,count-1]=float(hold[1])\n",
    "            count += 1\n",
    "        if data[0,0]>data[0,-1]:\n",
    "            print(n, \"Right to Left\")\n",
    "        else:\n",
    "            print(n, \"Left to Right\")\n",
    "        n += 1\n",
    "        "
   ]
  },
  {
   "cell_type": "code",
   "execution_count": 186,
   "metadata": {},
   "outputs": [],
   "source": [
    "run = Analysis.Run(np.load('2014_Raw.npy'), np.load('2014_Prune_new.npy'), Analysis.bval2014, np.load('2014bf_new_prune.npy'))"
   ]
  },
  {
   "cell_type": "code",
   "execution_count": 187,
   "metadata": {},
   "outputs": [],
   "source": [
    "n = 10\n",
    "\n",
    "i = run.prune_data[n]\n",
    "for j in i.fits:\n",
    "    fig = plt.figure()\n",
    "    i.plot()\n",
    "    j.plot(False,linewidth=2)\n",
    "    plt.xlim(min(i.x),max(i.x))"
   ]
  },
  {
   "cell_type": "code",
   "execution_count": 101,
   "metadata": {},
   "outputs": [],
   "source": [
    "m = 2"
   ]
  },
  {
   "cell_type": "code",
   "execution_count": 102,
   "metadata": {},
   "outputs": [
    {
     "data": {
      "text/plain": [
       "1.7108123569258853"
      ]
     },
     "execution_count": 102,
     "metadata": {},
     "output_type": "execute_result"
    }
   ],
   "source": [
    "i.fits[m].phase_l/np.pi"
   ]
  },
  {
   "cell_type": "code",
   "execution_count": 103,
   "metadata": {},
   "outputs": [
    {
     "data": {
      "text/plain": [
       "0.3949201884574931"
      ]
     },
     "execution_count": 103,
     "metadata": {},
     "output_type": "execute_result"
    }
   ],
   "source": [
    "i.fits[m].phase_r/np.pi"
   ]
  },
  {
   "cell_type": "code",
   "execution_count": 104,
   "metadata": {},
   "outputs": [
    {
     "data": {
      "text/plain": [
       "1.3158921684683922"
      ]
     },
     "execution_count": 104,
     "metadata": {},
     "output_type": "execute_result"
    }
   ],
   "source": [
    "i.fits[m].delta_phi"
   ]
  },
  {
   "cell_type": "code",
   "execution_count": 72,
   "metadata": {},
   "outputs": [
    {
     "data": {
      "text/plain": [
       "1.4196261002201402"
      ]
     },
     "execution_count": 72,
     "metadata": {},
     "output_type": "execute_result"
    }
   ],
   "source": [
    "(i.fits[m].phase_l-i.fits[m].phase_r)/np.pi"
   ]
  },
  {
   "cell_type": "code",
   "execution_count": 188,
   "metadata": {},
   "outputs": [],
   "source": [
    "hold = list()\n",
    "for j in i.fits:\n",
    "    hold.append(j.output_array())\n"
   ]
  },
  {
   "cell_type": "code",
   "execution_count": 156,
   "metadata": {},
   "outputs": [],
   "source": [
    "hold[0][9] = 2 - hold[0][9] "
   ]
  },
  {
   "cell_type": "code",
   "execution_count": 177,
   "metadata": {},
   "outputs": [],
   "source": [
    "bf_hold.append(np.array(hold))"
   ]
  },
  {
   "cell_type": "code",
   "execution_count": 98,
   "metadata": {},
   "outputs": [
    {
     "data": {
      "text/plain": [
       "[array([  6.70203152e-01,   2.26564040e-01,   5.84104802e+00,\n",
       "          1.38116109e+00,   1.14416245e+01,  -9.88711670e-04,\n",
       "          1.00000000e+00,  -1.40747910e+01,  -4.07479100e+00,\n",
       "          5.80373900e-01,   3.27045723e-04,  -9.07479100e+00]),\n",
       " array([  8.00000000e-01,   2.43506167e-01,   1.11099727e+01,\n",
       "          5.48913321e+00,   1.14823015e+01,  -1.00000000e-03,\n",
       "          1.00000000e+00,  -2.69126722e+01,  -1.69126722e+01,\n",
       "          2.10831209e-01,   1.41780271e-04,  -2.19126722e+01])]"
      ]
     },
     "execution_count": 98,
     "metadata": {},
     "output_type": "execute_result"
    }
   ],
   "source": [
    "hold"
   ]
  },
  {
   "cell_type": "code",
   "execution_count": 178,
   "metadata": {},
   "outputs": [
    {
     "data": {
      "text/plain": [
       "15"
      ]
     },
     "execution_count": 178,
     "metadata": {},
     "output_type": "execute_result"
    }
   ],
   "source": [
    "len(bf_hold)"
   ]
  },
  {
   "cell_type": "code",
   "execution_count": 120,
   "metadata": {},
   "outputs": [],
   "source": [
    "del bf_hold[-1]"
   ]
  },
  {
   "cell_type": "code",
   "execution_count": 191,
   "metadata": {},
   "outputs": [],
   "source": [
    "np.save('2014_bf_new_prune_phi_adjusted.npy',bf_hold)"
   ]
  },
  {
   "cell_type": "code",
   "execution_count": 192,
   "metadata": {},
   "outputs": [],
   "source": [
    "run = Analysis.Run(np.load('2014_Raw.npy'), np.load('2014_Prune_new.npy'), Analysis.bval2014, np.load('2014_bf_new_prune_phi_adjusted.npy'))"
   ]
  },
  {
   "cell_type": "code",
   "execution_count": 198,
   "metadata": {},
   "outputs": [],
   "source": [
    "m = 0\n",
    "for i in run.prune_data:\n",
    "    if len(i.fits) > m:\n",
    "        m = len(i.fits)\n",
    "\n",
    "L = len(run.prune_data)\n",
    "total = L*m\n",
    "c = 1\n",
    "n = 0\n",
    "plt.rc('font', size=6)    \n",
    "bins = np.arange(0.0,2.03,0.03)\n",
    "fig = plt.figure(figsize=(20,50))\n",
    "for i in run.prune_data:\n",
    "    temp = 0\n",
    "    for j in i.fits:\n",
    "        ax = plt.subplot(L,m,c)\n",
    "        i.plot()\n",
    "        j.plot(False)\n",
    "        plt.xlim([min(i.x),max(i.x)])\n",
    "        ax.set_title(\"{}$\\pi$ $\\Delta\\phi$\".format(round(j.delta_phi,4)))\n",
    "        #ax.annotate(\"{}$\\pi$ $\\Delta\\phi$\".format(round(j.delta_phi,4)), xy=(0.72, 0.80), xycoords=\"axes fraction\")\n",
    "        c += 1\n",
    "        temp += 1\n",
    "    c += (m-temp)\n",
    "    n += 1\n",
    "fig.tight_layout()"
   ]
  },
  {
   "cell_type": "code",
   "execution_count": 199,
   "metadata": {},
   "outputs": [],
   "source": [
    "fig.savefig('2014 Updated Phase Direction',dpi=1000)"
   ]
  },
  {
   "cell_type": "code",
   "execution_count": 200,
   "metadata": {},
   "outputs": [],
   "source": [
    "filenum = 2"
   ]
  },
  {
   "cell_type": "code",
   "execution_count": 235,
   "metadata": {},
   "outputs": [],
   "source": [
    "x = run.prune_data[filenum].x\n",
    "y = run.prune_data[filenum].y\n",
    "fit_hold = run.prune_data[filenum].fits"
   ]
  },
  {
   "cell_type": "code",
   "execution_count": 236,
   "metadata": {},
   "outputs": [],
   "source": [
    "fe = fr.findEdge(x,y,fit_hold,dV=0.09,mindiff=0.03)"
   ]
  },
  {
   "cell_type": "code",
   "execution_count": 237,
   "metadata": {},
   "outputs": [],
   "source": [
    "c = 0\n",
    "for i in fe:\n",
    "    if len(i)>0:\n",
    "        plt.figure()\n",
    "        plt.plot(x,y)\n",
    "        fit_hold[c].plot(False)\n",
    "        for j in i:\n",
    "            index = rcv.search(x,j[3])\n",
    "            plt.plot(x[index],y[index],'c*',markersize=20)\n",
    "            index = rcv.search(x,j[2])\n",
    "            plt.plot(x[index],y[index],'y*',markersize=20)\n",
    "    c += 1"
   ]
  },
  {
   "cell_type": "code",
   "execution_count": 238,
   "metadata": {},
   "outputs": [],
   "source": [
    "plt.figure()\n",
    "plt.plot(x,y)\n",
    "fs = fr.finalSlips(x,y,fit_hold,dV=0.09,mindiff=0.04,minsep=1.0)\n",
    "for j in fs:\n",
    "    for i in j:\n",
    "        index = rcv.search(x,(i[2]+i[3])/2)\n",
    "        plt.plot(x[index],y[index],'c*',markersize=20)"
   ]
  },
  {
   "cell_type": "code",
   "execution_count": 239,
   "metadata": {},
   "outputs": [
    {
     "data": {
      "text/plain": [
       "array([ array([[  1.2706656 ,   1.        ,  -9.032474  ,  -8.861581  ,   1.        ],\n",
       "       [  0.28183099,   2.        , -18.22453   , -18.21787   ,   1.        ],\n",
       "       [  0.28183099,   1.        , -17.76524   , -17.75465   ,   1.        ],\n",
       "       [  0.28183099,   2.        , -17.48594   , -17.44195   ,   1.        ],\n",
       "       [  1.72068398,   1.        , -19.67621   , -19.48347   ,   1.        ],\n",
       "       [  1.31589217,   1.        , -27.4663    , -27.2781    ,   1.        ],\n",
       "       [  1.31589217,   2.        , -25.80974   , -25.79647   ,   1.        ],\n",
       "       [  1.31589217,   1.        , -25.28289   , -25.27593   ,   1.        ],\n",
       "       [  1.31589217,   2.        , -25.13437   , -25.01768   ,   1.        ],\n",
       "       [  1.31589217,   1.        , -24.37667   , -24.37529   ,   1.        ]]),\n",
       "       array([], dtype=float64), array([], dtype=float64),\n",
       "       array([], dtype=float64)], dtype=object)"
      ]
     },
     "execution_count": 239,
     "metadata": {},
     "output_type": "execute_result"
    }
   ],
   "source": [
    "fs"
   ]
  },
  {
   "cell_type": "code",
   "execution_count": 231,
   "metadata": {},
   "outputs": [],
   "source": [
    "se = np.load('2014se_new_prune_09dV.npy')"
   ]
  },
  {
   "cell_type": "code",
   "execution_count": 260,
   "metadata": {},
   "outputs": [],
   "source": [
    "filenum = 8"
   ]
  },
  {
   "cell_type": "code",
   "execution_count": 261,
   "metadata": {},
   "outputs": [],
   "source": [
    "n = 0"
   ]
  },
  {
   "cell_type": "code",
   "execution_count": 262,
   "metadata": {},
   "outputs": [
    {
     "name": "stdout",
     "output_type": "stream",
     "text": [
      "0.354462291403\n"
     ]
    }
   ],
   "source": [
    "a = 2 - run.prune_data[filenum].fits[n].delta_phi\n",
    "print(a)"
   ]
  },
  {
   "cell_type": "code",
   "execution_count": 263,
   "metadata": {},
   "outputs": [
    {
     "data": {
      "text/plain": [
       "(array([31, 32, 37, 38], dtype=int64),)"
      ]
     },
     "execution_count": 263,
     "metadata": {},
     "output_type": "execute_result"
    }
   ],
   "source": [
    "np.where(se[0][:,2]==a)"
   ]
  },
  {
   "cell_type": "code",
   "execution_count": 265,
   "metadata": {},
   "outputs": [
    {
     "data": {
      "text/plain": [
       "array([-26.6204    ,   5.5805    ,   0.35446229])"
      ]
     },
     "execution_count": 265,
     "metadata": {},
     "output_type": "execute_result"
    }
   ],
   "source": [
    "se[0][38]"
   ]
  },
  {
   "cell_type": "code",
   "execution_count": 269,
   "metadata": {},
   "outputs": [],
   "source": [
    "se[0][38][2] = 2 - se[0][38][2]"
   ]
  },
  {
   "cell_type": "code",
   "execution_count": 270,
   "metadata": {},
   "outputs": [],
   "source": [
    "np.save('2014se_new_prune_phi_adjusted.npy',se)"
   ]
  },
  {
   "cell_type": "code",
   "execution_count": 275,
   "metadata": {},
   "outputs": [],
   "source": [
    "se_b = list()\n",
    "test = np.vstack((se[0],se[1]))\n",
    "for i in run.bvals:\n",
    "    se_b.append(test[[test[:,1]==i]])\n",
    "se_b = np.array(se_b)\n",
    "\n",
    "\n",
    "m = 0\n",
    "for i in run.prune_data:\n",
    "    if len(i.fits) > m:\n",
    "        m = len(i.fits)\n",
    "m+=1 #hist\n",
    "        \n",
    "        \n",
    "L = len(run.prune_data)\n",
    "total = L*m\n",
    "c = 1\n",
    "n = 0\n",
    "plt.rc('font', size=6)    \n",
    "bins = np.arange(0.0,2.03,0.03)\n",
    "fig = plt.figure(figsize=(20,50))\n",
    "for i in run.prune_data:\n",
    "    temp = 0\n",
    "    for j in i.fits:\n",
    "        ax = plt.subplot(L,m,c)\n",
    "        i.plot()\n",
    "        j.plot(False)\n",
    "        plt.xlim([min(i.x),max(i.x)])\n",
    "        for k in se_b[n][se_b[n][:,2] == j.delta_phi]:\n",
    "            ax.axvline(k[0],color='k',lw=1)\n",
    "        c += 1\n",
    "        temp += 1\n",
    "    ax = plt.subplot(L,m,c)\n",
    "    plt.hist(se_b[n][:,2], bins=bins)\n",
    "    plt.xlim([0,2.0])\n",
    "    plt.xticks([0,0.25,0.5,1.0,1.25,1.5])\n",
    "    c += (m-temp)\n",
    "    n += 1\n",
    "fig.tight_layout()"
   ]
  },
  {
   "cell_type": "code",
   "execution_count": 276,
   "metadata": {},
   "outputs": [],
   "source": [
    "fig.savefig('2014 Fit and Slips 09dV updated phase values',dpi=1000)"
   ]
  },
  {
   "cell_type": "code",
   "execution_count": null,
   "metadata": {},
   "outputs": [],
   "source": []
  }
 ],
 "metadata": {
  "kernelspec": {
   "display_name": "Python 2",
   "language": "python",
   "name": "python2"
  },
  "language_info": {
   "codemirror_mode": {
    "name": "ipython",
    "version": 2
   },
   "file_extension": ".py",
   "mimetype": "text/x-python",
   "name": "python",
   "nbconvert_exporter": "python",
   "pygments_lexer": "ipython2",
   "version": "2.7.10"
  }
 },
 "nbformat": 4,
 "nbformat_minor": 2
}
