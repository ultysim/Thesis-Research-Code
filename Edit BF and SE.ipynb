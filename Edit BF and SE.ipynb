{
 "cells": [
  {
   "cell_type": "code",
   "execution_count": 1,
   "metadata": {},
   "outputs": [
    {
     "name": "stdout",
     "output_type": "stream",
     "text": [
      "Using matplotlib backend: TkAgg\n"
     ]
    }
   ],
   "source": [
    "import numpy as np\n",
    "import matplotlib as mpl\n",
    "import regression_cv as rcv\n",
    "from matplotlib import pyplot as plt\n",
    "import Analysis\n",
    "from matplotlib.colors import LinearSegmentedColormap\n",
    "%matplotlib"
   ]
  },
  {
   "cell_type": "code",
   "execution_count": 2,
   "metadata": {
    "collapsed": true
   },
   "outputs": [],
   "source": [
    "def search(seq, t):  \n",
    "    min = 0\n",
    "    max = len(seq) - 1\n",
    "    while True:        \n",
    "        m = (min + max) // 2\n",
    "        if max <= min:\n",
    "            if np.abs(t-seq[m]) < np.abs(t-seq[m-1]):          \n",
    "                return m\n",
    "            else:\n",
    "                return m-1        \n",
    "        if seq[m] < t:\n",
    "            min = m + 1\n",
    "        elif seq[m] > t:\n",
    "            max = m - 1\n",
    "        else:\n",
    "            return m\n",
    "\n",
    "\n",
    "def plot(data,result,full=False,if_data=True):\n",
    "    x_min = result['x_min']\n",
    "    x_max = result['x_max']\n",
    "    if full:\n",
    "        x = data.x\n",
    "        y = data.y\n",
    "    else:\n",
    "        i_min = search(data.x,x_min)\n",
    "        i_max = search(data.x,x_max)+1\n",
    "\n",
    "        x = data.x[i_min:i_max]\n",
    "        y = data.y[i_min:i_max]\n",
    "\n",
    "    v0 = (x_min+x_max)/2.0\n",
    "\n",
    "    params = result['result'].x\n",
    "    model_l = params[0] + params[1] * np.sin(x*params[2] + (params[3]+params[4]*np.pi)) + params[5] * (x - v0)\n",
    "    model_r = params[0] + params[1] * np.sin(x*params[2] + params[3]) + params[5] * (x - v0)\n",
    "    if if_data:\n",
    "        plt.plot(x,y)\n",
    "    plt.plot(x,model_r,c='r')\n",
    "    plt.plot(x,model_l,c='k')"
   ]
  },
  {
   "cell_type": "code",
   "execution_count": 3,
   "metadata": {
    "collapsed": true
   },
   "outputs": [],
   "source": [
    "def convert_scipy_fit(scipy_fit):\n",
    "    x = scipy_fit['result'].x\n",
    "    out = list()\n",
    "    out.append(x[2])\n",
    "    out.append(x[1])\n",
    "    out.append(x[3]+x[4]*np.pi)\n",
    "    out.append(x[3])\n",
    "    out.append(x[0])\n",
    "    out.append(x[5])\n",
    "    out.append(1.0)\n",
    "    out.append(scipy_fit['x_min'])\n",
    "    out.append(scipy_fit['x_max'])\n",
    "    out.append(x[4])\n",
    "    out.append(1)\n",
    "    out.append((scipy_fit['x_min'] + scipy_fit['x_max'])/2)\n",
    "    return np.array(out)"
   ]
  },
  {
   "cell_type": "code",
   "execution_count": 19,
   "metadata": {
    "collapsed": true
   },
   "outputs": [],
   "source": [
    "run_reg = np.load('scipy_run.npy')\n",
    "run_rand = np.load('scipy_run_rand_slope.npy')\n",
    "#run_rand = np.load('2011_scipy_run_rand.npy')"
   ]
  },
  {
   "cell_type": "code",
   "execution_count": 10,
   "metadata": {
    "collapsed": true
   },
   "outputs": [],
   "source": [
    "run = Analysis.generate_2014()"
   ]
  },
  {
   "cell_type": "code",
   "execution_count": 487,
   "metadata": {
    "collapsed": true
   },
   "outputs": [],
   "source": [
    "#bf = np.load('52bf.npy')\n",
    "bf = np.load('2011bf.npy')"
   ]
  },
  {
   "cell_type": "code",
   "execution_count": 453,
   "metadata": {
    "collapsed": true
   },
   "outputs": [],
   "source": [
    "#se = np.load('2011se.npy')\n",
    "se = np.load('52se.npy')"
   ]
  },
  {
   "cell_type": "code",
   "execution_count": 1,
   "metadata": {
    "collapsed": true
   },
   "outputs": [],
   "source": [
    "filenum = 13"
   ]
  },
  {
   "cell_type": "code",
   "execution_count": 18,
   "metadata": {},
   "outputs": [
    {
     "name": "stdout",
     "output_type": "stream",
     "text": [
      "0.36051416396\n",
      "1.38606761081\n",
      "1.15009449262\n"
     ]
    }
   ],
   "source": [
    "for i in range(len(run.prune_data[filenum].fits)):\n",
    "    plt.figure()\n",
    "    run.prune_data[filenum].plot_fit(i,False)\n",
    "    print(run.prune_data[filenum].fits[i].delta_phi)"
   ]
  },
  {
   "cell_type": "code",
   "execution_count": null,
   "metadata": {
    "collapsed": true
   },
   "outputs": [],
   "source": []
  },
  {
   "cell_type": "code",
   "execution_count": 22,
   "metadata": {
    "collapsed": true
   },
   "outputs": [],
   "source": [
    "t = run_rand[filenum]\n",
    "count = 0\n",
    "for i in t:\n",
    "    if i['ci_deltaphi'] < 0.001 and 0.1 < i['result'].x[4] < 1.9:\n",
    "        plt.figure()\n",
    "        plot(run.prune_data[filenum],i)\n",
    "        plt.title(str(count) + ', '+ str(i['ci_deltaphi']) + ', '+ str(i['result'].x[4]))\n",
    "    count += 1"
   ]
  },
  {
   "cell_type": "code",
   "execution_count": 91,
   "metadata": {
    "collapsed": true
   },
   "outputs": [],
   "source": [
    " run.prune_data[filenum].plot_fit(2)"
   ]
  },
  {
   "cell_type": "code",
   "execution_count": 15,
   "metadata": {
    "collapsed": true
   },
   "outputs": [],
   "source": [
    "plt.figure()\n",
    "run.prune_data[filenum].plot()"
   ]
  },
  {
   "cell_type": "code",
   "execution_count": 10,
   "metadata": {
    "scrolled": true
   },
   "outputs": [
    {
     "ename": "NameError",
     "evalue": "name 'run_rand' is not defined",
     "output_type": "error",
     "traceback": [
      "\u001b[1;31m---------------------------------------------------------------------------\u001b[0m",
      "\u001b[1;31mNameError\u001b[0m                                 Traceback (most recent call last)",
      "\u001b[1;32m<ipython-input-10-be1c5921015c>\u001b[0m in \u001b[0;36m<module>\u001b[1;34m()\u001b[0m\n\u001b[0;32m      1\u001b[0m \u001b[0mi\u001b[0m \u001b[1;33m=\u001b[0m \u001b[1;36m3\u001b[0m\u001b[1;33m\u001b[0m\u001b[0m\n\u001b[0;32m      2\u001b[0m \u001b[0mrun\u001b[0m\u001b[1;33m.\u001b[0m\u001b[0mprune_data\u001b[0m\u001b[1;33m[\u001b[0m\u001b[0mfilenum\u001b[0m\u001b[1;33m]\u001b[0m\u001b[1;33m.\u001b[0m\u001b[0mplot\u001b[0m\u001b[1;33m(\u001b[0m\u001b[1;33m)\u001b[0m\u001b[1;33m\u001b[0m\u001b[0m\n\u001b[1;32m----> 3\u001b[1;33m \u001b[0mplot\u001b[0m\u001b[1;33m(\u001b[0m\u001b[0mrun\u001b[0m\u001b[1;33m.\u001b[0m\u001b[0mprune_data\u001b[0m\u001b[1;33m[\u001b[0m\u001b[0mfilenum\u001b[0m\u001b[1;33m]\u001b[0m\u001b[1;33m,\u001b[0m\u001b[0mrun_rand\u001b[0m\u001b[1;33m[\u001b[0m\u001b[0mfilenum\u001b[0m\u001b[1;33m]\u001b[0m\u001b[1;33m[\u001b[0m\u001b[0mi\u001b[0m\u001b[1;33m]\u001b[0m\u001b[1;33m,\u001b[0m\u001b[0mif_data\u001b[0m\u001b[1;33m=\u001b[0m\u001b[0mFalse\u001b[0m\u001b[1;33m)\u001b[0m\u001b[1;33m\u001b[0m\u001b[0m\n\u001b[0m\u001b[0;32m      4\u001b[0m \u001b[0mrun_rand\u001b[0m\u001b[1;33m[\u001b[0m\u001b[0mfilenum\u001b[0m\u001b[1;33m]\u001b[0m\u001b[1;33m[\u001b[0m\u001b[0mi\u001b[0m\u001b[1;33m]\u001b[0m\u001b[1;33m[\u001b[0m\u001b[1;34m'result'\u001b[0m\u001b[1;33m]\u001b[0m\u001b[1;33m.\u001b[0m\u001b[0mx\u001b[0m\u001b[1;33m\u001b[0m\u001b[0m\n",
      "\u001b[1;31mNameError\u001b[0m: name 'run_rand' is not defined"
     ]
    }
   ],
   "source": [
    "i = 3\n",
    "run.prune_data[filenum].plot()\n",
    "plot(run.prune_data[filenum],run_rand[filenum][i],if_data=False)\n",
    "run_rand[filenum][i]['result'].x"
   ]
  },
  {
   "cell_type": "code",
   "execution_count": 205,
   "metadata": {
    "collapsed": true
   },
   "outputs": [],
   "source": [
    "run.prune_data[filenum].fits.append(Analysis.Fit(convert_scipy_fit(run_rand[filenum][12])))"
   ]
  },
  {
   "cell_type": "code",
   "execution_count": 18,
   "metadata": {
    "collapsed": true
   },
   "outputs": [],
   "source": [
    "run.prune_data[filenum].fits[0] = Analysis.Fit(convert_scipy_fit(run_rand[filenum][15]))"
   ]
  },
  {
   "cell_type": "code",
   "execution_count": 319,
   "metadata": {
    "collapsed": true
   },
   "outputs": [],
   "source": [
    "run.prune_data[filenum].fits[1] = run.prune_data[filenum].fits[0]"
   ]
  },
  {
   "cell_type": "code",
   "execution_count": 464,
   "metadata": {},
   "outputs": [
    {
     "data": {
      "text/plain": [
       "array([[-15.35117   ,   5.578     ,   1.22032794]])"
      ]
     },
     "execution_count": 464,
     "metadata": {},
     "output_type": "execute_result"
    }
   ],
   "source": [
    "s = run.prune_data[filenum].slip_events(dV=0.06,minsep=3.0)\n",
    "s"
   ]
  },
  {
   "cell_type": "code",
   "execution_count": 2,
   "metadata": {},
   "outputs": [
    {
     "ename": "NameError",
     "evalue": "name 'run' is not defined",
     "output_type": "error",
     "traceback": [
      "\u001b[1;31m---------------------------------------------------------------------------\u001b[0m",
      "\u001b[1;31mNameError\u001b[0m                                 Traceback (most recent call last)",
      "\u001b[1;32m<ipython-input-2-82a56f20e9d0>\u001b[0m in \u001b[0;36m<module>\u001b[1;34m()\u001b[0m\n\u001b[0;32m      1\u001b[0m \u001b[1;31m#plt.figure()\u001b[0m\u001b[1;33m\u001b[0m\u001b[1;33m\u001b[0m\u001b[0m\n\u001b[1;32m----> 2\u001b[1;33m \u001b[0md\u001b[0m \u001b[1;33m=\u001b[0m \u001b[0mrun\u001b[0m\u001b[1;33m.\u001b[0m\u001b[0mprune_data\u001b[0m\u001b[1;33m[\u001b[0m\u001b[0mfilenum\u001b[0m\u001b[1;33m]\u001b[0m\u001b[1;33m\u001b[0m\u001b[0m\n\u001b[0m\u001b[0;32m      3\u001b[0m \u001b[1;31m#d.plot()\u001b[0m\u001b[1;33m\u001b[0m\u001b[1;33m\u001b[0m\u001b[0m\n\u001b[0;32m      4\u001b[0m \u001b[1;32mfor\u001b[0m \u001b[0mi\u001b[0m \u001b[1;32min\u001b[0m \u001b[0ms\u001b[0m\u001b[1;33m:\u001b[0m\u001b[1;33m\u001b[0m\u001b[0m\n\u001b[0;32m      5\u001b[0m     \u001b[0my\u001b[0m \u001b[1;33m=\u001b[0m \u001b[0md\u001b[0m\u001b[1;33m.\u001b[0m\u001b[0my\u001b[0m\u001b[1;33m[\u001b[0m\u001b[0msearch\u001b[0m\u001b[1;33m(\u001b[0m\u001b[0md\u001b[0m\u001b[1;33m.\u001b[0m\u001b[0mx\u001b[0m\u001b[1;33m,\u001b[0m\u001b[0mi\u001b[0m\u001b[1;33m[\u001b[0m\u001b[1;36m0\u001b[0m\u001b[1;33m]\u001b[0m\u001b[1;33m)\u001b[0m\u001b[1;33m]\u001b[0m\u001b[1;33m\u001b[0m\u001b[0m\n",
      "\u001b[1;31mNameError\u001b[0m: name 'run' is not defined"
     ]
    }
   ],
   "source": [
    "#plt.figure()\n",
    "d = run.prune_data[filenum]\n",
    "#d.plot()\n",
    "for i in s:\n",
    "    y = d.y[search(d.x,i[0])]\n",
    "    plt.scatter(i[0],y,s=50,c='orange')"
   ]
  },
  {
   "cell_type": "code",
   "execution_count": 245,
   "metadata": {},
   "outputs": [
    {
     "data": {
      "text/plain": [
       "29"
      ]
     },
     "execution_count": 245,
     "metadata": {},
     "output_type": "execute_result"
    }
   ],
   "source": [
    "list(se[1][:,1]).index(5.5275)"
   ]
  },
  {
   "cell_type": "code",
   "execution_count": 454,
   "metadata": {},
   "outputs": [
    {
     "data": {
      "text/plain": [
       "array([[-14.86668   ,   5.5845    ,   1.09941899],\n",
       "       [-11.9481    ,   5.5845    ,   1.09941899],\n",
       "       [-11.8571    ,   5.5845    ,   1.09941899],\n",
       "       [-11.343     ,   5.5845    ,   1.09941899],\n",
       "       [-11.2408    ,   5.5845    ,   1.09941899],\n",
       "       [ -8.7217645 ,   5.5835    ,   1.19018141],\n",
       "       [ -8.467302  ,   5.583     ,   1.38606761],\n",
       "       [ -8.366287  ,   5.583     ,   1.38606761],\n",
       "       [ -6.119323  ,   5.583     ,   1.38606761],\n",
       "       [ -5.242855  ,   5.583     ,   1.15009449],\n",
       "       [ -5.0839935 ,   5.583     ,   1.15009449],\n",
       "       [-14.554085  ,   5.5825    ,   0.96358912],\n",
       "       [ -8.65831   ,   5.5825    ,   0.94004761],\n",
       "       [ -7.607     ,   5.5825    ,   0.94004761],\n",
       "       [ -7.36844   ,   5.5825    ,   0.94004761],\n",
       "       [ -6.98      ,   5.5825    ,   0.94004761],\n",
       "       [ -6.8358    ,   5.5825    ,   0.94004761],\n",
       "       [-14.7602    ,   5.5815    ,   0.96816901],\n",
       "       [-14.6023    ,   5.5815    ,   0.96816901],\n",
       "       [-14.4301    ,   5.5815    ,   0.96816901],\n",
       "       [-14.0292    ,   5.581     ,   1.16991201],\n",
       "       [-12.5427    ,   5.581     ,   1.16991201],\n",
       "       [-12.4264    ,   5.581     ,   1.16991201],\n",
       "       [ -8.16267   ,   5.581     ,   1.16991201],\n",
       "       [ -7.89635   ,   5.581     ,   1.16991201],\n",
       "       [ -7.63428   ,   5.581     ,   1.16991201],\n",
       "       [-19.07874   ,   5.5805    ,   1.03090536],\n",
       "       [-13.737715  ,   5.5805    ,   1.03090536],\n",
       "       [ -7.0138775 ,   5.5805    ,   0.92908924],\n",
       "       [-13.788005  ,   5.58      ,   0.97988189],\n",
       "       [ -7.282301  ,   5.58      ,   0.97988189],\n",
       "       [ -7.048162  ,   5.58      ,   0.97988189],\n",
       "       [ -6.8631355 ,   5.58      ,   0.97988189],\n",
       "       [-21.7414    ,   5.578     ,   1.05390399],\n",
       "       [-15.35117   ,   5.578     ,   1.22032794]])"
      ]
     },
     "execution_count": 454,
     "metadata": {},
     "output_type": "execute_result"
    }
   ],
   "source": [
    "se[1]"
   ]
  },
  {
   "cell_type": "code",
   "execution_count": 330,
   "metadata": {
    "collapsed": true
   },
   "outputs": [],
   "source": [
    "hold = list(se[2])\n"
   ]
  },
  {
   "cell_type": "code",
   "execution_count": 326,
   "metadata": {
    "collapsed": true
   },
   "outputs": [],
   "source": [
    "del hold[-2]"
   ]
  },
  {
   "cell_type": "code",
   "execution_count": 332,
   "metadata": {
    "collapsed": true
   },
   "outputs": [],
   "source": [
    "hold.append(s[0])"
   ]
  },
  {
   "cell_type": "code",
   "execution_count": 333,
   "metadata": {},
   "outputs": [
    {
     "data": {
      "text/plain": [
       "[array([-37.78664   ,   5.536     ,   1.32371934]),\n",
       " array([-37.24676   ,   5.536     ,   1.32371934]),\n",
       " array([-36.8576    ,   5.536     ,   1.32371934]),\n",
       " array([-36.43507   ,   5.536     ,   1.32371934]),\n",
       " array([-36.135305  ,   5.536     ,   1.32371934]),\n",
       " array([-34.10375   ,   5.5295    ,   1.25167047]),\n",
       " array([-31.3739    ,   5.5295    ,   1.25167047]),\n",
       " array([-30.703555  ,   5.5295    ,   1.25167047]),\n",
       " array([-36.406475  ,   5.527     ,   1.20422528]),\n",
       " array([-35.36312   ,   5.527     ,   1.20422528]),\n",
       " array([-24.472575  ,   5.5265    ,   1.28183099]),\n",
       " array([-34.90141  ,   5.5255   ,   1.2278723])]"
      ]
     },
     "execution_count": 333,
     "metadata": {},
     "output_type": "execute_result"
    }
   ],
   "source": [
    "hold"
   ]
  },
  {
   "cell_type": "code",
   "execution_count": 334,
   "metadata": {
    "collapsed": true
   },
   "outputs": [],
   "source": [
    "se[2] = np.array(hold)"
   ]
  },
  {
   "cell_type": "code",
   "execution_count": 335,
   "metadata": {
    "collapsed": true
   },
   "outputs": [],
   "source": [
    "np.save('2011se',se)"
   ]
  },
  {
   "cell_type": "code",
   "execution_count": 7,
   "metadata": {},
   "outputs": [
    {
     "data": {
      "text/plain": [
       "[5.5845,\n",
       " 5.584,\n",
       " 5.5835,\n",
       " 5.583,\n",
       " 5.5825,\n",
       " 5.582,\n",
       " 5.5815,\n",
       " 5.581,\n",
       " 5.5805,\n",
       " 5.58,\n",
       " 5.5795,\n",
       " 5.579,\n",
       " 5.5785,\n",
       " 5.578,\n",
       " 5.5775]"
      ]
     },
     "execution_count": 7,
     "metadata": {},
     "output_type": "execute_result"
    }
   ],
   "source": [
    "run.bvals"
   ]
  },
  {
   "cell_type": "code",
   "execution_count": 112,
   "metadata": {
    "collapsed": true
   },
   "outputs": [],
   "source": [
    "bf[filenum][0] = convert_scipy_fit(run_rand[filenum][11])"
   ]
  },
  {
   "cell_type": "code",
   "execution_count": 226,
   "metadata": {
    "collapsed": true
   },
   "outputs": [],
   "source": [
    "hold = list(bf[filenum])\n",
    "#hold.append(convert_scipy_fit(run_rand[filenum][37]))"
   ]
  },
  {
   "cell_type": "code",
   "execution_count": 227,
   "metadata": {
    "collapsed": true
   },
   "outputs": [],
   "source": [
    "del hold[0]"
   ]
  },
  {
   "cell_type": "code",
   "execution_count": 228,
   "metadata": {
    "collapsed": true
   },
   "outputs": [],
   "source": [
    "bf[filenum] = np.array(hold)"
   ]
  },
  {
   "cell_type": "code",
   "execution_count": 230,
   "metadata": {
    "collapsed": true
   },
   "outputs": [],
   "source": [
    "np.save('2011bf',bf)"
   ]
  },
  {
   "cell_type": "code",
   "execution_count": 229,
   "metadata": {},
   "outputs": [
    {
     "data": {
      "text/plain": [
       "array([ 1.03406804,  0.24437509])"
      ]
     },
     "execution_count": 229,
     "metadata": {},
     "output_type": "execute_result"
    }
   ],
   "source": [
    "bf[filenum][:,9]"
   ]
  },
  {
   "cell_type": "code",
   "execution_count": 211,
   "metadata": {},
   "outputs": [
    {
     "data": {
      "text/plain": [
       "[array([  6.56582994e-01,   1.52273267e-01,   3.88052788e+00,\n",
       "          1.31914717e+01,   1.14747568e+01,   3.98574930e-05,\n",
       "          3.85830631e-01,  -4.37885000e+01,  -2.98168700e+01,\n",
       "          1.03623454e+00,   3.01800000e+03,  -3.67850300e+01])]"
      ]
     },
     "execution_count": 211,
     "metadata": {},
     "output_type": "execute_result"
    }
   ],
   "source": [
    "hold"
   ]
  },
  {
   "cell_type": "code",
   "execution_count": 488,
   "metadata": {
    "collapsed": true
   },
   "outputs": [],
   "source": [
    "out = list()\n",
    "for i in bf:\n",
    "    if len(i)>0:\n",
    "        for j in i:\n",
    "            out.append([j[3]/np.pi%2,j[9]])\n",
    "out = np.array(out)"
   ]
  },
  {
   "cell_type": "code",
   "execution_count": 489,
   "metadata": {
    "collapsed": true
   },
   "outputs": [],
   "source": [
    "plotColorizedHist(out,colors,bins=13)"
   ]
  },
  {
   "cell_type": "code",
   "execution_count": 490,
   "metadata": {},
   "outputs": [
    {
     "data": {
      "text/plain": [
       "0.86768848856477465"
      ]
     },
     "execution_count": 490,
     "metadata": {},
     "output_type": "execute_result"
    }
   ],
   "source": [
    "np.mean(out[:,0])"
   ]
  },
  {
   "cell_type": "code",
   "execution_count": 491,
   "metadata": {},
   "outputs": [
    {
     "data": {
      "text/plain": [
       "0.6604381667971565"
      ]
     },
     "execution_count": 491,
     "metadata": {},
     "output_type": "execute_result"
    }
   ],
   "source": [
    "np.std(out[:,0])"
   ]
  },
  {
   "cell_type": "code",
   "execution_count": 492,
   "metadata": {},
   "outputs": [
    {
     "data": {
      "text/plain": [
       "(0, 6)"
      ]
     },
     "execution_count": 492,
     "metadata": {},
     "output_type": "execute_result"
    }
   ],
   "source": [
    "plt.ylim(0,6)"
   ]
  },
  {
   "cell_type": "code",
   "execution_count": 493,
   "metadata": {},
   "outputs": [
    {
     "data": {
      "text/plain": [
       "<matplotlib.text.Text at 0x40c7a978>"
      ]
     },
     "execution_count": 493,
     "metadata": {},
     "output_type": "execute_result"
    }
   ],
   "source": [
    "plt.title('Phase Hist, mean = 0.87, std = 0.66')"
   ]
  },
  {
   "cell_type": "code",
   "execution_count": 494,
   "metadata": {},
   "outputs": [
    {
     "data": {
      "text/plain": [
       "<matplotlib.text.Text at 0x40e00ef0>"
      ]
     },
     "execution_count": 494,
     "metadata": {},
     "output_type": "execute_result"
    }
   ],
   "source": [
    "plt.xlabel('Phase (Pi)')"
   ]
  },
  {
   "cell_type": "code",
   "execution_count": 495,
   "metadata": {},
   "outputs": [
    {
     "data": {
      "text/plain": [
       "<matplotlib.text.Text at 0x40461470>"
      ]
     },
     "execution_count": 495,
     "metadata": {},
     "output_type": "execute_result"
    }
   ],
   "source": [
    "plt.ylabel('Count')"
   ]
  },
  {
   "cell_type": "code",
   "execution_count": 496,
   "metadata": {
    "collapsed": true
   },
   "outputs": [],
   "source": [
    "plt.savefig('2011 Phase Hist Colorized')"
   ]
  },
  {
   "cell_type": "code",
   "execution_count": 462,
   "metadata": {},
   "outputs": [
    {
     "name": "stdout",
     "output_type": "stream",
     "text": [
      "13 13 14\n"
     ]
    }
   ],
   "source": [
    "count = -1\n",
    "for i in bf:\n",
    "    count += 1\n",
    "    if len(i)>0:\n",
    "        for j in i[:,1]:\n",
    "            if abs(j) < 0.1:\n",
    "                print count, \n"
   ]
  },
  {
   "cell_type": "code",
   "execution_count": 301,
   "metadata": {
    "collapsed": true
   },
   "outputs": [],
   "source": [
    "x = np.arange(0.015,2.015,0.03)\n",
    "normed = x/2.\n",
    "\n",
    "norm = mpl.colors.Normalize(vmin=0, vmax=2)\n",
    "colors = cmap(normed)"
   ]
  },
  {
   "cell_type": "code",
   "execution_count": 300,
   "metadata": {
    "collapsed": true
   },
   "outputs": [],
   "source": [
    "cdict = {'red':   ((0.0, 0.0, 0.0),\n",
    "                   (0.125, 0.0, 0.0),\n",
    "                   (0.17, 0.2, 0.2),\n",
    "                   (0.4, 1, 1),\n",
    "                   (0.5, 1.0, 1.0),\n",
    "                   (0.7, 1.0, 1.0),\n",
    "                   (0.8, 0.0, 0.0),\n",
    "                  (1.0, 0.5, 0.5)),\n",
    "\n",
    "         'green': ((0.0, 1, 1),\n",
    "                   (0.1, 0.5, 0.5),\n",
    "                   (0.135, 0.0, 0.0),\n",
    "                   (0.4, 0.0, 0.0),\n",
    "                   (0.5,0.0,0.0),\n",
    "                   (0.65, 0.65, 0.65),\n",
    "                   (0.8, 0.8, .8),\n",
    "                  (1.0, 1, 1)),\n",
    "\n",
    "         'blue':  ((0.0, 0.2, 0.2),\n",
    "                   (0.13, 1.0, 1),\n",
    "                   (0.135, .8, .8),\n",
    "                   (0.17, 0.6, 0.6),\n",
    "                   (0.35, 0.8, 0.8),\n",
    "                   (0.5, 0.0, 0.0),\n",
    "                   (0.85, 0, 0),\n",
    "                   (1.0, 0.2, 0.2)),\n",
    "        }\n",
    "        \n",
    "fullC = LinearSegmentedColormap('fullC', cdict)\n",
    "cmap = fullC"
   ]
  },
  {
   "cell_type": "code",
   "execution_count": 347,
   "metadata": {
    "collapsed": true
   },
   "outputs": [],
   "source": [
    "def plotColorizedHist(items,colors,bins=10):\n",
    "    items = np.array(items)\n",
    "    _,a = np.histogram(items[:,0],bins=bins)\n",
    "    w = a[1]-a[0]\n",
    "    hold = list()\n",
    "    for i in items:\n",
    "        colorindex = int((i[1])/0.03)\n",
    "        hold.append([i[0],colorindex])\n",
    "    colorhold = [[] for i in range(len(colors))]\n",
    "    for i in hold:\n",
    "        colorhold[i[1]].append(i[0])\n",
    "    temp = np.zeros(len(a)-1)\n",
    "    for i in range(len(colorhold)):\n",
    "        if len(colorhold[i]) == 0:\n",
    "            continue\n",
    "        y,_ = np.histogram(colorhold[i],a)\n",
    "        plt.bar(a[:-1],y,bottom=temp,width=w,color=colors[i])\n",
    "        temp+=y"
   ]
  },
  {
   "cell_type": "code",
   "execution_count": 460,
   "metadata": {},
   "outputs": [
    {
     "data": {
      "text/plain": [
       "15"
      ]
     },
     "execution_count": 460,
     "metadata": {},
     "output_type": "execute_result"
    }
   ],
   "source": [
    "len(bf)"
   ]
  }
 ],
 "metadata": {
  "kernelspec": {
   "display_name": "Python 2",
   "language": "python",
   "name": "python2"
  },
  "language_info": {
   "codemirror_mode": {
    "name": "ipython",
    "version": 2
   },
   "file_extension": ".py",
   "mimetype": "text/x-python",
   "name": "python",
   "nbconvert_exporter": "python",
   "pygments_lexer": "ipython2",
   "version": "2.7.10"
  }
 },
 "nbformat": 4,
 "nbformat_minor": 2
}
