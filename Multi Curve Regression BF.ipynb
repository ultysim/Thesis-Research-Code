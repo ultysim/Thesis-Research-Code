{
 "cells": [
  {
   "cell_type": "code",
   "execution_count": 1,
   "metadata": {},
   "outputs": [
    {
     "name": "stdout",
     "output_type": "stream",
     "text": [
      "Using matplotlib backend: TkAgg\n"
     ]
    }
   ],
   "source": [
    "import Analysis\n",
    "import regression_cv as rcv\n",
    "import numpy as np\n",
    "import matplotlib as mpl\n",
    "from matplotlib import pyplot as plt\n",
    "%matplotlib"
   ]
  },
  {
   "cell_type": "code",
   "execution_count": 3,
   "metadata": {
    "collapsed": true
   },
   "outputs": [],
   "source": [
    "def csf(scipy_fit):\n",
    "    x = scipy_fit['result'].x\n",
    "    if x[4] > 1.5:\n",
    "        dphi = 2-x[4]\n",
    "    else:\n",
    "        dphi = x[4]\n",
    "    out = list()\n",
    "    out.append(x[2])\n",
    "    out.append(x[1])\n",
    "    out.append(x[3]+x[4]*np.pi)\n",
    "    out.append(x[3])\n",
    "    out.append(x[0])\n",
    "    out.append(x[5])\n",
    "    out.append(1.0)\n",
    "    out.append(scipy_fit['x_min'])\n",
    "    out.append(scipy_fit['x_max'])\n",
    "    out.append(dphi)\n",
    "    out.append(1)\n",
    "    out.append((scipy_fit['x_min'] + scipy_fit['x_max'])/2)\n",
    "    return np.array(out)"
   ]
  },
  {
   "cell_type": "code",
   "execution_count": 2,
   "metadata": {
    "collapsed": true
   },
   "outputs": [],
   "source": [
    "run_d45 = np.load('2011_CV_smart_res_d45.npy')\n",
    "run_d6 = np.load('2011_CV_smart_res_d6.npy')\n",
    "run_d7 = np.load('2011_CV_smart_res_d7.npy')"
   ]
  },
  {
   "cell_type": "code",
   "execution_count": 3,
   "metadata": {
    "collapsed": true
   },
   "outputs": [],
   "source": [
    "run = Analysis.generate_2011()"
   ]
  },
  {
   "cell_type": "code",
   "execution_count": 5,
   "metadata": {},
   "outputs": [],
   "source": [
    "for i in run.prune_data:\n",
    "    plt.figure()\n",
    "    i.plot()"
   ]
  },
  {
   "cell_type": "code",
   "execution_count": 5,
   "metadata": {
    "collapsed": true
   },
   "outputs": [],
   "source": [
    "bf_new = list()"
   ]
  },
  {
   "cell_type": "code",
   "execution_count": 167,
   "metadata": {
    "collapsed": true
   },
   "outputs": [],
   "source": [
    "filenum = 0"
   ]
  },
  {
   "cell_type": "code",
   "execution_count": 160,
   "metadata": {
    "collapsed": true
   },
   "outputs": [],
   "source": [
    "hold = list()\n",
    "hold.append(run.prune_data[filenum].fits[0].output_array())\n",
    "hold.append(run.prune_data[filenum].fits[1].output_array())\n",
    "#hold.append(csf(run_d45[filenum][12]))\n",
    "#hold.append(csf(run_d6[filenum][11]))\n",
    "#hold.append(csf(run_d7[filenum][16]))\n",
    "hold = np.array(np.array(hold))"
   ]
  },
  {
   "cell_type": "code",
   "execution_count": 154,
   "metadata": {
    "collapsed": true
   },
   "outputs": [],
   "source": [
    "bf_new.append(hold)"
   ]
  },
  {
   "cell_type": "code",
   "execution_count": 155,
   "metadata": {},
   "outputs": [
    {
     "data": {
      "text/plain": [
       "22"
      ]
     },
     "execution_count": 155,
     "metadata": {},
     "output_type": "execute_result"
    }
   ],
   "source": [
    "len(bf_new)"
   ]
  },
  {
   "cell_type": "code",
   "execution_count": 148,
   "metadata": {
    "collapsed": true
   },
   "outputs": [],
   "source": [
    "hold = np.array([])"
   ]
  },
  {
   "cell_type": "code",
   "execution_count": 136,
   "metadata": {},
   "outputs": [
    {
     "data": {
      "text/plain": [
       "<matplotlib.text.Text at 0x46c7b8d0>"
      ]
     },
     "execution_count": 136,
     "metadata": {},
     "output_type": "execute_result"
    }
   ],
   "source": [
    "plt.figure()\n",
    "n = 16\n",
    "i = run_d7[filenum][n]\n",
    "rcv.plot(run.prune_data[filenum], i,full=True)\n",
    "plt.title(str(i['val_acc']) + ', ' + str(i['ci_deltaphi']) + ', '+ str(i['result'].x[4]))\n"
   ]
  },
  {
   "cell_type": "code",
   "execution_count": 169,
   "metadata": {},
   "outputs": [
    {
     "name": "stdout",
     "output_type": "stream",
     "text": [
      "1.3237193395\n"
     ]
    }
   ],
   "source": [
    "for i in run.prune_data[filenum].fits:\n",
    "    plt.figure()\n",
    "    run.prune_data[filenum].plot()\n",
    "    i.plot('False')\n",
    "    print(i.delta_phi)"
   ]
  },
  {
   "cell_type": "code",
   "execution_count": 337,
   "metadata": {
    "collapsed": true
   },
   "outputs": [],
   "source": [
    "np.save('2011bf_new_residual',bf_new)"
   ]
  },
  {
   "cell_type": "code",
   "execution_count": 7,
   "metadata": {
    "collapsed": true
   },
   "outputs": [],
   "source": [
    "bval2011 = run.bvals\n",
    "\n",
    "run_new = Analysis.Run(np.load('2011_Raw.npy'), np.load('2011_Prune.npy'), bval2011, np.load('2011bf_new_residual.npy'))"
   ]
  },
  {
   "cell_type": "code",
   "execution_count": 571,
   "metadata": {
    "collapsed": true
   },
   "outputs": [],
   "source": [
    "filenum = 4"
   ]
  },
  {
   "cell_type": "code",
   "execution_count": 8,
   "metadata": {},
   "outputs": [
    {
     "name": "stderr",
     "output_type": "stream",
     "text": [
      "c:\\winpython\\python-2.7.10.amd64\\lib\\site-packages\\matplotlib\\pyplot.py:524: RuntimeWarning: More than 20 figures have been opened. Figures created through the pyplot interface (`matplotlib.pyplot.figure`) are retained until explicitly closed and may consume too much memory. (To control this warning, see the rcParam `figure.max_open_warning`).\n",
      "  max_open_warning, RuntimeWarning)\n"
     ]
    }
   ],
   "source": [
    "for j in range(len(run_new.prune_data)):\n",
    "    if len(run_new.prune_data[j].fits) > 0:\n",
    "        for i in range(len(run_new.prune_data[j].fits)):\n",
    "            plt.figure()\n",
    "            run_new.prune_data[j].plot_fit(i,False)\n",
    "            plt.title('Filenum: '+str(j)+' Fit: '+str(i)+' Phase: ' + str(run_new.prune_data[j].fits[i].delta_phi))"
   ]
  },
  {
   "cell_type": "code",
   "execution_count": 476,
   "metadata": {
    "collapsed": true
   },
   "outputs": [],
   "source": [
    "bf_new = np.load('2014bf_new_residual.npy')"
   ]
  },
  {
   "cell_type": "code",
   "execution_count": 576,
   "metadata": {
    "collapsed": true
   },
   "outputs": [],
   "source": [
    "run_new.prune_data[filenum].plot_fit(0,False)"
   ]
  },
  {
   "cell_type": "code",
   "execution_count": 499,
   "metadata": {
    "collapsed": true
   },
   "outputs": [],
   "source": [
    "bf_new[filenum][0][8] = -6.93102"
   ]
  },
  {
   "cell_type": "code",
   "execution_count": 573,
   "metadata": {},
   "outputs": [
    {
     "data": {
      "text/plain": [
       "[array([], dtype=float64), array([[-21.65668   ,   5.5825    ,   1.02110047],\n",
       "        [-14.231805  ,   5.5825    ,   1.02110047]]), array([], dtype=float64)]"
      ]
     },
     "execution_count": 573,
     "metadata": {},
     "output_type": "execute_result"
    }
   ],
   "source": [
    "hold = run_new.prune_data[filenum].sorted_slip_events(dV=0.07,minsep=3.0)\n",
    "hold"
   ]
  },
  {
   "cell_type": "code",
   "execution_count": 596,
   "metadata": {
    "collapsed": true
   },
   "outputs": [],
   "source": [
    "hold[1][5][0] = -6.98363"
   ]
  },
  {
   "cell_type": "code",
   "execution_count": 587,
   "metadata": {
    "collapsed": true
   },
   "outputs": [],
   "source": [
    "hold[1] = np.array(hold[1])"
   ]
  },
  {
   "cell_type": "code",
   "execution_count": 597,
   "metadata": {},
   "outputs": [
    {
     "data": {
      "text/plain": [
       "array([[-14.5373    ,   5.5825    ,   1.02110047],\n",
       "       [ -9.12977   ,   5.5825    ,   1.02110047],\n",
       "       [ -8.65187   ,   5.5825    ,   1.02110047],\n",
       "       [ -7.6015    ,   5.5825    ,   1.02110047],\n",
       "       [ -7.3762    ,   5.5825    ,   1.02110047],\n",
       "       [ -6.98363   ,   5.5825    ,   1.02110047]])"
      ]
     },
     "execution_count": 597,
     "metadata": {},
     "output_type": "execute_result"
    }
   ],
   "source": [
    "hold[1]"
   ]
  },
  {
   "cell_type": "code",
   "execution_count": 486,
   "metadata": {
    "collapsed": true
   },
   "outputs": [],
   "source": [
    "out_best = np.load('2014se_new_residual.npy')"
   ]
  },
  {
   "cell_type": "code",
   "execution_count": 606,
   "metadata": {
    "collapsed": true
   },
   "outputs": [],
   "source": [
    "np.save('2014se_new_residual',out_best)"
   ]
  },
  {
   "cell_type": "code",
   "execution_count": 607,
   "metadata": {
    "collapsed": true
   },
   "outputs": [],
   "source": [
    "np.save('2014bf_new_residual', bf_new)"
   ]
  },
  {
   "cell_type": "code",
   "execution_count": 200,
   "metadata": {
    "collapsed": true
   },
   "outputs": [],
   "source": [
    "out_best = list()"
   ]
  },
  {
   "cell_type": "code",
   "execution_count": 339,
   "metadata": {
    "collapsed": true
   },
   "outputs": [],
   "source": [
    "out = list()\n",
    "for i in run_new.prune_data:\n",
    "    out.append(i.sorted_slip_events(dV=0.07,minsep=3.0))"
   ]
  },
  {
   "cell_type": "code",
   "execution_count": 409,
   "metadata": {
    "collapsed": true
   },
   "outputs": [],
   "source": [
    "filenum += 1"
   ]
  },
  {
   "cell_type": "code",
   "execution_count": 410,
   "metadata": {},
   "outputs": [
    {
     "ename": "IndexError",
     "evalue": "list index out of range",
     "output_type": "error",
     "traceback": [
      "\u001b[1;31m---------------------------------------------------------------------------\u001b[0m",
      "\u001b[1;31mIndexError\u001b[0m                                Traceback (most recent call last)",
      "\u001b[1;32m<ipython-input-410-ba2d7146e503>\u001b[0m in \u001b[0;36m<module>\u001b[1;34m()\u001b[0m\n\u001b[1;32m----> 1\u001b[1;33m \u001b[1;32mprint\u001b[0m\u001b[1;33m(\u001b[0m\u001b[0mout\u001b[0m\u001b[1;33m[\u001b[0m\u001b[0mfilenum\u001b[0m\u001b[1;33m]\u001b[0m\u001b[1;33m)\u001b[0m\u001b[1;33m\u001b[0m\u001b[0m\n\u001b[0m\u001b[0;32m      2\u001b[0m \u001b[0md\u001b[0m \u001b[1;33m=\u001b[0m \u001b[0mrun_new\u001b[0m\u001b[1;33m.\u001b[0m\u001b[0mprune_data\u001b[0m\u001b[1;33m[\u001b[0m\u001b[0mfilenum\u001b[0m\u001b[1;33m]\u001b[0m\u001b[1;33m\u001b[0m\u001b[0m\n\u001b[0;32m      3\u001b[0m \u001b[0md\u001b[0m\u001b[1;33m.\u001b[0m\u001b[0mplot\u001b[0m\u001b[1;33m(\u001b[0m\u001b[1;33m)\u001b[0m\u001b[1;33m\u001b[0m\u001b[0m\n\u001b[0;32m      4\u001b[0m \u001b[1;32mfor\u001b[0m \u001b[0mk\u001b[0m \u001b[1;32min\u001b[0m \u001b[0md\u001b[0m\u001b[1;33m.\u001b[0m\u001b[0mfits\u001b[0m\u001b[1;33m:\u001b[0m\u001b[1;33m\u001b[0m\u001b[0m\n\u001b[0;32m      5\u001b[0m     \u001b[0mk\u001b[0m\u001b[1;33m.\u001b[0m\u001b[0mplot\u001b[0m\u001b[1;33m(\u001b[0m\u001b[0mFalse\u001b[0m\u001b[1;33m)\u001b[0m\u001b[1;33m\u001b[0m\u001b[0m\n",
      "\u001b[1;31mIndexError\u001b[0m: list index out of range"
     ]
    }
   ],
   "source": [
    "print(out[filenum])\n",
    "d = run_new.prune_data[filenum]\n",
    "d.plot()\n",
    "for k in d.fits:\n",
    "    k.plot(False)\n",
    "for j in out[filenum]:\n",
    "    for i in j:\n",
    "        y = d.y[rcv.search(d.x,i[0])]\n",
    "        plt.scatter(i[0],y,s=50,c='orange')"
   ]
  },
  {
   "cell_type": "code",
   "execution_count": 408,
   "metadata": {
    "collapsed": true
   },
   "outputs": [],
   "source": [
    "out_best.append(np.array(out[filenum]))"
   ]
  },
  {
   "cell_type": "code",
   "execution_count": 400,
   "metadata": {
    "collapsed": true
   },
   "outputs": [],
   "source": [
    "out[filenum][1] = np.array(hold)"
   ]
  },
  {
   "cell_type": "code",
   "execution_count": 397,
   "metadata": {
    "collapsed": true
   },
   "outputs": [],
   "source": [
    "hold = list(out[filenum][1])"
   ]
  },
  {
   "cell_type": "code",
   "execution_count": 360,
   "metadata": {
    "collapsed": true
   },
   "outputs": [],
   "source": [
    "hold[0][0]=-24.8579"
   ]
  },
  {
   "cell_type": "code",
   "execution_count": 399,
   "metadata": {},
   "outputs": [
    {
     "data": {
      "text/plain": [
       "array([[-24.472575  ,   5.5265    ,   1.28183099],\n",
       "       [-35.665255  ,   5.5265    ,   0.99712247]])"
      ]
     },
     "execution_count": 399,
     "metadata": {},
     "output_type": "execute_result"
    }
   ],
   "source": [
    "np.array(hold)"
   ]
  },
  {
   "cell_type": "code",
   "execution_count": 398,
   "metadata": {
    "collapsed": true
   },
   "outputs": [],
   "source": [
    "del hold[-1]"
   ]
  },
  {
   "cell_type": "code",
   "execution_count": 297,
   "metadata": {},
   "outputs": [
    {
     "data": {
      "text/plain": [
       "10"
      ]
     },
     "execution_count": 297,
     "metadata": {},
     "output_type": "execute_result"
    }
   ],
   "source": [
    "filenum"
   ]
  },
  {
   "cell_type": "code",
   "execution_count": 260,
   "metadata": {},
   "outputs": [
    {
     "data": {
      "text/plain": [
       "5.578"
      ]
     },
     "execution_count": 260,
     "metadata": {},
     "output_type": "execute_result"
    }
   ],
   "source": [
    "bval2014[13]"
   ]
  },
  {
   "cell_type": "code",
   "execution_count": 264,
   "metadata": {},
   "outputs": [
    {
     "data": {
      "text/plain": [
       "[array([], dtype=float64),\n",
       " array([-21.7414    ,   5.578     ,   1.05390399]),\n",
       " array([], dtype=float64)]"
      ]
     },
     "execution_count": 264,
     "metadata": {},
     "output_type": "execute_result"
    }
   ],
   "source": [
    "out[filenum]"
   ]
  },
  {
   "cell_type": "code",
   "execution_count": 266,
   "metadata": {
    "collapsed": true
   },
   "outputs": [],
   "source": [
    "out_best[filenum] = out[filenum]"
   ]
  },
  {
   "cell_type": "code",
   "execution_count": 456,
   "metadata": {
    "collapsed": true
   },
   "outputs": [],
   "source": [
    "np.save('2011se_new_residual',out_best)"
   ]
  },
  {
   "cell_type": "code",
   "execution_count": 287,
   "metadata": {
    "collapsed": true
   },
   "outputs": [],
   "source": [
    "p = list()\n",
    "for i in out_best[:,1]:\n",
    "    if len(i)>0:\n",
    "        p.extend(i)"
   ]
  },
  {
   "cell_type": "code",
   "execution_count": 374,
   "metadata": {},
   "outputs": [
    {
     "data": {
      "text/plain": [
       "array([[  6.98810787e-01,   1.32284485e-01,   8.13085827e+00,\n",
       "          2.53390783e+00,   1.13042891e+01,  -1.00000000e-03,\n",
       "          1.00000000e+00,  -3.31195430e+01,  -2.11195430e+01,\n",
       "          2.18435344e-01,   1.00000000e+00,  -2.71195430e+01],\n",
       "       [  6.96756980e-01,   1.10507769e-01,   4.67112466e+00,\n",
       "          1.55621996e+00,   1.13010182e+01,   8.64632000e-04,\n",
       "          1.00000000e+00,  -4.28038286e+01,  -2.88038286e+01,\n",
       "          9.91504961e-01,   1.00000000e+00,  -3.58038286e+01]])"
      ]
     },
     "execution_count": 374,
     "metadata": {},
     "output_type": "execute_result"
    }
   ],
   "source": [
    "bf_new[filenum]"
   ]
  },
  {
   "cell_type": "code",
   "execution_count": 447,
   "metadata": {
    "collapsed": true
   },
   "outputs": [],
   "source": [
    "hold = np.array(out_best[1])"
   ]
  },
  {
   "cell_type": "code",
   "execution_count": 450,
   "metadata": {
    "collapsed": true
   },
   "outputs": [],
   "source": [
    "hold[1] = np.array([])"
   ]
  },
  {
   "cell_type": "code",
   "execution_count": 578,
   "metadata": {},
   "outputs": [
    {
     "data": {
      "text/plain": [
       "array([array([[-21.76582   ,   5.5825    ,   0.27023909]]),\n",
       "       array([[-14.174145  ,   5.5825    ,   1.00736273]]),\n",
       "       array([], dtype=float64)], dtype=object)"
      ]
     },
     "execution_count": 578,
     "metadata": {},
     "output_type": "execute_result"
    }
   ],
   "source": [
    "out_best[4]"
   ]
  },
  {
   "cell_type": "code",
   "execution_count": 602,
   "metadata": {
    "collapsed": true
   },
   "outputs": [],
   "source": [
    "p = list()\n",
    "q = list()\n",
    "for i in out_best:\n",
    "    for j in i:\n",
    "        if len(j) > 0:\n",
    "            for k in j:\n",
    "                if k[2] > 0.75:\n",
    "                    p.append(k)\n",
    "                else:\n",
    "                    q.append(k)"
   ]
  },
  {
   "cell_type": "code",
   "execution_count": 603,
   "metadata": {},
   "outputs": [
    {
     "data": {
      "text/plain": [
       "[array([-14.86668   ,   5.5845    ,   1.09941899]),\n",
       " array([-14.5373    ,   5.5825    ,   1.02110047]),\n",
       " array([-9.12977   ,  5.5825    ,  1.02110047]),\n",
       " array([-8.65187   ,  5.5825    ,  1.02110047]),\n",
       " array([-7.6015    ,  5.5825    ,  1.02110047]),\n",
       " array([-7.3762    ,  5.5825    ,  1.02110047]),\n",
       " array([-6.98363   ,  5.5825    ,  1.02110047]),\n",
       " array([-14.0051    ,   5.581     ,   1.01118957]),\n",
       " array([-7.89479   ,  5.581     ,  1.01118957]),\n",
       " array([-7.63179   ,  5.581     ,  1.01118957]),\n",
       " array([-7.42065   ,  5.581     ,  1.01118957]),\n",
       " array([-7.22062   ,  5.581     ,  1.01118957]),\n",
       " array([-13.737655 ,   5.5805   ,   0.9785673]),\n",
       " array([-13.788005  ,   5.58      ,   0.99118949]),\n",
       " array([-7.4022255 ,  5.58      ,  0.99118949]),\n",
       " array([-7.04453   ,  5.58      ,  0.99118949]),\n",
       " array([-6.8631355 ,  5.58      ,  0.99118949]),\n",
       " array([-21.7414    ,   5.578     ,   1.05390399])]"
      ]
     },
     "execution_count": 603,
     "metadata": {},
     "output_type": "execute_result"
    }
   ],
   "source": [
    "p"
   ]
  },
  {
   "cell_type": "code",
   "execution_count": 604,
   "metadata": {
    "collapsed": true
   },
   "outputs": [],
   "source": [
    "se2014 = np.array([np.array(q),np.array(p)])"
   ]
  },
  {
   "cell_type": "code",
   "execution_count": 605,
   "metadata": {
    "collapsed": true
   },
   "outputs": [],
   "source": [
    "np.save('2014se_new',se2014)"
   ]
  },
  {
   "cell_type": "code",
   "execution_count": 564,
   "metadata": {
    "collapsed": true
   },
   "outputs": [],
   "source": [
    "res = np.load('2014_4.npy')"
   ]
  },
  {
   "cell_type": "code",
   "execution_count": 565,
   "metadata": {},
   "outputs": [
    {
     "data": {
      "text/plain": [
       "array([  6.31826683e-01,   2.12189093e-01,   2.57649049e+00,\n",
       "        -6.31391229e-01,   1.11720267e+01,  -7.18277235e-04,\n",
       "         1.00000000e+00,  -2.27612000e+01,  -6.69808000e+00,\n",
       "         1.02110047e+00,   1.00000000e+00,  -1.47296400e+01])"
      ]
     },
     "execution_count": 565,
     "metadata": {},
     "output_type": "execute_result"
    }
   ],
   "source": [
    "res"
   ]
  },
  {
   "cell_type": "code",
   "execution_count": 569,
   "metadata": {
    "collapsed": true
   },
   "outputs": [],
   "source": [
    "bf_new[filenum][0] = res"
   ]
  },
  {
   "cell_type": "code",
   "execution_count": 567,
   "metadata": {},
   "outputs": [
    {
     "data": {
      "text/plain": [
       "4"
      ]
     },
     "execution_count": 567,
     "metadata": {},
     "output_type": "execute_result"
    }
   ],
   "source": [
    "filenum"
   ]
  },
  {
   "cell_type": "code",
   "execution_count": null,
   "metadata": {
    "collapsed": true
   },
   "outputs": [],
   "source": []
  }
 ],
 "metadata": {
  "kernelspec": {
   "display_name": "Python 2",
   "language": "python",
   "name": "python2"
  },
  "language_info": {
   "codemirror_mode": {
    "name": "ipython",
    "version": 2
   },
   "file_extension": ".py",
   "mimetype": "text/x-python",
   "name": "python",
   "nbconvert_exporter": "python",
   "pygments_lexer": "ipython2",
   "version": "2.7.10"
  }
 },
 "nbformat": 4,
 "nbformat_minor": 2
}
