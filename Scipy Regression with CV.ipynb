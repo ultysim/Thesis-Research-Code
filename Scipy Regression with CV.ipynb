{
 "cells": [
  {
   "cell_type": "code",
   "execution_count": 8,
   "metadata": {},
   "outputs": [
    {
     "name": "stdout",
     "output_type": "stream",
     "text": [
      "Using matplotlib backend: TkAgg\n"
     ]
    }
   ],
   "source": [
    "import Analysis\n",
    "import regression_cv as rcv\n",
    "import numpy as np\n",
    "import matplotlib as mpl\n",
    "from matplotlib import pyplot as plt\n",
    "%matplotlib"
   ]
  },
  {
   "cell_type": "code",
   "execution_count": null,
   "metadata": {},
   "outputs": [],
   "source": [
    "reload(rcv)"
   ]
  },
  {
   "cell_type": "code",
   "execution_count": null,
   "metadata": {},
   "outputs": [],
   "source": [
    "bval2014 = [5.5845,5.5840,5.5835,5.5830,5.5825,5.5820,5.5815,5.5810,5.5805,5.5800,5.5795,5.5790,5.5785,5.5780,5.5775]"
   ]
  },
  {
   "cell_type": "code",
   "execution_count": null,
   "metadata": {},
   "outputs": [],
   "source": [
    "run = Analysis.Run(np.load('2011_Raw.npy'), np.load('2011_Prune_new_flat.npy'), Analysis.bval2011, np.load('2011bf.npy'))"
   ]
  },
  {
   "cell_type": "code",
   "execution_count": 2,
   "metadata": {},
   "outputs": [],
   "source": [
    "run = Analysis.Run(np.load('2014_Raw.npy'), np.load('2014_Prune_new_flat.npy'), Analysis.bval2014, np.load('2014bf_new_prune.npy'))"
   ]
  },
  {
   "cell_type": "code",
   "execution_count": 3,
   "metadata": {},
   "outputs": [],
   "source": [
    "d45 = rcv.sweep_regression(run.prune_data[7], rcv.regression_CV, d = 4.5, residual = rcv.residual_new, c = 50, eps = 0.01, x_scale = [10.0,0.1,0.1,1.0,1.0,10**-3], loss = 'huber', y_tol=0.03)\n",
    "d5 = rcv.sweep_regression(run.prune_data[7], rcv.regression_CV, d = 5, residual = rcv.residual_new, c = 50, eps = 0.01, x_scale = [10.0,0.1,0.1,1.0,1.0,10**-3], loss = 'huber', y_tol=0.03)\n",
    "d6 = rcv.sweep_regression(run.prune_data[7], rcv.regression_CV, d = 6, residual = rcv.residual_new, c = 50, eps = 0.01, x_scale = [10.0,0.1,0.1,1.0,1.0,10**-3], loss = 'huber', y_tol=0.03)\n",
    "d7 = rcv.sweep_regression(run.prune_data[7], rcv.regression_CV, d = 7, residual = rcv.residual_new, c = 50, eps = 0.01, x_scale = [10.0,0.1,0.1,1.0,1.0,10**-3], loss = 'huber', y_tol=0.03)\n"
   ]
  },
  {
   "cell_type": "code",
   "execution_count": 11,
   "metadata": {},
   "outputs": [],
   "source": [
    "count = -1\n",
    "for i in d6:\n",
    "    count += 1\n",
    "    if i['result'] is None:\n",
    "        continue\n",
    "    if i['val_acc'] > 0.7 and 0.155 < i['result'].x[4] < 1.8 and i['ci_deltaphi'] < 0.001:\n",
    "        plt.figure()\n",
    "        rcv.plot(run.prune_data[7],i)\n",
    "        plt.title(str(count) + ', val:'+ str(i['val_acc']) + ', ci:' + str(i['ci_deltaphi']) + ', phi:'+ str(i['result'].x[4]))"
   ]
  },
  {
   "cell_type": "code",
   "execution_count": null,
   "metadata": {},
   "outputs": [],
   "source": [
    "run_new_rand_d45 = rcv.run_regression(run.prune_data, rcv.regression_CV, d = 4.5, residual = rcv.residual_new, c = 50, eps = 0.01, x_scale = [10.0,0.1,0.1,1.0,1.0,10**-3], loss = 'huber', y_tol=0.03)\n",
    "np.save('2011_CV_new_res_flat_d45.npy',run_new_rand_d45)"
   ]
  },
  {
   "cell_type": "code",
   "execution_count": null,
   "metadata": {},
   "outputs": [],
   "source": [
    "run_new_rand_d6 = rcv.run_regression(run.prune_data, rcv.regression_CV, d = 6, residual = rcv.residual_new, c = 50, eps = 0.01, x_scale = [10.0,0.1,0.1,1.0,1.0,10**-3], loss = 'huber', y_tol=0.03)\n",
    "np.save('2011_CV_new_res_flat_d6.npy',run_new_rand_d6)"
   ]
  },
  {
   "cell_type": "code",
   "execution_count": null,
   "metadata": {},
   "outputs": [],
   "source": [
    "run_new_rand_d7 = rcv.run_regression(run.prune_data, rcv.regression_CV, d = 7, residual = rcv.residual_new, c = 50, eps = 0.01, x_scale = [10.0,0.1,0.1,1.0,1.0,10**-3], loss = 'huber',y_tol=0.03)\n",
    "np.save('2011_CV_new_res_flat_d7.npy',run_new_rand_d7)"
   ]
  },
  {
   "cell_type": "code",
   "execution_count": null,
   "metadata": {},
   "outputs": [],
   "source": [
    "run_new_rand_d5 = rcv.run_regression(run.prune_data, rcv.regression_CV, d = 5, residual = rcv.residual_new, c = 50, eps = 0.01, x_scale = [10.0,0.1,0.1,1.0,1.0,10**-3], loss = 'huber', y_tol=0.03)\n",
    "np.save('2011_CV_new_res_flat_d5.npy',run_new_rand_d5)"
   ]
  },
  {
   "cell_type": "code",
   "execution_count": null,
   "metadata": {
    "collapsed": true
   },
   "outputs": [],
   "source": [
    "#run_reg_rand_smallerwindow = np.load('2014_CV_smallerwindow.npy')\n",
    "run_new_rand_ = np.load('2014_CV_smart_res.npy')"
   ]
  },
  {
   "cell_type": "code",
   "execution_count": null,
   "metadata": {
    "collapsed": true
   },
   "outputs": [],
   "source": [
    "np.save('2014_CV_smart_res_d6.npy',run_new_rand_d6)"
   ]
  },
  {
   "cell_type": "code",
   "execution_count": null,
   "metadata": {
    "collapsed": true
   },
   "outputs": [],
   "source": [
    "r = run_reg_rand_smallerwindow[filenum]\n",
    "count = -1\n",
    "for i in r:\n",
    "    count += 1\n",
    "    if i['result'] is None:\n",
    "        continue\n",
    "    if i['val_acc'] > val_threshold and 0.155 < i['result'].x[4] < 1.8 and i['ci_deltaphi'] < 0.001:\n",
    "        plt.figure()\n",
    "        rcv.plot(run.prune_data[filenum],i)\n",
    "        plt.title(str(count) + ', val:'+ str(i['val_acc']) + ', ci:' + str(i['ci_deltaphi']) + ', phi:'+ str(i['result'].x[4]))\n",
    "    "
   ]
  },
  {
   "cell_type": "code",
   "execution_count": null,
   "metadata": {
    "collapsed": true
   },
   "outputs": [],
   "source": [
    "val_threshold = 0.80"
   ]
  },
  {
   "cell_type": "code",
   "execution_count": null,
   "metadata": {
    "collapsed": true
   },
   "outputs": [],
   "source": [
    "filenum = 10"
   ]
  },
  {
   "cell_type": "code",
   "execution_count": null,
   "metadata": {
    "scrolled": true
   },
   "outputs": [],
   "source": [
    "for i in run.prune_data[filenum].fits:\n",
    "    plt.figure()\n",
    "    run.prune_data[filenum].plot()\n",
    "    i.plot(False)\n",
    "    print(i.delta_phi)"
   ]
  },
  {
   "cell_type": "code",
   "execution_count": null,
   "metadata": {},
   "outputs": [],
   "source": [
    "(run.prune_data[filenum].fits[0].phase_l-run.prune_data[filenum].fits[0].phase_r)/np.pi%2"
   ]
  },
  {
   "cell_type": "code",
   "execution_count": null,
   "metadata": {
    "collapsed": true
   },
   "outputs": [],
   "source": [
    "count = -1\n",
    "for i in run_new_rand_d45[filenum]:\n",
    "    count += 1\n",
    "    if i['result'] is None:\n",
    "        continue\n",
    "    if i['val_acc'] > val_threshold and 0.155 < i['result'].x[4] < 1.8 and i['ci_deltaphi'] < 0.001:\n",
    "        plt.figure()\n",
    "        rcv.plot(run.prune_data[filenum],i)\n",
    "        plt.title(str(count) + ', val:'+ str(i['val_acc']) + ', ci:' + str(i['ci_deltaphi']) + ', phi:'+ str(i['result'].x[4]))\n",
    "    "
   ]
  },
  {
   "cell_type": "code",
   "execution_count": null,
   "metadata": {},
   "outputs": [],
   "source": [
    "plt.figure()\n",
    "n = 5\n",
    "i = run_new_rand_d45[filenum][n]\n",
    "rcv.plot(run.prune_data[filenum], i,full=True)\n",
    "plt.title(str(i['val_acc']) + ', ' + str(i['ci_deltaphi']) + ', '+ str(i['result'].x[4]))\n"
   ]
  },
  {
   "cell_type": "code",
   "execution_count": null,
   "metadata": {
    "collapsed": true
   },
   "outputs": [],
   "source": [
    "j = 5\n",
    "for n in range(j,j+5):\n",
    "    plt.figure()\n",
    "    i = run_new_rand_d45[filenum][n]\n",
    "    rcv.plot(run.prune_data[filenum], i,full=True)\n",
    "    plt.title(str(i['val_acc']) + ', ' + str(i['ci_deltaphi']) + ', '+ str(i['result'].x[4]))\n"
   ]
  },
  {
   "cell_type": "code",
   "execution_count": null,
   "metadata": {
    "collapsed": true
   },
   "outputs": [],
   "source": [
    "count = -1\n",
    "for i in run_new_rand_d6[filenum]:\n",
    "    count += 1\n",
    "    if i['result'] is None:\n",
    "        continue\n",
    "    if i['val_acc'] > val_threshold and 0.155 < i['result'].x[4] < 1.8 and i['ci_deltaphi'] < 0.001:\n",
    "        plt.figure()\n",
    "        rcv.plot(run.prune_data[filenum],i)\n",
    "        plt.title(str(count) + ', val:'+ str(i['val_acc']) + ', ci:' + str(i['ci_deltaphi']) + ', phi:'+ str(i['result'].x[4]))\n",
    "    "
   ]
  },
  {
   "cell_type": "code",
   "execution_count": null,
   "metadata": {},
   "outputs": [],
   "source": [
    "plt.figure()\n",
    "n = 24\n",
    "i = run_new_rand_d6[filenum][n]\n",
    "rcv.plot(run.prune_data[filenum], i,full=True)\n",
    "plt.title(str(i['val_acc']) + ', ' + str(i['ci_deltaphi']) + ', '+ str(i['result'].x[4]))\n"
   ]
  },
  {
   "cell_type": "code",
   "execution_count": null,
   "metadata": {
    "collapsed": true
   },
   "outputs": [],
   "source": [
    "count = -1\n",
    "for i in run_new_rand_d7[filenum]:\n",
    "    count += 1\n",
    "    if i['result'] is None:\n",
    "        continue\n",
    "    if i['val_acc'] > val_threshold and 0.155 < i['result'].x[4] < 1.8 and i['ci_deltaphi'] < 0.001:\n",
    "        plt.figure()\n",
    "        rcv.plot(run.prune_data[filenum],i)\n",
    "        plt.title(str(count) + ', val:'+ str(i['val_acc']) + ', ci:' + str(i['ci_deltaphi']) + ', phi:'+ str(i['result'].x[4]))\n",
    "    "
   ]
  },
  {
   "cell_type": "code",
   "execution_count": null,
   "metadata": {
    "collapsed": true
   },
   "outputs": [],
   "source": [
    "run.prune_data[filenum].plot()"
   ]
  },
  {
   "cell_type": "code",
   "execution_count": null,
   "metadata": {},
   "outputs": [],
   "source": [
    "plt.figure()\n",
    "n = 9\n",
    "i = run_new_rand_d7[filenum][n]\n",
    "rcv.plot(run.prune_data[filenum], i,full=True)\n",
    "plt.title(str(i['val_acc']) + ', ' + str(i['ci_deltaphi']) + ', '+ str(i['result'].x[4]))\n"
   ]
  },
  {
   "cell_type": "code",
   "execution_count": null,
   "metadata": {
    "collapsed": true
   },
   "outputs": [],
   "source": [
    "import copy"
   ]
  },
  {
   "cell_type": "code",
   "execution_count": null,
   "metadata": {
    "collapsed": true
   },
   "outputs": [],
   "source": [
    "hold = copy.deepcopy(run_new_rand_d45[filenum][9])"
   ]
  },
  {
   "cell_type": "code",
   "execution_count": null,
   "metadata": {
    "collapsed": true
   },
   "outputs": [],
   "source": [
    "hold['result'].x[4] -= .01\n",
    "hold['result'].x[3] += .01*np.pi"
   ]
  },
  {
   "cell_type": "code",
   "execution_count": null,
   "metadata": {},
   "outputs": [],
   "source": [
    "i = hold\n",
    "plt.figure()\n",
    "rcv.plot(run.prune_data[filenum], i,full=True)\n",
    "plt.title(str(i['val_acc']) + ', ' + str(i['ci_deltaphi']) + ', '+ str(i['result'].x[4]))"
   ]
  },
  {
   "cell_type": "code",
   "execution_count": null,
   "metadata": {
    "collapsed": true
   },
   "outputs": [],
   "source": [
    "hold2 = copy.deepcopy(hold)"
   ]
  },
  {
   "cell_type": "code",
   "execution_count": null,
   "metadata": {
    "collapsed": true
   },
   "outputs": [],
   "source": [
    "hold2['result'].x[4] -= .75352075"
   ]
  },
  {
   "cell_type": "code",
   "execution_count": null,
   "metadata": {},
   "outputs": [],
   "source": [
    "i = hold2\n",
    "plt.figure()\n",
    "rcv.plot(run.prune_data[filenum], i,full=True)\n",
    "plt.title(str(i['val_acc']) + ', ' + str(i['ci_deltaphi']) + ', '+ str(i['result'].x[4]))"
   ]
  },
  {
   "cell_type": "code",
   "execution_count": null,
   "metadata": {
    "collapsed": true
   },
   "outputs": [],
   "source": [
    "import scipy"
   ]
  },
  {
   "cell_type": "code",
   "execution_count": null,
   "metadata": {
    "collapsed": true
   },
   "outputs": [],
   "source": [
    "d = run.prune_data[filenum]\n",
    "x_min = rcv.search(d.x,-46.9852)\n",
    "x_max = rcv.search(d.x,-15.2781)+1\n",
    "\n",
    "new_d = np.array([d.x[x_min:x_max],d.y[x_min:x_max]])\n",
    "m,b = np.polyfit(new_d[0],new_d[1],1)"
   ]
  },
  {
   "cell_type": "code",
   "execution_count": null,
   "metadata": {
    "collapsed": true
   },
   "outputs": [],
   "source": [
    "def minFunc(a):\n",
    "    return max(new_d[1] + a*new_d[0]) - min(new_d[1] + a*new_d[0])\n",
    "slope = scipy.optimize.fmin(minFunc,0,disp=False)\n",
    "new_d[1]=new_d[1]+slope[0]*new_d[0]"
   ]
  },
  {
   "cell_type": "code",
   "execution_count": null,
   "metadata": {
    "collapsed": true
   },
   "outputs": [],
   "source": [
    "new_d[1] -= m*new_d[0]"
   ]
  },
  {
   "cell_type": "code",
   "execution_count": null,
   "metadata": {},
   "outputs": [],
   "source": [
    "plt.plot(new_d[0],new_d[1])"
   ]
  },
  {
   "cell_type": "code",
   "execution_count": null,
   "metadata": {},
   "outputs": [],
   "source": [
    "run.prune_data[filenum].b_val"
   ]
  },
  {
   "cell_type": "code",
   "execution_count": null,
   "metadata": {
    "collapsed": true
   },
   "outputs": [],
   "source": [
    "temp = run.prune_data[4]"
   ]
  },
  {
   "cell_type": "code",
   "execution_count": null,
   "metadata": {
    "collapsed": true
   },
   "outputs": [],
   "source": [
    "out_4 = rcv.multi_regression(-14.389, -7.179, temp, rcv.regression_CV, residual = rcv.residual_new, eps = 0.01, x_scale = [10.0,0.1,0.1,1.0,1.0,10**-3], loss = 'huber', plot=True)"
   ]
  },
  {
   "cell_type": "code",
   "execution_count": null,
   "metadata": {},
   "outputs": [],
   "source": [
    "out_4[0].x[4]"
   ]
  },
  {
   "cell_type": "code",
   "execution_count": null,
   "metadata": {
    "collapsed": true
   },
   "outputs": [],
   "source": [
    "res = {'result':hold['result'], 'x_min':-22.7612, 'x_max':-6.69808, 'eps':0.01, 'ci_deltaphi':out_4[1], 'val_acc':out_4[2]}\n"
   ]
  },
  {
   "cell_type": "code",
   "execution_count": null,
   "metadata": {
    "collapsed": true
   },
   "outputs": [],
   "source": [
    "hold['result'].x[4] += .01\n",
    "hold['result'].x[3] -= .01*np.pi"
   ]
  },
  {
   "cell_type": "code",
   "execution_count": null,
   "metadata": {},
   "outputs": [],
   "source": [
    "plt.figure()\n",
    "rcv.plot(run.prune_data[4], hold, full=True)\n",
    "plt.title(', phi:'+ str(hold['result'].x[4]))"
   ]
  },
  {
   "cell_type": "code",
   "execution_count": null,
   "metadata": {},
   "outputs": [],
   "source": [
    "plt.figure()\n",
    "rcv.plot(run.prune_data[4], res)\n",
    "plt.title('phi:'+ str(res['result'].x[4]))"
   ]
  },
  {
   "cell_type": "code",
   "execution_count": null,
   "metadata": {
    "collapsed": true
   },
   "outputs": [],
   "source": [
    "def csf(scipy_fit):\n",
    "    x = scipy_fit['result'].x\n",
    "    if x[4] > 1.5:\n",
    "        dphi = 2-x[4]\n",
    "    else:\n",
    "        dphi = x[4]\n",
    "    out = list()\n",
    "    out.append(x[2])\n",
    "    out.append(x[1])\n",
    "    out.append(x[3]+x[4]*np.pi)\n",
    "    out.append(x[3])\n",
    "    out.append(x[0])\n",
    "    out.append(x[5])\n",
    "    out.append(scipy_fit['val_acc'])\n",
    "    out.append(scipy_fit['x_min'])\n",
    "    out.append(scipy_fit['x_max'])\n",
    "    out.append(dphi)\n",
    "    out.append(1)\n",
    "    out.append((scipy_fit['x_min'] + scipy_fit['x_max'])/2)\n",
    "    return np.array(out)"
   ]
  },
  {
   "cell_type": "code",
   "execution_count": null,
   "metadata": {},
   "outputs": [],
   "source": [
    "csf(res)"
   ]
  },
  {
   "cell_type": "code",
   "execution_count": null,
   "metadata": {
    "collapsed": true
   },
   "outputs": [],
   "source": [
    "np.save('2014_4',csf(res))"
   ]
  },
  {
   "cell_type": "code",
   "execution_count": null,
   "metadata": {},
   "outputs": [],
   "source": [
    "count = -1\n",
    "for i in out:\n",
    "    count += 1\n",
    "    if i['result'] is None:\n",
    "        continue\n",
    "    if i['val_acc'] > val_threshold and 0.155 < i['result'].x[4] < 1.8 and i['ci_deltaphi'] < 0.001:\n",
    "        plt.figure()\n",
    "        rcv.plot(temp,i)\n",
    "        plt.title(str(count) + ', val:'+ str(i['val_acc']) + ', ci:' + str(i['ci_deltaphi']) + ', phi:'+ str(i['result'].x[4]))\n",
    "    "
   ]
  },
  {
   "cell_type": "code",
   "execution_count": null,
   "metadata": {
    "collapsed": true
   },
   "outputs": [],
   "source": [
    "count = -1\n",
    "for i in out_7:\n",
    "    count += 1\n",
    "    if i['result'] is None:\n",
    "        continue\n",
    "    if i['val_acc'] > val_threshold and 0.155 < i['result'].x[4] < 1.8 and i['ci_deltaphi'] < 0.001:\n",
    "        plt.figure()\n",
    "        rcv.plot(temp,i)\n",
    "        plt.title(str(count) + ', val:'+ str(i['val_acc']) + ', ci:' + str(i['ci_deltaphi']) + ', phi:'+ str(i['result'].x[4]))\n",
    "    "
   ]
  },
  {
   "cell_type": "code",
   "execution_count": null,
   "metadata": {},
   "outputs": [],
   "source": [
    "plt.figure()\n",
    "j = hold\n",
    "rcv.plot(run.prune_data[filenum], j,full=True)\n",
    "plt.title(str(j['val_acc']) + ', ' + str(j['ci_deltaphi']) + ', '+ str(j['result'].x[4]))\n"
   ]
  },
  {
   "cell_type": "code",
   "execution_count": null,
   "metadata": {
    "collapsed": true
   },
   "outputs": [],
   "source": [
    "sweep_reg = rcv.sweep_regression(run.prune_data[filenum], rcv.regression_CV, residual = rcv.residual_new, d = 4.5, c = 50, eps = 0.01, x_scale = [10.0,0.1,0.1,1.0,1.0,10**-3], loss = 'huber')"
   ]
  },
  {
   "cell_type": "code",
   "execution_count": null,
   "metadata": {
    "collapsed": true
   },
   "outputs": [],
   "source": [
    "t_1 = rcv.sweep_regression(run.prune_data[filenum], rcv.regression_CV, d = 4.0, c = 50, eps = 1, x_scale = [10.0,0.1,0.1,1.0,1.0,10**-3], loss = 'huber')"
   ]
  },
  {
   "cell_type": "code",
   "execution_count": null,
   "metadata": {
    "collapsed": true
   },
   "outputs": [],
   "source": [
    "t_01 = rcv.sweep_regression(run.prune_data[filenum], rcv.regression_CV, d = 4.0, c = 50, eps = .01, x_scale = [10.0,0.1,0.1,1.0,1.0,10**-3], loss = 'huber')"
   ]
  },
  {
   "cell_type": "code",
   "execution_count": null,
   "metadata": {
    "collapsed": true
   },
   "outputs": [],
   "source": [
    "t_01_04 = rcv.sweep_regression(run.prune_data[filenum], rcv.regression_CV, d = 4.0, c = 50, eps = .01, val_split = 0.4, x_scale = [10.0,0.1,0.1,1.0,1.0,10**-3], loss = 'huber')"
   ]
  },
  {
   "cell_type": "code",
   "execution_count": null,
   "metadata": {},
   "outputs": [],
   "source": [
    "reload(rcv)\n",
    "rcv.check()"
   ]
  },
  {
   "cell_type": "code",
   "execution_count": null,
   "metadata": {},
   "outputs": [],
   "source": [
    "np.sqrt(np.mean((t[30]['result'].fun*10)**2))"
   ]
  },
  {
   "cell_type": "code",
   "execution_count": null,
   "metadata": {},
   "outputs": [],
   "source": [
    "np.sqrt(np.mean((r[30]['result'].fun*0.01)**2))"
   ]
  },
  {
   "cell_type": "code",
   "execution_count": null,
   "metadata": {
    "collapsed": true
   },
   "outputs": [],
   "source": [
    "rcv.plot(run.prune_data[filenum],t[35])"
   ]
  },
  {
   "cell_type": "code",
   "execution_count": null,
   "metadata": {
    "collapsed": true
   },
   "outputs": [],
   "source": [
    "data = run.prune_data[filenum]\n",
    "\n",
    "x_min = t[30]['x_min']\n",
    "x_max = t[30]['x_max']\n",
    "\n",
    "i_min = rcv.search(data.x,x_min)\n",
    "i_max = rcv.search(data.x,x_max)+1\n",
    "\n",
    "x = data.x[i_min:i_max]\n",
    "y = data.y[i_min:i_max]\n",
    "\n",
    "v0 = (x_min+x_max)/2.0\n",
    "\n",
    "res_t = rcv.residual(t[30]['result'].x, x, y, v0, 1.0)\n",
    "res_r = rcv.residual(r[30]['result'].x, x, y, v0, 1.0)"
   ]
  },
  {
   "cell_type": "code",
   "execution_count": null,
   "metadata": {},
   "outputs": [],
   "source": [
    "np.sqrt(np.mean(res_t**2))"
   ]
  },
  {
   "cell_type": "code",
   "execution_count": null,
   "metadata": {},
   "outputs": [],
   "source": [
    "np.sqrt(np.mean(res_r**2))"
   ]
  },
  {
   "cell_type": "code",
   "execution_count": null,
   "metadata": {},
   "outputs": [],
   "source": [
    "plt.plot(t[35]['result'].fun)"
   ]
  },
  {
   "cell_type": "code",
   "execution_count": null,
   "metadata": {
    "collapsed": true
   },
   "outputs": [],
   "source": [
    "out = pick_fits(r)"
   ]
  },
  {
   "cell_type": "code",
   "execution_count": null,
   "metadata": {},
   "outputs": [],
   "source": [
    "len(out)"
   ]
  },
  {
   "cell_type": "code",
   "execution_count": null,
   "metadata": {
    "collapsed": true
   },
   "outputs": [],
   "source": [
    "for i in out:\n",
    "    plt.figure()\n",
    "    rcv.plot(run.prune_data[filenum],i)\n",
    "    plt.title('val:'+ str(i['val_acc']) + ', ci:' + str(i['ci_deltaphi']) + ', phi:'+ str(i['result'].x[4]))"
   ]
  },
  {
   "cell_type": "code",
   "execution_count": null,
   "metadata": {
    "collapsed": true
   },
   "outputs": [],
   "source": [
    "total_results = list()\n",
    "count = 0\n",
    "for i in run_reg_rand:\n",
    "    total_results.append(pick_fits(i))"
   ]
  },
  {
   "cell_type": "code",
   "execution_count": null,
   "metadata": {},
   "outputs": [],
   "source": [
    "count = 0\n",
    "for i in total_results:\n",
    "    count += len(i[1])\n",
    "count"
   ]
  },
  {
   "cell_type": "code",
   "execution_count": null,
   "metadata": {
    "collapsed": true
   },
   "outputs": [],
   "source": [
    "lengths = list()\n",
    "c = 0\n",
    "for i in run_new_rand_:\n",
    "    for j in i:\n",
    "        data = run.prune_data[c]\n",
    "        x_min = j['x_min']\n",
    "        x_max = j['x_max']\n",
    "        i_min = rcv.search(data.x,x_min)\n",
    "        i_max = rcv.search(data.x,x_max)+1\n",
    "        lengths.append(len(data.x[i_min:i_max]))\n",
    "    c += 1"
   ]
  },
  {
   "cell_type": "code",
   "execution_count": null,
   "metadata": {},
   "outputs": [],
   "source": [
    "np.mean(lengths)*.2"
   ]
  },
  {
   "cell_type": "code",
   "execution_count": null,
   "metadata": {
    "collapsed": true
   },
   "outputs": [],
   "source": [
    "bval2011 = run.bvals\n",
    "\n",
    "run_new = Analysis.Run(np.load('2011_Raw.npy'), np.load('2011_Prune.npy'), bval2011, np.load('2011bf_new_residual.npy'))"
   ]
  },
  {
   "cell_type": "code",
   "execution_count": null,
   "metadata": {},
   "outputs": [],
   "source": [
    "for i in run_new.prune_data[filenum].fits:\n",
    "    plt.figure()\n",
    "    run_new.prune_data[filenum].plot()\n",
    "    i.plot(False)\n",
    "    print(i.delta_phi)"
   ]
  },
  {
   "cell_type": "code",
   "execution_count": null,
   "metadata": {
    "collapsed": true
   },
   "outputs": [],
   "source": [
    "run_new_rand_d6 = np.load('2011_CV_smart_res_d6.npy')"
   ]
  },
  {
   "cell_type": "code",
   "execution_count": null,
   "metadata": {
    "collapsed": true
   },
   "outputs": [],
   "source": [
    "run_new.prune_data[filenum].fits[0].delta_phi = 1"
   ]
  },
  {
   "cell_type": "code",
   "execution_count": null,
   "metadata": {},
   "outputs": [],
   "source": [
    "plt.figure()\n",
    "n = 10\n",
    "i = run_new_rand_d6[filenum][n]\n",
    "rcv.plot(run.prune_data[filenum], i,full=True)\n",
    "plt.title(str(i['val_acc']) + ', ' + str(i['ci_deltaphi']) + ', '+ str(i['result'].x[4]))\n"
   ]
  },
  {
   "cell_type": "code",
   "execution_count": null,
   "metadata": {
    "collapsed": true
   },
   "outputs": [],
   "source": [
    "hold = copy.deepcopy(run_new_rand_d6[filenum][10])"
   ]
  },
  {
   "cell_type": "code",
   "execution_count": null,
   "metadata": {
    "collapsed": true
   },
   "outputs": [],
   "source": [
    "hold['result'].x[4] += 0.1"
   ]
  },
  {
   "cell_type": "code",
   "execution_count": null,
   "metadata": {
    "collapsed": true
   },
   "outputs": [],
   "source": [
    "n = 1\n",
    "hold['result'].x[4] -= n\n",
    "hold['result'].x[3] += n*np.pi"
   ]
  },
  {
   "cell_type": "code",
   "execution_count": null,
   "metadata": {},
   "outputs": [],
   "source": [
    "plt.figure()\n",
    "n = 10\n",
    "i = hold\n",
    "rcv.plot(run.prune_data[filenum], i)\n",
    "plt.title(str(i['val_acc']) + ', ' + str(i['ci_deltaphi']) + ', '+ str(i['result'].x[4]))\n"
   ]
  },
  {
   "cell_type": "code",
   "execution_count": null,
   "metadata": {
    "collapsed": true
   },
   "outputs": [],
   "source": [
    "hold_secnd = copy.deepcopy(hold)"
   ]
  },
  {
   "cell_type": "code",
   "execution_count": null,
   "metadata": {
    "collapsed": true
   },
   "outputs": [],
   "source": [
    "hold_first = copy.deepcopy(hold)"
   ]
  },
  {
   "cell_type": "code",
   "execution_count": null,
   "metadata": {
    "collapsed": true
   },
   "outputs": [],
   "source": [
    "np.save('2011_10',[hold_first,hold_secnd])"
   ]
  },
  {
   "cell_type": "code",
   "execution_count": null,
   "metadata": {
    "collapsed": true
   },
   "outputs": [],
   "source": []
  }
 ],
 "metadata": {
  "kernelspec": {
   "display_name": "Python 2",
   "language": "python",
   "name": "python2"
  },
  "language_info": {
   "codemirror_mode": {
    "name": "ipython",
    "version": 2
   },
   "file_extension": ".py",
   "mimetype": "text/x-python",
   "name": "python",
   "nbconvert_exporter": "python",
   "pygments_lexer": "ipython2",
   "version": "2.7.10"
  }
 },
 "nbformat": 4,
 "nbformat_minor": 2
}
