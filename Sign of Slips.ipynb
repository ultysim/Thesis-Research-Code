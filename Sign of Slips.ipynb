{
 "cells": [
  {
   "cell_type": "code",
   "execution_count": 1,
   "metadata": {},
   "outputs": [],
   "source": [
    "import Analysis\n",
    "import numpy as np\n",
    "import matplotlib as mpl\n",
    "from matplotlib import pyplot as plt\n",
    "from matplotlib.gridspec import GridSpec\n",
    "import regression_cv as rcv\n",
    "\n",
    "import FitRoutine2 as fr"
   ]
  },
  {
   "cell_type": "code",
   "execution_count": 2,
   "metadata": {},
   "outputs": [
    {
     "name": "stdout",
     "output_type": "stream",
     "text": [
      "Using matplotlib backend: TkAgg\n"
     ]
    }
   ],
   "source": [
    "%matplotlib"
   ]
  },
  {
   "cell_type": "code",
   "execution_count": 3,
   "metadata": {},
   "outputs": [],
   "source": [
    "run14 = Analysis.Run(np.load('2014_Raw.npy'), np.load('2014_Prune_new.npy'), Analysis.bval2011, np.load('2014bf_new_prune_edit.npy'))"
   ]
  },
  {
   "cell_type": "code",
   "execution_count": 4,
   "metadata": {},
   "outputs": [],
   "source": [
    "run11 = Analysis.Run(np.load('2011_Raw.npy'), np.load('2011_Prune_new_flat.npy'), Analysis.bval2011, np.load('2011bf_new_prune_flat_edit.npy'))"
   ]
  },
  {
   "cell_type": "code",
   "execution_count": 5,
   "metadata": {},
   "outputs": [],
   "source": [
    "angles = []\n",
    "mod_angles = []"
   ]
  },
  {
   "cell_type": "code",
   "execution_count": 6,
   "metadata": {},
   "outputs": [],
   "source": [
    "for i in run14.prune_data:\n",
    "    for j in i.fits:\n",
    "        angles.append((j.phase_r-j.phase_l)/np.pi)\n",
    "        mod_angles.append((j.phase_r-j.phase_l)/np.pi%2)"
   ]
  },
  {
   "cell_type": "code",
   "execution_count": 33,
   "metadata": {},
   "outputs": [],
   "source": [
    "for i in run11.prune_data:\n",
    "    for j in i.fits:\n",
    "        angles.append((j.phase_r-j.phase_l)/np.pi)\n",
    "        mod_angles.append((j.phase_r-j.phase_l)/np.pi%2)"
   ]
  },
  {
   "cell_type": "code",
   "execution_count": 8,
   "metadata": {},
   "outputs": [
    {
     "data": {
      "text/plain": [
       "(array([ 9.,  7.,  2.,  1.,  2.,  3.,  1.,  0.,  2.,  5.,  0.,  9.,  8.,\n",
       "         5.,  2.,  0.,  1.,  0.,  0.,  0.,  0.,  0.,  0.,  0.,  1.,  0.,\n",
       "         1.,  0.,  0.,  0.,  0.,  0.,  0.,  1.,  2.,  3.,  1.,  0.,  0.,\n",
       "         0.,  0.,  0.,  0.,  1.,  0.,  1.,  1.,  2.,  0.,  0.,  0.,  0.,\n",
       "         0.,  0.,  0.,  0.,  0.,  0.,  0.,  1.]),\n",
       " array([-1.78437834, -1.72584664, -1.66731495, -1.60878325, -1.55025155,\n",
       "        -1.49171985, -1.43318816, -1.37465646, -1.31612476, -1.25759306,\n",
       "        -1.19906136, -1.14052967, -1.08199797, -1.02346627, -0.96493457,\n",
       "        -0.90640287, -0.84787118, -0.78933948, -0.73080778, -0.67227608,\n",
       "        -0.61374438, -0.55521269, -0.49668099, -0.43814929, -0.37961759,\n",
       "        -0.3210859 , -0.2625542 , -0.2040225 , -0.1454908 , -0.0869591 ,\n",
       "        -0.02842741,  0.03010429,  0.08863599,  0.14716769,  0.20569939,\n",
       "         0.26423108,  0.32276278,  0.38129448,  0.43982618,  0.49835787,\n",
       "         0.55688957,  0.61542127,  0.67395297,  0.73248467,  0.79101636,\n",
       "         0.84954806,  0.90807976,  0.96661146,  1.02514316,  1.08367485,\n",
       "         1.14220655,  1.20073825,  1.25926995,  1.31780165,  1.37633334,\n",
       "         1.43486504,  1.49339674,  1.55192844,  1.61046013,  1.66899183,\n",
       "         1.72752353]),\n",
       " <a list of 60 Patch objects>)"
      ]
     },
     "execution_count": 8,
     "metadata": {},
     "output_type": "execute_result"
    }
   ],
   "source": [
    "plt.figure()\n",
    "plt.hist(angles,bins=60)"
   ]
  },
  {
   "cell_type": "code",
   "execution_count": 34,
   "metadata": {},
   "outputs": [
    {
     "data": {
      "text/plain": [
       "(array([  1.,   1.,   4.,  11.,  10.,   1.,   1.,   3.,   0.,   2.,   0.,\n",
       "          2.,   3.,   2.,   1.,   1.,   0.,   0.,   0.,   1.,   1.,   1.,\n",
       "          2.,   6.,   1.,   0.,   0.,  10.,   7.,  12.,   3.,   7.,   2.,\n",
       "          3.,   0.,   0.,   0.,   2.,   0.,   0.,   0.,   0.,   0.,   0.,\n",
       "          0.,   0.,   0.,   0.,   0.,   0.,   0.,   0.,   0.,   0.,   0.,\n",
       "          0.,   0.,   1.,   0.,   3.]),\n",
       " array([ 0.17118999,  0.1973171 ,  0.22344421,  0.24957132,  0.27569843,\n",
       "         0.30182554,  0.32795265,  0.35407976,  0.38020687,  0.40633398,\n",
       "         0.43246109,  0.4585882 ,  0.48471531,  0.51084242,  0.53696953,\n",
       "         0.56309664,  0.58922375,  0.61535086,  0.64147797,  0.66760509,\n",
       "         0.6937322 ,  0.71985931,  0.74598642,  0.77211353,  0.79824064,\n",
       "         0.82436775,  0.85049486,  0.87662197,  0.90274908,  0.92887619,\n",
       "         0.9550033 ,  0.98113041,  1.00725752,  1.03338463,  1.05951174,\n",
       "         1.08563885,  1.11176596,  1.13789307,  1.16402018,  1.19014729,\n",
       "         1.2162744 ,  1.24240151,  1.26852862,  1.29465574,  1.32078285,\n",
       "         1.34690996,  1.37303707,  1.39916418,  1.42529129,  1.4514184 ,\n",
       "         1.47754551,  1.50367262,  1.52979973,  1.55592684,  1.58205395,\n",
       "         1.60818106,  1.63430817,  1.66043528,  1.68656239,  1.7126895 ,\n",
       "         1.73881661]),\n",
       " <a list of 60 Patch objects>)"
      ]
     },
     "execution_count": 34,
     "metadata": {},
     "output_type": "execute_result"
    }
   ],
   "source": [
    "plt.figure()\n",
    "plt.hist(mod_angles,bins=60)"
   ]
  },
  {
   "cell_type": "code",
   "execution_count": 10,
   "metadata": {},
   "outputs": [],
   "source": [
    "bf14 = np.load('2014bf_new_prune_edit.npy')\n",
    "se14 = np.load('2014se_edit.npy')"
   ]
  },
  {
   "cell_type": "code",
   "execution_count": 28,
   "metadata": {},
   "outputs": [],
   "source": [
    "se14_new = list()\n",
    "for i in range(len(se14)):\n",
    "    temp = list()\n",
    "    for j in se14[i]:\n",
    "        fit = bf14[i][abs(bf14[i][:,9]-j[2])<0.01]\n",
    "        if len(fit)==0:\n",
    "            print(i,j)\n",
    "            continue\n",
    "        else:\n",
    "            fit = fit[0]\n",
    "        new_phase = (fit[3] - fit[2])/np.pi%2\n",
    "        hold = np.array(j)\n",
    "        hold[2] = new_phase\n",
    "        temp.append(hold)\n",
    "    se14_new.append(np.array(temp))"
   ]
  },
  {
   "cell_type": "code",
   "execution_count": 74,
   "metadata": {},
   "outputs": [],
   "source": [
    "np.save('2014se_new_sign',np.array(se14_new))"
   ]
  },
  {
   "cell_type": "code",
   "execution_count": 38,
   "metadata": {},
   "outputs": [],
   "source": [
    "bf11 = np.load('2011bf_new_prune_flat_edit.npy')\n",
    "se11 = np.load('2011se_flat_edit.npy')"
   ]
  },
  {
   "cell_type": "code",
   "execution_count": 56,
   "metadata": {},
   "outputs": [],
   "source": [
    "se11_new = list()\n",
    "for i in range(len(se11)):\n",
    "    temp = list()\n",
    "    for j in se11[i]:\n",
    "        fit = bf11[i][abs(bf11[i][:,9]-j[2])<0.01]\n",
    "        if len(fit)==0:\n",
    "            print(i,j)\n",
    "            continue\n",
    "        else:\n",
    "            fit = fit[0]\n",
    "        new_phase = (fit[3] - fit[2])/np.pi%2\n",
    "        hold = np.array(j)\n",
    "        hold[2] = new_phase\n",
    "        temp.append(hold)\n",
    "    se11_new.append(np.array(temp))"
   ]
  },
  {
   "cell_type": "code",
   "execution_count": 73,
   "metadata": {},
   "outputs": [],
   "source": [
    "np.save('2011se_new_sign',np.array(se11_new))"
   ]
  },
  {
   "cell_type": "code",
   "execution_count": 75,
   "metadata": {},
   "outputs": [],
   "source": [
    "temp = list()\n",
    "for i in se11_new:\n",
    "    if len(i)>0:\n",
    "        temp.extend(i[:,2])"
   ]
  },
  {
   "cell_type": "code",
   "execution_count": 77,
   "metadata": {},
   "outputs": [
    {
     "data": {
      "text/plain": [
       "(array([  0.,   0.,   0.,   0.,   0.,   0.,   0.,   3.,   4.,  21.,   0.,\n",
       "          0.,  10.,   1.,   0.,   1.,   2.,   5.,   0.,   0.,   0.,   0.,\n",
       "          0.,   0.,   0.,   1.,   7.,   0.,   0.,   4.,  15.,  13.,   2.,\n",
       "          1.,   3.,   0.,   0.,   0.,   1.,   0.,   0.,   0.,   0.,   0.,\n",
       "          0.,   0.,   0.,   0.,   0.,   0.,   0.,   0.,   0.,   0.,   0.,\n",
       "          0.,   0.,   0.,   0.,   0.,   0.,   0.,   0.,   0.,   0.,   0.]),\n",
       " array([ 0.  ,  0.03,  0.06,  0.09,  0.12,  0.15,  0.18,  0.21,  0.24,\n",
       "         0.27,  0.3 ,  0.33,  0.36,  0.39,  0.42,  0.45,  0.48,  0.51,\n",
       "         0.54,  0.57,  0.6 ,  0.63,  0.66,  0.69,  0.72,  0.75,  0.78,\n",
       "         0.81,  0.84,  0.87,  0.9 ,  0.93,  0.96,  0.99,  1.02,  1.05,\n",
       "         1.08,  1.11,  1.14,  1.17,  1.2 ,  1.23,  1.26,  1.29,  1.32,\n",
       "         1.35,  1.38,  1.41,  1.44,  1.47,  1.5 ,  1.53,  1.56,  1.59,\n",
       "         1.62,  1.65,  1.68,  1.71,  1.74,  1.77,  1.8 ,  1.83,  1.86,\n",
       "         1.89,  1.92,  1.95,  1.98]),\n",
       " <a list of 66 Patch objects>)"
      ]
     },
     "execution_count": 77,
     "metadata": {},
     "output_type": "execute_result"
    }
   ],
   "source": [
    "bins = np.arange(0.0,2.0,0.03)\n",
    "plt.hist(temp,bins)"
   ]
  },
  {
   "cell_type": "code",
   "execution_count": null,
   "metadata": {},
   "outputs": [],
   "source": [
    "se11_new[9]"
   ]
  },
  {
   "cell_type": "code",
   "execution_count": null,
   "metadata": {},
   "outputs": [],
   "source": [
    "se11[9]"
   ]
  },
  {
   "cell_type": "code",
   "execution_count": null,
   "metadata": {},
   "outputs": [],
   "source": [
    "(bf11[9][0][3]-bf11[9][0][2])/np.pi*np.ones(5)"
   ]
  },
  {
   "cell_type": "code",
   "execution_count": null,
   "metadata": {},
   "outputs": [],
   "source": [
    "se11_new[9][0:5][:,2] = (bf11[9][0][3]-bf11[9][0][2])/np.pi*np.ones(5)"
   ]
  },
  {
   "cell_type": "code",
   "execution_count": null,
   "metadata": {},
   "outputs": [],
   "source": [
    "run14.prune_data[5].plot_fit(2)"
   ]
  },
  {
   "cell_type": "code",
   "execution_count": null,
   "metadata": {},
   "outputs": [],
   "source": [
    "bf14 = np.load('2014bf_new_prune_edit.npy')"
   ]
  },
  {
   "cell_type": "code",
   "execution_count": null,
   "metadata": {},
   "outputs": [],
   "source": [
    "se11_new_windowed = list()\n",
    "for i in range(len(se11_new)):\n",
    "    temp = list()\n",
    "    for j in se11_new[i]:\n",
    "        hold = np.array(j)\n",
    "        if -1.89<j[2]<-0.5:\n",
    "            hold[2] = 2 + j[2]\n",
    "        elif 1.42<j[2]<2:\n",
    "            hold[2] = j[2] - 2\n",
    "        temp.append(hold)\n",
    "    se11_new_windowed.append(np.array(temp))"
   ]
  },
  {
   "cell_type": "code",
   "execution_count": null,
   "metadata": {},
   "outputs": [],
   "source": [
    "se14_new_windowed = list()\n",
    "for i in range(len(se14_new)):\n",
    "    temp = list()\n",
    "    for j in se14_new[i]:\n",
    "        hold = np.array(j)\n",
    "        if -1.89<j[2]<-0.5:\n",
    "            hold[2] = 2 + j[2]\n",
    "        elif 1.42<j[2]<2:\n",
    "            hold[2] = j[2] - 2\n",
    "        temp.append(hold)\n",
    "    se14_new_windowed.append(np.array(temp))"
   ]
  },
  {
   "cell_type": "code",
   "execution_count": null,
   "metadata": {},
   "outputs": [],
   "source": [
    "np.save('2011se_new_sign_windowed',np.array(se11_new_windowed))\n",
    "np.save('2014se_new_sign_windowed',np.array(se14_new_windowed))"
   ]
  },
  {
   "cell_type": "code",
   "execution_count": null,
   "metadata": {},
   "outputs": [],
   "source": [
    "run11.prune_data[0].plot_fit(1)"
   ]
  },
  {
   "cell_type": "code",
   "execution_count": null,
   "metadata": {},
   "outputs": [],
   "source": [
    "se11 = np.load('2011se_new_sign.npy')\n",
    "se14 = np.load('2014se_new_sign.npy')"
   ]
  },
  {
   "cell_type": "code",
   "execution_count": null,
   "metadata": {},
   "outputs": [],
   "source": [
    "se11[0]"
   ]
  },
  {
   "cell_type": "code",
   "execution_count": null,
   "metadata": {},
   "outputs": [],
   "source": [
    "set(se11_new[0][:,2])"
   ]
  },
  {
   "cell_type": "code",
   "execution_count": null,
   "metadata": {},
   "outputs": [],
   "source": [
    "hold11 = list()\n",
    "for i in se11_new:\n",
    "    if len(i) > 0:\n",
    "        for k in list(set(i[:,2])):\n",
    "            hold11.append(k%2)\n",
    "\n",
    "hold14 = list()\n",
    "for i in se14_new:\n",
    "    if len(i) > 0:\n",
    "        for k in list(set(i[:,2])):\n",
    "            hold11.append(k%2)"
   ]
  },
  {
   "cell_type": "code",
   "execution_count": null,
   "metadata": {},
   "outputs": [],
   "source": [
    "plt.hist(hold11)"
   ]
  },
  {
   "cell_type": "code",
   "execution_count": null,
   "metadata": {},
   "outputs": [],
   "source": [
    "solo_slips = list()\n",
    "for i in hold11:\n",
    "    solo_slips.append(i)\n",
    "for i in hold14:\n",
    "    solo_slips.append(i)"
   ]
  },
  {
   "cell_type": "code",
   "execution_count": null,
   "metadata": {},
   "outputs": [],
   "source": [
    "bins = np.arange(0,2.0,0.03)\n",
    "plt.hist(solo_slips,bins)\n",
    "plt.xlabel('$\\Delta\\phi$ ($\\pi$)')\n",
    "plt.ylabel('Count')"
   ]
  },
  {
   "cell_type": "code",
   "execution_count": null,
   "metadata": {},
   "outputs": [],
   "source": []
  }
 ],
 "metadata": {
  "kernelspec": {
   "display_name": "Python 2",
   "language": "python",
   "name": "python2"
  },
  "language_info": {
   "codemirror_mode": {
    "name": "ipython",
    "version": 2
   },
   "file_extension": ".py",
   "mimetype": "text/x-python",
   "name": "python",
   "nbconvert_exporter": "python",
   "pygments_lexer": "ipython2",
   "version": "2.7.10"
  }
 },
 "nbformat": 4,
 "nbformat_minor": 2
}
