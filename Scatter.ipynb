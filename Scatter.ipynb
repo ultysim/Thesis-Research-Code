{
 "cells": [
  {
   "cell_type": "code",
   "execution_count": 1,
   "metadata": {},
   "outputs": [],
   "source": [
    "import numpy as np\n",
    "import matplotlib as mpl\n",
    "from matplotlib import pyplot as plt\n",
    "from matplotlib.gridspec import GridSpec\n",
    "import CompleteHist as ch\n",
    "%matplotlib qt"
   ]
  },
  {
   "cell_type": "code",
   "execution_count": 2,
   "metadata": {},
   "outputs": [],
   "source": [
    "se2011 = np.load('2011se.npy')\n",
    "se52 = np.load('52se.npy')\n",
    "b1 = np.mean(se52[1][:,1])\n",
    "b2 = np.mean(se2011[1][:,1])"
   ]
  },
  {
   "cell_type": "markdown",
   "metadata": {},
   "source": [
    "## TTN Plot Inverse Scale"
   ]
  },
  {
   "cell_type": "code",
   "execution_count": 3,
   "metadata": {},
   "outputs": [
    {
     "data": {
      "text/plain": [
       "<matplotlib.legend.Legend at 0xce335c0>"
      ]
     },
     "execution_count": 3,
     "metadata": {},
     "output_type": "execute_result"
    },
    {
     "data": {
      "image/png": "[encoded data removed]",
      "text/plain": [
       "<matplotlib.figure.Figure at 0xcd452e8>"
      ]
     },
     "metadata": {},
     "output_type": "display_data"
    }
   ],
   "source": [
    "fig1 = plt.figure(1)\n",
    "\n",
    "s5p = plt.scatter((se52[1][:,1]-b1)*1000,se52[1][:,0],s=50,edgecolor='k')\n",
    "s5q = plt.scatter((se52[0][:,1]-b1)*1000,se52[0][:,0],s=50,color='r',marker='d',edgecolor='k')\n",
    "s2q = plt.scatter((se2011[0][:,1]-b2)*1000,se2011[0][:,0],color='r',s=50,marker='d',edgecolor='k')\n",
    "s2p = plt.scatter((se2011[1][:,1]-b2)*1000,se2011[1][:,0],s=50)\n",
    "\n",
    "\n",
    "plt.xlim(-5.3,5.8)\n",
    "plt.ylim(-41,-3)\n",
    "plt.xlabel('$\\Delta$B (mT)')\n",
    "plt.ylabel('V$_P$(mV)')\n",
    "\n",
    "plt.legend((s2q,s2p),\n",
    "           ('$\\Delta\\phi = \\\\frac{\\pi}{4}$', '$\\Delta\\phi = \\pi$'),\n",
    "           scatterpoints=1,\n",
    "           loc='upper left',\n",
    "           ncol=1,\n",
    "           fontsize=10)\n"
   ]
  },
  {
   "cell_type": "code",
   "execution_count": null,
   "metadata": {},
   "outputs": [],
   "source": [
    "se2011[1]"
   ]
  },
  {
   "cell_type": "markdown",
   "metadata": {},
   "source": [
    "# Generate Figure for Paper"
   ]
  },
  {
   "cell_type": "code",
   "execution_count": 4,
   "metadata": {
    "collapsed": true
   },
   "outputs": [],
   "source": [
    "\n",
    "pi11 = [x for x in se2011[0][:,0]]\n",
    "q11 = ([x for x in se2011[1][:,0]])\n",
    "\n",
    "pi14 = [x for x in se52[1][:,0]]\n",
    "q14 = ([x for x in se52[0][:,0]])"
   ]
  },
  {
   "cell_type": "code",
   "execution_count": 5,
   "metadata": {},
   "outputs": [],
   "source": [
    "a = plt.hist([pi11,q11,pi14,q14],58,label=[\"$2011 \\phi=\\pi$\",\"$2011 \\phi=\\pi/4$\",\"$2014 \\phi=\\pi$\",\"$2014 \\phi=\\pi/4$\"],color=['#0033cc','#cc0000','#4d79ff','#ff5050'],stacked=True,rwidth=1.2)"
   ]
  },
  {
   "cell_type": "code",
   "execution_count": 6,
   "metadata": {},
   "outputs": [
    {
     "data": {
      "text/plain": [
       "<matplotlib.text.Text at 0xc5c2320>"
      ]
     },
     "execution_count": 6,
     "metadata": {},
     "output_type": "execute_result"
    }
   ],
   "source": [
    "#Fig 1\n",
    "bins = np.arange(0,2.0,.03)\n",
    "pi = list(se52[1][:,2])\n",
    "pi.extend(list(se2011[1][:,2]))\n",
    "q = list(se52[0][:,2])\n",
    "q.extend(list(se2011[0][:,2]))\n",
    "plt.hist(pi,bins,label=[\"$\\phi=\\pi$\"],color=['b'])\n",
    "plt.hist(q,bins,label=[\"$\\phi=\\pi/4$\"],color=['r'])\n",
    "plt.legend()\n",
    "plt.xlabel('$\\Delta \\phi$ ($\\pi$)')\n",
    "plt.ylabel('Count')"
   ]
  },
  {
   "cell_type": "code",
   "execution_count": 7,
   "metadata": {},
   "outputs": [
    {
     "data": {
      "text/plain": [
       "<matplotlib.text.Text at 0x1febe3c8>"
      ]
     },
     "execution_count": 7,
     "metadata": {},
     "output_type": "execute_result"
    }
   ],
   "source": [
    "#Fig 2 better\n",
    "\n",
    "pi11 = [x for x in se2011[0][:,0]]\n",
    "q11 = ([x for x in se2011[1][:,0]])\n",
    "\n",
    "pi14 = [x for x in se52[1][:,0]]\n",
    "q14 = ([x for x in se52[0][:,0]])\n",
    "\n",
    "gs = GridSpec(500,1000)\n",
    "fig = plt.figure()\n",
    "ax3 = fig.add_subplot(gs[:,:])\n",
    "plt.tick_params(axis='x',which='both',bottom='off',top='off',labelbottom='off')\n",
    "plt.tick_params(axis='y',which='both',bottom='off',top='off',labelleft='off')\n",
    "ax3.set_ylabel('Count',labelpad=17)\n",
    "ax1 = fig.add_subplot(gs[:250,:])\n",
    "ax1.hist([pi14,q14],a[1],label=[\"$\\phi=\\pi$\",\"$\\phi=\\pi/4$\"],color=['b','r'],stacked=True,rwidth=1.2)\n",
    "plt.tick_params(axis='x',which='both',bottom='on',top='on',labelbottom='off')\n",
    "plt.yticks([0,2,4], ([0,2,4]))\n",
    "plt.legend(loc=0)\n",
    "plt.title('Split Hist, stacked')\n",
    "ax2 = fig.add_subplot(gs[250:,:])\n",
    "ax2.hist([pi11,q11],a[1],label=[\"$\\phi=\\pi$\",\"$\\phi=\\pi/4$\"],color=['b','r'],stacked=True,rwidth=1.2)\n",
    "plt.yticks([0,2,4,6], ([0,2,4,6]))\n",
    "ax2.set_xlabel('$V_p$ (mV)')\n"
   ]
  },
  {
   "cell_type": "code",
   "execution_count": 55,
   "metadata": {},
   "outputs": [],
   "source": [
    "#All Together\n",
    "mpl.rcParams.update({'font.size': 7})\n",
    "\n",
    "gs = GridSpec(1000,1000)\n",
    "fig = plt.figure(figsize=[2.3*1.5,2.3*2.0])\n",
    "\n",
    "\n",
    "ax4 = fig.add_subplot(gs[0:400,:])\n",
    "bins = np.arange(0,2.0,.03)\n",
    "pi = list(se52[1][:,2])\n",
    "pi.extend(list(se2011[1][:,2]))\n",
    "q = list(se52[0][:,2])\n",
    "q.extend(list(se2011[0][:,2]))\n",
    "plt.hist(pi,bins,label=[\"$\\phi=\\pi$\"],color=['b'])\n",
    "plt.hist(q,bins,label=[\"$\\phi=\\pi/4$\"],color=['r'])\n",
    "plt.legend(fontsize=7,markerscale= -1 ,labelspacing= 0 ,borderpad=0.2)\n",
    "plt.xlabel('$\\Delta \\phi$ ($\\pi$)',labelpad=2)\n",
    "plt.ylim([0,14.5])\n",
    "plt.yticks([0,3,6,9,12], ([0,3,6,9,12]))\n",
    "medp = np.median(pi)\n",
    "stdp = np.std(pi)\n",
    "plt.plot([medp]*100,np.linspace(0,14.5,100),c='k',ls='--',lw=1.5)\n",
    "plt.plot([medp+stdp]*100,np.linspace(0,14.5,100),c='g',ls='--',lw=1.5)\n",
    "plt.plot([medp-stdp]*100,np.linspace(0,14.5,100),c='g',ls='--',lw=1.5)\n",
    "medq = np.median(q)\n",
    "stdq = np.std(q)\n",
    "plt.plot([medq]*100,np.linspace(0,14.5,100),c='k',ls='--',lw=1.5)\n",
    "plt.plot([medq+stdq]*100,np.linspace(0,14.5,100),c='g',ls='--',lw=1.5)\n",
    "plt.plot([medq-stdq]*100,np.linspace(0,14.5,100),c='g',ls='--',lw=1.5)\n",
    "\n",
    "\n",
    "ax1 = fig.add_subplot(gs[500:740,:])\n",
    "ax1.hist([pi14,q14],a[1],label=[\"$\\phi=\\pi$\",\"$\\phi=\\pi/4$\"],color=['b','r'],stacked=True,rwidth=1.2)\n",
    "plt.tick_params(axis='x',which='both',bottom='on',top='on',labelbottom='off')\n",
    "plt.yticks([0,2,4], ([0,2,4]))\n",
    "plt.ylim([0,5.5])\n",
    "\n",
    "ax2 = fig.add_subplot(gs[760:,:])\n",
    "ax2.hist([pi11,q11],a[1],label=[\"$\\phi=\\pi$\",\"$\\phi=\\pi/4$\"],color=['b','r'],stacked=True,rwidth=1.2)\n",
    "plt.yticks([0,2,4,6], ([0,2,4,6]))\n",
    "plt.xticks([-40,-30,-20,-10],([-40,-30,-20,-10]))\n",
    "ax2.set_xlabel('$V_p$ (mV)',labelpad=2)\n",
    "plt.ylim([0,7.5])\n",
    "\n",
    "plt.savefig('Hist v3',dpi=1200)"
   ]
  },
  {
   "cell_type": "code",
   "execution_count": 36,
   "metadata": {},
   "outputs": [
    {
     "name": "stdout",
     "output_type": "stream",
     "text": [
      "Pi Median 0.997734 and std 0.087579\n",
      "Pi by 4 Median 0.272222 and std 0.041510\n"
     ]
    }
   ],
   "source": [
    "print(\"Pi Median %.6f and std %.6f\"%(np.median(pi),np.std(pi)))\n",
    "print(\"Pi by 4 Median %.6f and std %.6f\"%(np.median(q),np.std(q)))"
   ]
  },
  {
   "cell_type": "code",
   "execution_count": 44,
   "metadata": {},
   "outputs": [
    {
     "data": {
      "text/plain": [
       "[0.99773381027985419,\n",
       " 0.99773381027985419,\n",
       " 0.99773381027985419,\n",
       " 0.99773381027985419,\n",
       " 0.99773381027985419,\n",
       " 0.99773381027985419,\n",
       " 0.99773381027985419,\n",
       " 0.99773381027985419,\n",
       " 0.99773381027985419,\n",
       " 0.99773381027985419]"
      ]
     },
     "execution_count": 44,
     "metadata": {},
     "output_type": "execute_result"
    }
   ],
   "source": [
    "m = np.median(pi)\n",
    "[m]*10"
   ]
  },
  {
   "cell_type": "code",
   "execution_count": 246,
   "metadata": {},
   "outputs": [
    {
     "data": {
      "text/plain": [
       "<matplotlib.text.Text at 0x3b5c0978>"
      ]
     },
     "execution_count": 246,
     "metadata": {},
     "output_type": "execute_result"
    }
   ],
   "source": [
    "#Fig 2\n",
    "pi = [x for x in se2011[1][:,0]]\n",
    "pi.extend([x for x in se52[1][:,0]])\n",
    "q = [x for x in se2011[0][:,0]]\n",
    "q.extend([x for x in se52[0][:,0]])\n",
    "plt.hist([pi,q],58,label=[\"$\\phi=\\pi$\",\"$\\phi=\\pi/4$\"],color=['b','r'],stacked=True,rwidth=1.2)\n",
    "#plt.legend()\n",
    "plt.xlabel('$V_p$ (mV)')\n",
    "plt.ylabel('Count')"
   ]
  },
  {
   "cell_type": "code",
   "execution_count": null,
   "metadata": {},
   "outputs": [],
   "source": [
    "#Fig 3 and Frequency Function\n",
    "#Pi\n",
    "pi = list()\n",
    "i = 0\n",
    "while i < len(se2011[1]):\n",
    "    \n",
    "    hold = se2011[1][:,0][se2011[1][:,1]==se2011[1][i,1]]\n",
    "    pi.append(hold)\n",
    "    i+= len(hold)\n",
    "i = 0\n",
    "while i < len(se52[1]):\n",
    "    \n",
    "    hold = se52[1][:,0][se52[1][:,1]==se52[1][i,1]]\n",
    "    pi.append(hold)\n",
    "    i+= len(hold)\n",
    "    \n",
    "pdel = list()\n",
    "for i in pi:\n",
    "    i = sorted(i)\n",
    "    if len(i)==1:\n",
    "        pdel.append(0)\n",
    "    else:\n",
    "        for j in range(len(i)-1):\n",
    "            pdel.append(i[j+1]-i[j])\n",
    "            \n",
    "pfreq=list()\n",
    "for i in pdel:\n",
    "    if not i == 0:\n",
    "        pfreq.append(1.0/i)\n",
    "    else:\n",
    "        pfreq.append(0)\n",
    "#plt.hist(pfreq,100)\n",
    "##Pi/4------------------------------------------------------------------------\n",
    "q = list()\n",
    "i = 0\n",
    "while i < len(se2011[0]):\n",
    "    \n",
    "    hold = se2011[0][:,0][se2011[0][:,1]==se2011[0][i,1]]\n",
    "    q.append(hold)\n",
    "    i+= len(hold)\n",
    "i = 0\n",
    "while i < len(se52[0]):\n",
    "    \n",
    "    hold = se52[0][:,0][se52[0][:,1]==se52[0][i,1]]\n",
    "    q.append(hold)\n",
    "    i+= len(hold)\n",
    "    \n",
    "qdel = list()\n",
    "for i in q:\n",
    "    i = sorted(i)\n",
    "    if len(i)==1:\n",
    "        qdel.append(0)\n",
    "    else:\n",
    "        for j in range(len(i)-1):\n",
    "            qdel.append(i[j+1]-i[j])\n",
    "            \n",
    "qfreq=list()\n",
    "for i in qdel:\n",
    "    if not i == 0:\n",
    "        qfreq.append(1.0/i)\n",
    "    else:\n",
    "        qfreq.append(0)\n",
    "#plt.hist(qfreq,100)"
   ]
  },
  {
   "cell_type": "code",
   "execution_count": null,
   "metadata": {},
   "outputs": [],
   "source": [
    "pf = list()\n",
    "for i in pfreq:\n",
    "    if i >0:\n",
    "        pf.append(i)\n",
    "qf = list()\n",
    "for i in qfreq:\n",
    "    if i>0:\n",
    "        qf.append(i)\n",
    "plt.hist([pf,qf],58,label=[\"$\\phi=\\pi$\",\"$\\phi=\\pi/4$\"],color=['b','r'],stacked=True,rwidth=1.2)\n",
    "plt.xlim([0,8])"
   ]
  },
  {
   "cell_type": "code",
   "execution_count": null,
   "metadata": {},
   "outputs": [],
   "source": [
    "plt.hist([pfreq,qfreq],58,label=[\"$\\phi=\\pi$\",\"$\\phi=\\pi/4$\"],color=['b','r'],stacked=True,rwidth=1.2)\n",
    "plt.xlim([0,8])"
   ]
  },
  {
   "cell_type": "code",
   "execution_count": null,
   "metadata": {},
   "outputs": [],
   "source": [
    "#Playing with Field:\n",
    "\n",
    "p14b = se52[1][:,1]\n",
    "q14b = se52[0][:,1]\n",
    "q11b = se2011[0][:,1]\n",
    "p11b = se2011[1][:,1]\n",
    "fig1 = plt.figure(1)\n",
    "ax1 = fig1.add_subplot(1,1,1)\n",
    "plt.hist([p11b,q11b],20,label=[\"$\\phi=\\pi$\",\"$\\phi=\\pi/4$\"],color=['b','r'],stacked=True)\n",
    "#plt.xlim(bmin,bmax)\n",
    "ax1.get_xaxis().get_major_formatter().set_useOffset(False)\n",
    "plt.legend()\n",
    "plt.xlabel('$B$ (T)')\n",
    "plt.ylabel('Count')\n",
    "plt.title('2011')"
   ]
  },
  {
   "cell_type": "code",
   "execution_count": null,
   "metadata": {},
   "outputs": [],
   "source": [
    "fig1 = plt.figure(1)\n",
    "ax1 = fig1.add_subplot(1,1,1)\n",
    "plt.hist([p14b,q14b],20,label=[\"$\\phi=\\pi$\",\"$\\phi=\\pi/4$\"],color=['b','r'],stacked=True)\n",
    "ax1.get_xaxis().get_major_formatter().set_useOffset(False)\n",
    "plt.legend()\n",
    "plt.xlabel('$B$ (T)')\n",
    "plt.ylabel('Count')\n",
    "plt.title('2014')"
   ]
  },
  {
   "cell_type": "code",
   "execution_count": null,
   "metadata": {},
   "outputs": [],
   "source": [
    "pi = [x for x in se2011[1][:,0]]\n",
    "pi.extend([x for x in se52[1][:,0]])\n",
    "q = [x for x in se2011[0][:,0]]\n",
    "q.extend([x for x in se52[0][:,0]])"
   ]
  },
  {
   "cell_type": "code",
   "execution_count": null,
   "metadata": {},
   "outputs": [],
   "source": [
    "plt.hist(pi,np.arange(min(pi),max(pi),.6))"
   ]
  },
  {
   "cell_type": "code",
   "execution_count": null,
   "metadata": {
    "scrolled": true
   },
   "outputs": [],
   "source": [
    "plt.hist(q,np.arange(min(q),max(q),.6))"
   ]
  },
  {
   "cell_type": "code",
   "execution_count": null,
   "metadata": {},
   "outputs": [],
   "source": [
    "pi11 = [x for x in se2011[1][:,0]]\n",
    "pi14 = ([x for x in se52[1][:,0]])\n",
    "plt.hist(pi11,np.arange(-40,-5,.6),label=\"2011\")\n",
    "plt.hist(pi14,np.arange(-40,-5,.6),label=\"2014\",color='r')\n",
    "plt.legend()\n",
    "plt.xlabel('$V_p$ (mV)')\n",
    "plt.ylabel('Count')\n",
    "plt.title('$\\pi$')"
   ]
  },
  {
   "cell_type": "code",
   "execution_count": null,
   "metadata": {},
   "outputs": [],
   "source": [
    "q11 = [x for x in se2011[0][:,0]]\n",
    "q14 = ([x for x in se52[0][:,0]])\n",
    "plt.hist(q11,np.arange(-40,-5,.6),label=\"2011\")\n",
    "plt.hist(q14,np.arange(-40,-5,.6),label=\"2014\",color='r')\n",
    "plt.legend()\n",
    "plt.xlabel('$V_p$ (mV)')\n",
    "plt.ylabel('Count')"
   ]
  },
  {
   "cell_type": "code",
   "execution_count": null,
   "metadata": {},
   "outputs": [],
   "source": [
    "q11 = [x for x in se2011[0][:,0]]\n",
    "q11.extend([x for x in se52[0][:,0]])\n",
    "plt.hist(q11,np.arange(-40,-5,.6))\n",
    "plt.xlabel('$V_p$ (mV)')\n",
    "plt.ylabel('Count')"
   ]
  },
  {
   "cell_type": "code",
   "execution_count": 223,
   "metadata": {},
   "outputs": [
    {
     "data": {
      "text/plain": [
       "<matplotlib.text.Text at 0x2f0e0780>"
      ]
     },
     "execution_count": 223,
     "metadata": {},
     "output_type": "execute_result"
    }
   ],
   "source": [
    "pi11 = [x for x in se2011[1][:,0]]\n",
    "q11 = ([x for x in se2011[0][:,0]])\n",
    "plt.hist(pi11,np.arange(-40,-10,.6),label=\"$\\phi=\\pi$\")\n",
    "plt.hist(q11,np.arange(-40,-10,.6),label=\"$\\phi=\\pi/4$\",color='r')\n",
    "plt.legend()\n",
    "plt.xlabel('$V_p$ (mV)')\n",
    "plt.ylabel('Count')"
   ]
  },
  {
   "cell_type": "code",
   "execution_count": 224,
   "metadata": {},
   "outputs": [
    {
     "data": {
      "text/plain": [
       "<matplotlib.text.Text at 0x2f75e6a0>"
      ]
     },
     "execution_count": 224,
     "metadata": {},
     "output_type": "execute_result"
    }
   ],
   "source": [
    "pi14 = [x for x in se52[1][:,0]]\n",
    "q14 = ([x for x in se52[0][:,0]])\n",
    "plt.hist(pi14,np.arange(-30,-5,.6),label=\"$\\phi=\\pi$\")\n",
    "plt.hist(q14,np.arange(-30,-5,.6),label=\"$\\phi=\\pi/4$\",color='r')\n",
    "plt.legend()\n",
    "plt.xlabel('$V_p$ (mV)')\n",
    "plt.ylabel('Count')"
   ]
  },
  {
   "cell_type": "code",
   "execution_count": null,
   "metadata": {},
   "outputs": [],
   "source": [
    "plt.hist([pi,q],58,label=[\"$\\phi=\\pi$\",\"$\\phi=\\pi/4$\"],color=['b','r'],rwidth=1.2)\n",
    "plt.legend()\n",
    "plt.xlabel('$V_p$ (mV)')\n",
    "plt.ylabel('Count')\n",
    "plt.title('Single Hist, Superimposed')"
   ]
  },
  {
   "cell_type": "code",
   "execution_count": null,
   "metadata": {},
   "outputs": [],
   "source": [
    "plt.hist([pi,q],58,label=[\"$\\phi=\\pi$\",\"$\\phi=\\pi/4$\"],color=['b','r'],stacked=True,rwidth=1.2)\n",
    "#plt.hist(q,np.arange(-40,-5,.6),label=\"$\\phi=\\pi/4$\",color='r')\n",
    "plt.legend()\n",
    "plt.xlabel('$V_p$ (mV)')\n",
    "plt.ylabel('Count')\n",
    "plt.title('Single Hist, Stacked')"
   ]
  },
  {
   "cell_type": "code",
   "execution_count": null,
   "metadata": {},
   "outputs": [],
   "source": [
    "plt.hist(pi11,60,label=\"$\\phi=\\pi$\",color='b',stacked=True)\n",
    "plt.hist(q11,np.arange(-40,-5,.6),label=\"$\\phi=\\pi/4$\",color='r',stacked=True)\n",
    "#plt.hist(pi14,np.arange(-40,-5,.6),color='b',stacked=True)\n",
    "#plt.hist(q14,np.arange(-40,-5,.6),color='r',stacked=True)\n",
    "plt.legend()\n",
    "plt.xlabel('$V_p$ (mV)')\n",
    "plt.ylabel('Count')"
   ]
  },
  {
   "cell_type": "code",
   "execution_count": null,
   "metadata": {},
   "outputs": [],
   "source": [
    "plt.hist([pi11,q11,pi14,q14],58,label=[\"$2011 \\phi=\\pi$\",\"$2011 \\phi=\\pi/4$\",\"$2014 \\phi=\\pi$\",\"$2014 \\phi=\\pi/4$\"],color=['#0033cc','#cc0000','#4d79ff','#ff5050'],stacked=True,rwidth=1.2)\n",
    "plt.legend()\n",
    "plt.xlabel('$V_p$ (mV)')\n",
    "plt.ylabel('Count')\n",
    "plt.title('Multiple Hist, Stacked')"
   ]
  },
  {
   "cell_type": "code",
   "execution_count": 226,
   "metadata": {},
   "outputs": [],
   "source": [
    "a = plt.hist([pi11,q11,pi14,q14],58,label=[\"$2011 \\phi=\\pi$\",\"$2011 \\phi=\\pi/4$\",\"$2014 \\phi=\\pi$\",\"$2014 \\phi=\\pi/4$\"],color=['#0033cc','#cc0000','#4d79ff','#ff5050'],stacked=True,rwidth=1.2)\n"
   ]
  },
  {
   "cell_type": "code",
   "execution_count": 227,
   "metadata": {},
   "outputs": [],
   "source": [
    "hq14, bins, p = plt.hist(q14,a[1])\n",
    "hp14, bins, p = plt.hist(pi14,a[1])\n",
    "hp11, bins, p = plt.hist(pi11,a[1])\n",
    "hq11, bins, p = plt.hist(q11,a[1])"
   ]
  },
  {
   "cell_type": "code",
   "execution_count": 229,
   "metadata": {},
   "outputs": [
    {
     "data": {
      "text/plain": [
       "<matplotlib.text.Text at 0x3180e5f8>"
      ]
     },
     "execution_count": 229,
     "metadata": {},
     "output_type": "execute_result"
    }
   ],
   "source": [
    "plt.bar(x,hq14,width=0.6,color='r',label='$\\phi=\\pi/4$',align='center')\n",
    "plt.bar(x,hp14,width=0.6,color='b',label='$\\phi=\\pi$',align='center')\n",
    "plt.bar(x,hq11*-1.0,width=0.6,color='r',align='center')\n",
    "plt.bar(x,hp11*-1.0,width=0.6,color='b',align='center')\n",
    "\n",
    "\n",
    "plt.xlabel('$V_p$ (mV)')\n",
    "plt.ylabel('Count')\n",
    "plt.yticks([-8,-6,-4,-2,0,2,4], np.abs([-8,-6,-4,-2,0,2,4]))\n",
    "plt.ylim([-10,6])\n",
    "plt.xlim([x[0]-0.3,x[-1]+0.3])\n",
    "plt.legend(loc=1)\n",
    "plt.title('Verticle Split Hist, Stacked')"
   ]
  },
  {
   "cell_type": "code",
   "execution_count": 228,
   "metadata": {},
   "outputs": [],
   "source": [
    "x= list()\n",
    "for i in range(0,len(a[1])-1):\n",
    "    x.append((a[1][i]+a[1][i+1])/2)"
   ]
  },
  {
   "cell_type": "code",
   "execution_count": null,
   "metadata": {},
   "outputs": [],
   "source": [
    "hp11, bins, p = plt.hist(pi11,np.arange(-40,-5,.6))"
   ]
  },
  {
   "cell_type": "code",
   "execution_count": null,
   "metadata": {
    "collapsed": true
   },
   "outputs": [],
   "source": [
    "t = plt.hist(q14,np.arange(-40,-5,.6))"
   ]
  },
  {
   "cell_type": "code",
   "execution_count": null,
   "metadata": {},
   "outputs": [],
   "source": [
    "plt.bar(x,a[0][3],width=0.6,color='r')"
   ]
  },
  {
   "cell_type": "code",
   "execution_count": null,
   "metadata": {},
   "outputs": [],
   "source": [
    "plt.bar(x,hp14,width=0.6,color='b',label='$\\phi=\\pi$')"
   ]
  },
  {
   "cell_type": "code",
   "execution_count": null,
   "metadata": {},
   "outputs": [],
   "source": [
    "plt.bar(x,hq14,width=0.6,color='r',label='$\\phi=\\pi/4$')"
   ]
  },
  {
   "cell_type": "code",
   "execution_count": null,
   "metadata": {},
   "outputs": [],
   "source": [
    "plt.bar(x,hp11*-1.0,width=0.6,color='b')"
   ]
  },
  {
   "cell_type": "code",
   "execution_count": null,
   "metadata": {},
   "outputs": [],
   "source": [
    "plt.bar(x,hq11*-1.0,width=0.6,color='r')"
   ]
  },
  {
   "cell_type": "code",
   "execution_count": null,
   "metadata": {},
   "outputs": [],
   "source": [
    "hq14[29]= 1.0"
   ]
  },
  {
   "cell_type": "code",
   "execution_count": null,
   "metadata": {},
   "outputs": [],
   "source": [
    "for i in range(len(hp11)):\n",
    "    if hp11[i] != 0:\n",
    "        if hq11[i] != 0:\n",
    "            print i"
   ]
  },
  {
   "cell_type": "code",
   "execution_count": null,
   "metadata": {},
   "outputs": [],
   "source": [
    "hq11[1] = 1.0"
   ]
  },
  {
   "cell_type": "code",
   "execution_count": null,
   "metadata": {},
   "outputs": [],
   "source": [
    "hq14[29]"
   ]
  },
  {
   "cell_type": "code",
   "execution_count": null,
   "metadata": {},
   "outputs": [],
   "source": [
    "x[29]"
   ]
  },
  {
   "cell_type": "code",
   "execution_count": null,
   "metadata": {
    "collapsed": true
   },
   "outputs": [],
   "source": [
    "superimpp14 = [1.0,x[30]]\n",
    "superimpq14 = [1.0,x[30]]\n",
    "superimpp11 = [-1.0,x[1]]\n",
    "superimpq11 = [-1.0,x[1]]"
   ]
  },
  {
   "cell_type": "code",
   "execution_count": 230,
   "metadata": {},
   "outputs": [
    {
     "ename": "NameError",
     "evalue": "name 'superimpp14' is not defined",
     "output_type": "error",
     "traceback": [
      "\u001b[1;31m---------------------------------------------------------------------------\u001b[0m",
      "\u001b[1;31mNameError\u001b[0m                                 Traceback (most recent call last)",
      "\u001b[1;32m<ipython-input-230-5443ac6a3419>\u001b[0m in \u001b[0;36m<module>\u001b[1;34m()\u001b[0m\n\u001b[0;32m      3\u001b[0m \u001b[0mplt\u001b[0m\u001b[1;33m.\u001b[0m\u001b[0mbar\u001b[0m\u001b[1;33m(\u001b[0m\u001b[0mx\u001b[0m\u001b[1;33m,\u001b[0m\u001b[0mhq11\u001b[0m\u001b[1;33m*\u001b[0m\u001b[1;33m-\u001b[0m\u001b[1;36m1.0\u001b[0m\u001b[1;33m,\u001b[0m\u001b[0mwidth\u001b[0m\u001b[1;33m=\u001b[0m\u001b[1;36m0.6\u001b[0m\u001b[1;33m,\u001b[0m\u001b[0mcolor\u001b[0m\u001b[1;33m=\u001b[0m\u001b[1;34m'r'\u001b[0m\u001b[1;33m,\u001b[0m\u001b[0malign\u001b[0m\u001b[1;33m=\u001b[0m\u001b[1;34m'center'\u001b[0m\u001b[1;33m)\u001b[0m\u001b[1;33m\u001b[0m\u001b[0m\n\u001b[0;32m      4\u001b[0m \u001b[0mplt\u001b[0m\u001b[1;33m.\u001b[0m\u001b[0mbar\u001b[0m\u001b[1;33m(\u001b[0m\u001b[0mx\u001b[0m\u001b[1;33m,\u001b[0m\u001b[0mhp11\u001b[0m\u001b[1;33m*\u001b[0m\u001b[1;33m-\u001b[0m\u001b[1;36m1.0\u001b[0m\u001b[1;33m,\u001b[0m\u001b[0mwidth\u001b[0m\u001b[1;33m=\u001b[0m\u001b[1;36m0.6\u001b[0m\u001b[1;33m,\u001b[0m\u001b[0mcolor\u001b[0m\u001b[1;33m=\u001b[0m\u001b[1;34m'b'\u001b[0m\u001b[1;33m,\u001b[0m\u001b[0malign\u001b[0m\u001b[1;33m=\u001b[0m\u001b[1;34m'center'\u001b[0m\u001b[1;33m)\u001b[0m\u001b[1;33m\u001b[0m\u001b[0m\n\u001b[1;32m----> 5\u001b[1;33m \u001b[0mplt\u001b[0m\u001b[1;33m.\u001b[0m\u001b[0mbar\u001b[0m\u001b[1;33m(\u001b[0m\u001b[0msuperimpp14\u001b[0m\u001b[1;33m[\u001b[0m\u001b[1;36m1\u001b[0m\u001b[1;33m]\u001b[0m\u001b[1;33m+\u001b[0m\u001b[1;36m0.15\u001b[0m\u001b[1;33m,\u001b[0m\u001b[0msuperimpp14\u001b[0m\u001b[1;33m[\u001b[0m\u001b[1;36m0\u001b[0m\u001b[1;33m]\u001b[0m\u001b[1;33m,\u001b[0m\u001b[0mcolor\u001b[0m\u001b[1;33m=\u001b[0m\u001b[1;34m'b'\u001b[0m\u001b[1;33m,\u001b[0m\u001b[0mwidth\u001b[0m\u001b[1;33m=\u001b[0m\u001b[1;36m0.3\u001b[0m\u001b[1;33m,\u001b[0m\u001b[0malign\u001b[0m\u001b[1;33m=\u001b[0m\u001b[1;34m'center'\u001b[0m\u001b[1;33m)\u001b[0m\u001b[1;33m\u001b[0m\u001b[0m\n\u001b[0m\u001b[0;32m      6\u001b[0m \u001b[0mplt\u001b[0m\u001b[1;33m.\u001b[0m\u001b[0mbar\u001b[0m\u001b[1;33m(\u001b[0m\u001b[0msuperimpq14\u001b[0m\u001b[1;33m[\u001b[0m\u001b[1;36m1\u001b[0m\u001b[1;33m]\u001b[0m\u001b[1;33m-\u001b[0m\u001b[1;36m0.15\u001b[0m\u001b[1;33m,\u001b[0m\u001b[0msuperimpq14\u001b[0m\u001b[1;33m[\u001b[0m\u001b[1;36m0\u001b[0m\u001b[1;33m]\u001b[0m\u001b[1;33m,\u001b[0m\u001b[0mcolor\u001b[0m\u001b[1;33m=\u001b[0m\u001b[1;34m'r'\u001b[0m\u001b[1;33m,\u001b[0m\u001b[0mwidth\u001b[0m\u001b[1;33m=\u001b[0m\u001b[1;36m0.3\u001b[0m\u001b[1;33m,\u001b[0m\u001b[0malign\u001b[0m\u001b[1;33m=\u001b[0m\u001b[1;34m'center'\u001b[0m\u001b[1;33m)\u001b[0m\u001b[1;33m\u001b[0m\u001b[0m\n\u001b[0;32m      7\u001b[0m \u001b[0mplt\u001b[0m\u001b[1;33m.\u001b[0m\u001b[0mbar\u001b[0m\u001b[1;33m(\u001b[0m\u001b[0msuperimpp11\u001b[0m\u001b[1;33m[\u001b[0m\u001b[1;36m1\u001b[0m\u001b[1;33m]\u001b[0m\u001b[1;33m+\u001b[0m\u001b[1;36m0.15\u001b[0m\u001b[1;33m,\u001b[0m\u001b[0msuperimpp11\u001b[0m\u001b[1;33m[\u001b[0m\u001b[1;36m0\u001b[0m\u001b[1;33m]\u001b[0m\u001b[1;33m,\u001b[0m\u001b[0mcolor\u001b[0m\u001b[1;33m=\u001b[0m\u001b[1;34m'b'\u001b[0m\u001b[1;33m,\u001b[0m\u001b[0mwidth\u001b[0m\u001b[1;33m=\u001b[0m\u001b[1;36m0.3\u001b[0m\u001b[1;33m,\u001b[0m\u001b[0malign\u001b[0m\u001b[1;33m=\u001b[0m\u001b[1;34m'center'\u001b[0m\u001b[1;33m)\u001b[0m\u001b[1;33m\u001b[0m\u001b[0m\n",
      "\u001b[1;31mNameError\u001b[0m: name 'superimpp14' is not defined"
     ]
    }
   ],
   "source": [
    "plt.bar(x,hq14,width=0.6,color='r',label='$\\phi=\\pi/4$',align='center')\n",
    "plt.bar(x,hp14,width=0.6,color='b',label='$\\phi=\\pi$',align='center')\n",
    "plt.bar(x,hq11*-1.0,width=0.6,color='r',align='center')\n",
    "plt.bar(x,hp11*-1.0,width=0.6,color='b',align='center')\n",
    "plt.bar(superimpp14[1]+0.15,superimpp14[0],color='b',width=0.3,align='center')\n",
    "plt.bar(superimpq14[1]-0.15,superimpq14[0],color='r',width=0.3,align='center')\n",
    "plt.bar(superimpp11[1]+0.15,superimpp11[0],color='b',width=0.3,align='center')\n",
    "plt.bar(superimpq11[1]-0.15,superimpq11[0],color='r',width=0.3,align='center')\n",
    "\n",
    "plt.xlabel('$V_p$ (mV)')\n",
    "plt.ylabel('Count')\n",
    "plt.yticks([-8,-6,-4,-2,0,2,4], np.abs([-8,-6,-4,-2,0,2,4]))\n",
    "plt.ylim([-10,6])\n",
    "plt.xlim([x[0]-0.3,x[-1]+0.3])\n",
    "plt.legend(loc=1)\n",
    "plt.title('Verticle Split Hist, Superimposed')"
   ]
  },
  {
   "cell_type": "code",
   "execution_count": null,
   "metadata": {},
   "outputs": [],
   "source": [
    "q14"
   ]
  },
  {
   "cell_type": "code",
   "execution_count": null,
   "metadata": {},
   "outputs": [],
   "source": [
    "plt.hist([pi11,q11,pi14,q14],58,label=[\"$2011 \\phi=\\pi$\",\"$2011 \\phi=\\pi/4$\",\"$2014 \\phi=\\pi$\",\"$2014 \\phi=\\pi/4$\"],color=['#4d79ff','#ff5050','#0033cc','#cc0000'],stacked=True,rwidth=1.2)\n",
    "plt.legend()\n",
    "plt.xlabel('$V_p$ (mV)')\n",
    "plt.ylabel('Count')\n",
    "plt.title('Multiple Hist, Stacked')"
   ]
  },
  {
   "cell_type": "code",
   "execution_count": null,
   "metadata": {},
   "outputs": [],
   "source": [
    "from matplotlib.gridspec import GridSpec"
   ]
  },
  {
   "cell_type": "code",
   "execution_count": 232,
   "metadata": {},
   "outputs": [],
   "source": [
    "gs = GridSpec(500,1000)\n",
    "fig = plt.figure()\n",
    "ax1 = fig.add_subplot(gs[:250,:])\n",
    "ax1.hist([pi14,q14],a[1],label=[\"$\\phi=\\pi$\",\"$\\phi=\\pi/4$\"],color=['b','r'],stacked=True,rwidth=1.2)\n",
    "plt.tick_params(axis='x',which='both',bottom='on',top='on',labelbottom='off')\n",
    "plt.yticks([0,1,2,3], ([0,1,2,3]))\n",
    "plt.legend(loc=0)\n",
    "plt.title('Split Hist, stacked')\n",
    "ax2 = fig.add_subplot(gs[250:,:])\n",
    "ax2.hist([pi11,q11],a[1],label=[\"$\\phi=\\pi$\",\"$\\phi=\\pi/4$\"],color=['b','r'],stacked=True,rwidth=1.2)\n",
    "plt.yticks([0,2,4,6], ([0,2,4,6]))\n",
    "ax2.set_xlabel('$V_p$ (mV)')\n",
    "ax3 = fig.add_subplot(gs[:,:])\n",
    "plt.tick_params(axis='x',which='both',bottom='off',top='off',labelbottom='off')\n",
    "plt.tick_params(axis='y',which='both',bottom='off',top='off',labelleft='off')\n",
    "ax3.set_ylabel('Count',labelpad=17)"
   ]
  },
  {
   "cell_type": "code",
   "execution_count": 233,
   "metadata": {},
   "outputs": [
    {
     "data": {
      "text/plain": [
       "<matplotlib.text.Text at 0x3177f198>"
      ]
     },
     "execution_count": 233,
     "metadata": {},
     "output_type": "execute_result"
    }
   ],
   "source": [
    "ax1 = fig.add_subplot(gs[:250,:])\n",
    "ax1.hist([pi14,q14],a[1],label=[\"$\\phi=\\pi$\",\"$\\phi=\\pi/4$\"],color=['b','r'],stacked=True,rwidth=1.2)\n",
    "plt.tick_params(axis='x',which='both',bottom='on',top='on',labelbottom='off')\n",
    "plt.yticks([0,1,2,3], ([0,1,2,3]))\n",
    "plt.legend(loc=0)\n",
    "plt.title('Split Hist, stacked')"
   ]
  },
  {
   "cell_type": "code",
   "execution_count": 234,
   "metadata": {},
   "outputs": [
    {
     "data": {
      "text/plain": [
       "<matplotlib.text.Text at 0x2c56f828>"
      ]
     },
     "execution_count": 234,
     "metadata": {},
     "output_type": "execute_result"
    }
   ],
   "source": [
    "ax2 = fig.add_subplot(gs[250:,:])\n",
    "ax2.hist([pi11,q11],a[1],label=[\"$\\phi=\\pi$\",\"$\\phi=\\pi/4$\"],color=['b','r'],stacked=True,rwidth=1.2)\n",
    "plt.yticks([0,2,4,6], ([0,2,4,6]))\n",
    "ax2.set_xlabel('$V_p$ (mV)')"
   ]
  },
  {
   "cell_type": "code",
   "execution_count": null,
   "metadata": {},
   "outputs": [],
   "source": [
    "ax3 = fig.add_subplot(gs[:,:])\n",
    "plt.tick_params(axis='x',which='both',bottom='off',top='off',labelbottom='off')\n",
    "plt.tick_params(axis='y',which='both',bottom='off',top='off',labelleft='off')\n",
    "ax3.set_ylabel('Count',labelpad=17)"
   ]
  },
  {
   "cell_type": "code",
   "execution_count": null,
   "metadata": {},
   "outputs": [],
   "source": [
    "gs = GridSpec(500,1000)\n",
    "fig = plt.figure()\n",
    "ax3 = fig.add_subplot(gs[:,:])\n",
    "plt.tick_params(axis='x',which='both',bottom='off',top='off',labelbottom='off')\n",
    "plt.tick_params(axis='y',which='both',bottom='off',top='off',labelleft='off')\n",
    "ax3.set_ylabel('Count',labelpad=17)\n",
    "ax1 = fig.add_subplot(gs[:250,:])\n",
    "ax1.hist(pi14,a[1],label=[\"$\\phi=\\pi$\"],color=['b'],rwidth=1.2)\n",
    "ax1.hist(q14,a[1],label=[\"$\\phi=\\pi/4$\"],color=['r'],rwidth=1.2)\n",
    "plt.bar(superimpp14[1]+0.15,superimpp14[0],color='b',width=0.3,align='center')\n",
    "plt.bar(superimpq14[1]-0.15,superimpq14[0],color='r',width=0.3,align='center')\n",
    "plt.tick_params(axis='x',which='both',bottom='on',top='on',labelbottom='off')\n",
    "plt.yticks([0,1,2,3], ([0,1,2,3]))\n",
    "plt.legend(loc=0)\n",
    "plt.title('Split Hist, stacked')\n",
    "ax2 = fig.add_subplot(gs[250:,:])\n",
    "ax2.hist(pi11,a[1],label=[\"$\\phi=\\pi$\"],color=['b'],rwidth=1.2)\n",
    "ax2.hist(q11,a[1],label=[\"$\\phi=\\pi/4$\"],color=['r'],rwidth=1.2)\n",
    "plt.bar(superimpp11[1]+0.15,[1.01],color='b',width=0.3,align='center')\n",
    "plt.bar(superimpq11[1]-0.15,[1.01],color='r',width=0.3,align='center')\n",
    "plt.yticks([0,2,4,6], ([0,2,4,6]))\n",
    "ax2.set_xlabel('$V_p$ (mV)')"
   ]
  },
  {
   "cell_type": "code",
   "execution_count": 127,
   "metadata": {
    "collapsed": true
   },
   "outputs": [],
   "source": [
    "ch.parseData()"
   ]
  },
  {
   "cell_type": "code",
   "execution_count": 128,
   "metadata": {
    "collapsed": true
   },
   "outputs": [],
   "source": [
    "ch.parsePrune('soft')"
   ]
  },
  {
   "cell_type": "code",
   "execution_count": 129,
   "metadata": {
    "collapsed": true
   },
   "outputs": [],
   "source": [
    "d= ch.getPrune()"
   ]
  },
  {
   "cell_type": "code",
   "execution_count": 217,
   "metadata": {},
   "outputs": [
    {
     "data": {
      "text/plain": [
       "array([[-14.86668   ,   5.5845    ,   1.09941899],\n",
       "       [-11.9481    ,   5.5845    ,   1.09941899],\n",
       "       [-11.8571    ,   5.5845    ,   1.09941899],\n",
       "       [-11.343     ,   5.5845    ,   1.09941899],\n",
       "       [-11.2408    ,   5.5845    ,   1.09941899],\n",
       "       [ -6.116891  ,   5.583     ,   1.12732395],\n",
       "       [-14.554085  ,   5.5825    ,   0.96358912],\n",
       "       [-14.7602    ,   5.5815    ,   1.03183099],\n",
       "       [-14.6023    ,   5.5815    ,   1.03183099],\n",
       "       [-14.4301    ,   5.5815    ,   1.03183099],\n",
       "       [-14.0292    ,   5.581     ,   0.83008799],\n",
       "       [-12.5427    ,   5.581     ,   0.83008799],\n",
       "       [-12.4264    ,   5.581     ,   0.83008799],\n",
       "       [ -8.16267   ,   5.581     ,   0.83008799],\n",
       "       [ -7.89635   ,   5.581     ,   0.83008799],\n",
       "       [ -7.63428   ,   5.581     ,   0.83008799],\n",
       "       [-19.07874   ,   5.5805    ,   1.03090536],\n",
       "       [-13.54966   ,   5.5805    ,   0.92908924],\n",
       "       [-13.788005  ,   5.58      ,   0.97988189],\n",
       "       [ -7.282301  ,   5.58      ,   0.97988189],\n",
       "       [ -7.048162  ,   5.58      ,   0.97988189],\n",
       "       [ -6.8631355 ,   5.58      ,   0.97988189],\n",
       "       [-22.278865  ,   5.578     ,   1.15915494]])"
      ]
     },
     "execution_count": 217,
     "metadata": {},
     "output_type": "execute_result"
    }
   ],
   "source": [
    "se52[1]"
   ]
  },
  {
   "cell_type": "code",
   "execution_count": 192,
   "metadata": {},
   "outputs": [
    {
     "data": {
      "text/plain": [
       "[<matplotlib.lines.Line2D at 0x33d199e8>]"
      ]
     },
     "execution_count": 192,
     "metadata": {},
     "output_type": "execute_result"
    }
   ],
   "source": [
    "plt.plot(d[5][0,:],d[5][1,:])"
   ]
  },
  {
   "cell_type": "code",
   "execution_count": 131,
   "metadata": {
    "collapsed": true
   },
   "outputs": [],
   "source": [
    "fit = np.load('52bf.npy')"
   ]
  },
  {
   "cell_type": "code",
   "execution_count": 209,
   "metadata": {},
   "outputs": [],
   "source": [
    "fit[7][0][2] += np.pi/4"
   ]
  },
  {
   "cell_type": "code",
   "execution_count": 215,
   "metadata": {},
   "outputs": [
    {
     "data": {
      "text/plain": [
       "0.8300879859589545"
      ]
     },
     "execution_count": 215,
     "metadata": {},
     "output_type": "execute_result"
    }
   ],
   "source": [
    "((fit[7][0][2]-fit[7][0][3])/np.pi)%2"
   ]
  },
  {
   "cell_type": "code",
   "execution_count": 214,
   "metadata": {},
   "outputs": [],
   "source": [
    "ch.plotFig(d[7],fit[7][0])"
   ]
  },
  {
   "cell_type": "code",
   "execution_count": 213,
   "metadata": {},
   "outputs": [
    {
     "data": {
      "text/plain": [
       "0.83008798595895517"
      ]
     },
     "execution_count": 213,
     "metadata": {},
     "output_type": "execute_result"
    }
   ],
   "source": [
    "#fit[12][0][9]=((fit[12][0][2]-fit[12][0][3])/np.pi)%2\n",
    "fit[7][0][9]"
   ]
  },
  {
   "cell_type": "code",
   "execution_count": 182,
   "metadata": {},
   "outputs": [
    {
     "data": {
      "text/plain": [
       "array([[-14.86668   ,   5.5845    ,   1.09941899],\n",
       "       [-11.9481    ,   5.5845    ,   1.09941899],\n",
       "       [-11.8571    ,   5.5845    ,   0.96358912],\n",
       "       [-11.343     ,   5.5845    ,   0.96358912],\n",
       "       [-11.2408    ,   5.5845    ,   0.96358912],\n",
       "       [ -6.116891  ,   5.583     ,   1.12732395],\n",
       "       [-14.554085  ,   5.5825    ,   0.96358912],\n",
       "       [-15.257215  ,   5.5815    ,   1.03183099],\n",
       "       [-14.13469   ,   5.581     ,   0.83008799],\n",
       "       [ -8.1557035 ,   5.581     ,   0.83008799],\n",
       "       [ -7.856324  ,   5.581     ,   0.83008799],\n",
       "       [ -7.6302455 ,   5.581     ,   0.83008799],\n",
       "       [-14.045365  ,   5.581     ,   0.84148513],\n",
       "       [-19.07874   ,   5.5805    ,   1.03090536],\n",
       "       [-13.54966   ,   5.5805    ,   0.92908924],\n",
       "       [-13.788005  ,   5.58      ,   0.97988189],\n",
       "       [ -7.282301  ,   5.58      ,   0.97988189],\n",
       "       [ -7.048162  ,   5.58      ,   0.97988189],\n",
       "       [ -6.8631355 ,   5.58      ,   0.97988189],\n",
       "       [-22.278865  ,   5.578     ,   1.15915494]])"
      ]
     },
     "execution_count": 182,
     "metadata": {},
     "output_type": "execute_result"
    }
   ],
   "source": [
    "hold = list(se52[1])\n",
    "del hold[7]\n",
    "del hold[7]\n",
    "del hold[7]\n",
    "np.array(hold)\n"
   ]
  },
  {
   "cell_type": "code",
   "execution_count": 216,
   "metadata": {},
   "outputs": [],
   "source": [
    "hold = list(se52[1])\n",
    "hold[10][0] = -14.0292\n",
    "hold[11][0] = -12.5427\n",
    "hold[12][0] = -12.4264\n",
    "hold[13][0] = -8.16267\n",
    "hold[14][0] = -7.89635\n",
    "hold[14][2] = fit[7][0][9]\n",
    "hold.insert(15,np.array([-7.63428,ch.bval52[7],fit[7][0][9]]))\n",
    "se52[1] = np.array(hold)"
   ]
  },
  {
   "cell_type": "code",
   "execution_count": 212,
   "metadata": {},
   "outputs": [
    {
     "data": {
      "text/plain": [
       "5.581"
      ]
     },
     "execution_count": 212,
     "metadata": {},
     "output_type": "execute_result"
    }
   ],
   "source": [
    "ch.bval52[7]"
   ]
  },
  {
   "cell_type": "code",
   "execution_count": 218,
   "metadata": {},
   "outputs": [],
   "source": [
    "se52[1] = np.array(hold)\n",
    "np.save('52se',se52)"
   ]
  },
  {
   "cell_type": "code",
   "execution_count": 71,
   "metadata": {},
   "outputs": [],
   "source": [
    "m = (11.3332-11.2911)/(-39.3052 + 34.4605)"
   ]
  },
  {
   "cell_type": "code",
   "execution_count": 73,
   "metadata": {
    "collapsed": true
   },
   "outputs": [],
   "source": [
    "y = d[12][0,:]*m\n",
    "d[12][1,:]= d[12][1,:]-y"
   ]
  },
  {
   "cell_type": "code",
   "execution_count": null,
   "metadata": {
    "collapsed": true
   },
   "outputs": [],
   "source": []
  }
 ],
 "metadata": {
  "kernelspec": {
   "display_name": "Python 2",
   "language": "python",
   "name": "python2"
  },
  "language_info": {
   "codemirror_mode": {
    "name": "ipython",
    "version": 2
   },
   "file_extension": ".py",
   "mimetype": "text/x-python",
   "name": "python",
   "nbconvert_exporter": "python",
   "pygments_lexer": "ipython2",
   "version": "2.7.10"
  }
 },
 "nbformat": 4,
 "nbformat_minor": 2
}
