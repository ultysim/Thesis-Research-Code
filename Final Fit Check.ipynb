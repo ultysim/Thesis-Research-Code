{
 "cells": [
  {
   "cell_type": "code",
   "execution_count": 1,
   "metadata": {},
   "outputs": [
    {
     "name": "stdout",
     "output_type": "stream",
     "text": [
      "Using matplotlib backend: TkAgg\n"
     ]
    }
   ],
   "source": [
    "import Analysis\n",
    "import matplotlib as mpl\n",
    "from matplotlib import pyplot as plt\n",
    "import numpy as np\n",
    "%matplotlib"
   ]
  },
  {
   "cell_type": "code",
   "execution_count": 2,
   "metadata": {
    "collapsed": true
   },
   "outputs": [],
   "source": [
    "from scipy.optimize import curve_fit, least_squares"
   ]
  },
  {
   "cell_type": "code",
   "execution_count": 3,
   "metadata": {
    "collapsed": true
   },
   "outputs": [],
   "source": [
    "def search(data, t):\n",
    "    seq = data\n",
    "    min = 0\n",
    "    max = len(seq) - 1\n",
    "    while True:        \n",
    "        m = (min + max) // 2\n",
    "        if max < min:\n",
    "            if np.abs(t-seq[m]) < np.abs(t-seq[m-1]):          \n",
    "                return m\n",
    "            else:\n",
    "                return m-1        \n",
    "        if seq[m] < t:\n",
    "            min = m + 1\n",
    "        elif seq[m] > t:\n",
    "            max = m - 1\n",
    "        else:\n",
    "            return m"
   ]
  },
  {
   "cell_type": "code",
   "execution_count": 4,
   "metadata": {
    "collapsed": true
   },
   "outputs": [],
   "source": [
    "def data_partition(data_x,data_y,sections):\n",
    "    x = list()\n",
    "    y = list()\n",
    "    for i in sections:\n",
    "        i_min = search(data_x,i[0])\n",
    "        i_max = search(data_x,i[1])+1\n",
    "        x.extend(data_x[i_min:i_max])\n",
    "        y.extend(data_y[i_min:i_max])\n",
    "    return np.array(x), np.array(y)"
   ]
  },
  {
   "cell_type": "code",
   "execution_count": 5,
   "metadata": {
    "collapsed": true
   },
   "outputs": [],
   "source": [
    "def func(x,freq,amp,phase_l,height,slope,v0):\n",
    "    return height + amp * np.sin(freq * x + phase_l) + slope * (x - v0)\n",
    "    \n",
    "    \n",
    "def gen_func(fit):\n",
    "    def fitting_func(x, phase_r):\n",
    "        return func(x,fit[0],fit[1],phase_r,fit[3],fit[4],fit[5])\n",
    "    return fitting_func\n",
    "\n",
    "\n",
    "def make_fit(popt,popt2,left,right):\n",
    "    d_phi = ((popt2[0] - popt[2])/np.pi)%2\n",
    "    return Analysis.Fit([popt[0],popt[1],popt2[0],popt[2],popt[3],popt[4],1,left,right,d_phi,1,popt[5]])"
   ]
  },
  {
   "cell_type": "code",
   "execution_count": 6,
   "metadata": {
    "collapsed": true
   },
   "outputs": [],
   "source": [
    "run_2014 = Analysis.generate_2014()\n",
    "#run_2011 = Analysis.generate_2011()"
   ]
  },
  {
   "cell_type": "code",
   "execution_count": 8,
   "metadata": {
    "collapsed": true
   },
   "outputs": [],
   "source": [
    "def convert_fit(out1, out2, xmin, xmax):\n",
    "    out = list()\n",
    "    out.append(out1[2])\n",
    "    out.append(out1[1])\n",
    "    out.append(out1[3])\n",
    "    out.append(out2[0])\n",
    "    out.append(out1[0])\n",
    "    out.append(out1[4])\n",
    "    out.append(1.0)\n",
    "    out.append(xmin)\n",
    "    out.append(xmax)\n",
    "    out.append((out1[3]-out2[0])/np.pi%2)\n",
    "    out.append(1)\n",
    "    out.append(out1[5])\n",
    "    return np.array(out)"
   ]
  },
  {
   "cell_type": "code",
   "execution_count": 9,
   "metadata": {
    "collapsed": true
   },
   "outputs": [],
   "source": [
    "def regression(filenum,edge_list):\n",
    "\n",
    "    x_temp, y_temp = data_partition(run_2014.prune_data[filenum].x,run_2014.prune_data[filenum].y,edge_list)\n",
    "    \n",
    "    if len(run_2014.prune_data[filenum].fits) > 0:\n",
    "\n",
    "        guess = [run_2014.prune_data[filenum].fits[0].freq,run_2014.prune_data[filenum].fits[0].amp,run_2014.prune_data[filenum].fits[0].phase_l,run_2014.prune_data[filenum].fits[0].height,run_2014.prune_data[filenum].fits[0].slope,run_2014.prune_data[filenum].fits[0].v0]\n",
    "        popt, pcov = curve_fit(func, x_temp, y_temp, p0 = guess)\n",
    "    \n",
    "    else:\n",
    "        popt, pcov = curve_fit(func, x_temp, y_temp)\n",
    "\n",
    "    return popt"
   ]
  },
  {
   "cell_type": "code",
   "execution_count": 32,
   "metadata": {
    "collapsed": true
   },
   "outputs": [],
   "source": [
    "def residual(params, x, y, v0, eps_data):\n",
    "\n",
    "    model = params[0] + params[1] * np.sin(x*params[2] + params[3]) + params[4] * (x - v0)\n",
    "    \n",
    "    out = y-model\n",
    "    \n",
    "    return out/eps_data\n",
    "\n",
    "def residual_slip(params, x, y, output, eps_data):\n",
    "\n",
    "    model = output[0] + output[1] * np.sin(x*output[2] + params[0]) + output[4] * (x - output[5])\n",
    "    \n",
    "    out = y-model\n",
    "    \n",
    "    return out/eps_data\n",
    "\n",
    "\n",
    "\n",
    "\n",
    "def regression_scipy(filenum, edge_list, loss = 'linear', eps = 0.1, plot=False, x_scale = 1.0):\n",
    "    \n",
    "    x, y = data_partition(run_2014.prune_data[filenum].x,run_2014.prune_data[filenum].y,edge_list)\n",
    "    x_min = min(x)\n",
    "    x_max = max(x)\n",
    "    \n",
    "    a = (np.percentile(y,99)-np.percentile(y,1))/2.0\n",
    "    \n",
    "    params = []\n",
    "    bounds = ([],[])\n",
    "    \n",
    "    h = np.mean(y)\n",
    "    params.append(h) #height\n",
    "    bounds[0].append(h*0.99)\n",
    "    bounds[1].append(h*1.01)\n",
    "    \n",
    "    params.append(a) #amplitude\n",
    "    bounds[0].append(a*0.8)\n",
    "    bounds[1].append(a*1.2)\n",
    "    \n",
    "    params.append(2*np.pi/10) #frequency\n",
    "    bounds[0].append(0.6)\n",
    "    bounds[1].append(0.77)\n",
    "    \n",
    "    params.append(0.0) #phase\n",
    "    bounds[0].append(0.0)\n",
    "    bounds[1].append(2*np.pi)\n",
    "    \n",
    "    params.append(0.0) #slope\n",
    "    bounds[0].append(-0.005)\n",
    "    bounds[1].append(0.005)\n",
    "    \n",
    "    v0 = (x_min+x_max)/2.0 \n",
    "    \n",
    "    \n",
    "    out = least_squares(residual, x0 = params, bounds=bounds, loss=loss, x_scale = x_scale, args=(x , y, v0, eps))\n",
    "    \n",
    "    if plot:\n",
    "        params = out['x']\n",
    "        model = params[0] + params[1] * np.sin(x*params[2] + params[3]) + params[4] * (x - v0)\n",
    "        plt.plot(x,y)\n",
    "        plt.plot(x,model,c='r')\n",
    "    \n",
    "    temp = list(out.x)\n",
    "    temp.append(v0)\n",
    "    \n",
    "    return np.array(temp)\n",
    "\n",
    "def regression_scipy2(filenum, output, edge_list, loss = 'linear', eps = 0.1, plot=False, x_scale = 1.0):\n",
    "    \n",
    "    x, y = data_partition(run_2014.prune_data[filenum].x,run_2014.prune_data[filenum].y,edge_list)\n",
    "\n",
    "    \n",
    "    params = []\n",
    "    bounds = ([],[])\n",
    "    \n",
    "    \n",
    "    params.append(1.0) #phase\n",
    "    bounds[0].append(0.0)\n",
    "    bounds[1].append(2*np.pi)\n",
    "    \n",
    "    \n",
    "    v0 = output[5]\n",
    "    \n",
    "    \n",
    "    out = least_squares(residual_slip, x0 = params, bounds=bounds, loss=loss, x_scale = x_scale, args=(x , y, output, eps))\n",
    "    \n",
    "    if plot:\n",
    "        params = out['x']\n",
    "        model = output[0] + output[1] * np.sin(x*output[2] + (params[0])) + output[4] * (x - output[5])\n",
    "        plt.plot(x,y)\n",
    "        plt.plot(x,model,c='r')\n",
    "    \n",
    "    return out.x  "
   ]
  },
  {
   "cell_type": "code",
   "execution_count": 11,
   "metadata": {
    "collapsed": true
   },
   "outputs": [],
   "source": [
    "def regression_2(filenum,popt,edge_list):\n",
    "    slip_func = gen_func(popt)\n",
    "    x_temp, y_temp = data_partition(run_2014.prune_data[filenum].x,run_2014.prune_data[filenum].y,edge_list)\n",
    "    temp = (popt[2]%(2*np.pi))\n",
    "    guess = temp - 0.25 * np.pi\n",
    "    popt2, pcov2 = curve_fit(slip_func, x_temp, y_temp,p0=[guess],bounds = ([-2*np.pi],[2*np.pi]))\n",
    "    return slip_func, popt2"
   ]
  },
  {
   "cell_type": "code",
   "execution_count": 12,
   "metadata": {
    "collapsed": true
   },
   "outputs": [],
   "source": [
    "filenum = 7"
   ]
  },
  {
   "cell_type": "code",
   "execution_count": 15,
   "metadata": {
    "collapsed": true
   },
   "outputs": [],
   "source": [
    "run_2014.prune_data[filenum].plot()\n",
    "for i in run_2014.prune_data[filenum].fits:\n",
    "    i.plot(False)"
   ]
  },
  {
   "cell_type": "code",
   "execution_count": 24,
   "metadata": {
    "collapsed": true
   },
   "outputs": [],
   "source": [
    "run_2014.prune_data[filenum].plot()"
   ]
  },
  {
   "cell_type": "code",
   "execution_count": 14,
   "metadata": {
    "collapsed": true
   },
   "outputs": [],
   "source": [
    "out = regression_scipy(filenum,[[-13.85,-12.5626],[-12.4042,-8.254],[-6.8238,-6.4471]], plot=True)"
   ]
  },
  {
   "cell_type": "code",
   "execution_count": 17,
   "metadata": {
    "collapsed": true
   },
   "outputs": [],
   "source": [
    "out = regression_scipy(filenum,[[-19.8512,-14.2091],[-12.5158,-12.4416],[-8.0718,-7.9194],[-7.58961,-7.45681]], plot=True)"
   ]
  },
  {
   "cell_type": "code",
   "execution_count": 45,
   "metadata": {},
   "outputs": [
    {
     "data": {
      "text/plain": [
       "array([  1.12256247e+01,   1.79677565e-01,   6.50235207e-01,\n",
       "         4.41331857e-01,   4.51834740e-03,  -9.97320100e+00])"
      ]
     },
     "execution_count": 45,
     "metadata": {},
     "output_type": "execute_result"
    }
   ],
   "source": [
    "out"
   ]
  },
  {
   "cell_type": "code",
   "execution_count": 26,
   "metadata": {
    "collapsed": true
   },
   "outputs": [],
   "source": [
    "out2 = regression_scipy2(filenum, out, [[-13.85,-12.5626],[-12.4042,-8.254],[-6.8238,-6.4471]], plot=True,eps=1e-5)"
   ]
  },
  {
   "cell_type": "code",
   "execution_count": 27,
   "metadata": {},
   "outputs": [
    {
     "data": {
      "text/plain": [
       "array([  8.57612256e-18])"
      ]
     },
     "execution_count": 27,
     "metadata": {},
     "output_type": "execute_result"
    }
   ],
   "source": [
    "out2"
   ]
  },
  {
   "cell_type": "code",
   "execution_count": 45,
   "metadata": {
    "collapsed": true
   },
   "outputs": [],
   "source": [
    "out2[0] += 0.05"
   ]
  },
  {
   "cell_type": "code",
   "execution_count": 46,
   "metadata": {},
   "outputs": [],
   "source": [
    "plot_second(out,out2,filenum,[[-13.85,-12.5626],[-12.4042,-8.254],[-6.8238,-6.4471]])"
   ]
  },
  {
   "cell_type": "code",
   "execution_count": 33,
   "metadata": {},
   "outputs": [],
   "source": [
    "def plot_second(output, params, filenum, edge_list):\n",
    "    x, y = data_partition(run_2014.prune_data[filenum].x,run_2014.prune_data[filenum].y,edge_list)\n",
    "    model = output[0] + output[1] * np.sin(x*output[2] + (params[0])) + output[4] * (x - output[5])\n",
    "    plt.plot(x,y)\n",
    "    plt.plot(x,model,c='r')"
   ]
  },
  {
   "cell_type": "code",
   "execution_count": 47,
   "metadata": {
    "collapsed": true
   },
   "outputs": [],
   "source": [
    "a = convert_fit(out, out2, -19.8512, -6.4471)"
   ]
  },
  {
   "cell_type": "code",
   "execution_count": 48,
   "metadata": {
    "collapsed": true
   },
   "outputs": [],
   "source": [
    "A = Analysis.Fit(a)"
   ]
  },
  {
   "cell_type": "code",
   "execution_count": 49,
   "metadata": {
    "collapsed": true
   },
   "outputs": [],
   "source": [
    "run_2014.prune_data[filenum].plot()\n",
    "A.plot(False)"
   ]
  },
  {
   "cell_type": "code",
   "execution_count": 51,
   "metadata": {},
   "outputs": [
    {
     "data": {
      "text/plain": [
       "1.1750704374010845"
      ]
     },
     "execution_count": 51,
     "metadata": {},
     "output_type": "execute_result"
    }
   ],
   "source": [
    "2- A.delta_phi"
   ]
  },
  {
   "cell_type": "code",
   "execution_count": 81,
   "metadata": {
    "collapsed": true
   },
   "outputs": [],
   "source": [
    "run_2014.prune_data[filenum].plot_fit(1,False)"
   ]
  },
  {
   "cell_type": "code",
   "execution_count": 169,
   "metadata": {
    "collapsed": true
   },
   "outputs": [],
   "source": [
    "run_2014.prune_data[filenum].fits.append(B)"
   ]
  },
  {
   "cell_type": "code",
   "execution_count": 85,
   "metadata": {},
   "outputs": [
    {
     "data": {
      "text/plain": [
       "array([  6.50235161e-01,   1.79677565e-01,   4.41331419e-01,\n",
       "         2.37005690e+00,   1.12256247e+01,   4.51834806e-03,\n",
       "         1.00000000e+00,  -1.32758000e+01,  -3.98720000e+00,\n",
       "         1.38606761e+00,   1.00000000e+00,  -9.97320100e+00])"
      ]
     },
     "execution_count": 85,
     "metadata": {},
     "output_type": "execute_result"
    }
   ],
   "source": [
    "A.output_array()"
   ]
  },
  {
   "cell_type": "code",
   "execution_count": 87,
   "metadata": {
    "collapsed": true
   },
   "outputs": [],
   "source": [
    "bf = np.load('52bf.npy')\n",
    "se = np.load('52se.npy')"
   ]
  },
  {
   "cell_type": "code",
   "execution_count": 89,
   "metadata": {
    "collapsed": true
   },
   "outputs": [],
   "source": [
    "hold = list(bf[3])"
   ]
  },
  {
   "cell_type": "code",
   "execution_count": 90,
   "metadata": {
    "collapsed": true
   },
   "outputs": [],
   "source": [
    "hold[1] = A.output_array()"
   ]
  },
  {
   "cell_type": "code",
   "execution_count": 97,
   "metadata": {
    "collapsed": true
   },
   "outputs": [],
   "source": [
    "run_2014.prune_data[filenum].fits = o"
   ]
  },
  {
   "cell_type": "code",
   "execution_count": 96,
   "metadata": {
    "collapsed": true
   },
   "outputs": [],
   "source": [
    "o = [ Analysis.Fit(i) for i in hold]"
   ]
  },
  {
   "cell_type": "code",
   "execution_count": 100,
   "metadata": {
    "collapsed": true
   },
   "outputs": [],
   "source": [
    "bf[filenum] = np.array(hold)"
   ]
  },
  {
   "cell_type": "code",
   "execution_count": 109,
   "metadata": {
    "collapsed": true
   },
   "outputs": [],
   "source": [
    "for i in run_2014.prune_data[filenum].slip_events(dV=0.04,minsep=3.0):\n",
    "    d = run_2014.prune_data[filenum]\n",
    "    y = d.y[search(d.x,i[0])]\n",
    "    plt.scatter(i[0],y,s=50,c='orange')"
   ]
  },
  {
   "cell_type": "code",
   "execution_count": 178,
   "metadata": {
    "collapsed": true
   },
   "outputs": [],
   "source": [
    "bf[filenum] = np.array([i.output_array() for i in run_2014.prune_data[filenum].fits])"
   ]
  },
  {
   "cell_type": "code",
   "execution_count": 179,
   "metadata": {},
   "outputs": [
    {
     "data": {
      "text/plain": [
       "array([[  8.00157201e-01,   2.45041340e-01,   6.98978566e+00,\n",
       "          5.85719701e+00,   1.12807537e+01,   0.00000000e+00,\n",
       "          1.00000000e+00,  -3.00000000e+01,  -2.04705100e+01,\n",
       "          3.60514164e-01,   3.63600000e+03,  -2.55618100e+01],\n",
       "       [  6.50235161e-01,   1.79677565e-01,   4.41331419e-01,\n",
       "          2.37005690e+00,   1.12256247e+01,   4.51834806e-03,\n",
       "          1.00000000e+00,  -1.32758000e+01,  -3.98720000e+00,\n",
       "          1.38606761e+00,   1.00000000e+00,  -9.97320100e+00],\n",
       "       [  6.50235161e-01,   1.79677565e-01,  -2.99999994e-01,\n",
       "          2.37005690e+00,   1.12256247e+01,   4.51834806e-03,\n",
       "          1.00000000e+00,  -6.01500000e+00,  -3.98720000e+00,\n",
       "          1.15009449e+00,   1.00000000e+00,  -9.97320100e+00]])"
      ]
     },
     "execution_count": 179,
     "metadata": {},
     "output_type": "execute_result"
    }
   ],
   "source": [
    "bf[filenum]"
   ]
  },
  {
   "cell_type": "code",
   "execution_count": 180,
   "metadata": {
    "collapsed": true
   },
   "outputs": [],
   "source": [
    "np.save('52bf',bf)"
   ]
  },
  {
   "cell_type": "code",
   "execution_count": null,
   "metadata": {
    "collapsed": true
   },
   "outputs": [],
   "source": []
  }
 ],
 "metadata": {
  "kernelspec": {
   "display_name": "Python 2",
   "language": "python",
   "name": "python2"
  },
  "language_info": {
   "codemirror_mode": {
    "name": "ipython",
    "version": 2
   },
   "file_extension": ".py",
   "mimetype": "text/x-python",
   "name": "python",
   "nbconvert_exporter": "python",
   "pygments_lexer": "ipython2",
   "version": "2.7.10"
  }
 },
 "nbformat": 4,
 "nbformat_minor": 2
}
