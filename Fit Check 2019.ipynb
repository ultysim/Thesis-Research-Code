{
 "cells": [
  {
   "cell_type": "code",
   "execution_count": 1,
   "metadata": {},
   "outputs": [],
   "source": [
    "import Analysis\n",
    "import matplotlib as mpl\n",
    "from matplotlib import pyplot as plt\n",
    "import numpy as np\n",
    "from matplotlib.gridspec import GridSpec"
   ]
  },
  {
   "cell_type": "code",
   "execution_count": 2,
   "metadata": {},
   "outputs": [
    {
     "name": "stdout",
     "output_type": "stream",
     "text": [
      "Using matplotlib backend: TkAgg\n"
     ]
    }
   ],
   "source": [
    "%matplotlib"
   ]
  },
  {
   "cell_type": "code",
   "execution_count": 84,
   "metadata": {},
   "outputs": [],
   "source": [
    "run14 = Analysis.Run(np.load('2014_Raw.npy'), np.load('2014_Prune_strong.npy'), Analysis.bval2014, np.load('2014bf_new_prune_edit.npy'))\n",
    "run11 = Analysis.Run(np.load('2011_Raw.npy'), np.load('2011_Prune_strong_flat.npy'), Analysis.bval2011, np.load('2011bf_new_prune_flat_edit.npy'))\n",
    "\n",
    "soft11 = Analysis.Run(np.load('2011_Raw.npy'), np.load('2011_Prune_new_flat.npy'), Analysis.bval2011, np.load('2011bf_new_prune_flat_edit.npy'))\n",
    "soft14 = Analysis.Run(np.load('2014_Raw.npy'), np.load('2014_Prune_new.npy'), Analysis.bval2014, np.load('2014bf_new_prune_edit.npy'))\n",
    "\n",
    "i14 = run14.prune_data\n",
    "i11 = run11.prune_data\n",
    "\n",
    "s14 = soft14.prune_data\n",
    "s11 = soft11.prune_data"
   ]
  },
  {
   "cell_type": "code",
   "execution_count": 4,
   "metadata": {},
   "outputs": [],
   "source": [
    "bf14 = np.load('2014bf_new_prune_edit.npy')\n",
    "bf11 = np.load('2011bf_new_prune_flat_edit.npy')\n",
    "se14 = np.load('2014se_hand_pruned.npy')\n",
    "se11 = np.load('2011se_hand_pruned.npy')"
   ]
  },
  {
   "cell_type": "code",
   "execution_count": 5,
   "metadata": {},
   "outputs": [],
   "source": [
    "#Using most recent 2019 fit points\n",
    "pruned14 = np.load('Pruned 025 4_16_2019.npy')\n",
    "pruned34 = np.load('Pruned 075 2_1_2019.npy')\n",
    "pruned12 = np.load('Pruned 05 3_12_2019.npy')\n",
    "prunedfig = np.load('Pruned 1 Fig 3_12_2019.npy')\n",
    "prunedsup = np.load('Pruned 1 Sup 3_12_2019.npy') #4_16 has too many removed points\n",
    "\n",
    "new14 = list()\n",
    "for i in pruned14:\n",
    "    for j in i:\n",
    "        new14.append(j)\n",
    "new14 = np.array(new14)\n",
    "\n",
    "new34 = list()\n",
    "for i in pruned34:\n",
    "    for j in i:\n",
    "        new34.append(j)\n",
    "new34 = np.array(new34)\n",
    "\n",
    "new12 = list()\n",
    "for i in pruned12:\n",
    "    for j in i:\n",
    "        new12.append(j)\n",
    "new12 = np.array(new12)\n",
    "\n",
    "\n",
    "newfig = list()\n",
    "for i in prunedfig:\n",
    "    for j in i:\n",
    "        newfig.append(j)\n",
    "newfig = np.array(newfig)\n",
    "\n",
    "newsup = list()\n",
    "for i in prunedsup:\n",
    "    for j in i:\n",
    "        newsup.append(j)\n",
    "        \n",
    "newsup = np.array(newsup)\n",
    "\n",
    "temp = list(new14)\n",
    "pi14 = np.array(temp.pop(-3))\n",
    "new14 = np.array(temp)\n",
    "pi = np.vstack((newsup,newfig,pi14))"
   ]
  },
  {
   "cell_type": "code",
   "execution_count": null,
   "metadata": {},
   "outputs": [],
   "source": [
    "sorted(np.vstack((new14,new34,new12,pi)),key = lambda x:x[1])[::-1]"
   ]
  },
  {
   "cell_type": "code",
   "execution_count": 111,
   "metadata": {},
   "outputs": [
    {
     "data": {
      "text/plain": [
       "0.22100000000000009"
      ]
     },
     "execution_count": 111,
     "metadata": {},
     "output_type": "execute_result"
    }
   ],
   "source": [
    "-7.43--7.651  "
   ]
  },
  {
   "cell_type": "code",
   "execution_count": 109,
   "metadata": {},
   "outputs": [
    {
     "data": {
      "text/plain": [
       "0.23773999999999518"
      ]
     },
     "execution_count": 109,
     "metadata": {},
     "output_type": "execute_result"
    }
   ],
   "source": [
    "-33.723595--33.961335"
   ]
  },
  {
   "cell_type": "code",
   "execution_count": 93,
   "metadata": {},
   "outputs": [
    {
     "name": "stdout",
     "output_type": "stream",
     "text": [
      "5.534\n"
     ]
    }
   ],
   "source": [
    "fn = 4\n",
    "count = 0\n",
    "data = i11\n",
    "for i in data[fn].fits:\n",
    "    plt.figure()\n",
    "    plt.title('{},{}'.format(run11.bvals[fn],round((i.phase_r-i.phase_l)/np.pi%2),3))\n",
    "    data[fn].plot()\n",
    "    i.plot(full=False)\n",
    "    count += 1\n",
    "print(run11.bvals[fn])"
   ]
  },
  {
   "cell_type": "code",
   "execution_count": 94,
   "metadata": {},
   "outputs": [
    {
     "name": "stdout",
     "output_type": "stream",
     "text": [
      "5.534\n"
     ]
    }
   ],
   "source": [
    "count = 0\n",
    "data = i11\n",
    "for i in data[fn].fits:\n",
    "    plt.figure()\n",
    "    plt.title('{},{}'.format(run11.bvals[fn],round((i.phase_r-i.phase_l)/np.pi%2),3))\n",
    "    data[fn].plot()\n",
    "    i.plot()\n",
    "    count += 1\n",
    "print(run11.bvals[fn])"
   ]
  },
  {
   "cell_type": "code",
   "execution_count": 112,
   "metadata": {},
   "outputs": [
    {
     "name": "stdout",
     "output_type": "stream",
     "text": [
      "5.533\n"
     ]
    }
   ],
   "source": [
    "fn = 6\n",
    "count = 0\n",
    "data = s11\n",
    "for i in data[fn].fits:\n",
    "    plt.figure()\n",
    "    plt.title('B:{},{}'.format(run14.bvals[fn],round((i.phase_r-i.phase_l)/np.pi%2,3)))\n",
    "    data[fn].plot()\n",
    "    i.plot(full=False)\n",
    "    count += 1\n",
    "print(run11.bvals[fn])"
   ]
  },
  {
   "cell_type": "code",
   "execution_count": null,
   "metadata": {},
   "outputs": [],
   "source": [
    "fn = 7\n",
    "count = 0\n",
    "data = s11\n",
    "for i in data[fn].fits:\n",
    "    plt.figure()\n",
    "    plt.title('{},{}'.format(count,(i.phase_r-i.phase_l)/np.pi%2))\n",
    "    data[fn].plot()\n",
    "    i.plot()\n",
    "    count += 1\n",
    "print(run11.bvals[fn])"
   ]
  },
  {
   "cell_type": "code",
   "execution_count": 97,
   "metadata": {},
   "outputs": [
    {
     "data": {
      "text/plain": [
       "0.532"
      ]
     },
     "execution_count": 97,
     "metadata": {},
     "output_type": "execute_result"
    }
   ],
   "source": [
    "round((i11[4].fits[0].phase_r-i11[4].fits[0].phase_l)/np.pi%2,3)"
   ]
  },
  {
   "cell_type": "code",
   "execution_count": 98,
   "metadata": {},
   "outputs": [
    {
     "data": {
      "text/plain": [
       "<Analysis.Fit instance at 0x000000001EB073C8>"
      ]
     },
     "execution_count": 98,
     "metadata": {},
     "output_type": "execute_result"
    }
   ],
   "source": []
  },
  {
   "cell_type": "code",
   "execution_count": 60,
   "metadata": {},
   "outputs": [],
   "source": [
    "r45 = np.load('2011_CV_new_res_flat_d45.npy')\n",
    "r6 = np.load('2011_CV_new_res_flat_d6.npy')\n",
    "r7 = np.load('2011_CV_new_res_flat_d7.npy')\n",
    "r5 = np.load('2011_CV_new_res_flat_d5.npy')\n",
    "import regression_cv as rcv"
   ]
  },
  {
   "cell_type": "code",
   "execution_count": 65,
   "metadata": {},
   "outputs": [],
   "source": [
    "filenum = 16\n",
    "r = r7[filenum]"
   ]
  },
  {
   "cell_type": "code",
   "execution_count": 54,
   "metadata": {},
   "outputs": [],
   "source": [
    "val_threshold = 0.8\n",
    "count = -1\n",
    "for i in r:\n",
    "    count += 1\n",
    "    if i['result'] is None:\n",
    "        continue\n",
    "    if i['val_acc'] > val_threshold and 0.155 < i['result'].x[4] < 1.8 and i['ci_deltaphi'] < 0.001:\n",
    "        plt.figure()\n",
    "        rcv.plot(i11[filenum],i)\n",
    "        plt.title(str(count) + ', val:'+ str(i['val_acc']) + ', ci:' + str(i['ci_deltaphi']) + ', phi:'+ str(2-i['result'].x[4]))\n",
    "    "
   ]
  },
  {
   "cell_type": "code",
   "execution_count": 74,
   "metadata": {},
   "outputs": [],
   "source": [
    "j = 24\n",
    "dj = 1\n",
    "for n in range(j,j+dj):\n",
    "    plt.figure()\n",
    "    i = r[n]\n",
    "    rcv.plot(i11[filenum], i,full=True)\n",
    "    plt.title(str(i['val_acc']) + ', ' + str(i['ci_deltaphi']) + ', '+ str(2-i['result'].x[4]))\n"
   ]
  },
  {
   "cell_type": "code",
   "execution_count": 56,
   "metadata": {},
   "outputs": [
    {
     "data": {
      "text/plain": [
       "0.379"
      ]
     },
     "execution_count": 56,
     "metadata": {},
     "output_type": "execute_result"
    }
   ],
   "source": [
    "j = 0\n",
    "round((i11[filenum].fits[0].phase_r-i11[filenum].fits[0].phase_l)/np.pi%2,3)"
   ]
  },
  {
   "cell_type": "code",
   "execution_count": 63,
   "metadata": {},
   "outputs": [],
   "source": [
    "plt.figure()\n",
    "i11[filenum].plot_fit(0)"
   ]
  },
  {
   "cell_type": "code",
   "execution_count": 40,
   "metadata": {},
   "outputs": [],
   "source": [
    "plt.figure()\n",
    "i11[filenum].plot()"
   ]
  },
  {
   "cell_type": "code",
   "execution_count": 47,
   "metadata": {},
   "outputs": [
    {
     "data": {
      "text/plain": [
       "1.3018152673806715"
      ]
     },
     "execution_count": 47,
     "metadata": {},
     "output_type": "execute_result"
    }
   ],
   "source": [
    "i['result'].x[4]"
   ]
  },
  {
   "cell_type": "code",
   "execution_count": 75,
   "metadata": {},
   "outputs": [],
   "source": [
    "def csf(scipy_fit):\n",
    "    x = scipy_fit['result'].x\n",
    "    dphi = 2-x[4]\n",
    "    out = list()\n",
    "    out.append(x[2])\n",
    "    out.append(x[1])\n",
    "    out.append(x[3]+x[4]*np.pi)\n",
    "    out.append(x[3])\n",
    "    out.append(x[0])\n",
    "    out.append(x[5])\n",
    "    out.append(scipy_fit['val_acc'])\n",
    "    out.append(scipy_fit['x_min'])\n",
    "    out.append(scipy_fit['x_max'])\n",
    "    out.append(dphi)\n",
    "    out.append(1)\n",
    "    out.append((scipy_fit['x_min'] + scipy_fit['x_max'])/2)\n",
    "    return np.array(out)"
   ]
  },
  {
   "cell_type": "code",
   "execution_count": 72,
   "metadata": {},
   "outputs": [
    {
     "data": {
      "text/plain": [
       "array([  1.12721364e+01,   1.29109755e-01,   7.16654680e-01,\n",
       "         4.14645085e+00,   1.51065201e+00,  -6.57427700e-04])"
      ]
     },
     "execution_count": 72,
     "metadata": {},
     "output_type": "execute_result"
    }
   ],
   "source": [
    "r[24]['result'].x"
   ]
  },
  {
   "cell_type": "code",
   "execution_count": 76,
   "metadata": {},
   "outputs": [
    {
     "data": {
      "text/plain": [
       "array([  7.16654680e-01,   1.29109755e-01,   8.89230410e+00,\n",
       "         4.14645085e+00,   1.12721364e+01,  -6.57427700e-04,\n",
       "         8.57758621e-01,  -3.41303558e+01,  -2.01303558e+01,\n",
       "         4.89347992e-01,   1.00000000e+00,  -2.71303558e+01])"
      ]
     },
     "execution_count": 76,
     "metadata": {},
     "output_type": "execute_result"
    }
   ],
   "source": [
    "csf(r[24])"
   ]
  },
  {
   "cell_type": "code",
   "execution_count": 77,
   "metadata": {},
   "outputs": [],
   "source": [
    "bf = np.load('2011bf_new_prune_flat_edit.npy')"
   ]
  }
 ],
 "metadata": {
  "kernelspec": {
   "display_name": "Python 2",
   "language": "python",
   "name": "python2"
  },
  "language_info": {
   "codemirror_mode": {
    "name": "ipython",
    "version": 2
   },
   "file_extension": ".py",
   "mimetype": "text/x-python",
   "name": "python",
   "nbconvert_exporter": "python",
   "pygments_lexer": "ipython2",
   "version": "2.7.10"
  }
 },
 "nbformat": 4,
 "nbformat_minor": 2
}
