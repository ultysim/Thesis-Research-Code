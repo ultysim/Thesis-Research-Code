{
 "cells": [
  {
   "cell_type": "code",
   "execution_count": 1,
   "metadata": {},
   "outputs": [
    {
     "name": "stdout",
     "output_type": "stream",
     "text": [
      "Using matplotlib backend: TkAgg\n"
     ]
    }
   ],
   "source": [
    "import Analysis\n",
    "import numpy as np\n",
    "import matplotlib as mpl\n",
    "from matplotlib import pyplot as plt\n",
    "from matplotlib.gridspec import GridSpec\n",
    "import regression_cv as rcv\n",
    "%matplotlib\n",
    "\n",
    "import copy\n",
    "import FitRoutine2 as fr"
   ]
  },
  {
   "cell_type": "code",
   "execution_count": 2,
   "metadata": {},
   "outputs": [
    {
     "name": "stdout",
     "output_type": "stream",
     "text": [
      "Using matplotlib backend: TkAgg\n"
     ]
    }
   ],
   "source": [
    "%matplotlib"
   ]
  },
  {
   "cell_type": "code",
   "execution_count": 13,
   "metadata": {},
   "outputs": [],
   "source": [
    "bf = np.load('2014bf_new_prune_edit.npy')"
   ]
  },
  {
   "cell_type": "code",
   "execution_count": null,
   "metadata": {},
   "outputs": [],
   "source": [
    "run = Analysis.Run(np.load('2011_Raw.npy'), np.load('2011_Prune_new_flat.npy'), Analysis.bval2011, np.load('2011bf_new_prune_flat_edit.npy'))"
   ]
  },
  {
   "cell_type": "code",
   "execution_count": 3,
   "metadata": {},
   "outputs": [],
   "source": [
    "run = Analysis.Run(np.load('2014_Raw.npy'), np.load('2014_Prune_new.npy'), Analysis.bval2011, np.load('2014bf_new_prune_edit.npy'))"
   ]
  },
  {
   "cell_type": "markdown",
   "metadata": {},
   "source": [
    "# All Fits"
   ]
  },
  {
   "cell_type": "code",
   "execution_count": null,
   "metadata": {},
   "outputs": [],
   "source": [
    "n = 0\n",
    "\n",
    "for i in run.prune_data:\n",
    "    f = 0\n",
    "    for j in i.fits:\n",
    "        fig = plt.figure()\n",
    "        i.plot()\n",
    "        j.plot(False,linewidth=2)\n",
    "        plt.xlim(min(i.x),max(i.x))\n",
    "        plt.title('File {}, fit {}'.format(n,f))\n",
    "        f+=1\n",
    "    n+=1"
   ]
  },
  {
   "cell_type": "code",
   "execution_count": null,
   "metadata": {},
   "outputs": [],
   "source": [
    "m = 0\n",
    "for i in run.prune_data:\n",
    "    if len(i.fits) > m:\n",
    "        m = len(i.fits)\n",
    "\n",
    "L = len(run.prune_data)\n",
    "total = L*m\n",
    "c = 1\n",
    "n = 0\n",
    "plt.rc('font', size=6)    \n",
    "bins = np.arange(0.0,2.03,0.03)\n",
    "fig = plt.figure(figsize=(20,70))\n",
    "for i in run.prune_data:\n",
    "    temp = 0\n",
    "    for j in i.fits:\n",
    "        ax = plt.subplot(L,m,c)\n",
    "        i.plot()\n",
    "        j.plot(False)\n",
    "        plt.xlim([min(i.x),max(i.x)])\n",
    "\n",
    "        c += 1\n",
    "        temp += 1\n",
    "    c += (m-temp)\n",
    "    n += 1\n",
    "fig.tight_layout()"
   ]
  },
  {
   "cell_type": "code",
   "execution_count": null,
   "metadata": {},
   "outputs": [],
   "source": [
    "L = 0\n",
    "for i in run.prune_data:\n",
    "    for j in i.fits:\n",
    "        L += 1\n",
    "        \n",
    "c = 1\n",
    "fig = plt.figure(figsize=(5,100))\n",
    "for i in run.prune_data:\n",
    "    for j in i.fits:\n",
    "        ax = plt.subplot(L,1,c)\n",
    "        i.plot()\n",
    "        j.plot(False,linewidth=1)\n",
    "        #ax.set_xlim(j.pos_left,j.pos_right) #Tight\n",
    "        ax.set_xlim(min(i.x),max(i.x)) #Full\n",
    "        (y_min,y_max) = ax.get_ylim()\n",
    "        dy = (y_max - y_min)*0.1\n",
    "        ax.set_ylim(y_min - dy, y_max + dy)\n",
    "        ax.tick_params(axis='both', which = 'both', bottom = 'off', top = 'off', left = 'off', right = 'off', labelleft = 'off', labelbottom = 'off')\n",
    "        c += 1\n",
    "plt.show()"
   ]
  },
  {
   "cell_type": "code",
   "execution_count": null,
   "metadata": {},
   "outputs": [],
   "source": [
    "fig.savefig('2011_new_prune_all_fits',dpi=1000)"
   ]
  },
  {
   "cell_type": "markdown",
   "metadata": {},
   "source": [
    "# Checking Regressions"
   ]
  },
  {
   "cell_type": "code",
   "execution_count": 4,
   "metadata": {},
   "outputs": [],
   "source": [
    "def search(seq, t):  \n",
    "    min = 0\n",
    "    max = len(seq) - 1\n",
    "    while True:        \n",
    "        m = (min + max) // 2\n",
    "        if max <= min:\n",
    "            if np.abs(t-seq[m]) < np.abs(t-seq[m-1]):          \n",
    "                return m\n",
    "            else:\n",
    "                return m-1        \n",
    "        if seq[m] < t:\n",
    "            min = m + 1\n",
    "        elif seq[m] > t:\n",
    "            max = m - 1\n",
    "        else:\n",
    "            return m\n",
    "\n",
    "\n",
    "def plot(data,result,full=False,if_data=True):\n",
    "    x_min = result['x_min']\n",
    "    x_max = result['x_max']\n",
    "    if full:\n",
    "        x = data.x\n",
    "        y = data.y\n",
    "    else:\n",
    "        i_min = search(data.x,x_min)\n",
    "        i_max = search(data.x,x_max)+1\n",
    "\n",
    "        x = data.x[i_min:i_max]\n",
    "        y = data.y[i_min:i_max]\n",
    "\n",
    "    v0 = (x_min+x_max)/2.0\n",
    "\n",
    "    params = result['result'].x\n",
    "    model_l = params[0] + params[1] * np.sin(x*params[2] + (params[3]+params[4]*np.pi)) + params[5] * (x - v0)\n",
    "    model_r = params[0] + params[1] * np.sin(x*params[2] + params[3]) + params[5] * (x - v0)\n",
    "    if if_data:\n",
    "        plt.plot(x,y)\n",
    "    plt.plot(x,model_r,c='r')\n",
    "    plt.plot(x,model_l,c='k')"
   ]
  },
  {
   "cell_type": "code",
   "execution_count": 5,
   "metadata": {},
   "outputs": [],
   "source": [
    "def csf(scipy_fit):\n",
    "    x = scipy_fit['result'].x\n",
    "    out = list()\n",
    "    out.append(x[2])\n",
    "    out.append(x[1])\n",
    "    out.append(x[3]+x[4]*np.pi)\n",
    "    out.append(x[3])\n",
    "    out.append(x[0])\n",
    "    out.append(x[5])\n",
    "    out.append(scipy_fit['val_acc'])\n",
    "    out.append(scipy_fit['x_min'])\n",
    "    out.append(scipy_fit['x_max'])\n",
    "    phi = x[4]\n",
    "    out.append(phi)\n",
    "    out.append(scipy_fit['ci_deltaphi'])\n",
    "    out.append((scipy_fit['x_min'] + scipy_fit['x_max'])/2)\n",
    "    return np.array(out)"
   ]
  },
  {
   "cell_type": "code",
   "execution_count": null,
   "metadata": {},
   "outputs": [],
   "source": [
    "bf = list()"
   ]
  },
  {
   "cell_type": "code",
   "execution_count": 6,
   "metadata": {},
   "outputs": [],
   "source": [
    "#reg45 = np.load('2011_CV_new_res_flat_d45.npy')\n",
    "reg45 = np.load('2014_CV_new_res_d45.npy')"
   ]
  },
  {
   "cell_type": "code",
   "execution_count": 7,
   "metadata": {},
   "outputs": [],
   "source": [
    "#reg5 = np.load('2011_CV_new_res_flat_d5.npy')\n",
    "reg5 = np.load('2014_CV_new_res_d5.npy')"
   ]
  },
  {
   "cell_type": "code",
   "execution_count": 8,
   "metadata": {},
   "outputs": [],
   "source": [
    "#reg6 = np.load('2011_CV_new_res_flat_d6.npy')\n",
    "reg6 = np.load('2014_CV_new_res_d6.npy')"
   ]
  },
  {
   "cell_type": "code",
   "execution_count": 9,
   "metadata": {},
   "outputs": [],
   "source": [
    "#reg7 = np.load('2011_CV_new_res_flat_d7.npy')\n",
    "reg7 = np.load('2014_CV_new_res_d7.npy')"
   ]
  },
  {
   "cell_type": "code",
   "execution_count": 17,
   "metadata": {},
   "outputs": [],
   "source": [
    "filenum = 9\n",
    "val_acc = 0.70\n",
    "ci_deltaphi = 0.01"
   ]
  },
  {
   "cell_type": "code",
   "execution_count": null,
   "metadata": {},
   "outputs": [],
   "source": [
    "%matplotlib"
   ]
  },
  {
   "cell_type": "code",
   "execution_count": null,
   "metadata": {},
   "outputs": [],
   "source": [
    "t = reg7[filenum]\n",
    "count = 0\n",
    "for i in t:\n",
    "    if i['val_acc']>val_acc and 0.16 < i['result'].x[4] < 1.80:\n",
    "        plt.figure()\n",
    "        plot(run.prune_data[filenum],i)\n",
    "        plt.title(str(count) + ', '+ str(i['ci_deltaphi']) + ', '+ str(i['result'].x[4])+ ', '+ str(i['val_acc']))\n",
    "    count += 1"
   ]
  },
  {
   "cell_type": "code",
   "execution_count": 21,
   "metadata": {},
   "outputs": [
    {
     "data": {
      "text/plain": [
       "<matplotlib.text.Text at 0x50a28978>"
      ]
     },
     "execution_count": 21,
     "metadata": {},
     "output_type": "execute_result"
    }
   ],
   "source": [
    "i = reg5[filenum][45]\n",
    "plt.figure()\n",
    "plot(run.prune_data[filenum],i,True)\n",
    "plt.title(str(i['ci_deltaphi']) + ', '+ str(i['result'].x[4])+ ', '+ str(i['val_acc']))"
   ]
  },
  {
   "cell_type": "code",
   "execution_count": null,
   "metadata": {},
   "outputs": [],
   "source": [
    "index_hold = [34,34,34,34]\n",
    "for j in range(len(index_hold)):    \n",
    "    i = [reg7[filenum],reg6[filenum],reg5[filenum],reg45[filenum]][j][index_hold[j]]\n",
    "    plt.figure()\n",
    "    plot(run.prune_data[filenum],i)\n",
    "    plt.title(str(i['ci_deltaphi']) + ', '+ str(i['result'].x[4])+ ', '+ str(i['val_acc']))"
   ]
  },
  {
   "cell_type": "code",
   "execution_count": 22,
   "metadata": {},
   "outputs": [],
   "source": [
    "t = reg6[filenum]\n",
    "start = 40\n",
    "length = 11\n",
    "for i in t[start:start+length]:\n",
    "    if i['val_acc']>0 and 0.16 < i['result'].x[4] < 1.80:\n",
    "        plt.figure()\n",
    "        plot(run.prune_data[filenum],i)\n",
    "        plt.title(str(start) + ', '+ str(i['ci_deltaphi']) + ', '+ str(i['result'].x[4])+ ', '+ str(i['val_acc']))\n",
    "    start += 1"
   ]
  },
  {
   "cell_type": "code",
   "execution_count": 3,
   "metadata": {},
   "outputs": [],
   "source": [
    "%matplotlib inline"
   ]
  },
  {
   "cell_type": "code",
   "execution_count": 4,
   "metadata": {},
   "outputs": [],
   "source": [
    "import ipywidgets"
   ]
  },
  {
   "cell_type": "code",
   "execution_count": null,
   "metadata": {},
   "outputs": [],
   "source": [
    "filenum = 5"
   ]
  },
  {
   "cell_type": "code",
   "execution_count": null,
   "metadata": {},
   "outputs": [],
   "source": [
    "#fit = run.prune_data[filenum].fits[0]\n",
    "#fit.freq = run.prune_data[filenum].fits[-2].freq\n",
    "#fit = Analysis.Fit(csf(reg5[filenum][45]))\n",
    "fit = Analysis.Fit(temp)\n",
    "\n",
    "def func(phase_l,phase_r):\n",
    "    def helper(fit, phase_l, phase_r):\n",
    "        fig = plt.figure(figsize=(20,7))\n",
    "        run.prune_data[filenum].plot()\n",
    "        xpos = np.linspace(-40, -4, 10000)\n",
    "        ytargl = fit.height + fit.amp * np.sin(fit.freq * xpos + phase_l*np.pi) + fit.slope * (xpos - fit.v0)\n",
    "        ytargr = fit.height + fit.amp * np.sin(fit.freq * xpos + phase_r*np.pi) + fit.slope * (xpos - fit.v0)\n",
    "        plt.plot(xpos, ytargl, 'k', linewidth = 2)\n",
    "        plt.plot(xpos, ytargr, 'r', linewidth = 2)\n",
    "        plt.title((phase_l - phase_r)%2.0)\n",
    "    helper(fit,phase_l,phase_r)\n",
    "\n",
    "\n",
    "interactive_plot = ipywidgets.interactive(func, phase_l=(-2.0, 2.0, 0.01), phase_r=(-2.0, 2.0, 0.01))\n",
    "output = interactive_plot.children[-1]\n",
    "output.layout.height = '500px'\n",
    "output.layout.width = '2000px'\n",
    "interactive_plot"
   ]
  },
  {
   "cell_type": "code",
   "execution_count": 6,
   "metadata": {},
   "outputs": [
    {
     "data": {
      "application/vnd.jupyter.widget-view+json": {
       "model_id": "521be7887ee640cd8949b76595659466",
       "version_major": 2,
       "version_minor": 0
      },
      "text/html": [
       "<p>Failed to display Jupyter Widget of type <code>interactive</code>.</p>\n",
       "<p>\n",
       "  If you're reading this message in the Jupyter Notebook or JupyterLab Notebook, it may mean\n",
       "  that the widgets JavaScript is still loading. If this message persists, it\n",
       "  likely means that the widgets JavaScript library is either not installed or\n",
       "  not enabled. See the <a href=\"https://ipywidgets.readthedocs.io/en/stable/user_install.html\">Jupyter\n",
       "  Widgets Documentation</a> for setup instructions.\n",
       "</p>\n",
       "<p>\n",
       "  If you're reading this message in another frontend (for example, a static\n",
       "  rendering on GitHub or <a href=\"https://nbviewer.jupyter.org/\">NBViewer</a>),\n",
       "  it may mean that your frontend doesn't currently support widgets.\n",
       "</p>\n"
      ],
      "text/plain": [
       "interactive(children=(FloatSlider(value=0.0, description=u'phase_l', max=2.0, min=-2.0, step=0.01), FloatSlider(value=0.0, description=u'phase_r', max=2.0, min=-2.0, step=0.01), FloatSlider(value=0.65, description=u'freq', max=0.8, min=0.5, step=0.01), Output(layout=Layout(height=u'500px', width=u'2000px'))), _dom_classes=('widget-interact',))"
      ]
     },
     "metadata": {},
     "output_type": "display_data"
    }
   ],
   "source": [
    "fit = run.prune_data[7].fits[1]\n",
    "\n",
    "def func(phase_l,phase_r,freq):\n",
    "    def helper(fit, phase_l, phase_r):\n",
    "        fig = plt.figure(figsize=(20,7))\n",
    "        run.prune_data[7].plot()\n",
    "        xpos = np.linspace(-40, -4, 10000)\n",
    "        ytargl = fit.height + fit.amp * np.sin(freq * xpos + phase_l*np.pi) + fit.slope * (xpos - fit.v0)\n",
    "        ytargr = fit.height + fit.amp * np.sin(freq * xpos + phase_r*np.pi) + fit.slope * (xpos - fit.v0)\n",
    "        plt.plot(xpos, ytargl, 'k', linewidth = 2)\n",
    "        plt.plot(xpos, ytargr, 'r', linewidth = 2)\n",
    "        plt.title((phase_l - phase_r)%2.0)\n",
    "    helper(fit,phase_l,phase_r)\n",
    "\n",
    "\n",
    "interactive_plot = ipywidgets.interactive(func, phase_l=(-2.0, 2.0, 0.01), phase_r=(-2.0, 2.0, 0.01),freq=(0.5,0.8,0.01))\n",
    "output = interactive_plot.children[-1]\n",
    "output.layout.height = '500px'\n",
    "output.layout.width = '2000px'\n",
    "interactive_plot"
   ]
  },
  {
   "cell_type": "code",
   "execution_count": null,
   "metadata": {},
   "outputs": [],
   "source": [
    "temp = csf(reg5[filenum][45])"
   ]
  },
  {
   "cell_type": "code",
   "execution_count": null,
   "metadata": {},
   "outputs": [],
   "source": [
    "temp[0]"
   ]
  },
  {
   "cell_type": "code",
   "execution_count": null,
   "metadata": {},
   "outputs": [],
   "source": [
    "np.save('2014_0_extrafit',temp)"
   ]
  },
  {
   "cell_type": "code",
   "execution_count": null,
   "metadata": {},
   "outputs": [],
   "source": [
    "run.prune_data[filenum].plot_fit(0,False)\n"
   ]
  },
  {
   "cell_type": "code",
   "execution_count": null,
   "metadata": {},
   "outputs": [],
   "source": [
    "run.prune_data[filenum].fits[1].delta_phi #= (run.prune_data[filenum].fits[1].phase_l - run.prune_data[filenum].fits[1].phase_r)/np.pi%2"
   ]
  },
  {
   "cell_type": "code",
   "execution_count": null,
   "metadata": {},
   "outputs": [],
   "source": [
    "hold = list(bf[filenum])\n",
    "hold.insert(3,csf(reg5[filenum][34]))\n",
    "bf[filenum] = np.array(hold)"
   ]
  },
  {
   "cell_type": "code",
   "execution_count": null,
   "metadata": {},
   "outputs": [],
   "source": [
    "bf[filenum][0][9] = 2 - bf[filenum][0][9]"
   ]
  },
  {
   "cell_type": "code",
   "execution_count": null,
   "metadata": {},
   "outputs": [],
   "source": [
    "fit.output_array()"
   ]
  },
  {
   "cell_type": "code",
   "execution_count": null,
   "metadata": {},
   "outputs": [],
   "source": [
    "for i in run.prune_data[filenum].fits:\n",
    "    print(i.output_array()[9])"
   ]
  },
  {
   "cell_type": "code",
   "execution_count": 15,
   "metadata": {},
   "outputs": [],
   "source": [
    "bf[filenum][3] = csf(reg7[filenum][0])"
   ]
  },
  {
   "cell_type": "code",
   "execution_count": null,
   "metadata": {},
   "outputs": [],
   "source": [
    "bf[filenum][0][3] = -0.99*np.pi"
   ]
  },
  {
   "cell_type": "code",
   "execution_count": 16,
   "metadata": {},
   "outputs": [],
   "source": [
    "np.save('2014bf_new_prune_edit',bf)"
   ]
  },
  {
   "cell_type": "code",
   "execution_count": null,
   "metadata": {},
   "outputs": [],
   "source": [
    "filenum = 6"
   ]
  },
  {
   "cell_type": "code",
   "execution_count": null,
   "metadata": {},
   "outputs": [],
   "source": [
    "hold = list()\n",
    "hold.append(csf(reg45[filenum][12]))\n",
    "#hold.append(csf(reg45[filenum][19]))\n",
    "#hold.append(csf(reg5[filenum][10]))\n",
    "bf.append(np.array(hold))"
   ]
  },
  {
   "cell_type": "code",
   "execution_count": null,
   "metadata": {},
   "outputs": [],
   "source": [
    "print(len(bf))"
   ]
  },
  {
   "cell_type": "code",
   "execution_count": null,
   "metadata": {},
   "outputs": [],
   "source": [
    "bf_final = list()\n",
    "for i in bf:\n",
    "    temp = list()\n",
    "    for j in i:\n",
    "        temp.append(csf(j))\n",
    "    bf_final.append(np.array(temp))\n"
   ]
  },
  {
   "cell_type": "code",
   "execution_count": null,
   "metadata": {},
   "outputs": [],
   "source": [
    "L = 0\n",
    "for i in run.prune_data:\n",
    "    L += len(i.fits)\n",
    "        \n",
    "n = 0\n",
    "c = 1\n",
    "fig = plt.figure(figsize=(5,200))\n",
    "for i in run.prune_data:\n",
    "    if len(i.fits) > 0:\n",
    "        for j in i.fits:\n",
    "            ax = plt.subplot(L,1,c)\n",
    "            i.plot()\n",
    "            c += 1\n",
    "            j.plot(False,linewidth=1)\n",
    "            #ax.set_xlim(j.pos_left,j.pos_right) #Tight\n",
    "            ax.set_xlim(min(i.x),max(i.x)) #Full\n",
    "            (y_min,y_max) = ax.get_ylim()\n",
    "            dy = (y_max - y_min)*0.1\n",
    "            ax.set_ylim(y_min - dy, y_max + dy)\n",
    "            ax.tick_params(axis='both', which = 'both', bottom = 'off', top = 'off', left = 'off', right = 'off', labelleft = 'off', labelbottom = 'off')\n",
    "    n += 1\n",
    "plt.show()"
   ]
  },
  {
   "cell_type": "code",
   "execution_count": null,
   "metadata": {},
   "outputs": [],
   "source": [
    "fig.savefig('2014_new_prune_new_reg',dpi=1200)"
   ]
  },
  {
   "cell_type": "markdown",
   "metadata": {},
   "source": [
    "# Build SE"
   ]
  },
  {
   "cell_type": "code",
   "execution_count": 3,
   "metadata": {},
   "outputs": [],
   "source": [
    "run = Analysis.Run(np.load('2014_Raw.npy'), np.load('2014_Prune_new.npy'), Analysis.bval2014, np.load('2014bf_new_prune_edit.npy'))"
   ]
  },
  {
   "cell_type": "code",
   "execution_count": 4,
   "metadata": {},
   "outputs": [],
   "source": [
    "se = np.load('2014se_edit.npy')"
   ]
  },
  {
   "cell_type": "code",
   "execution_count": 5,
   "metadata": {},
   "outputs": [],
   "source": [
    "mom = 5\n",
    "mindiff = 0.03\n",
    "dV = 0.1\n",
    "minsep = 1.0"
   ]
  },
  {
   "cell_type": "code",
   "execution_count": 6,
   "metadata": {},
   "outputs": [],
   "source": [
    "filenum = 8"
   ]
  },
  {
   "cell_type": "code",
   "execution_count": 7,
   "metadata": {},
   "outputs": [],
   "source": [
    "x = run.prune_data[filenum].x\n",
    "y = run.prune_data[filenum].y\n",
    "fit_hold = run.prune_data[filenum].fits\n",
    "b = run.prune_data[filenum].b_val"
   ]
  },
  {
   "cell_type": "code",
   "execution_count": 8,
   "metadata": {},
   "outputs": [],
   "source": [
    "e = fr.findEdge(x,y,fit_hold,dV=dV,momentum=mom,mindiff = mindiff)"
   ]
  },
  {
   "cell_type": "code",
   "execution_count": 9,
   "metadata": {},
   "outputs": [],
   "source": [
    "fs = fr.finalSlips(x,y,fit_hold,dV=dV,momentum=mom,minsep=minsep,mindiff = mindiff)"
   ]
  },
  {
   "cell_type": "code",
   "execution_count": 10,
   "metadata": {},
   "outputs": [],
   "source": [
    "c = 0\n",
    "for i in e:\n",
    "    if len(i)>0:\n",
    "        plt.figure()\n",
    "        plt.plot(x,y)\n",
    "        fit_hold[c].plot(False)\n",
    "        for j in i:\n",
    "            index = rcv.search(x,j[3])\n",
    "            plt.plot(x[index],y[index],'c*',markersize=20)\n",
    "            index = rcv.search(x,j[2])\n",
    "            plt.plot(x[index],y[index],'y*',markersize=20)\n",
    "            plt.title(j[0])\n",
    "    c += 1"
   ]
  },
  {
   "cell_type": "code",
   "execution_count": 11,
   "metadata": {},
   "outputs": [],
   "source": [
    "for k in fs:\n",
    "    plt.figure()\n",
    "    plt.plot(x,y)\n",
    "    for i in k:\n",
    "        j = (i[2]+i[3])/2.0\n",
    "        index = rcv.search(x,j)\n",
    "        plt.plot(x[index],y[index],'y*',markersize=20)\n",
    "        plt.title(i[0])"
   ]
  },
  {
   "cell_type": "code",
   "execution_count": 12,
   "metadata": {},
   "outputs": [],
   "source": [
    "temp = list(fr.countEdge(x,y,fit_hold,b,dV=dV,momentum=mom,minsep=minsep,mindiff = mindiff))"
   ]
  },
  {
   "cell_type": "code",
   "execution_count": 13,
   "metadata": {},
   "outputs": [],
   "source": [
    "temp = list(se[filenum])"
   ]
  },
  {
   "cell_type": "code",
   "execution_count": 20,
   "metadata": {},
   "outputs": [
    {
     "data": {
      "text/plain": [
       "[array([-30.11417   ,   5.5805    ,   1.64553771,   1.        ]),\n",
       " array([-28.8464    ,   5.5805    ,   1.64553771,   1.        ]),\n",
       " array([-26.6193    ,   5.5805    ,   1.64553771,   1.        ]),\n",
       " array([-27.5842    ,   5.5805    ,   1.64553771,   1.        ]),\n",
       " array([-6.981628  ,  5.5805    ,  1.25720481,  1.        ]),\n",
       " array([-6.43602   ,  5.5805    ,  1.25720481,  1.        ]),\n",
       " array([-6.603667  ,  5.5805    ,  1.25720481,  1.        ]),\n",
       " array([-13.8221   ,   5.5805   ,   1.0183376,   1.       ]),\n",
       " array([-25.1515    ,   5.5805    ,   1.74004121,   1.        ]),\n",
       " array([-25.007     ,   5.5805    ,   1.74004121,   1.        ]),\n",
       " array([-21.11237   ,   5.5805    ,   1.74004121,   1.        ]),\n",
       " array([-19.5402    ,   5.5805    ,   1.74004121,   1.        ]),\n",
       " array([-19.18      ,   5.5805    ,   1.74004121,   1.        ]),\n",
       " array([-19.065     ,   5.5805    ,   1.74004121,   1.        ]),\n",
       " array([-18.616985  ,   5.5805    ,   1.74004121,   1.        ])]"
      ]
     },
     "execution_count": 20,
     "metadata": {},
     "output_type": "execute_result"
    }
   ],
   "source": [
    "temp"
   ]
  },
  {
   "cell_type": "code",
   "execution_count": 21,
   "metadata": {},
   "outputs": [],
   "source": [
    "plt.figure()\n",
    "plt.plot(x,y)\n",
    "for i in temp:\n",
    "    j = i[0]\n",
    "    index = rcv.search(x,j)\n",
    "    plt.plot(x[index],y[index],'y*',markersize=20)"
   ]
  },
  {
   "cell_type": "code",
   "execution_count": 30,
   "metadata": {},
   "outputs": [],
   "source": [
    "del temp[2]"
   ]
  },
  {
   "cell_type": "code",
   "execution_count": 16,
   "metadata": {},
   "outputs": [],
   "source": [
    "temp.insert(8,np.array(temp[8]))"
   ]
  },
  {
   "cell_type": "code",
   "execution_count": 19,
   "metadata": {},
   "outputs": [],
   "source": [
    "temp[9][0] = -25.007"
   ]
  },
  {
   "cell_type": "code",
   "execution_count": 492,
   "metadata": {},
   "outputs": [],
   "source": [
    "se.append(np.array(temp))"
   ]
  },
  {
   "cell_type": "code",
   "execution_count": 493,
   "metadata": {},
   "outputs": [
    {
     "data": {
      "text/plain": [
       "15"
      ]
     },
     "execution_count": 493,
     "metadata": {},
     "output_type": "execute_result"
    }
   ],
   "source": [
    "len(se)"
   ]
  },
  {
   "cell_type": "code",
   "execution_count": 491,
   "metadata": {},
   "outputs": [],
   "source": [
    "temp = np.array([])"
   ]
  },
  {
   "cell_type": "code",
   "execution_count": 22,
   "metadata": {},
   "outputs": [],
   "source": [
    "se[filenum] = np.array(temp)"
   ]
  },
  {
   "cell_type": "code",
   "execution_count": 23,
   "metadata": {},
   "outputs": [],
   "source": [
    "np.save('2014se_edit',se)"
   ]
  },
  {
   "cell_type": "code",
   "execution_count": 204,
   "metadata": {},
   "outputs": [],
   "source": [
    "run = Analysis.Run(np.load('2014_Raw.npy'), np.load('2014_Prune_strong.npy'), Analysis.bval2014, np.load('2014bf_new_prune_edit.npy'))"
   ]
  },
  {
   "cell_type": "code",
   "execution_count": 209,
   "metadata": {},
   "outputs": [],
   "source": [
    "run.prune_data[3].plot_fit(2)"
   ]
  },
  {
   "cell_type": "code",
   "execution_count": 32,
   "metadata": {},
   "outputs": [],
   "source": [
    "se[filenum] = np.array(temp)"
   ]
  },
  {
   "cell_type": "markdown",
   "metadata": {},
   "source": [
    "# Plot all edges, rethink dV"
   ]
  },
  {
   "cell_type": "code",
   "execution_count": 88,
   "metadata": {},
   "outputs": [],
   "source": [
    "#Plot with histogram and edges:\n",
    "\n",
    "run = Analysis.Run(np.load('2011_Raw.npy'), np.load('2011_Prune_new_flat.npy'), Analysis.bval2011, np.load('2011bf_new_prune_flat_edit.npy'))\n",
    "bf = np.load('2011bf_new_prune_flat_edit.npy')\n",
    "se = np.load('2011se_flat_edit.npy')\n",
    "\n",
    "m = 0\n",
    "for i in bf:\n",
    "    if len(i) > m:\n",
    "        m = len(i)\n",
    "m += 1 #for histo\n",
    "\n",
    "\n",
    "L = len(bf)\n",
    "total = L*m\n",
    "c = 1\n",
    "n = 0\n",
    "plt.rc('font', size=6)    \n",
    "bins = np.arange(0.0,2.03,0.03)\n",
    "fig1 = plt.figure(figsize=(20,40))\n",
    "for i in run.prune_data[0:L/2]:\n",
    "    temp = 0\n",
    "    for j in i.fits:\n",
    "        ax = plt.subplot(L/2,m,c)\n",
    "        i.plot()\n",
    "        j.plot(False)\n",
    "        plt.xlim([j.pos_left,j.pos_right])\n",
    "        if len(se[n]) > 0:\n",
    "            for k in se[n][np.abs(se[n][:,2] - bf[n][temp,9])<0.01]:\n",
    "                ax.axvline(k[0],color='k',lw=1)\n",
    "        c += 1\n",
    "        temp += 1\n",
    "    ax = plt.subplot(L/2,m,c)\n",
    "    if len(se[n]) > 0:\n",
    "        plt.hist(se[n][:,2], bins=bins)\n",
    "        plt.xlim([0,2.0])\n",
    "        plt.xticks([1.0,1.25,1.5,1.75])\n",
    "    c += (m-temp)\n",
    "    n += 1\n",
    "\n",
    "fig2 = plt.figure(figsize=(20,40))\n",
    "c = 1\n",
    "for i in run.prune_data[L/2:]:\n",
    "    temp = 0\n",
    "    for j in i.fits:\n",
    "        ax = plt.subplot(L/2,m,c)\n",
    "        i.plot()\n",
    "        j.plot(False)\n",
    "        plt.xlim([j.pos_left,j.pos_right])\n",
    "        if len(se[n]) > 0:\n",
    "            for k in se[n][np.abs(se[n][:,2] - bf[n][temp,9])<0.01]:\n",
    "                ax.axvline(k[0],color='k',lw=1)\n",
    "        c += 1\n",
    "        temp += 1\n",
    "    ax = plt.subplot(L/2,m,c)\n",
    "    if len(se[n]) > 0:\n",
    "        plt.hist(se[n][:,2], bins=bins)\n",
    "        plt.xlim([0,2.0])\n",
    "        plt.xticks([1.0,1.25,1.5,1.75])\n",
    "    c += (m-temp)\n",
    "    n += 1\n",
    "#fig.tight_layout()"
   ]
  },
  {
   "cell_type": "code",
   "execution_count": 89,
   "metadata": {},
   "outputs": [],
   "source": [
    "fig1.savefig('2011 All Fits and Slips 1_2',dpi=1000)\n",
    "fig2.savefig('2011 All Fits and Slips 2_2',dpi=1000)"
   ]
  },
  {
   "cell_type": "code",
   "execution_count": 34,
   "metadata": {},
   "outputs": [],
   "source": [
    "#Plot with histogram and edges:\n",
    "\n",
    "run = Analysis.Run(np.load('2014_Raw.npy'), np.load('2014_Prune_new.npy'), Analysis.bval2014, np.load('2014bf_new_prune_edit.npy'))\n",
    "bf = np.load('2014bf_new_prune_edit.npy')\n",
    "se = np.load('2014se_edit.npy')\n",
    "\n",
    "m = 0\n",
    "for i in bf:\n",
    "    if len(i) > m:\n",
    "        m = len(i)\n",
    "m += 1 #for histo\n",
    "\n",
    "\n",
    "L = len(bf)\n",
    "total = L*m\n",
    "c = 1\n",
    "n = 0\n",
    "plt.rc('font', size=6)    \n",
    "bins = np.arange(0.0,2.03,0.03)\n",
    "fig1 = plt.figure(figsize=(20,40))\n",
    "for i in run.prune_data[0:L/2]:\n",
    "    temp = 0\n",
    "    for j in i.fits:\n",
    "        ax = plt.subplot(L/2,m,c)\n",
    "        i.plot()\n",
    "        j.plot(False)\n",
    "        plt.xlim([j.pos_left,j.pos_right])\n",
    "        if len(se[n]) > 0:\n",
    "            for k in se[n][np.abs(se[n][:,2] - bf[n][temp,9])<0.01]:\n",
    "                ax.axvline(k[0],color='k',lw=1)\n",
    "        c += 1\n",
    "        temp += 1\n",
    "    ax = plt.subplot(L/2,m,c)\n",
    "    if len(se[n]) > 0:\n",
    "        plt.hist(se[n][:,2], bins=bins)\n",
    "        plt.xlim([0,2.0])\n",
    "        plt.xticks([1.0,1.25,1.5,1.75])\n",
    "    c += (m-temp)\n",
    "    n += 1\n",
    "fig1.tight_layout()\n",
    "fig2 = plt.figure(figsize=(20,40))\n",
    "c = 1\n",
    "for i in run.prune_data[L/2:14]:\n",
    "    temp = 0\n",
    "    for j in i.fits:\n",
    "        ax = plt.subplot(L/2,m,c)\n",
    "        i.plot()\n",
    "        j.plot(False)\n",
    "        plt.xlim([j.pos_left,j.pos_right])\n",
    "        if len(se[n]) > 0:\n",
    "            for k in se[n][np.abs(se[n][:,2] - bf[n][temp,9])<0.01]:\n",
    "                ax.axvline(k[0],color='k',lw=1)\n",
    "        c += 1\n",
    "        temp += 1\n",
    "    ax = plt.subplot(L/2,m,c)\n",
    "    if len(se[n]) > 0:\n",
    "        plt.hist(se[n][:,2], bins=bins)\n",
    "        plt.xlim([0,2.0])\n",
    "        plt.xticks([1.0,1.25,1.5,1.75])\n",
    "    c += (m-temp)\n",
    "    n += 1\n",
    "fig2.tight_layout()"
   ]
  },
  {
   "cell_type": "code",
   "execution_count": 35,
   "metadata": {},
   "outputs": [],
   "source": [
    "fig1.savefig('2014 All Fits and Slips 1_2',dpi=1000)\n",
    "fig2.savefig('2014 All Fits and Slips 2_2',dpi=1000)"
   ]
  },
  {
   "cell_type": "code",
   "execution_count": null,
   "metadata": {},
   "outputs": [],
   "source": [
    "#Plot without histogram and edges:\n",
    "\n",
    "run = Analysis.Run(np.load('2011_Raw.npy'), np.load('2011_Prune_new_flat.npy'), Analysis.bval2011, np.load('2011bf_new_prune_flat_edit.npy'))\n",
    "\n",
    "m = 0\n",
    "for i in run.prune_data:\n",
    "    if len(i.fits) > m:\n",
    "        m = len(i.fits)\n",
    "m +=1 #For all fits on one\n",
    "        \n",
    "L = len(run.prune_data)\n",
    "total = L*m\n",
    "c = 1\n",
    "n = 0\n",
    "plt.rc('font', size=6)    \n",
    "bins = np.arange(0.0,2.03,0.03)\n",
    "fig = plt.figure(figsize=(10,20))\n",
    "for i in run.prune_data:\n",
    "    temp = 0\n",
    "    for j in i.fits:\n",
    "        ax = plt.subplot(L,m,c)\n",
    "        i.plot()\n",
    "        j.plot(False)\n",
    "        plt.xlim([min(i.x),max(i.x)])\n",
    "        c += 1\n",
    "        temp += 1\n",
    "    ax = plt.subplot(L,m,c)\n",
    "    i.plot()\n",
    "    plt.xlim([min(i.x),max(i.x)])\n",
    "    for j in i.fits:\n",
    "        j.plot(False)\n",
    "    c += 1\n",
    "    temp += 1\n",
    "    c += (m-temp)\n",
    "    n += 1\n",
    "#fig.tight_layout()"
   ]
  },
  {
   "cell_type": "code",
   "execution_count": null,
   "metadata": {},
   "outputs": [],
   "source": [
    "fig.savefig('2011 New Prune Updated Slips Flat',dpi=1000)"
   ]
  },
  {
   "cell_type": "code",
   "execution_count": null,
   "metadata": {},
   "outputs": [],
   "source": [
    "l = [[0,0],[1,0],[2,0],[3,0],[7,0],[10,0],[10,2],[12,0],[13,0],[13,1],[14,1],[16,0],[16,1],[17,0],[18,0],[19,1],[20,0],[20,1],[21,0]]"
   ]
  },
  {
   "cell_type": "code",
   "execution_count": null,
   "metadata": {},
   "outputs": [],
   "source": [
    "run = Analysis.Run(np.load('2011_Raw.npy'), np.load('2011_Prune_new_flat.npy'), Analysis.bval2011, np.load('2011bf_new_prune_flat.npy'))\n",
    "\n",
    "\n",
    "n = 0\n",
    "plt.rc('font', size=6)    \n",
    "\n",
    "fig, ax = plt.subplots(len(l), figsize=(0.5,100))\n",
    "for i in l:\n",
    "    plt.sca(ax[n])\n",
    "    run.prune_data[i[0]].plot_fit(i[1],False)\n",
    "    plt.xlim(run.prune_data[i[0]].fits[i[1]].pos_left,run.prune_data[i[0]].fits[i[1]].pos_right)\n",
    "    n+=1\n",
    "plt.tight_layout()"
   ]
  },
  {
   "cell_type": "code",
   "execution_count": null,
   "metadata": {},
   "outputs": [],
   "source": [
    "fig.savefig('2011 rejected fits',dpi=1200)"
   ]
  },
  {
   "cell_type": "code",
   "execution_count": null,
   "metadata": {},
   "outputs": [],
   "source": [
    "l = [[1,0,37],[3,1,36],[4,3,32],[20,0,11]]"
   ]
  },
  {
   "cell_type": "code",
   "execution_count": null,
   "metadata": {},
   "outputs": [],
   "source": [
    "L = len(l)\n",
    "n = 1\n",
    "plt.rc('font', size=6)    \n",
    "\n",
    "fig = plt.figure(figsize=(1,10))\n",
    "\n",
    "for j in l:\n",
    "    ax = plt.subplot(L,1,n)\n",
    "    filenum = j[0]\n",
    "    i = [reg7[filenum],reg6[filenum],reg5[filenum],reg45[filenum]][j[1]][j[2]]\n",
    "    plot(run.prune_data[filenum],i)\n",
    "    plt.title('$\\Delta \\phi$ = ' + str(i['result'].x[4]))\n",
    "    n+=1\n",
    "    "
   ]
  },
  {
   "cell_type": "code",
   "execution_count": null,
   "metadata": {},
   "outputs": [],
   "source": [
    "fig.savefig('2011 missing fits',dpi=1200)"
   ]
  },
  {
   "cell_type": "code",
   "execution_count": null,
   "metadata": {},
   "outputs": [],
   "source": [
    "#Plot without histogram and edges, as halves:\n",
    "\n",
    "run = Analysis.Run(np.load('2011_Raw.npy'), np.load('2011_Prune_new_flat.npy'), Analysis.bval2011, np.load('2011bf_new_prune_flat_edit.npy'))\n",
    "\n",
    "m = 0\n",
    "for i in run.prune_data:\n",
    "    if len(i.fits) > m:\n",
    "        m = len(i.fits)\n",
    "m +=1 #For all fits on one\n",
    "        \n",
    "L = len(run.prune_data)\n",
    "total = L*m\n",
    "c = 1\n",
    "n = 0\n",
    "plt.rc('font', size=6)    \n",
    "bins = np.arange(0.0,2.03,0.03)\n",
    "fig1 = plt.figure(figsize=(20,20))\n",
    "for i in run.prune_data[:L/2]:\n",
    "    temp = 0\n",
    "    for j in i.fits:\n",
    "        ax = plt.subplot(L/2,m,c)\n",
    "        i.plot()\n",
    "        j.plot(False)\n",
    "        plt.xlim([min(i.x),max(i.x)])\n",
    "        plt.ylim([min(i.y)-0.01,max(i.y)+0.01])\n",
    "        c += 1\n",
    "        temp += 1\n",
    "    ax = plt.subplot(L/2,m,c)\n",
    "    i.plot()\n",
    "    plt.xlim([min(i.x),max(i.x)])\n",
    "    plt.ylim([min(i.y)-0.01,max(i.y)+0.01])\n",
    "    for j in i.fits:\n",
    "        j.plot(False)\n",
    "    c += 1\n",
    "    temp += 1\n",
    "    c += (m-temp)\n",
    "    n += 1\n",
    "fig1.tight_layout()\n",
    "\n",
    "L = len(run.prune_data)\n",
    "total = L*m\n",
    "c = 1\n",
    "n = 0\n",
    "plt.rc('font', size=6)    \n",
    "bins = np.arange(0.0,2.03,0.03)\n",
    "fig2 = plt.figure(figsize=(20,20))\n",
    "for i in run.prune_data[L/2:]:\n",
    "    temp = 0\n",
    "    for j in i.fits:\n",
    "        ax = plt.subplot(L/2,m,c)\n",
    "        i.plot()\n",
    "        j.plot(False)\n",
    "        plt.xlim([min(i.x),max(i.x)])\n",
    "        plt.ylim([min(i.y)-0.01,max(i.y)+0.01])\n",
    "        c += 1\n",
    "        temp += 1\n",
    "    ax = plt.subplot(L/2,m,c)\n",
    "    i.plot()\n",
    "    plt.xlim([min(i.x),max(i.x)])\n",
    "    plt.ylim([min(i.y)-0.01,max(i.y)+0.01])\n",
    "    for j in i.fits:\n",
    "        j.plot(False)\n",
    "    c += 1\n",
    "    temp += 1\n",
    "    c += (m-temp)\n",
    "    n += 1\n",
    "fig2.tight_layout()"
   ]
  },
  {
   "cell_type": "code",
   "execution_count": null,
   "metadata": {},
   "outputs": [],
   "source": [
    "fig1.savefig('2011 New Prune Updated Slips Flat 1_2 edited',dpi=1000)\n",
    "fig2.savefig('2011 New Prune Updated Slips Flat 2_2 edited',dpi=1000)"
   ]
  },
  {
   "cell_type": "code",
   "execution_count": null,
   "metadata": {},
   "outputs": [],
   "source": [
    "#Plot without histogram and edges, as halves, fits only:\n",
    "\n",
    "run = Analysis.Run(np.load('2011_Raw.npy'), np.load('2011_Prune_new_flat.npy'), Analysis.bval2011, np.load('2011bf_new_prune_flat_edit.npy'))\n",
    "\n",
    "m = 0\n",
    "for i in run.prune_data:\n",
    "    if len(i.fits) > m:\n",
    "        m = len(i.fits)\n",
    "m +=1 #For all fits on one\n",
    "        \n",
    "L = len(run.prune_data)\n",
    "total = L*m\n",
    "c = 1\n",
    "n = 0\n",
    "plt.rc('font', size=6)    \n",
    "bins = np.arange(0.0,2.03,0.03)\n",
    "fig1 = plt.figure(figsize=(20,20))\n",
    "for i in run.prune_data[:L/2]:\n",
    "    temp = 0\n",
    "    for j in i.fits:\n",
    "        ax = plt.subplot(L/2,m,c)\n",
    "        i.plot()\n",
    "        j.plot(False)\n",
    "        plt.xlim(j.pos_left,j.pos_right)\n",
    "        plt.ylim([min(i.y)-0.01,max(i.y)+0.01])\n",
    "        c += 1\n",
    "        temp += 1\n",
    "    ax = plt.subplot(L/2,m,c)\n",
    "    i.plot()\n",
    "    plt.xlim([min(i.x),max(i.x)])\n",
    "    plt.ylim([min(i.y)-0.01,max(i.y)+0.01])\n",
    "    for j in i.fits:\n",
    "        j.plot(False)\n",
    "    c += 1\n",
    "    temp += 1\n",
    "    c += (m-temp)\n",
    "    n += 1\n",
    "fig1.tight_layout()\n",
    "\n",
    "L = len(run.prune_data)\n",
    "total = L*m\n",
    "c = 1\n",
    "n = 0\n",
    "plt.rc('font', size=6)    \n",
    "bins = np.arange(0.0,2.03,0.03)\n",
    "fig2 = plt.figure(figsize=(20,20))\n",
    "for i in run.prune_data[L/2:]:\n",
    "    temp = 0\n",
    "    for j in i.fits:\n",
    "        ax = plt.subplot(L/2,m,c)\n",
    "        i.plot()\n",
    "        j.plot(False)\n",
    "        plt.xlim(j.pos_left,j.pos_right)\n",
    "        plt.ylim([min(i.y)-0.01,max(i.y)+0.01])\n",
    "        c += 1\n",
    "        temp += 1\n",
    "    ax = plt.subplot(L/2,m,c)\n",
    "    i.plot()\n",
    "    plt.xlim([min(i.x),max(i.x)])\n",
    "    plt.ylim([min(i.y)-0.01,max(i.y)+0.01])\n",
    "    for j in i.fits:\n",
    "        j.plot(False)\n",
    "    c += 1\n",
    "    temp += 1\n",
    "    c += (m-temp)\n",
    "    n += 1\n",
    "fig2.tight_layout()"
   ]
  },
  {
   "cell_type": "code",
   "execution_count": null,
   "metadata": {},
   "outputs": [],
   "source": [
    "fig1.savefig('2011 New Prune Updated Slips Flat Windowed 1_2 edited',dpi=1000)\n",
    "fig2.savefig('2011 New Prune Updated Slips Flat Windowed 2_2 edited',dpi=1000)"
   ]
  },
  {
   "cell_type": "code",
   "execution_count": null,
   "metadata": {},
   "outputs": [],
   "source": []
  }
 ],
 "metadata": {
  "kernelspec": {
   "display_name": "Python 2",
   "language": "python",
   "name": "python2"
  },
  "language_info": {
   "codemirror_mode": {
    "name": "ipython",
    "version": 2
   },
   "file_extension": ".py",
   "mimetype": "text/x-python",
   "name": "python",
   "nbconvert_exporter": "python",
   "pygments_lexer": "ipython2",
   "version": "2.7.10"
  }
 },
 "nbformat": 4,
 "nbformat_minor": 2
}
