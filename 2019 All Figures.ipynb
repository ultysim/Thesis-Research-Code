{
 "cells": [
  {
   "cell_type": "code",
   "execution_count": 1,
   "metadata": {},
   "outputs": [
    {
     "name": "stdout",
     "output_type": "stream",
     "text": [
      "Using matplotlib backend: TkAgg\n"
     ]
    }
   ],
   "source": [
    "import numpy as np\n",
    "import matplotlib as mpl\n",
    "from matplotlib import pyplot as plt\n",
    "from matplotlib.gridspec import GridSpec\n",
    "import CompleteHist as ch\n",
    "import Analysis\n",
    "%matplotlib"
   ]
  },
  {
   "cell_type": "code",
   "execution_count": 2,
   "metadata": {},
   "outputs": [
    {
     "name": "stdout",
     "output_type": "stream",
     "text": [
      "Using matplotlib backend: TkAgg\n"
     ]
    }
   ],
   "source": [
    "%matplotlib"
   ]
  },
  {
   "cell_type": "code",
   "execution_count": 3,
   "metadata": {},
   "outputs": [],
   "source": [
    "from matplotlib.colors import LinearSegmentedColormap\n",
    "def get_axis_limits(ax, xscale=-1.01, yscale=1.0):\n",
    "    return ax.get_xlim()[1]*xscale, ax.get_ylim()[1]*yscale\n",
    "\n",
    "def phase_switch(data,minus=0):\n",
    "    temp = list()\n",
    "    temp.append(np.array(data[0]))\n",
    "    flip = True\n",
    "    for i in range(1,len(data)):\n",
    "        temp.append(np.array(data[i]))\n",
    "        if data[i-1][1] == data[i][1] and data[i-1][2] == data[i][2]:\n",
    "            if flip:\n",
    "                temp[-1][2] = 2*(1 - minus) - temp[-1][2]\n",
    "                flip = False\n",
    "            else:\n",
    "                flip = True\n",
    "        else:\n",
    "            flip = True\n",
    "    return np.array(temp)"
   ]
  },
  {
   "cell_type": "code",
   "execution_count": 4,
   "metadata": {},
   "outputs": [
    {
     "data": {
      "text/plain": [
       "[<matplotlib.lines.Line2D at 0x1f03b940>]"
      ]
     },
     "execution_count": 4,
     "metadata": {},
     "output_type": "execute_result"
    }
   ],
   "source": [
    "x = np.linspace(0,2*np.pi,1000)\n",
    "y = np.sin(x)\n",
    "plt.plot(x,y,c='k')\n",
    "y = np.sin(x+np.pi/4)\n",
    "plt.plot(x,y,c='r')"
   ]
  },
  {
   "cell_type": "code",
   "execution_count": 5,
   "metadata": {},
   "outputs": [],
   "source": [
    "plt.rc('text', usetex=True) \n",
    "\n",
    "# Helvetica \n",
    "# set serif, too. Otherwise setting to times and then \n",
    "# Helvetica causes an error. \n",
    "font = {'family':'sans-serif','sans-serif':['Helvetica'], \n",
    "        'serif':['cm10']} \n",
    "preamble  = r\"\"\" \n",
    "               \\usepackage{color} \n",
    "               \\usepackage[tx]{sfmath} \n",
    "               \\usepackage{helvet} \n",
    "            \"\"\" \n",
    "\n",
    "\n",
    "# Unicode for Tex \n",
    "#preamble =  r\"\"\"\\usepackage[utf8]{inputenc}\"\"\" + preamble \n",
    "# inputenc should be set automatically \n",
    "plt.rcParams['text.latex.unicode']=True \n",
    "\n",
    "#print font, preamble \n",
    "plt.rc('font',**font) \n",
    "plt.rcParams['text.latex.preamble'] = preamble\n",
    "mpl.rcParams.update({'font.size': 11})"
   ]
  },
  {
   "cell_type": "code",
   "execution_count": 6,
   "metadata": {},
   "outputs": [],
   "source": [
    "#plotting from 0:2pi\n",
    "#Current Color Scheme!!!!!\n",
    "cdict = {'red': ((0.0, 0.0, 0.0),\n",
    "                 (0.25, 0.0, 0.0),\n",
    "                   (0.375, 1.0, 1.0),\n",
    "                   (0.5, 1.0, 1.0),\n",
    "                   (0.625, 1.0, 1.0),\n",
    "                  (1.0, 0.5, 0.5)),\n",
    "\n",
    "         'green': ((0.0, 1, 1),\n",
    "                   (0.125, 0.0, 0.0),\n",
    "                   (0.25, 1.0, 1.0),\n",
    "                   (0.5, 0.0, 0.0),\n",
    "                   (0.625, 1.0, 1.0),\n",
    "                  (1.0, 1, 1)),\n",
    "\n",
    "         'blue': ((0.0, 0.0, 0.0),\n",
    "                   (0.125, 1.0, 1.0),\n",
    "                   (0.25, 1.0, 1.0),\n",
    "                   (0.375, 1.0, 1.0),\n",
    "                   (0.5, 0.0, 0.0),\n",
    "                   (1.0, 0.0, 0.0)),\n",
    "        }\n",
    "        \n",
    "fullC = LinearSegmentedColormap('fullC', cdict)"
   ]
  },
  {
   "cell_type": "code",
   "execution_count": 12,
   "metadata": {},
   "outputs": [],
   "source": [
    "pruned14 = np.load('Pruned 025 4_16_2019.npy')\n",
    "pruned34 = np.load('Pruned 075 6_6_2019.npy')\n",
    "pruned12 = np.load('Pruned 05 3_12_2019.npy')\n",
    "prunedfig = np.load('Pruned 1 Fig 6_6_2019.npy')\n",
    "prunedsup = np.load('Pruned 1 Sup 6_6_2019.npy')\n",
    "\n",
    "new14 = list()\n",
    "for i in pruned14:\n",
    "    for j in i:\n",
    "        new14.append(j)\n",
    "new14 = np.array(new14)\n",
    "\n",
    "new34 = list()\n",
    "for i in pruned34:\n",
    "    for j in i:\n",
    "        new34.append(j)\n",
    "new34 = np.array(new34)\n",
    "\n",
    "new12 = list()\n",
    "for i in pruned12:\n",
    "    for j in i:\n",
    "        new12.append(j)\n",
    "new12 = np.array(new12)\n",
    "\n",
    "\n",
    "newfig = list()\n",
    "for i in prunedfig:\n",
    "    for j in i:\n",
    "        newfig.append(j)\n",
    "newfig = np.array(newfig)\n",
    "\n",
    "newsup = list()\n",
    "for i in prunedsup:\n",
    "    for j in i:\n",
    "        newsup.append(j)\n",
    "        \n",
    "newsup = np.array(newsup)\n",
    "\n",
    "\n",
    "sw14 = phase_switch(new14)\n",
    "sw12 = phase_switch(new12)\n",
    "sw34 = phase_switch(new34)\n",
    "swfig = phase_switch(newfig)\n",
    "swsup = phase_switch(newsup)"
   ]
  },
  {
   "cell_type": "code",
   "execution_count": 16,
   "metadata": {},
   "outputs": [
    {
     "data": {
      "text/plain": [
       "array([[-14.4746    ,   5.5825    ,   1.02110047,   1.        ],\n",
       "       [ -7.651     ,   5.5825    ,   1.02110047,   1.        ],\n",
       "       [ -7.43      ,   5.5825    ,   1.02110047,   1.        ],\n",
       "       [-14.2383    ,   5.582     ,   0.99611736,   1.        ],\n",
       "       [-13.8221    ,   5.5805    ,   0.9816624 ,   1.        ],\n",
       "       [-13.9362    ,   5.5795    ,   0.95692798,   1.        ],\n",
       "       [-13.7099    ,   5.579     ,   0.94285897,   1.        ],\n",
       "       [-15.348325  ,   5.578     ,   0.91429435,   1.        ],\n",
       "       [-14.955145  ,   5.578     ,   0.91429435,   1.        ],\n",
       "       [-12.94725   ,   5.578     ,   0.91429435,   1.        ],\n",
       "       [-21.7499    ,   5.578     ,   0.94609601,   1.        ],\n",
       "       [-35.588805  ,   5.535     ,   0.94226665,   0.83892617],\n",
       "       [-35.00868   ,   5.5305    ,   0.91014898,   0.89013453],\n",
       "       [-34.85053   ,   5.5305    ,   0.91014898,   0.89013453],\n",
       "       [-33.961335  ,   5.5305    ,   0.91014898,   0.89013453],\n",
       "       [-33.723595  ,   5.5305    ,   0.91014898,   0.89013453],\n",
       "       [-33.550765  ,   5.5305    ,   0.91014898,   0.89013453],\n",
       "       [-32.311505  ,   5.5305    ,   0.91014898,   0.89013453],\n",
       "       [-31.948505  ,   5.5305    ,   0.91014898,   0.89013453],\n",
       "       [-35.9441    ,   5.53      ,   0.95087474,   0.8913738 ],\n",
       "       [-34.89967   ,   5.5255    ,   0.90145079,   0.92      ],\n",
       "       [-15.1785    ,   5.5815    ,   0.89620572,   1.        ],\n",
       "       [-14.168     ,   5.581     ,   0.99735913,   1.        ],\n",
       "       [-13.838535  ,   5.58      ,   1.0219144 ,   1.        ],\n",
       "       [-35.49629   ,   5.5345    ,   0.94090891,   0.84615385],\n",
       "       [-33.935365  ,   5.5345    ,   0.94090891,   0.84615385],\n",
       "       [-33.72232   ,   5.5345    ,   0.94090891,   0.84615385],\n",
       "       [-41.42871   ,   5.534     ,   0.9524676 ,   0.85202864],\n",
       "       [-41.257855  ,   5.534     ,   0.9524676 ,   0.85202864],\n",
       "       [-36.534725  ,   5.534     ,   0.9524676 ,   0.85202864],\n",
       "       [-36.01296   ,   5.534     ,   0.9524676 ,   0.85202864],\n",
       "       [-35.657465  ,   5.534     ,   0.9524676 ,   0.85202864],\n",
       "       [-35.21645   ,   5.5335    ,   0.98255864,   0.85204991],\n",
       "       [-35.672935  ,   5.533     ,   1.0434522 ,   0.91071429],\n",
       "       [-31.94816   ,   5.533     ,   1.0434522 ,   0.91071429],\n",
       "       [-31.542765  ,   5.533     ,   1.0434522 ,   0.91071429],\n",
       "       [-34.666045  ,   5.5325    ,   0.90381885,   0.93540052],\n",
       "       [-34.49799   ,   5.5325    ,   0.90381885,   0.93540052],\n",
       "       [-33.65      ,   5.5325    ,   0.90381885,   0.93540052],\n",
       "       [-34.804065  ,   5.532     ,   0.90299721,   0.90184049],\n",
       "       [-34.059005  ,   5.532     ,   0.90299721,   0.90184049],\n",
       "       [-33.463285  ,   5.532     ,   0.90299721,   0.90184049],\n",
       "       [-34.91161   ,   5.5315    ,   0.89867025,   0.89195402],\n",
       "       [-34.708945  ,   5.5315    ,   0.89867025,   0.89195402],\n",
       "       [-33.97106   ,   5.5315    ,   0.89867025,   0.89195402],\n",
       "       [-33.968275  ,   5.529     ,   0.89275068,   0.91603053],\n",
       "       [-34.073705  ,   5.5285    ,   0.99572698,   0.90948276],\n",
       "       [-34.9435    ,   5.528     ,   0.90209203,   0.95738636],\n",
       "       [-35.333515  ,   5.5275    ,   0.94678747,   0.94791667],\n",
       "       [-34.41847   ,   5.5275    ,   0.94678747,   0.94791667],\n",
       "       [-34.15476   ,   5.5275    ,   0.94678747,   0.94791667],\n",
       "       [-35.38952   ,   5.5265    ,   0.96946642,   0.95348837],\n",
       "       [-14.8683    ,   5.5845    ,   0.90058101,   1.        ]])"
      ]
     },
     "execution_count": 16,
     "metadata": {},
     "output_type": "execute_result"
    }
   ],
   "source": [
    "temp = list(new14)\n",
    "pi14 = np.array(temp.pop(-3))\n",
    "new14 = np.array(temp)\n",
    "pi = np.vstack((newsup,newfig,pi14))\n",
    "\n",
    "pi"
   ]
  },
  {
   "cell_type": "code",
   "execution_count": 23,
   "metadata": {},
   "outputs": [
    {
     "data": {
      "text/plain": [
       "[-41.428709999999995,\n",
       " -41.257854999999999,\n",
       " -36.534724999999995,\n",
       " -36.01296,\n",
       " -35.944099999999999,\n",
       " -35.672934999999995,\n",
       " -35.657465000000002,\n",
       " -35.588804999999994,\n",
       " -35.496290000000002,\n",
       " -35.389520000000005,\n",
       " -35.333514999999998,\n",
       " -35.216449999999995,\n",
       " -35.008679999999998,\n",
       " -34.9435,\n",
       " -34.911609999999996,\n",
       " -34.89967,\n",
       " -34.850529999999999,\n",
       " -34.804064999999994,\n",
       " -34.708945,\n",
       " -34.666044999999997,\n",
       " -34.497990000000001,\n",
       " -34.418469999999999,\n",
       " -34.154759999999996,\n",
       " -34.073705000000004,\n",
       " -34.059004999999999,\n",
       " -33.971060000000001,\n",
       " -33.968274999999998,\n",
       " -33.961334999999998,\n",
       " -33.935365000000004,\n",
       " -33.723595000000003,\n",
       " -33.722319999999996,\n",
       " -33.649999999999999,\n",
       " -33.550764999999998,\n",
       " -33.463284999999999,\n",
       " -32.311504999999997,\n",
       " -31.948504999999997,\n",
       " -31.948160000000001,\n",
       " -31.542765000000003,\n",
       " -21.7499,\n",
       " -15.348324999999999,\n",
       " -15.1785,\n",
       " -14.955145000000002,\n",
       " -14.8683,\n",
       " -14.474600000000001,\n",
       " -14.238300000000001,\n",
       " -14.167999999999999,\n",
       " -13.936199999999999,\n",
       " -13.838535,\n",
       " -13.822100000000001,\n",
       " -13.709899999999999,\n",
       " -12.94725,\n",
       " -7.6509999999999998,\n",
       " -7.4299999999999997]"
      ]
     },
     "execution_count": 23,
     "metadata": {},
     "output_type": "execute_result"
    }
   ],
   "source": [
    "sorted(pi[:,0])"
   ]
  },
  {
   "cell_type": "code",
   "execution_count": 27,
   "metadata": {},
   "outputs": [],
   "source": [
    "#Prepare DATA\n",
    "pruned14 = np.load('Pruned 025 4_16_2019.npy')\n",
    "pruned34 = np.load('Pruned 075 6_6_2019.npy')\n",
    "pruned12 = np.load('Pruned 05 3_12_2019.npy')\n",
    "prunedfig = np.load('Pruned 1 Fig 6_6_2019.npy')\n",
    "prunedsup = np.load('Pruned 1 Sup 6_6_2019.npy')\n",
    "\n",
    "new14 = list()\n",
    "for i in pruned14:\n",
    "    for j in i:\n",
    "        new14.append(j)\n",
    "new14 = np.array(new14)\n",
    "\n",
    "new34 = list()\n",
    "for i in pruned34:\n",
    "    for j in i:\n",
    "        new34.append(j)\n",
    "new34 = np.array(new34)\n",
    "\n",
    "new12 = list()\n",
    "for i in pruned12:\n",
    "    for j in i:\n",
    "        new12.append(j)\n",
    "new12 = np.array(new12)\n",
    "\n",
    "\n",
    "newfig = list()\n",
    "for i in prunedfig:\n",
    "    for j in i:\n",
    "        newfig.append(j)\n",
    "newfig = np.array(newfig)\n",
    "\n",
    "newsup = list()\n",
    "for i in prunedsup:\n",
    "    for j in i:\n",
    "        newsup.append(j)\n",
    "        \n",
    "newsup = np.array(newsup)\n",
    "\n",
    "temp = list(new14)\n",
    "pi14 = np.array(temp.pop(-3))\n",
    "new14 = np.array(temp)\n",
    "pi = np.vstack((newsup,newfig,pi14))\n",
    "\n",
    "\n",
    "sw14 = phase_switch(new14)\n",
    "sw12 = phase_switch(new12)\n",
    "sw34 = phase_switch(new34)\n",
    "swfig = phase_switch(newfig)\n",
    "swsup = phase_switch(newsup)\n",
    "swpi = phase_switch(pi)\n",
    "\n",
    "\n",
    "\n",
    "sw14m = phase_switch(new14,minus = 1)\n",
    "pim = phase_switch(pi,minus = 1)\n",
    "sw12m = phase_switch(new12, minus = 1)\n",
    "sw34m = phase_switch(new34, minus = 1)\n",
    "sw34m[-1][2] = sw34m[-1][2] - 2.0"
   ]
  },
  {
   "cell_type": "code",
   "execution_count": 8,
   "metadata": {},
   "outputs": [],
   "source": [
    "run14 = Analysis.Run(np.load('2014_Raw.npy'), np.load('2014_Prune_strong.npy'), Analysis.bval2014, np.load('2014bf_new_prune_edit.npy'))\n",
    "run11 = Analysis.Run(np.load('2011_Raw.npy'), np.load('2011_Prune_strong_flat.npy'), Analysis.bval2011, np.load('2011bf_new_prune_flat_edit.npy'))\n",
    "\n",
    "soft11 = Analysis.Run(np.load('2011_Raw.npy'), np.load('2011_Prune_new_flat.npy'), Analysis.bval2011, np.load('2011bf_new_prune_flat_edit.npy'))\n",
    "soft14 = Analysis.Run(np.load('2014_Raw.npy'), np.load('2014_Prune_new.npy'), Analysis.bval2014, np.load('2014bf_new_prune_edit.npy'))\n",
    "\n",
    "i14 = run14.prune_data\n",
    "i11 = run11.prune_data\n",
    "\n",
    "s14 = soft14.prune_data\n",
    "s11 = soft11.prune_data"
   ]
  },
  {
   "cell_type": "code",
   "execution_count": 26,
   "metadata": {},
   "outputs": [
    {
     "data": {
      "text/plain": [
       "array([[-30.9763    ,   5.5805    ,   0.35446229,   1.        ],\n",
       "       [-30.11417   ,   5.5805    ,   1.64553771,   1.        ],\n",
       "       [-28.8464    ,   5.5805    ,   0.35446229,   1.        ],\n",
       "       [-26.6193    ,   5.5805    ,   1.64553771,   1.        ],\n",
       "       [-27.5842    ,   5.5805    ,   0.35446229,   1.        ],\n",
       "       [-25.1515    ,   5.5805    ,   0.25995879,   1.        ],\n",
       "       [-25.007     ,   5.5805    ,   1.74004121,   1.        ],\n",
       "       [-21.99253   ,   5.581     ,   0.24561601,   1.        ],\n",
       "       [-21.041845  ,   5.581     ,   1.75438399,   1.        ],\n",
       "       [-24.267575  ,   5.583     ,   0.27320272,   1.        ],\n",
       "       [-23.998675  ,   5.583     ,   1.72679728,   1.        ],\n",
       "       [-21.7239    ,   5.583     ,   0.27320272,   1.        ],\n",
       "       [-20.24955   ,   5.583     ,   0.25      ,   1.        ],\n",
       "       [-19.4861    ,   5.5835    ,   0.27931602,   1.        ],\n",
       "       [-18.62333   ,   5.5835    ,   0.28183099,   1.        ],\n",
       "       [-18.2212    ,   5.5835    ,   1.71816901,   1.        ],\n",
       "       [-17.759945  ,   5.5835    ,   0.28183099,   1.        ],\n",
       "       [-17.42249   ,   5.5835    ,   1.71816901,   1.        ],\n",
       "       [ -8.44257   ,   5.5845    ,   0.23912058,   1.        ],\n",
       "       [-14.8683    ,   5.5845    ,   0.90058101,   1.        ],\n",
       "       [-19.43367   ,   5.5845    ,   0.30364428,   1.        ],\n",
       "       [-22.19066   ,   5.5845    ,   0.25114535,   0.75232775]])"
      ]
     },
     "execution_count": 26,
     "metadata": {},
     "output_type": "execute_result"
    }
   ],
   "source": []
  },
  {
   "cell_type": "markdown",
   "metadata": {},
   "source": [
    "# Histogram"
   ]
  },
  {
   "cell_type": "code",
   "execution_count": 31,
   "metadata": {},
   "outputs": [
    {
     "data": {
      "text/plain": [
       "<matplotlib.text.Text at 0x2d8ae630>"
      ]
     },
     "execution_count": 31,
     "metadata": {},
     "output_type": "execute_result"
    }
   ],
   "source": [
    "#All data\n",
    "\n",
    "#Data---------------------------------------------------------------------------------\n",
    "width = 0.025\n",
    "offset = 0\n",
    "bins = np.arange(offset,2.0,width)\n",
    "\n",
    "data = [sw12,sw14,sw34,swpi] #BECAUSE OF DOUBLE DATA, SORT OUT WITH WOOWON FOR PI FIGURE\n",
    "\n",
    "#-------------------------------------------------------------------------------------\n",
    "colors = ['green','blue','orange','red']\n",
    "\n",
    "fig = plt.figure(figsize=[6,3])\n",
    "plt.subplot2grid((100,100), (0,0), colspan=100, rowspan=92) #for 3x6\n",
    "#plt.subplot2grid((100,100), (0,0), colspan=100, rowspan=97) #for 4x6\n",
    "\n",
    "temp = np.zeros(len(bins)-1)\n",
    "for i in range(len(colors)):\n",
    "    x,_ = np.histogram(data[i][:,2],bins)\n",
    "    plt.bar(bins[:-1],x,bottom=temp,width=width,color=colors[i], alpha=0.8)\n",
    "    temp+=x\n",
    "\n",
    "plt.ylim(0,15)\n",
    "plt.yticks([0,5,10,15])\n",
    "plt.xlim(0,2)\n",
    "plt.xticks([0,0.25,0.5,0.75,1,1.25,1.5,1.75,2.0])\n",
    "plt.xlabel('$\\Delta\\\\theta$($\\pi$)',size=18,labelpad = 3)\n",
    "plt.ylabel('Count',size=18)\n",
    "\n"
   ]
  },
  {
   "cell_type": "code",
   "execution_count": 48,
   "metadata": {},
   "outputs": [
    {
     "data": {
      "text/plain": [
       "0.52300010271159225"
      ]
     },
     "execution_count": 48,
     "metadata": {},
     "output_type": "execute_result"
    }
   ],
   "source": [
    "np.mean(new12[:,2])"
   ]
  },
  {
   "cell_type": "code",
   "execution_count": 49,
   "metadata": {},
   "outputs": [
    {
     "data": {
      "text/plain": [
       "0.021061286074864675"
      ]
     },
     "execution_count": 49,
     "metadata": {},
     "output_type": "execute_result"
    }
   ],
   "source": [
    "np.std(new12[:,2])"
   ]
  },
  {
   "cell_type": "code",
   "execution_count": 50,
   "metadata": {},
   "outputs": [
    {
     "data": {
      "text/plain": [
       "6"
      ]
     },
     "execution_count": 50,
     "metadata": {},
     "output_type": "execute_result"
    }
   ],
   "source": [
    "len(new12)"
   ]
  },
  {
   "cell_type": "code",
   "execution_count": 47,
   "metadata": {},
   "outputs": [
    {
     "data": {
      "text/plain": [
       "array([[-24.66637   ,   5.5265    ,   0.47590564,   0.8836773 ],\n",
       "       [-30.623075  ,   5.534     ,   0.532419  ,   0.80487805],\n",
       "       [-28.549115  ,   5.534     ,   0.532419  ,   0.80487805],\n",
       "       [-28.18076   ,   5.534     ,   0.532419  ,   0.80487805],\n",
       "       [-27.62813   ,   5.534     ,   0.532419  ,   0.80487805],\n",
       "       [-27.450285  ,   5.534     ,   0.532419  ,   0.80487805]])"
      ]
     },
     "execution_count": 47,
     "metadata": {},
     "output_type": "execute_result"
    }
   ],
   "source": [
    "new12"
   ]
  },
  {
   "cell_type": "code",
   "execution_count": null,
   "metadata": {},
   "outputs": [],
   "source": []
  },
  {
   "cell_type": "code",
   "execution_count": null,
   "metadata": {},
   "outputs": [],
   "source": []
  },
  {
   "cell_type": "code",
   "execution_count": 29,
   "metadata": {},
   "outputs": [],
   "source": [
    "fig.savefig('Hist 6_2019 3x6',dpi=1000)"
   ]
  },
  {
   "cell_type": "markdown",
   "metadata": {},
   "source": [
    "# Paper Figures"
   ]
  },
  {
   "cell_type": "code",
   "execution_count": null,
   "metadata": {},
   "outputs": [],
   "source": [
    "se14 = np.load('2014se_new_sign.npy')\n",
    "se11 = np.load('2011se_new_sign.npy')\n",
    "#use this to plot slips:\n",
    "#for k in se11[n][np.abs(se11[n][:,2] - i11[n].fits[j].delta_phi)<0.01]:\n",
    "    #ax5.axvline(k[0],color='k',lw=2)"
   ]
  },
  {
   "cell_type": "code",
   "execution_count": null,
   "metadata": {},
   "outputs": [],
   "source": [
    "from matplotlib.gridspec import GridSpec\n",
    "gs = GridSpec(1000,1000)\n",
    "\n",
    "def search(data, t):\n",
    "    seq = data\n",
    "    min = 0\n",
    "    max = len(seq) - 1\n",
    "    while True:        \n",
    "        m = (min + max) // 2\n",
    "        if max < min:\n",
    "            if np.abs(t-seq[m]) < np.abs(t-seq[m-1]):          \n",
    "                return m\n",
    "            else:\n",
    "                return m-1        \n",
    "        if seq[m] < t:\n",
    "            min = m + 1\n",
    "        elif seq[m] > t:\n",
    "            max = m - 1\n",
    "        else:\n",
    "            return m\n",
    "\n",
    "def t(y_min,y_max):\n",
    "    diff = y_max-y_min\n",
    "    p = float(diff)*0.35\n",
    "    return y_min-p,y_max+p\n",
    "\n",
    "def init_plot(i):\n",
    "    i.plot()\n",
    "    plt.xlim([min(i.x),max(i.x)])\n",
    "    plt.ylim([min(i.y)-0.05,max(i.y)+0.05])\n",
    "    \n",
    "def stitch(i,x):\n",
    "    i.fits[1].plot_select('b',['k','r'],[2,2],i.fits[1].pos_left,x)\n",
    "    i.fits[0].plot_select('b',['r','#00ff00'],[2,2],x,i.fits[0].pos_right)\n",
    "    \n",
    "def set_axis(sweep,x_min,x_max):\n",
    "    plt.xlim(x_min,x_max)\n",
    "    x = np.linspace(x_min,x_max)\n",
    "    yl,yr = sweep.fits[j].yValue(x)\n",
    "    y_min = np.min([yl,yr])\n",
    "    y_max = np.max([yl,yr])\n",
    "    l,h = t(y_min,y_max)\n",
    "    plt.ylim(l,h)\n",
    "    plt.yticks([y_min,y_max],(round(y_min,1),round(y_max,1)))\n",
    "    x_low, x_high = np.percentile(x,[25,75])\n",
    "    plt.xticks([int(x_low),int(x_high)])\n",
    "\n",
    "def newSE(run,se,fit_list,k,_a,_b):\n",
    "    temp = list()\n",
    "    j = fit_list[k][1]\n",
    "    n = fit_list[k][0]\n",
    "    for k in se[n][np.abs(se[n][:,2] - (run.prune_data[n].fits[j].phase_r-run.prune_data[n].fits[j].phase_l)/np.pi%2)<0.001]:\n",
    "        temp.append(k)\n",
    "    return temp\n",
    "\n",
    "    \n",
    "def newSE_count(run,se,n,j):\n",
    "    temp = list()\n",
    "    for k in se[n][np.abs(se[n][:,2] - (run.prune_data[n].fits[j].phase_r-run.prune_data[n].fits[j].phase_l)/np.pi%2)<0.001]:\n",
    "        temp.append(k)\n",
    "    return temp\n"
   ]
  },
  {
   "cell_type": "code",
   "execution_count": null,
   "metadata": {},
   "outputs": [],
   "source": [
    "def plotGrid(run,se,start,fit_list,k,x_low,x_high,colspan,rowspan,xy=(-0.05, 1.02),lw=1.2,linew=2):\n",
    "    plt.subplot2grid((100,100), start, colspan=colspan, rowspan=rowspan)\n",
    "    j = fit_list[k][1]\n",
    "    n = fit_list[k][0]\n",
    "    run.prune_data[n].plot_fit(j,linewidth=linew)\n",
    "    axes(run.prune_data[n],j,x_low,x_high)\n",
    "    for k in se[n][np.abs(se[n][:,2] - (run.prune_data[n].fits[j].phase_r-run.prune_data[n].fits[j].phase_l)/np.pi%2)<0.001]:\n",
    "        plt.axvline(k[0],color='k',lw=lw)\n",
    "    plt.annotate('{:.4f} T'.format(run.prune_data[n].b_val), xy, xycoords=\"axes fraction\")\n",
    "        \n",
    "\n",
    "def axes(sweep,j,x_min,x_max):\n",
    "    plt.xlim(x_min,x_max)\n",
    "    x = np.linspace(x_min,x_max)\n",
    "    yl,yr = sweep.fits[j].yValue(x)\n",
    "    y_min = np.min([yl,yr])\n",
    "    y_max = np.max([yl,yr])\n",
    "    l,h = t(y_min,y_max)\n",
    "    plt.ylim(l,h)\n",
    "    plt.yticks([y_min,y_max],(round(y_min,1),round(y_max,1)))\n",
    "    x_low, x_high = np.percentile(x,[25,75])\n",
    "    plt.xticks([int(x_low),int(x_high)])\n",
    "    ax = plt.gca()\n",
    "    ax.tick_params('y',pad=2)\n",
    "    ax.tick_params('x',pad=3)\n",
    "    \n",
    "    \n",
    "def newplotGrid(bounds,colspan,rowspan,xy=(-0.05, 1.02)):\n",
    "    run,se,fit_list,k,x_low,x_high = bounds\n",
    "    j = fit_list[k][1]\n",
    "    n = fit_list[k][0]\n",
    "    run.prune_data[n].plot_fit(j)\n",
    "    axes(run.prune_data[n],j,x_low,x_high)\n",
    "    for k in se[n][np.abs(se[n][:,2] - (run.prune_data[n].fits[j].phase_r-run.prune_data[n].fits[j].phase_l)/np.pi%2)<0.001]:\n",
    "        plt.axvline(k[0],color='k',lw=2)\n",
    "    plt.annotate('{} T'.format(run.prune_data[n].b_val), xy, xycoords=\"axes fraction\")\n"
   ]
  },
  {
   "cell_type": "code",
   "execution_count": null,
   "metadata": {},
   "outputs": [],
   "source": [
    "pi4_14 = [[0,0],[0,2],[0,3],[2,1],[2,2],[3,3],[3,4],[4,1],[5,0],[7,2],[8,0],[8,3],[9,0]]\n",
    "pi2_14 = [[3,2],[3,1]] \n",
    "pi34_14 = [[2,0],[2,3],[3,0],[8,1]]\n",
    "pi_14 = [[0,1],[4,0],[5,1],[6,0],[7,1],[8,2],[9,1],[10,0],[11,0],[13,0],[13,1]]\n",
    "pi74_14 = [[5,2]]\n",
    "#------------------------------------------\n",
    "pi4_11 = [[0,0],[5,0],[9,1],[11,0],[14,0],[19,1]]\n",
    "pi2_11 = [[2,1],[4,0],[12,1],[15,0],[19,0]]\n",
    "pi34_11 = [[0,1],[1,1],[10,0],[13,0]]\n",
    "pi_11 = [[1,0],[2,0],[3,0],[4,1],[5,1],[6,0],[7,0],[8,0],[9,2],[11,1],[12,0],[14,1],[15,1],[16,0],[17,0],[19,2],[21,0]]\n",
    "#No pi7/4 for 2011"
   ]
  },
  {
   "cell_type": "code",
   "execution_count": null,
   "metadata": {},
   "outputs": [],
   "source": [
    "pi_11_bounds = [[soft11,se11,pi_11,0,-26.34,-18.02],[run11,se11,pi_11,1,-38.84,-29.39],\n",
    "                [run11,se11,pi_11,2,-41.13,-29.99],[soft11,se11,pi_11,3,-42.59,-31.06],\n",
    "                [run11,se11,pi_11,4,-41.27,-30.44],[soft11,se11,pi_11,5,-41,-30],\n",
    "                [soft11,se11,pi_11,6,-40,-29.82],[run11,se11,pi_11,7,-39.23,-28.47],\n",
    "                [run11,se11,pi_11,8,-39.9,-29.56],[run11,se11,pi_11,9,-38.2,-29.144],\n",
    "                [run11,se11,pi_11,10,-42.07,-31.46],[run11,se11,pi_11,11,-41.87,-29.9],\n",
    "                [run11,se11,pi_11,12,-41.29,-30.3],[run11,se11,pi_11,13,-40.29,-30.86],\n",
    "                [run11,se11,pi_11,14,-41.36,-32.15],[run11,se11,pi_11,15,-41.33,-31.54],\n",
    "                [run11,se11,pi_11,16,-40.7672,-30.3]]\n",
    "\n",
    "pi_14_bounds = [[soft14,se14,pi_14,0,-19.48,-9.83],[soft14,se14,pi_14,1,-18.18,-7.05],\n",
    "       [run14,se14,pi_14,2,-21.14,-8.78],[run14,se14,pi_14,3,-16.54,-9],\n",
    "       [soft14,se14,pi_14,4,-17.8,-10.38],[run14,se14,pi_14,5,-15.18,-7.22],\n",
    "       [soft14,se14,pi_14,6,-17.8,-9.72],[soft14,se14,pi_14,7,-20.02,-9.20],\n",
    "       [run14,se14,pi_14,8,-20.4,-8.65],[run14,se14,pi_14,9,-19.32,-7.76],\n",
    "       [run14,se14,pi_14,10,-27.51,-17.93]]"
   ]
  },
  {
   "cell_type": "code",
   "execution_count": null,
   "metadata": {},
   "outputs": [],
   "source": [
    "pi4_14_bounds = [[run14,se14,pi4_14,0,-11,-7],[run14,se14,pi4_14,1,-21,-16],\n",
    "       [run14,se14,pi4_14,2,-23.67,-19.6],[run14,se14,pi4_14,3,-19.48,-15.83],\n",
    "       [run14,se14,pi4_14,4,-21,-18.66],[soft14,se14,pi4_14,5,-21.6,-18.4],\n",
    "       [soft14,se14,pi4_14,6,-27,-20.99],[soft14,se14,pi4_14,7,-23.14,-19.58],\n",
    "       [run14,se14,pi4_14,8,-14.16,-7.65],[run14,se14,pi4_14,9,-26.29,-19.04],\n",
    "       [run14,se14,pi4_14,10,-31.0675,-25.2242],[soft14,se14,pi4_14,11,-25.6274,-18.36],\n",
    "       [run14,se14,pi4_14,12,-25.78,-19.49]]\n",
    "\n",
    "pi4_11_bounds = [[soft11,se11,pi4_11,0,-31.9,-23.479],[soft11,se11,pi4_11,1,-31.84,-26.8],\n",
    "       [soft11,se11,pi4_11,2,-32,-14.24],[soft11,se11,pi4_11,3,-31.53,-17.82],\n",
    "       [soft11,se11,pi4_11,4,-33.6,-24.22],[soft11,se11,pi4_11,5,-33.5,-28]]"
   ]
  },
  {
   "cell_type": "code",
   "execution_count": null,
   "metadata": {},
   "outputs": [],
   "source": [
    "pi_new = list()\n",
    "\n",
    "pi_bounds = list(pi_11_bounds)\n",
    "pi_bounds.extend(pi_14_bounds)\n",
    "pi_bounds = np.array(pi_bounds)\n",
    "\n",
    "\n",
    "for j in [15,14,13,12,11,8,7,6,5,4,3,2,23,21,20]:\n",
    "    pi_new.append(pi_bounds[j])\n",
    "\n",
    "pi_new[0][-2],pi_sup[0][-1] = -42.3122, -30.0638\n",
    "pi_new[1][-2],pi_new[1][-1] = -42.01,-29.714\n",
    "pi_new[2][-2],pi_new[2][-1] = -43.739,-30.7454\n",
    "pi_new[3][-2],pi_new[3][-1] = -45.9674,-30.1864\n",
    "pi_new[4][-2],pi_new[4][-1] = -42.0237, -29.9358\n",
    "pi_new[5][-2],pi_new[5][-1] = -41.2647, -29.5113\n",
    "pi_new[6][-2],pi_new[6][-1] = -40.6632, -28.4236\n",
    "pi_new[7][-2],pi_new[7][-1] = -40, -29.8989\n",
    "pi_new[8][-2],pi_new[8][-1] = -45.3157, -29.8903\n",
    "pi_new[9][-2],pi_new[9][-1] = -43.3091, -30.3461\n",
    "pi_new[10][-2],pi_new[10][-1] = -42.7017, -31.0218\n",
    "pi_new[11][-2],pi_new[11][-1] = -41.9687, -29.6581\n",
    "pi_new[12][-2],pi_new[12][-1] = -19.7687, -7.3317\n",
    "pi_new[13][-2],pi_new[13][-1] = -21.0172, -9.7475\n",
    "pi_new[14][-2],pi_new[14][-1] = -17.1242, -5.575"
   ]
  },
  {
   "cell_type": "code",
   "execution_count": null,
   "metadata": {},
   "outputs": [],
   "source": [
    "pi_sup = list()\n",
    "\n",
    "pi_bounds = list(pi_11_bounds)\n",
    "pi_bounds.extend(pi_14_bounds)\n",
    "pi_bounds = np.array(pi_bounds)\n",
    "\n",
    "\n",
    "for j in [16,10,9,1,27,26,25,24,22,19,18,17]:\n",
    "    pi_sup.append(pi_bounds[j])\n",
    "\n",
    "\n",
    "pi_sup[0][-2],pi_sup[0][-1] = -42.9495,-30.1496\n",
    "\n",
    "pi_sup[1][-2],pi_sup[1][-1] = -46.7153, -30.7536\n",
    "pi_sup[2][-2],pi_sup[2][-1] = -43.7484, -29.2676\n",
    "pi_sup[3][-2],pi_sup[3][-1] = -38.8846, -29.3708\n",
    "pi_sup[4][-2],pi_sup[4][-1] = -27.4837, -17.0424\n",
    "pi_sup[5][-2],pi_sup[5][-1] = -19.7555, -7.7148\n",
    "pi_sup[6][-2],pi_sup[6][-1] = -20.5392, -8.4924\n",
    "pi_sup[7][-2],pi_sup[7][-1] = -20.2131, -8.3886\n",
    "pi_sup[8][-2],pi_sup[8][-1] = -15.3165, -7.1523\n",
    "pi_sup[9][-2],pi_sup[9][-1] = -20.9327, -12.2644\n",
    "pi_sup[10][-2],pi_sup[10][-1] = -20.6114, -7.0573\n",
    "pi_sup[11][-2],pi_sup[11][-1] = -19.4212, -8.5128\n",
    "#pi_sup[13][-2],pi_sup[13][-1] = \n",
    "#pi_sup[14][-2],pi_sup[14][-1] = "
   ]
  },
  {
   "cell_type": "code",
   "execution_count": null,
   "metadata": {},
   "outputs": [],
   "source": [
    "pi4_new = list()\n",
    "\n",
    "pi4_bounds = list(pi4_14_bounds)\n",
    "pi4_bounds.extend(pi4_11_bounds)\n",
    "pi4_bounds = np.array(pi4_bounds)\n",
    "\n",
    "\n",
    "for j in [3,9,6,10,1,0,2,4,5]:\n",
    "    pi4_new.append(pi4_bounds[j])\n",
    "\n",
    "pi4_new[1][-2],pi4_new[1][-1] = -28.371,-19.6137\n",
    "pi4_new[3][-2],pi4_new[3][-1] = -31.0697,-22.9274\n",
    "pi4_new[4][-2],pi4_new[4][-1] = -22.15,-15.3109\n",
    "pi4_new[5][-2],pi4_new[5][-1] = -13.4502,-6.9825\n",
    "pi4_new[6][-2],pi4_new[6][-1] = -28.371,-19.4487"
   ]
  },
  {
   "cell_type": "code",
   "execution_count": null,
   "metadata": {},
   "outputs": [],
   "source": [
    "pi2_bounds = [[soft14,se14,pi2_14,0,-20,-15],[soft14,se14,pi2_14,1,-16.2,-10.3],\n",
    "                [run11,se11,pi2_11,0,-42.48,-35.65],[soft11,se11,pi2_11,1,-35.46,-25.65],\n",
    "                [soft11,se11,pi2_11,2,-42.47,-36.3],[soft11,se11,pi2_11,3,-31.59,-23.59],\n",
    "                [run11,se11,pi2_11,4,-26.74,-19.2]]\n",
    "\n",
    "pi2_new = list()\n",
    "for j in [6,3,0,4]:\n",
    "    pi2_new.append(pi2_bounds[j])\n",
    "pi2_new[0][-2],pi2_new[0][-1] = -28.79,-18\n",
    "pi2_new[2][-2],pi2_new[2][-1] = -22.22,-15.429\n",
    "pi2_new[3][-2],pi2_new[3][-1] = -43.3619,-33.96"
   ]
  },
  {
   "cell_type": "code",
   "execution_count": null,
   "metadata": {},
   "outputs": [],
   "source": [
    "pi34_bounds = [[run14,se14,pi34_14,0,-13.17,-4.05],[soft14,se14,pi34_14,1,-28.02,-21.7],\n",
    "               [run14,se14,pi34_14,2,-12.9,-4.06],[soft14,se14,pi34_14,3,-12.04,-4.05],\n",
    "               [run11,se11,pi34_11,0,-41.1,-34.2],[soft11,se11,pi34_11,1,-40.5,-31.7],\n",
    "               [run11,se11,pi34_11,2,-37.159,-29],[run11,se11,pi34_11,3,-39.48,-30.16],\n",
    "               [soft11,se11,pi_11,0,-26.4479, -17.6429]]"
   ]
  },
  {
   "cell_type": "markdown",
   "metadata": {},
   "source": [
    "# $\\pi$ Figures"
   ]
  },
  {
   "cell_type": "code",
   "execution_count": null,
   "metadata": {},
   "outputs": [],
   "source": [
    "lw = 1.6 #slip lines\n",
    "linew = 2.5 #fit lines\n",
    "xy=(-0.023, 1.02)\n",
    "height = 4\n",
    "width = 3\n",
    "row_extra = 4\n",
    "row_len = (100-row_extra*(height-1))/height\n",
    "col_extra = 4\n",
    "col_len = (100-col_extra*(width-1))/width\n",
    "fig = plt.figure(figsize = (1.5*2.42/(col_len/100.),1.5/(row_len/100.)))\n",
    "\n",
    "for i in range(len(pi_new)):\n",
    "    current = (i/width*(row_extra+row_len),i%width*(col_extra+col_len))\n",
    "    hold = list(pi_new[-i-1])\n",
    "    plotGrid(hold[0],hold[1],current,hold[2],hold[3],hold[4],hold[5],col_len,row_len,xy=xy,lw=lw,linew=linew)\n",
    "    if i == 6:\n",
    "        plt.ylabel('$R_D(k\\Omega)$',labelpad=4,size=18)\n",
    "        #ax = plt.gca()\n",
    "        #ax.yaxis.set_label_coords(-.17,1.1)\n",
    "    if i == 13:\n",
    "        plt.xlabel('$V_P(mV)$',labelpad=4,size=18)    "
   ]
  },
  {
   "cell_type": "code",
   "execution_count": null,
   "metadata": {},
   "outputs": [],
   "source": [
    "fig.savefig('Pi Main Fig 6_2019',dpi=1000)"
   ]
  },
  {
   "cell_type": "code",
   "execution_count": null,
   "metadata": {},
   "outputs": [],
   "source": [
    "lw = 1.6 #slip lines\n",
    "linew = 2.5 #fit lines\n",
    "xy=(-0.023, 1.02)\n",
    "height = 4\n",
    "width = 3\n",
    "row_extra = 6\n",
    "row_len = (100-row_extra*(height-1))/height\n",
    "col_extra = 4\n",
    "col_len = (100-col_extra*(width-1))/width\n",
    "fig = plt.figure(figsize = (1.5*2.42/(col_len/100.),1.5/(row_len/100.)))\n",
    "out = list()\n",
    "for i in range(len(pi_sup)-1):\n",
    "    current = (i/width*(row_extra+row_len),i%width*(col_extra+col_len))\n",
    "    hold = list(pi_sup[-i-2])\n",
    "    if i >= len(pi_sup)-3:\n",
    "            current = (i/width*(row_extra+row_len),i%width*(col_extra+col_len)+int((col_extra+col_len)/2))\n",
    "    plotGrid(hold[0],hold[1],current,hold[2],hold[3],hold[4],hold[5],col_len,row_len,xy=xy,lw=lw,linew=linew)\n",
    "    out.append(newSE_count(hold[0],hold[1],hold[2][hold[3]][0],hold[2][hold[3]][1]))\n",
    "    if i == 6:\n",
    "        plt.ylabel('$R_D$$(k\\Omega)$',labelpad=4,size=18)\n",
    "        ax = plt.gca()\n",
    "        ax.yaxis.set_label_coords(-.17,1.1)\n",
    "    if i == 10:\n",
    "        plt.xlabel('$V_P$$(mV)$',labelpad=4,size=18)\n",
    "        ax = plt.gca()\n",
    "        ax.xaxis.set_label_coords(-0.06,-0.25)\n",
    "      "
   ]
  },
  {
   "cell_type": "code",
   "execution_count": null,
   "metadata": {},
   "outputs": [],
   "source": [
    "fig.savefig('Pi Sup Fig 6_2019',dpi=1000)"
   ]
  },
  {
   "cell_type": "markdown",
   "metadata": {},
   "source": [
    "# $\\pi/4$ Figure"
   ]
  },
  {
   "cell_type": "code",
   "execution_count": null,
   "metadata": {},
   "outputs": [],
   "source": [
    "#Version 22\n",
    "#Now has extended sweep on bottom\n",
    "#Rest same as 18\n",
    "mpl.rcParams.update({'font.size': 11})\n",
    "xy=(-0.023, 1.02)\n",
    "lw = 2.0 #slip lines\n",
    "linew = 2.5 #fit lines\n",
    "height = 3\n",
    "width = 2\n",
    "row_extra = 8\n",
    "row_len = (100-row_extra*(height-1))/height\n",
    "col_extra = 7\n",
    "col_len = (100-col_extra*(width-1))/width\n",
    "fig = plt.figure(figsize = (1.5*2.42/(col_len/100.),1.5/(row_len/100.)))\n",
    "i = 0\n",
    "o = 5\n",
    "out = list()\n",
    "for j in [3,1,0,2,4,5]:\n",
    "    hold = pi4_new[j]\n",
    "    current = (o/width*(row_extra+row_len),o%width*(col_extra+col_len))\n",
    "    o -= 1\n",
    "\n",
    "    \n",
    "    if i == 2:\n",
    "        plt.subplot2grid((100,100), current, colspan=col_len, rowspan=row_len)\n",
    "        n = 3\n",
    "        j = 3\n",
    "        init_plot(i14[n])\n",
    "        i14[n].fits[4].plot_select('l','#663300',linew,-26.8855,-21.1362)\n",
    "\n",
    "        i14[n].fits[4].plot_select('r','k',linew,-26.8855,-21.615)\n",
    "        i14[n].fits[3].plot_select('l','k',linew,-21.615,-19.0156)\n",
    "\n",
    "        i14[n].fits[3].plot_select('r','r',linew,-22.5746,-19.0156)\n",
    "\n",
    "        set_axis(i14[n],-26.8855,-19.0156)\n",
    "        plt.xticks([-25,-20])\n",
    "\n",
    "        plt.axvline(-20.2475,color='k',lw=lw)\n",
    "        for k in se14[n][np.abs(se14[n][:,2] -  (2-i14[n].fits[4].delta_phi))<0.01]:\n",
    "            plt.axvline(k[0],color='k',lw=lw)\n",
    "        \n",
    "        temp = newSE_count(run14,se14,3,3)\n",
    "        temp.append(newSE_count(run14,se14,3,4)[0])\n",
    "        out.append(temp)\n",
    "\n",
    "        \n",
    "        plt.annotate('{:.4f} T'.format(i14[n].b_val), xy, xycoords=\"axes fraction\")\n",
    "        \n",
    "        i+=1\n",
    "        continue\n",
    "    \n",
    "    if i == 3:\n",
    "        plt.subplot2grid((100,100), current, colspan=col_len, rowspan=row_len)\n",
    "        n = 2\n",
    "        j = 2\n",
    "        init_plot(i14[n])\n",
    "        i14[n].fits[2].plot_select('l','#663300',linew,-21.6517,-19.2432)\n",
    "\n",
    "        i14[n].fits[2].plot_select('r','k',linew,-21.6517,-17.8369)\n",
    "        i14[n].fits[1].plot_select('l','k',linew,-17.8369,-14.6178)\n",
    "        \n",
    "        i14[n].fits[1].plot_select('r','r',linew,-19.839,-14.6178)\n",
    "        set_axis(i14[n],-21.6517,-14.6178)\n",
    "        \n",
    "        #As the fits are all very close in delta_phi, this captures both fits\n",
    "        for k in se14[n][np.abs(se14[n][:,2] -  (2-i14[n].fits[2].delta_phi))<0.01]:\n",
    "            plt.axvline(k[0],color='k',lw=lw)\n",
    "        \n",
    "        temp = newSE_count(run14,se14,2,2)\n",
    "        temp.extend(newSE_count(run14,se14,2,1))\n",
    "        out.append(temp)\n",
    "        \n",
    "        plt.xticks([-20,-15])\n",
    "        \n",
    "        plt.annotate('{:.4f} T'.format(i14[n].b_val), xy, xycoords=\"axes fraction\")\n",
    "        \n",
    "        plt.ylabel('$R_D(k\\Omega)$',labelpad=3,size=18)\n",
    "        \n",
    "        i += 1\n",
    "        continue\n",
    "    \n",
    "    \n",
    "    if i == 4:\n",
    "        current = (0,0)\n",
    "        plt.subplot2grid((100,100), current, colspan=2*col_len+col_extra, rowspan=row_len)\n",
    "        n = 0\n",
    "        j = 2\n",
    "\n",
    "        lw = 2.0 #slip lines\n",
    "        linew = 2.5 #fit lines\n",
    "\n",
    "        init_plot(soft14.prune_data[n]) #v1\n",
    "        #plt.plot(d140[0],d140[1]) #v2\n",
    "\n",
    "        i14[n].fits[3].plot_select('l','k',linew,-25.8592,-20.75)      \n",
    "        i14[n].fits[3].plot_select('r','r',linew,-25.8592,-20.75)\n",
    "\n",
    "        i14[n].fits[3].plot_select('r','k',linew,-20.4608,-19.8804)\n",
    "        i14[n].fits[2].plot_select('l','k',linew,-19.8804,-17.2498)\n",
    "        i14[n].fits[2].plot_select('r','r',linew,-20.4608,-18.675)\n",
    "        i14[n].fits[1].plot_select('l','r',linew,-18.675,-17.2498)\n",
    "        \n",
    "        \n",
    "        i14[n].fits[1].plot_select('l','k',linew,-16.8737,-11.0015)\n",
    "        i14[n].fits[1].plot_select('r','r',linew,-16.8737,-11.0015)\n",
    "\n",
    "\n",
    "        i14[n].fits[0].plot_select('l','k',linew,-10.5675,-6.98202)\n",
    "        i14[n].fits[0].plot_select('r','r',linew,-10.5675,-6.98202)\n",
    "\n",
    "        for k in se14[n]:\n",
    "            plt.axvline(k[0],color='k',lw=lw)\n",
    "\n",
    "        set_axis(i14[n],-26.0964,-6.98202)\n",
    "        \n",
    "        plt.annotate('{:.4f} T'.format(i14[0].b_val),(-0.01, 1.02), xycoords=\"axes fraction\")\n",
    "        \n",
    "        \n",
    "        \n",
    "        temp = [se14[0][0]]\n",
    "        temp.extend(newSE_count(run14,se14,0,1))\n",
    "        temp.extend(newSE_count(run14,se14,0,2))\n",
    "        temp.extend(newSE_count(run14,se14,0,3))\n",
    "        out.append(temp)\n",
    "        \n",
    "        plt.xticks([-25,-20,-15,-10])\n",
    "        break\n",
    "    \n",
    "    \n",
    "    plotGrid(hold[0],hold[1],current,hold[2],hold[3],hold[4],hold[5],col_len,row_len,xy=(-0.023, 1.02),lw=lw,linew=linew)\n",
    "    \n",
    "    #Add extra lines for the nonplotted fit\n",
    "    if i == 0:\n",
    "        n = 8\n",
    "        j = 3\n",
    "        for k in se14[n][np.abs(se14[n][:,2] -  (2-i14[n].fits[j].delta_phi))<0.01]:\n",
    "            plt.axvline(k[0],color='k',lw=lw)\n",
    "        temp = newSE_count(run14,se14,8,0)\n",
    "        temp.extend(newSE_count(run14,se14,8,3)[0:2])\n",
    "        out.append(temp)\n",
    "        i += 1\n",
    "        plt.xticks([-30,-25])\n",
    "        plt.xlabel('$V_P(mV)$',labelpad=4,size=18)\n",
    "        ax = plt.gca()\n",
    "        ax.xaxis.set_label_coords(-0.07,-0.22)\n",
    "        continue\n",
    "           \n",
    "    if i == 1:\n",
    "        plt.xticks([-25,-20])\n",
    "        \n",
    "    out.append(newSE(*hold)) \n",
    "    i += 1\n"
   ]
  },
  {
   "cell_type": "code",
   "execution_count": null,
   "metadata": {},
   "outputs": [],
   "source": [
    "fig.savefig('025Pi Fig 6_2019',dpi=1000)"
   ]
  },
  {
   "cell_type": "markdown",
   "metadata": {},
   "source": [
    "# $\\pi/2$ Figure"
   ]
  },
  {
   "cell_type": "code",
   "execution_count": null,
   "metadata": {},
   "outputs": [],
   "source": [
    "xy=(-0.023, 1.02)\n",
    "lw = 2.0 #slip lines\n",
    "linew = 2.5 #fit lines\n",
    "height = 1\n",
    "width = 2\n",
    "row_extra = 9\n",
    "bot = 16\n",
    "row_len = (100-row_extra*(height-1)-bot)/height\n",
    "col_extra = 10\n",
    "col_len = (100-col_extra*(width-1))/width\n",
    "\n",
    "fig = plt.figure(figsize = (1.5*2.42/(col_len/100.),1.5/(row_len/100.)))\n",
    "i = 0\n",
    "out = list()\n",
    "for j in range(2):\n",
    "    hold = pi2_new[(j+1)%2]\n",
    "    \n",
    "    current = (i/width*(row_extra+row_len),i%width*(col_extra+col_len))\n",
    "    plotGrid(hold[0],hold[1],current,hold[2],hold[3],hold[4],hold[5],col_len,row_len,xy=xy,lw=lw,linew=linew)\n",
    "    \n",
    "    if i == 0:\n",
    "        plt.ylabel('$R_D(k\\Omega)$',labelpad=0,size=18)\n",
    "    if i == 1:\n",
    "        plt.xlabel('$V_P(mV)$',labelpad=0,size=18)\n",
    "        ax = plt.gca()\n",
    "        ax.xaxis.set_label_coords(-0.1,-0.17)\n",
    "    out.append(newSE(*hold)) \n",
    "    i += 1\n"
   ]
  },
  {
   "cell_type": "code",
   "execution_count": null,
   "metadata": {},
   "outputs": [],
   "source": [
    "fig.savefig('05Pi Fig 6_2019',dpi=1000)"
   ]
  },
  {
   "cell_type": "markdown",
   "metadata": {},
   "source": [
    "# 3$\\pi$/4 Figure"
   ]
  },
  {
   "cell_type": "code",
   "execution_count": null,
   "metadata": {},
   "outputs": [],
   "source": [
    "xy=(-0.023, 1.02)\n",
    "lw = 2.0 #slip lines\n",
    "linew = 2.5 #fit lines\n",
    "height = 3\n",
    "width = 3\n",
    "row_extra = 8\n",
    "bot = 3\n",
    "row_len = (100-row_extra*(height-1)-bot)/height\n",
    "col_extra = 4\n",
    "col_len = (100-col_extra*(width-1))/width\n",
    "fig = plt.figure(figsize = (1.5*2.42/(col_len/100.),1.5/(row_len/100.)))\n",
    "i = 0\n",
    "out = list()\n",
    "for j in [0,2,4,5,-1,6,7]:\n",
    "    hold = pi34_bounds[j]\n",
    "    current = (i/width*(row_extra+row_len),i%width*(col_extra+col_len))\n",
    "    if i == 6:\n",
    "        current = (i/width*(row_extra+row_len),(i+1)%width*(col_extra+col_len))\n",
    "    plotGrid(hold[0],hold[1],current,hold[2],hold[3],hold[4],hold[5],col_len,row_len,xy=xy,lw=lw,linew=linew)\n",
    "    if i == 3:\n",
    "        plt.ylabel('$R_D(k\\Omega)$',labelpad=0,size=18)\n",
    "        ax = plt.gca()\n",
    "        ax.yaxis.set_label_coords(-0.15,1.12)\n",
    "    if i == 6:\n",
    "        plt.xlabel('$V_P(mV)$',labelpad=5,size=18)\n",
    "    #out.append(newSE(*hold))    \n",
    "    i += 1"
   ]
  },
  {
   "cell_type": "code",
   "execution_count": null,
   "metadata": {},
   "outputs": [],
   "source": [
    "fig.savefig('075Pi Fig 6_2019',dpi=1000)"
   ]
  },
  {
   "cell_type": "markdown",
   "metadata": {},
   "source": [
    "# Color Maps"
   ]
  },
  {
   "cell_type": "code",
   "execution_count": 8,
   "metadata": {},
   "outputs": [],
   "source": [
    "data2011 = np.load('2011_Prune_strong_flat.npy')\n",
    "data2014 = np.load('2014_Prune_strong.npy')\n",
    "\n",
    "d2011 = list()\n",
    "for i in range(len(data2011)):\n",
    "    d2011.append(np.array([tuple(j) for j in data2011[i]],dtype=np.float))\n",
    "\n",
    "d2014 = list()\n",
    "for i in range(len(data2014)):\n",
    "    d2014.append(np.array([tuple(j) for j in data2014[i]],dtype=np.float))"
   ]
  },
  {
   "cell_type": "code",
   "execution_count": 9,
   "metadata": {},
   "outputs": [],
   "source": [
    "import SG\n",
    "import pylab\n",
    "from scipy import interpolate"
   ]
  },
  {
   "cell_type": "code",
   "execution_count": 10,
   "metadata": {},
   "outputs": [],
   "source": [
    "cdict = {'red':   ((0.0, 0.0, 0.0),\n",
    "                   (0.5, 1.0, 1.0),\n",
    "                   (1.0, 1.0, 1.0)),\n",
    "\n",
    "         'green': ((0.0, 0.0, 0.0),\n",
    "                   (0.5,0.0,0.0),\n",
    "                   (1.0, 1.0, 1.0)),\n",
    "\n",
    "         'blue':  ((0.0, 1.0, 1.0),\n",
    "                   (0.5, 0.0, 0.0),\n",
    "                   (1.0, 0.0, 0.0))\n",
    "        }\n",
    "        \n",
    "yellowredblue = LinearSegmentedColormap('YellowRedBlue', cdict)"
   ]
  },
  {
   "cell_type": "code",
   "execution_count": 11,
   "metadata": {},
   "outputs": [],
   "source": [
    "def percentile_normalize(data,p=1):\n",
    "    minv = np.percentile(data,p)\n",
    "    maxv = np.percentile(data,100-p)\n",
    "    hold = np.array(data)\n",
    "    for i in range(len(hold)):\n",
    "        hold[i] = (hold[i]-minv)/(maxv-minv)\n",
    "    return hold"
   ]
  },
  {
   "cell_type": "code",
   "execution_count": 12,
   "metadata": {},
   "outputs": [],
   "source": [
    "def search(data, t):\n",
    "    seq = data[0]    \n",
    "    min = 0\n",
    "    max = len(seq) - 1\n",
    "    while True:        \n",
    "        m = (min + max) // 2\n",
    "        if max < min:\n",
    "            if np.abs(t-seq[m]) < np.abs(t-seq[m-1]):          \n",
    "                return m\n",
    "            else:\n",
    "                return m-1        \n",
    "        if seq[m] < t:\n",
    "            min = m + 1\n",
    "        elif seq[m] > t:\n",
    "            max = m - 1\n",
    "        else:\n",
    "            return m\n",
    "            \n",
    "\n",
    "def clip(d,min,max):\n",
    "    data = np.array(d)\n",
    "    li = search(data,min)\n",
    "    ri = search(data,max)\n",
    "    return data[:,li:ri+1]\n",
    "    "
   ]
  },
  {
   "cell_type": "code",
   "execution_count": 13,
   "metadata": {},
   "outputs": [],
   "source": [
    "def normalize(data):\n",
    "    minv = min(data)\n",
    "    maxv = max(data)\n",
    "    hold = np.array(data)\n",
    "    for i in range(len(hold)):\n",
    "        hold[i] = (hold[i]-minv)/(maxv-minv)\n",
    "    return hold"
   ]
  },
  {
   "cell_type": "code",
   "execution_count": 14,
   "metadata": {},
   "outputs": [],
   "source": [
    "from matplotlib.gridspec import GridSpec\n",
    "gs = GridSpec(1000,1000)\n"
   ]
  },
  {
   "cell_type": "markdown",
   "metadata": {},
   "source": [
    "## 2014 Data"
   ]
  },
  {
   "cell_type": "code",
   "execution_count": 141,
   "metadata": {},
   "outputs": [],
   "source": [
    "#More smoothing, better option\n",
    "bfieldval = Analysis.bval2014\n",
    "n = 1024\n",
    "smoothval = 51\n",
    "poly = 2\n",
    "interpdim = 2\n",
    "data = d2014\n",
    "cmlabel = 'Normalized $\\Delta$R$_D$ (k$\\Omega$)'\n",
    "data = [x for (y,x) in sorted(zip(bfieldval,data), key=lambda pair: pair[0])]\n",
    "bval = sorted(bfieldval)    \n",
    "xmin = -100\n",
    "xmax = 0\n",
    "for i in data:\n",
    "    if i[0][0] > xmin:\n",
    "        xmin = i[0][0]\n",
    "    if i[0][-1] < xmax:\n",
    "        xmax = i[0][-1]\n",
    "#xmin += 0.01\n",
    "#xmax -= 0.01\n",
    "xv = np.linspace(xmin,xmax,n)\n",
    "intv = list()\n",
    "for i in data:\n",
    "    #Try flipping filtering and interp\n",
    "    dataclip = clip(i,xmin,xmax)\n",
    "    dataclip[1] = SG.savitzky_golay(dataclip[1],smoothval,poly)\n",
    "    tck = interpolate.splrep(dataclip[0], dataclip[1],k=1)\n",
    "    y = interpolate.splev(xv,tck)\n",
    "    intv.append(percentile_normalize(y,1))\n",
    "xb = np.linspace(bval[0],bval[-1],n)\n",
    "b = list()\n",
    "for i in range(len(intv[0])):\n",
    "    hold = list()\n",
    "    for j in range(len(intv)):\n",
    "        hold.append(intv[j][i])\n",
    "    b.append(hold)\n",
    "intb = list()\n",
    "for i in b:\n",
    "    tck = interpolate.splrep(bval,i,k=interpdim)\n",
    "    y = interpolate.splev(xb,tck)\n",
    "    intb.append(y)\n",
    "Z = np.array(intb)\n",
    "X,Y = pylab.meshgrid(xb,xv)"
   ]
  },
  {
   "cell_type": "code",
   "execution_count": 46,
   "metadata": {},
   "outputs": [],
   "source": [
    "colortype = yellowredblue\n",
    "f, ax = plt.subplots()\n",
    "plt.pcolormesh(X,Y,Z,vmin=0,vmax=1,cmap=colortype)\n",
    "plt.ylim(xmin,xmax)\n",
    "plt.xlim(bval[0],bval[-1])\n",
    "plt.ylabel('Gate Voltage(mV)',size=18)\n",
    "plt.xlabel('B Field(T)',size=18)\n",
    "cbar = plt.colorbar()\n",
    "cbar.set_label(cmlabel,size=14)\n",
    "ax.get_xaxis().get_major_formatter().set_useOffset(False)\n",
    "\n",
    "plt.show()"
   ]
  },
  {
   "cell_type": "code",
   "execution_count": 73,
   "metadata": {},
   "outputs": [
    {
     "data": {
      "text/plain": [
       "-21.505043665689151"
      ]
     },
     "execution_count": 73,
     "metadata": {},
     "output_type": "execute_result"
    }
   ],
   "source": [
    "Y[360][0]"
   ]
  },
  {
   "cell_type": "code",
   "execution_count": 74,
   "metadata": {},
   "outputs": [
    {
     "data": {
      "text/plain": [
       "[<matplotlib.lines.Line2D at 0x3fad5710>]"
      ]
     },
     "execution_count": 74,
     "metadata": {},
     "output_type": "execute_result"
    }
   ],
   "source": [
    "i = 360\n",
    "plt.figure()\n",
    "plt.plot(X[i],Z[i])"
   ]
  },
  {
   "cell_type": "code",
   "execution_count": null,
   "metadata": {},
   "outputs": [],
   "source": [
    "f.savefig('Color Map 14 2019',dpi=1200)"
   ]
  },
  {
   "cell_type": "code",
   "execution_count": 142,
   "metadata": {},
   "outputs": [],
   "source": [
    "f, ax = plt.subplots()\n",
    "plt.pcolormesh(X,Y,Z,vmin=0,vmax=1,cmap='binary')\n",
    "plt.ylim(xmin,xmax)\n",
    "plt.xlim(bval[0],bval[-1])\n",
    "plt.ylabel('$V_P$(mV)',size=18)\n",
    "plt.xlabel('B(T)',size=18)\n",
    "plt.yticks([-30,-20,-10])\n",
    "plt.xticks([5.578,5.580,5.582,5.584])\n",
    "cbar = plt.colorbar(ticks=[0.0,1.0],shrink=0.5)\n",
    "cbar.set_label('$\\Delta$R$_D$ (k$\\Omega$)',size=14)\n",
    "ax.get_xaxis().get_major_formatter().set_useOffset(False)\n",
    "\n",
    "plt.show()"
   ]
  },
  {
   "cell_type": "code",
   "execution_count": 143,
   "metadata": {},
   "outputs": [],
   "source": [
    "#Markers with +/- signs\n",
    "shift = 0.00008\n",
    "\n",
    "for i in sw34m:\n",
    "    if i[1]>Analysis.bval2011[0]:\n",
    "        x = float(i[1])\n",
    "        if x==5.5845:\n",
    "            x -= shift\n",
    "        if i[2] > 0:\n",
    "            q34 = plt.scatter(x,i[0],s=50,color='#FFD700',marker='v',edgecolor='k',linewidth='1',label='$\\Delta\\\\theta=3\\pi/4')\n",
    "        else:\n",
    "            qm34 = plt.scatter(x,i[0],s=50,color='#CD853F',marker='v',edgecolor='k',linewidth='1',label='$\\Delta\\\\theta=-3\\pi/4')\n",
    "\n",
    "\n",
    "for i in sw14m:\n",
    "    if i[1]>Analysis.bval2011[0]:\n",
    "        x = float(i[1])\n",
    "        if x==5.5845:\n",
    "            x -= shift\n",
    "        if i[2] > 0:\n",
    "            q = plt.scatter(x,i[0],s=50,color='#0000FF',marker='D',edgecolor='k',linewidth='1',label='$\\Delta\\\\theta=\\pi/4')\n",
    "        else:\n",
    "            qm = plt.scatter(x,i[0],s=50,color='#87CEFA',marker='D',edgecolor='k',linewidth='1',label='$\\Delta\\\\theta=-\\pi/4')\n",
    "\n",
    "for i in pim:    \n",
    "    if i[1]>Analysis.bval2011[0]:\n",
    "        x = float(i[1])\n",
    "        if x==5.5845:\n",
    "            x -= shift\n",
    "        if i[2] > 0:\n",
    "            p = plt.scatter(x,i[0],s=50,color='r',edgecolor='k',linewidth='1',label='$\\Delta\\\\theta=\\pi')\n",
    "        else:\n",
    "            pm = plt.scatter(x,i[0],s=50,color='orange',edgecolor='k',linewidth='1',label='$\\Delta\\\\theta=-\\pi')\n",
    "\n",
    "#plt.legend([q,qm,q34,p,pm], [\"$\\Delta\\\\theta =\\pi/4$\",\"$\\Delta\\\\theta =-\\pi/4$\",\"$\\Delta\\\\theta =3\\pi/4$\",\"$\\Delta\\\\theta =\\pi$\",\"$\\Delta\\\\theta =-\\pi$\"],ncol = 2,loc=2,scatterpoints=1)"
   ]
  },
  {
   "cell_type": "code",
   "execution_count": 144,
   "metadata": {},
   "outputs": [],
   "source": [
    "f.savefig('Grayscale Color Map 14 2019 v3',dpi=1000)"
   ]
  },
  {
   "cell_type": "markdown",
   "metadata": {},
   "source": [
    "# 2011 Data"
   ]
  },
  {
   "cell_type": "code",
   "execution_count": 15,
   "metadata": {},
   "outputs": [],
   "source": [
    "bfieldval = Analysis.bval2011\n",
    "n = 1024\n",
    "smoothval = 51\n",
    "poly = 2\n",
    "interpdim = 2\n",
    "data = d2011\n",
    "cmlabel = 'Normalized $\\Delta$R$_D$ (k$\\Omega$)'\n",
    "data = [x for (y,x) in sorted(zip(bfieldval,data), key=lambda pair: pair[0])]\n",
    "bval = sorted(bfieldval)    \n",
    "xmin = None\n",
    "xmax = 0\n",
    "for i in data:\n",
    "    if i[0][0] > xmin:\n",
    "        xmin = i[0][0]\n",
    "    if i[0][-1] < xmax:\n",
    "        xmax = i[0][-1]\n",
    "xmin += 0.5\n",
    "xmax -= 0.5\n",
    "xv = np.linspace(xmin,xmax,n)\n",
    "intv = list()\n",
    "count = 0\n",
    "for i in data:\n",
    "    if count == 21:\n",
    "        xmin += 1\n",
    "    #Try flipping filtering and interp\n",
    "    dataclip = clip(i,xmin,xmax)\n",
    "    dataclip[1] = SG.savitzky_golay(dataclip[1],smoothval,poly)\n",
    "    tck = interpolate.splrep(dataclip[0], dataclip[1],k=1)\n",
    "    y = interpolate.splev(xv,tck)\n",
    "    intv.append(percentile_normalize(y,1))\n",
    "    count += 1\n",
    "xb = np.linspace(bval[0],bval[-1],n)\n",
    "b = list()\n",
    "for i in range(len(intv[0])):\n",
    "    hold = list()\n",
    "    for j in range(len(intv)):\n",
    "        hold.append(intv[j][i])\n",
    "    b.append(hold)\n",
    "intb = list()\n",
    "for i in b:\n",
    "    tck = interpolate.splrep(bval,i,k=interpdim)\n",
    "    y = interpolate.splev(xb,tck)\n",
    "    intb.append(y)\n",
    "Z = np.array(intb)\n",
    "X,Y = pylab.meshgrid(xb,xv)\n"
   ]
  },
  {
   "cell_type": "code",
   "execution_count": 42,
   "metadata": {},
   "outputs": [],
   "source": [
    "colortype = yellowredblue\n",
    "f, ax = plt.subplots()\n",
    "plt.pcolormesh(X,Y,Z,vmin=0,vmax=1,cmap=colortype)\n",
    "plt.ylim(xmin,xmax)\n",
    "plt.xlim(bval[0],bval[-1])\n",
    "plt.ylabel('Gate Voltage(mV)',size=18)\n",
    "plt.xlabel('B Field(T)',size=18)\n",
    "cbar = plt.colorbar()\n",
    "cbar.set_label(cmlabel,size=14)\n",
    "ax.get_xaxis().get_major_formatter().set_useOffset(False)\n",
    "\n",
    "plt.show()"
   ]
  },
  {
   "cell_type": "code",
   "execution_count": 27,
   "metadata": {},
   "outputs": [
    {
     "data": {
      "text/plain": [
       "-32.767286211143691"
      ]
     },
     "execution_count": 27,
     "metadata": {},
     "output_type": "execute_result"
    }
   ],
   "source": [
    "Y[358][0]"
   ]
  },
  {
   "cell_type": "code",
   "execution_count": 28,
   "metadata": {},
   "outputs": [
    {
     "data": {
      "text/plain": [
       "[<matplotlib.lines.Line2D at 0x254f30b8>]"
      ]
     },
     "execution_count": 28,
     "metadata": {},
     "output_type": "execute_result"
    }
   ],
   "source": [
    "i = 358\n",
    "plt.figure()\n",
    "plt.plot(X[i],Z[i])"
   ]
  },
  {
   "cell_type": "code",
   "execution_count": null,
   "metadata": {},
   "outputs": [],
   "source": [
    "f.savefig('Color Map 11 2019',dpi=1200)"
   ]
  },
  {
   "cell_type": "code",
   "execution_count": 138,
   "metadata": {},
   "outputs": [],
   "source": [
    "f, ax = plt.subplots()\n",
    "plt.pcolormesh(X,Y,Z,vmin=0,vmax=1,cmap='binary')\n",
    "plt.ylim(xmin,xmax)\n",
    "plt.xlim(bval[0],bval[-1])\n",
    "plt.ylabel('$V_P$(mV)',size=18)\n",
    "plt.xlabel('B(T)',size=18)\n",
    "plt.yticks([-40,-30,-20,-10])\n",
    "plt.xticks([5.526,5.530,5.534])\n",
    "cbar = plt.colorbar(ticks=[0.0,1.0],shrink=0.5)\n",
    "cbar.set_label('$\\Delta$R$_D$ (k$\\Omega$)',size=14)\n",
    "ax.get_xaxis().get_major_formatter().set_useOffset(False)\n",
    "\n",
    "plt.show()"
   ]
  },
  {
   "cell_type": "code",
   "execution_count": null,
   "metadata": {},
   "outputs": [],
   "source": [
    "#Has Vertical Scale\n",
    "xin = 5\n",
    "yin = 5\n",
    "img = xin*0.9\n",
    "y_len = int(img/yin*1000)\n",
    "colortype = ch.yellowredblue\n",
    "f= plt.figure(figsize=[xin,1.06*xin])\n",
    "ax = f.add_subplot(gs[100:y_len,100:])\n",
    "im = ax.pcolormesh(X,Y,Z,vmin=0,vmax=1,cmap='binary')\n",
    "ax.get_xaxis().get_major_formatter().set_useOffset(False)\n",
    "plt.xticks([5.526,5.530,5.534])\n",
    "plt.yticks([-40,-30,-20,-10])\n",
    "ax.set_ylim(xmin,xmax)\n",
    "ax.set_xlim(bval[0],bval[-1])\n",
    "plt.ylabel('V$_{p}$(mV)',labelpad=-1)\n",
    "plt.xlabel('B(T)')\n",
    "cax = f.add_subplot(gs[65:90,400:700])\n",
    "\n",
    "cbar = plt.colorbar(im,cax=cax,ticks=[0.0,0.5,1.0],orientation='horizontal')\n",
    "cax.xaxis.set_label_position('top')\n",
    "cax.set_xlabel('$\\Delta$R$_D$ (k$\\Omega$)')\n",
    "cax.xaxis.labelpad = 2\n",
    "cax.tick_params(axis='x',which='both',bottom='off',top='on',labelbottom='off',labeltop='on',labelsize=8,pad=0)"
   ]
  },
  {
   "cell_type": "code",
   "execution_count": 139,
   "metadata": {},
   "outputs": [
    {
     "data": {
      "text/plain": [
       "<matplotlib.legend.Legend at 0x40339ac8>"
      ]
     },
     "execution_count": 139,
     "metadata": {},
     "output_type": "execute_result"
    }
   ],
   "source": [
    "#Markers PM\n",
    "#for i in new14:\n",
    "#    if i[1]<=bval2011[0]:\n",
    "#        q = plt.scatter(i[1],i[0],s=60,color='#00FFFF',marker='d',edgecolor='k',linewidth='1',label='$\\Delta\\phi=\\pi/4')\n",
    "shift = 0.00008\n",
    "for i in pim:\n",
    "    if i[1]<=Analysis.bval2011[0]:\n",
    "        if i[2] > 0:\n",
    "            p = plt.scatter(i[1],i[0],s=50,color='r',edgecolor='k',linewidth='1',label='$\\Delta\\theta=\\pi')\n",
    "        else:\n",
    "            pm = plt.scatter(i[1],i[0],s=50,color='orange',edgecolor='k',linewidth='1',label='$\\Delta\\theta=-\\pi')\n",
    "for i in sw34m:\n",
    "    if i[1]<=Analysis.bval2011[0]:\n",
    "        x = float(i[1])\n",
    "        if x==5.536:\n",
    "            x -= shift\n",
    "        if i[2] > 0:\n",
    "            q34 = plt.scatter(x,i[0],s=50,color='#FFD700',marker='v',edgecolor='k',linewidth='1',label='$\\Delta\\\\theta=3\\pi/4')\n",
    "        else:\n",
    "            qm34 = plt.scatter(x,i[0],s=50,color='#CD853F',marker='v',edgecolor='k',linewidth='1',label='$\\Delta\\\\theta=-3\\pi/4')\n",
    "            \n",
    "for i in sw12m:\n",
    "    if i[1]<=Analysis.bval2011[0]:\n",
    "        x = float(i[1])\n",
    "        if x==5.536:\n",
    "            x -= shift\n",
    "        if i[2] > 0:\n",
    "            q05 = plt.scatter(x,i[0],s=50,color='#006400',marker='s',edgecolor='k',linewidth='1',label='$\\Delta\\\\theta=\\pi/2')\n",
    "        else:\n",
    "            qm05 = plt.scatter(x,i[0],s=50,color='#00FF00',marker='s',edgecolor='k',linewidth='1',label='$\\Delta\\\\theta=-\\pi/2')\n",
    "            \n",
    "plt.legend([q,qm,q05,qm05,q34,qm34,p,pm], [\"$\\Delta\\\\theta =\\pi/4$\",\"$\\Delta\\\\theta =-\\pi/4$\",\"$\\Delta\\\\theta =\\pi/2$\",\"$\\Delta\\\\theta =-\\pi/2$\",\"$\\Delta\\\\theta =3\\pi/4$\",\"$\\Delta\\\\theta =-3\\pi/4$\",\"$\\Delta\\\\theta =\\pi$\",\"$\\Delta\\\\theta =-\\pi$\"],\n",
    "           loc=2,scatterpoints=1,ncol=2,fontsize='small',columnspacing=0,labelspacing=0.5,handletextpad=0)\n"
   ]
  },
  {
   "cell_type": "code",
   "execution_count": 140,
   "metadata": {},
   "outputs": [],
   "source": [
    "f.savefig('Grayscale Color Map 11 2019 v3',dpi=1000)"
   ]
  },
  {
   "cell_type": "markdown",
   "metadata": {},
   "source": [
    "# Computing Periods"
   ]
  },
  {
   "cell_type": "code",
   "execution_count": 119,
   "metadata": {},
   "outputs": [],
   "source": [
    "temp = list()\n",
    "\n",
    "for i in prunedfig:\n",
    "    for j in i:\n",
    "        temp.append(j[2])\n",
    "for i in prunedsup:\n",
    "    for j in i:\n",
    "        temp.append(j[2])\n"
   ]
  },
  {
   "cell_type": "code",
   "execution_count": 120,
   "metadata": {},
   "outputs": [],
   "source": [
    "freq_hold11 = list()\n",
    "freq_hold14 = list()\n",
    "for i in i11:\n",
    "    for j in i.fits:\n",
    "        if (j.phase_r-j.phase_l)/np.pi%2 in temp:\n",
    "            freq_hold11.append(1/(j.freq/(2*np.pi)))\n",
    "for i in i14:\n",
    "    for j in i.fits:\n",
    "        if (j.phase_r-j.phase_l)/np.pi%2 in temp:\n",
    "            freq_hold14.append(1/(j.freq/(2*np.pi)))"
   ]
  },
  {
   "cell_type": "code",
   "execution_count": 123,
   "metadata": {},
   "outputs": [
    {
     "data": {
      "text/plain": [
       "10"
      ]
     },
     "execution_count": 123,
     "metadata": {},
     "output_type": "execute_result"
    }
   ],
   "source": [
    "len(freq_hold14)"
   ]
  },
  {
   "cell_type": "code",
   "execution_count": 121,
   "metadata": {},
   "outputs": [
    {
     "data": {
      "text/plain": [
       "(array([ 1.,  0.,  1.,  3.,  4.,  2.,  3.,  1.,  0.,  1.]),\n",
       " array([ 8.20645897,  8.37958154,  8.55270411,  8.72582668,  8.89894926,\n",
       "         9.07207183,  9.2451944 ,  9.41831697,  9.59143954,  9.76456211,\n",
       "         9.93768468]),\n",
       " <a list of 10 Patch objects>)"
      ]
     },
     "execution_count": 121,
     "metadata": {},
     "output_type": "execute_result"
    }
   ],
   "source": [
    "plt.hist(freq_hold11)"
   ]
  },
  {
   "cell_type": "code",
   "execution_count": 124,
   "metadata": {},
   "outputs": [
    {
     "name": "stdout",
     "output_type": "stream",
     "text": [
      "2011 Mean = 9.06346594649 with std 0.39560516482\n"
     ]
    }
   ],
   "source": [
    "print('2011 Mean = {} with std {}'.format(np.mean(freq_hold11),np.std(freq_hold11)))"
   ]
  },
  {
   "cell_type": "code",
   "execution_count": 125,
   "metadata": {},
   "outputs": [
    {
     "name": "stdout",
     "output_type": "stream",
     "text": [
      "2014 Mean = 9.03031742225 with std 0.605220952885\n"
     ]
    }
   ],
   "source": [
    "print('2014 Mean = {} with std {}'.format(np.mean(freq_hold14),np.std(freq_hold14)))"
   ]
  },
  {
   "cell_type": "code",
   "execution_count": 126,
   "metadata": {},
   "outputs": [
    {
     "name": "stdout",
     "output_type": "stream",
     "text": [
      "2014 Mean = 8.22272829423 with std 0.248263808907\n"
     ]
    }
   ],
   "source": [
    "freq_hold025pi = list()\n",
    "\n",
    "temp025pi = list()\n",
    "\n",
    "for i in pruned14:\n",
    "    for j in i:\n",
    "        temp025pi.append(j[2])\n",
    "\n",
    "for i in i14:\n",
    "    for j in i.fits:\n",
    "        if (j.phase_r-j.phase_l)/np.pi%2 in temp025pi:\n",
    "            freq_hold025pi.append(1/(j.freq/(2*np.pi)))\n",
    "            \n",
    "print('2014 Mean = {} with std {}'.format(np.mean(freq_hold025pi),np.std(freq_hold025pi)))"
   ]
  },
  {
   "cell_type": "code",
   "execution_count": 129,
   "metadata": {},
   "outputs": [
    {
     "data": {
      "text/plain": [
       "[8.3461755722123971,\n",
       " 8.508331801476487,\n",
       " 8.508331801476487,\n",
       " 8.4064294486416582,\n",
       " 7.8539816339744828,\n",
       " 8.2950375480788647,\n",
       " 7.8553423459662204,\n",
       " 8.2627765823206065,\n",
       " 7.9681479139207143]"
      ]
     },
     "execution_count": 129,
     "metadata": {},
     "output_type": "execute_result"
    }
   ],
   "source": [
    "freq_hold025pi"
   ]
  },
  {
   "cell_type": "code",
   "execution_count": 151,
   "metadata": {},
   "outputs": [],
   "source": [
    "delta = list()\n",
    "temp = pi[0][2]\n",
    "hold = pi[0][0]\n",
    "for i in pi[1:]:\n",
    "    if i[2] == temp:\n",
    "        d = round(i[0] - hold,4)\n",
    "        if d < 5:\n",
    "            delta.append(d)\n",
    "        hold = i[0]\n",
    "    else:\n",
    "        temp = i[2]\n",
    "        hold = i[0]"
   ]
  },
  {
   "cell_type": "code",
   "execution_count": 152,
   "metadata": {},
   "outputs": [
    {
     "data": {
      "text/plain": [
       "[0.221,\n",
       " 0.3932,\n",
       " 2.0079,\n",
       " 0.1581,\n",
       " 0.8892,\n",
       " 0.2377,\n",
       " 0.1728,\n",
       " 1.2393,\n",
       " 0.363,\n",
       " 1.5609,\n",
       " 0.213,\n",
       " 0.1709,\n",
       " 4.7231,\n",
       " 0.5218,\n",
       " 0.3555,\n",
       " 3.7248,\n",
       " 0.4054,\n",
       " 0.1681,\n",
       " 0.848,\n",
       " 0.7451,\n",
       " 0.5957,\n",
       " 0.2027,\n",
       " 0.7379,\n",
       " 0.915,\n",
       " 0.2637]"
      ]
     },
     "execution_count": 152,
     "metadata": {},
     "output_type": "execute_result"
    }
   ],
   "source": [
    "delta"
   ]
  },
  {
   "cell_type": "code",
   "execution_count": 148,
   "metadata": {},
   "outputs": [
    {
     "data": {
      "text/plain": [
       "array([[-14.4746    ,   5.5825    ,   1.02110047,   1.        ],\n",
       "       [ -7.651     ,   5.5825    ,   1.02110047,   1.        ],\n",
       "       [ -7.43      ,   5.5825    ,   1.02110047,   1.        ],\n",
       "       [-14.2383    ,   5.582     ,   0.99611736,   1.        ],\n",
       "       [-13.8221    ,   5.5805    ,   0.9816624 ,   1.        ],\n",
       "       [-13.9362    ,   5.5795    ,   0.95692798,   1.        ],\n",
       "       [-13.7099    ,   5.579     ,   0.94285897,   1.        ],\n",
       "       [-15.348325  ,   5.578     ,   0.91429435,   1.        ],\n",
       "       [-14.955145  ,   5.578     ,   0.91429435,   1.        ],\n",
       "       [-12.94725   ,   5.578     ,   0.91429435,   1.        ],\n",
       "       [-21.7499    ,   5.578     ,   0.94609601,   1.        ],\n",
       "       [-35.588805  ,   5.535     ,   0.94226665,   0.83892617],\n",
       "       [-35.00868   ,   5.5305    ,   0.91014898,   0.89013453],\n",
       "       [-34.85053   ,   5.5305    ,   0.91014898,   0.89013453],\n",
       "       [-33.961335  ,   5.5305    ,   0.91014898,   0.89013453],\n",
       "       [-33.723595  ,   5.5305    ,   0.91014898,   0.89013453],\n",
       "       [-33.550765  ,   5.5305    ,   0.91014898,   0.89013453],\n",
       "       [-32.311505  ,   5.5305    ,   0.91014898,   0.89013453],\n",
       "       [-31.948505  ,   5.5305    ,   0.91014898,   0.89013453],\n",
       "       [-35.9441    ,   5.53      ,   0.95087474,   0.8913738 ],\n",
       "       [-34.89967   ,   5.5255    ,   0.90145079,   0.92      ],\n",
       "       [-15.1785    ,   5.5815    ,   0.89620572,   1.        ],\n",
       "       [-14.168     ,   5.581     ,   0.99735913,   1.        ],\n",
       "       [-13.838535  ,   5.58      ,   1.0219144 ,   1.        ],\n",
       "       [-35.49629   ,   5.5345    ,   0.94090891,   0.84615385],\n",
       "       [-33.935365  ,   5.5345    ,   0.94090891,   0.84615385],\n",
       "       [-33.72232   ,   5.5345    ,   0.94090891,   0.84615385],\n",
       "       [-41.42871   ,   5.534     ,   0.9524676 ,   0.85202864],\n",
       "       [-41.257855  ,   5.534     ,   0.9524676 ,   0.85202864],\n",
       "       [-36.534725  ,   5.534     ,   0.9524676 ,   0.85202864],\n",
       "       [-36.01296   ,   5.534     ,   0.9524676 ,   0.85202864],\n",
       "       [-35.657465  ,   5.534     ,   0.9524676 ,   0.85202864],\n",
       "       [-35.21645   ,   5.5335    ,   0.98255864,   0.85204991],\n",
       "       [-35.672935  ,   5.533     ,   1.0434522 ,   0.91071429],\n",
       "       [-31.94816   ,   5.533     ,   1.0434522 ,   0.91071429],\n",
       "       [-31.542765  ,   5.533     ,   1.0434522 ,   0.91071429],\n",
       "       [-34.666045  ,   5.5325    ,   0.90381885,   0.93540052],\n",
       "       [-34.49799   ,   5.5325    ,   0.90381885,   0.93540052],\n",
       "       [-33.65      ,   5.5325    ,   0.90381885,   0.93540052],\n",
       "       [-34.804065  ,   5.532     ,   0.90299721,   0.90184049],\n",
       "       [-34.059005  ,   5.532     ,   0.90299721,   0.90184049],\n",
       "       [-33.463285  ,   5.532     ,   0.90299721,   0.90184049],\n",
       "       [-34.91161   ,   5.5315    ,   0.89867025,   0.89195402],\n",
       "       [-34.708945  ,   5.5315    ,   0.89867025,   0.89195402],\n",
       "       [-33.97106   ,   5.5315    ,   0.89867025,   0.89195402],\n",
       "       [-33.968275  ,   5.529     ,   0.89275068,   0.91603053],\n",
       "       [-34.073705  ,   5.5285    ,   0.99572698,   0.90948276],\n",
       "       [-34.9435    ,   5.528     ,   0.90209203,   0.95738636],\n",
       "       [-35.333515  ,   5.5275    ,   0.94678747,   0.94791667],\n",
       "       [-34.41847   ,   5.5275    ,   0.94678747,   0.94791667],\n",
       "       [-34.15476   ,   5.5275    ,   0.94678747,   0.94791667],\n",
       "       [-35.38952   ,   5.5265    ,   0.96946642,   0.95348837],\n",
       "       [-14.8683    ,   5.5845    ,   0.90058101,   1.        ]])"
      ]
     },
     "execution_count": 148,
     "metadata": {},
     "output_type": "execute_result"
    }
   ],
   "source": [
    "pi"
   ]
  },
  {
   "cell_type": "code",
   "execution_count": 163,
   "metadata": {},
   "outputs": [
    {
     "data": {
      "text/plain": [
       "(array([ 9.,  4.,  2.,  2.,  3.,  0.,  0.,  1.,  0.,  1.,  0.,  0.,  1.,\n",
       "         0.,  0.,  0.,  0.,  0.,  0.,  0.,  0.,  0.,  0.,  1.,  0.,  0.,\n",
       "         0.,  0.,  0.,  1.]),\n",
       " array([ 0.1581    ,  0.31026667,  0.46243333,  0.6146    ,  0.76676667,\n",
       "         0.91893333,  1.0711    ,  1.22326667,  1.37543333,  1.5276    ,\n",
       "         1.67976667,  1.83193333,  1.9841    ,  2.13626667,  2.28843333,\n",
       "         2.4406    ,  2.59276667,  2.74493333,  2.8971    ,  3.04926667,\n",
       "         3.20143333,  3.3536    ,  3.50576667,  3.65793333,  3.8101    ,\n",
       "         3.96226667,  4.11443333,  4.2666    ,  4.41876667,  4.57093333,\n",
       "         4.7231    ]),\n",
       " <a list of 30 Patch objects>)"
      ]
     },
     "execution_count": 163,
     "metadata": {},
     "output_type": "execute_result"
    }
   ],
   "source": [
    "plt.hist(delta,bins=30)"
   ]
  },
  {
   "cell_type": "code",
   "execution_count": 164,
   "metadata": {},
   "outputs": [
    {
     "data": {
      "text/plain": [
       "<matplotlib.text.Text at 0x2ad5dd68>"
      ]
     },
     "execution_count": 164,
     "metadata": {},
     "output_type": "execute_result"
    }
   ],
   "source": [
    "plt.xlabel('$\\Delta$V$_P$(mV)',size=18)"
   ]
  },
  {
   "cell_type": "code",
   "execution_count": 165,
   "metadata": {},
   "outputs": [
    {
     "data": {
      "text/plain": [
       "<matplotlib.text.Text at 0x2ab9f8d0>"
      ]
     },
     "execution_count": 165,
     "metadata": {},
     "output_type": "execute_result"
    }
   ],
   "source": [
    "plt.ylabel('Count',size=18)"
   ]
  },
  {
   "cell_type": "code",
   "execution_count": 167,
   "metadata": {},
   "outputs": [],
   "source": [
    "plt.savefig('Pi Flip Voltage Distribution',dpi=900)"
   ]
  },
  {
   "cell_type": "code",
   "execution_count": 166,
   "metadata": {},
   "outputs": [
    {
     "data": {
      "text/plain": [
       "(0, 10)"
      ]
     },
     "execution_count": 166,
     "metadata": {},
     "output_type": "execute_result"
    }
   ],
   "source": [
    "plt.ylim(0,10)"
   ]
  },
  {
   "cell_type": "code",
   "execution_count": 188,
   "metadata": {},
   "outputs": [],
   "source": [
    "out = plt.hist(delta,bins=30)"
   ]
  },
  {
   "cell_type": "code",
   "execution_count": 170,
   "metadata": {},
   "outputs": [
    {
     "data": {
      "text/plain": [
       "(array([ 2.36582694,  1.05147864,  0.52573932,  0.52573932,  0.78860898,\n",
       "         0.        ,  0.        ,  0.26286966,  0.        ,  0.26286966,\n",
       "         0.        ,  0.        ,  0.26286966,  0.        ,  0.        ,\n",
       "         0.        ,  0.        ,  0.        ,  0.        ,  0.        ,\n",
       "         0.        ,  0.        ,  0.        ,  0.26286966,  0.        ,\n",
       "         0.        ,  0.        ,  0.        ,  0.        ,  0.26286966]),\n",
       " array([ 0.1581    ,  0.31026667,  0.46243333,  0.6146    ,  0.76676667,\n",
       "         0.91893333,  1.0711    ,  1.22326667,  1.37543333,  1.5276    ,\n",
       "         1.67976667,  1.83193333,  1.9841    ,  2.13626667,  2.28843333,\n",
       "         2.4406    ,  2.59276667,  2.74493333,  2.8971    ,  3.04926667,\n",
       "         3.20143333,  3.3536    ,  3.50576667,  3.65793333,  3.8101    ,\n",
       "         3.96226667,  4.11443333,  4.2666    ,  4.41876667,  4.57093333,\n",
       "         4.7231    ]),\n",
       " <a list of 30 Patch objects>)"
      ]
     },
     "execution_count": 170,
     "metadata": {},
     "output_type": "execute_result"
    }
   ],
   "source": [
    "out"
   ]
  },
  {
   "cell_type": "code",
   "execution_count": 171,
   "metadata": {},
   "outputs": [
    {
     "data": {
      "text/plain": [
       "6.571741511500548"
      ]
     },
     "execution_count": 171,
     "metadata": {},
     "output_type": "execute_result"
    }
   ],
   "source": [
    "sum(out[0])"
   ]
  },
  {
   "cell_type": "code",
   "execution_count": 172,
   "metadata": {},
   "outputs": [
    {
     "data": {
      "text/plain": [
       "25"
      ]
     },
     "execution_count": 172,
     "metadata": {},
     "output_type": "execute_result"
    }
   ],
   "source": [
    "len(delta)"
   ]
  },
  {
   "cell_type": "code",
   "execution_count": 175,
   "metadata": {},
   "outputs": [
    {
     "data": {
      "text/plain": [
       "0.4"
      ]
     },
     "execution_count": 175,
     "metadata": {},
     "output_type": "execute_result"
    }
   ],
   "source": [
    "10.0/25"
   ]
  },
  {
   "cell_type": "code",
   "execution_count": 245,
   "metadata": {},
   "outputs": [
    {
     "data": {
      "text/plain": [
       "<Container object of 30 artists>"
      ]
     },
     "execution_count": 245,
     "metadata": {},
     "output_type": "execute_result"
    }
   ],
   "source": [
    "plt.bar(out[1][:-1],out[0]/25.0,width=out[1][1]-out[1][0])"
   ]
  },
  {
   "cell_type": "code",
   "execution_count": 194,
   "metadata": {},
   "outputs": [],
   "source": [
    "x = list()\n",
    "for i in range(len(out[1])-1):\n",
    "    x.append((out[1][i+1]+out[1][i])/2)"
   ]
  },
  {
   "cell_type": "code",
   "execution_count": 229,
   "metadata": {},
   "outputs": [
    {
     "data": {
      "text/plain": [
       "[<matplotlib.lines.Line2D at 0x3ffe3a20>]"
      ]
     },
     "execution_count": 229,
     "metadata": {},
     "output_type": "execute_result"
    }
   ],
   "source": [
    "plt.plot(x,out[0]/25.0)"
   ]
  },
  {
   "cell_type": "code",
   "execution_count": 197,
   "metadata": {},
   "outputs": [],
   "source": [
    "from scipy.optimize import curve_fit"
   ]
  },
  {
   "cell_type": "code",
   "execution_count": 212,
   "metadata": {},
   "outputs": [],
   "source": [
    "def func(x,a,r,c):\n",
    "    return a*np.exp(-(r*x)) + c"
   ]
  },
  {
   "cell_type": "code",
   "execution_count": 213,
   "metadata": {},
   "outputs": [],
   "source": [
    "popt, pcov = curve_fit(func, x, out[0]/25.0)"
   ]
  },
  {
   "cell_type": "code",
   "execution_count": 246,
   "metadata": {},
   "outputs": [
    {
     "data": {
      "text/plain": [
       "[<matplotlib.lines.Line2D at 0x2fde8ef0>]"
      ]
     },
     "execution_count": 246,
     "metadata": {},
     "output_type": "execute_result"
    }
   ],
   "source": [
    "plt.plot(np.array(x), func(np.array(x), *popt),'r-',label='fit: a=%5.3f, b=%5.3f, c=%5.3f' % tuple(popt))"
   ]
  },
  {
   "cell_type": "code",
   "execution_count": 209,
   "metadata": {},
   "outputs": [
    {
     "data": {
      "text/plain": [
       "array([-0.06944579,  0.00029206,  0.05314832,  0.0919658 ,  0.11916912,\n",
       "        0.13682195,  0.14667686,  0.15021848,  0.14870106,  0.14318095,\n",
       "        0.13454483,  0.12353403,  0.11076571,  0.09675102,  0.08191088,\n",
       "        0.0665895 ,  0.05106613,  0.03556507,  0.02026431,  0.00530293,\n",
       "       -0.00921251, -0.02320259, -0.03661038, -0.0493975 , -0.06154074,\n",
       "       -0.07302926, -0.08386214, -0.09404639, -0.10359519, -0.11252653])"
      ]
     },
     "execution_count": 209,
     "metadata": {},
     "output_type": "execute_result"
    }
   ],
   "source": [
    "func(np.array(x), *popt)"
   ]
  },
  {
   "cell_type": "code",
   "execution_count": 247,
   "metadata": {},
   "outputs": [
    {
     "data": {
      "text/plain": [
       "<matplotlib.legend.Legend at 0x2f5328d0>"
      ]
     },
     "execution_count": 247,
     "metadata": {},
     "output_type": "execute_result"
    }
   ],
   "source": [
    "plt.xlabel('$\\Delta$V$_P$(mV)',size=18)\n",
    "plt.ylabel('Probability of Event',size=18)\n",
    "plt.legend()"
   ]
  },
  {
   "cell_type": "code",
   "execution_count": 248,
   "metadata": {},
   "outputs": [
    {
     "data": {
      "text/plain": [
       "<matplotlib.text.Text at 0x2fdfb518>"
      ]
     },
     "execution_count": 248,
     "metadata": {},
     "output_type": "execute_result"
    }
   ],
   "source": [
    "plt.text(2.4, 0.3, 'Fitting a*exp(-b*x)+c', fontsize=12)\n",
    "plt.text(2.4, 0.24, 'Time Constant: {}mV$^-$$^1$'.format(round(1.0/popt[1],3), fontsize=12))"
   ]
  },
  {
   "cell_type": "code",
   "execution_count": 237,
   "metadata": {},
   "outputs": [
    {
     "data": {
      "text/plain": [
       "array([ 0.87426956,  4.08270065,  0.00912477])"
      ]
     },
     "execution_count": 237,
     "metadata": {},
     "output_type": "execute_result"
    }
   ],
   "source": [
    "popt"
   ]
  },
  {
   "cell_type": "code",
   "execution_count": 238,
   "metadata": {},
   "outputs": [
    {
     "data": {
      "text/plain": [
       "0.24493591015818025"
      ]
     },
     "execution_count": 238,
     "metadata": {},
     "output_type": "execute_result"
    }
   ],
   "source": [
    "1.0/popt[1]"
   ]
  },
  {
   "cell_type": "code",
   "execution_count": 249,
   "metadata": {},
   "outputs": [],
   "source": [
    "plt.savefig('Multi Phase Slip Events with Fit',dpi=900)"
   ]
  },
  {
   "cell_type": "code",
   "execution_count": null,
   "metadata": {},
   "outputs": [],
   "source": []
  }
 ],
 "metadata": {
  "kernelspec": {
   "display_name": "Python 2",
   "language": "python",
   "name": "python2"
  },
  "language_info": {
   "codemirror_mode": {
    "name": "ipython",
    "version": 2
   },
   "file_extension": ".py",
   "mimetype": "text/x-python",
   "name": "python",
   "nbconvert_exporter": "python",
   "pygments_lexer": "ipython2",
   "version": "2.7.10"
  }
 },
 "nbformat": 4,
 "nbformat_minor": 2
}
