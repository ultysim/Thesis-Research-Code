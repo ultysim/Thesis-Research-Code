{
 "cells": [
  {
   "cell_type": "code",
   "execution_count": 1,
   "metadata": {},
   "outputs": [
    {
     "name": "stdout",
     "output_type": "stream",
     "text": [
      "Using matplotlib backend: TkAgg\n"
     ]
    }
   ],
   "source": [
    "import numpy as np\n",
    "import matplotlib as mpl\n",
    "from matplotlib import pyplot as plt\n",
    "import Analysis\n",
    "import pylab\n",
    "import regression_cv as rcv\n",
    "import ipywidgets\n",
    "import FitRoutine2 as fr\n",
    "import itertools\n",
    "%matplotlib "
   ]
  },
  {
   "cell_type": "code",
   "execution_count": 2,
   "metadata": {},
   "outputs": [
    {
     "name": "stdout",
     "output_type": "stream",
     "text": [
      "Using matplotlib backend: TkAgg\n"
     ]
    }
   ],
   "source": [
    "%matplotlib "
   ]
  },
  {
   "cell_type": "code",
   "execution_count": 3,
   "metadata": {},
   "outputs": [],
   "source": [
    "data_hold = list()"
   ]
  },
  {
   "cell_type": "code",
   "execution_count": 5,
   "metadata": {},
   "outputs": [],
   "source": [
    "height = 11.4\n",
    "amp = 0.3\n",
    "period = 9\n",
    "\n",
    "phase_selection = [0.66]\n",
    "\n",
    "num_slips = 1\n",
    "\n",
    "noise_amp = 0.03\n",
    "random_seed = 82\n",
    "\n",
    "\n",
    "freq = (2 * np.pi)/period\n",
    "x = np.linspace(-30,-5,10000)\n",
    "p = list()\n",
    "hold = 0\n",
    "phase = list()\n",
    "phase_hold = 0\n",
    "is_phase = False\n",
    "\n",
    "for i in range(len(x)):\n",
    "    if np.random.random()<float(num_slips)/len(x):\n",
    "        #hold = (hold + 1)%2\n",
    "        if is_phase:\n",
    "            phase_hold = 0\n",
    "            is_phase = False\n",
    "        else:\n",
    "            phase_hold = phase_selection[np.random.randint(0,len(phase_selection))]\n",
    "            is_phase = True\n",
    "    #p.append(hold)\n",
    "    phase.append(phase_hold)\n",
    "p = np.array(phase)*np.pi #np.array(p)\n",
    "\n",
    "y =  height + amp * np.sin(freq * x + p) + noise_amp*np.random.normal(size=len(x))"
   ]
  },
  {
   "cell_type": "code",
   "execution_count": 4,
   "metadata": {},
   "outputs": [],
   "source": [
    "plt.rc('text', usetex=True) \n",
    "\n",
    "# Helvetica \n",
    "# set serif, too. Otherwise setting to times and then \n",
    "# Helvetica causes an error. \n",
    "font = {'family':'sans-serif','sans-serif':['Helvetica'], \n",
    "        'serif':['cm10']} \n",
    "preamble  = r\"\"\" \n",
    "               \\usepackage{color} \n",
    "               \\usepackage[tx]{sfmath} \n",
    "               \\usepackage{helvet} \n",
    "            \"\"\" \n",
    "\n",
    "\n",
    "# Unicode for Tex \n",
    "#preamble =  r\"\"\"\\usepackage[utf8]{inputenc}\"\"\" + preamble \n",
    "# inputenc should be set automatically \n",
    "plt.rcParams['text.latex.unicode']=True \n",
    "\n",
    "#print font, preamble \n",
    "plt.rc('font',**font) \n",
    "plt.rcParams['text.latex.preamble'] = preamble\n",
    "mpl.rcParams.update({'font.size': 11})"
   ]
  },
  {
   "cell_type": "code",
   "execution_count": 6,
   "metadata": {},
   "outputs": [
    {
     "data": {
      "text/plain": [
       "[<matplotlib.lines.Line2D at 0x20c962e8>]"
      ]
     },
     "execution_count": 6,
     "metadata": {},
     "output_type": "execute_result"
    }
   ],
   "source": [
    "plt.figure()\n",
    "plt.plot(x,y)"
   ]
  },
  {
   "cell_type": "code",
   "execution_count": 14,
   "metadata": {},
   "outputs": [
    {
     "data": {
      "text/plain": [
       "[<matplotlib.lines.Line2D at 0x25bed6d8>]"
      ]
     },
     "execution_count": 14,
     "metadata": {},
     "output_type": "execute_result"
    }
   ],
   "source": [
    "x_fit = np.linspace(-30,-24,1000)\n",
    "y_fit =  height + amp * np.sin(freq * x_fit)\n",
    "plt.plot(x_fit,y_fit,'k',lw=4)\n",
    "y_fit =  height + amp * np.sin(freq * x_fit+0.66*np.pi)\n",
    "plt.plot(x_fit,y_fit,'r--',lw=4)\n",
    "\n",
    "\n",
    "\n",
    "\n",
    "x_fit = np.linspace(-24,-14.1734,1000)\n",
    "y_fit =  height + amp * np.sin(freq * x_fit)\n",
    "plt.plot(x_fit,y_fit,'k--',lw=4)\n",
    "y_fit =  height + amp * np.sin(freq * x_fit+0.66*np.pi)\n",
    "plt.plot(x_fit,y_fit,'r',lw=4)\n",
    "\n"
   ]
  },
  {
   "cell_type": "code",
   "execution_count": 19,
   "metadata": {},
   "outputs": [
    {
     "data": {
      "text/plain": [
       "<matplotlib.lines.Line2D at 0x24ee7f98>"
      ]
     },
     "execution_count": 19,
     "metadata": {},
     "output_type": "execute_result"
    }
   ],
   "source": [
    "plt.xlabel('$V_P(mV)$',size=18)\n",
    "plt.ylabel('$R_D(k\\Omega)$',size=18)\n",
    "\n",
    "plt.xlim(-30,-18)\n",
    "plt.ylim(11,11.8)\n",
    "\n",
    "plt.xticks([-27,-23,-19])\n",
    "plt.yticks([11.1,11.4,11.7])\n",
    "\n",
    "plt.axvline(-24,lw=3,c='k')"
   ]
  },
  {
   "cell_type": "code",
   "execution_count": 20,
   "metadata": {},
   "outputs": [],
   "source": [
    "plt.savefig('PhaseSlipExample',dpi=300)"
   ]
  },
  {
   "cell_type": "code",
   "execution_count": 419,
   "metadata": {},
   "outputs": [],
   "source": [
    "#Adding large noise spikes:\n",
    "#Upper bounds on params\n",
    "large_noise_length = 10\n",
    "large_noise_events = 100\n",
    "large_noise_amp = 0.2\n",
    "\n",
    "noise_y = np.array(y)\n",
    "\n",
    "i = 0\n",
    "while i < len(noise_y):\n",
    "    if np.random.random()<float(large_noise_events)/len(noise_y):\n",
    "        amp = np.random.normal()*large_noise_amp\n",
    "        for j in range(np.random.randint(0,large_noise_length)):\n",
    "            noise_y[i+j] += amp\n",
    "        i += j\n",
    "    else:\n",
    "        i += 1\n"
   ]
  },
  {
   "cell_type": "code",
   "execution_count": 420,
   "metadata": {},
   "outputs": [
    {
     "data": {
      "text/plain": [
       "[<matplotlib.lines.Line2D at 0x984fedd8>]"
      ]
     },
     "execution_count": 420,
     "metadata": {},
     "output_type": "execute_result"
    }
   ],
   "source": [
    "plt.figure()\n",
    "plt.plot(x,noise_y)"
   ]
  },
  {
   "cell_type": "code",
   "execution_count": 421,
   "metadata": {},
   "outputs": [],
   "source": [
    "sweep = Analysis.Sweep([x,noise_y],1.0,[])"
   ]
  },
  {
   "cell_type": "code",
   "execution_count": 422,
   "metadata": {},
   "outputs": [],
   "source": [
    "data_hold.append(sweep)"
   ]
  },
  {
   "cell_type": "code",
   "execution_count": 423,
   "metadata": {},
   "outputs": [
    {
     "data": {
      "text/plain": [
       "7"
      ]
     },
     "execution_count": 423,
     "metadata": {},
     "output_type": "execute_result"
    }
   ],
   "source": [
    "len(data_hold)"
   ]
  },
  {
   "cell_type": "code",
   "execution_count": 424,
   "metadata": {},
   "outputs": [],
   "source": [
    "np.save('Fake Data Hold Multi Phase',data_hold)"
   ]
  },
  {
   "cell_type": "code",
   "execution_count": 8,
   "metadata": {},
   "outputs": [
    {
     "name": "stdout",
     "output_type": "stream",
     "text": [
      "Running sweep 0\n",
      "Running sweep 1\n",
      "<type 'exceptions.KeyboardInterrupt'>\n",
      "Running sweep 2\n",
      "Running sweep 3\n",
      "Running sweep 4\n",
      "Running sweep 5\n",
      "Running sweep 6\n"
     ]
    }
   ],
   "source": [
    "reg3 = rcv.run_regression(data_hold, rcv.regression_CV, d = 3, residual = rcv.residual_new, c = 50, eps = 0.01, x_scale = [10.0,0.1,0.1,1.0,1.0,10**-3], loss = 'huber')\n",
    "#reg = rcv.run_regression(data_hold, rcv.regression_CV, d = 5, residual = rcv.residual_new, c = 50, eps = 0.01, x_scale = [10.0,0.1,0.1,1.0,1.0,10**-3], loss = 'huber')"
   ]
  },
  {
   "cell_type": "code",
   "execution_count": 6,
   "metadata": {},
   "outputs": [],
   "source": [
    "def search(seq, t):  \n",
    "    min = 0\n",
    "    max = len(seq) - 1\n",
    "    while True:        \n",
    "        m = (min + max) // 2\n",
    "        if max <= min:\n",
    "            if np.abs(t-seq[m]) < np.abs(t-seq[m-1]):          \n",
    "                return m\n",
    "            else:\n",
    "                return m-1        \n",
    "        if seq[m] < t:\n",
    "            min = m + 1\n",
    "        elif seq[m] > t:\n",
    "            max = m - 1\n",
    "        else:\n",
    "            return m\n",
    "\n",
    "\n",
    "def plot(data,result,full=False,if_data=True):\n",
    "    x_min = result['x_min']\n",
    "    x_max = result['x_max']\n",
    "    if full:\n",
    "        x = data.x\n",
    "        y = data.y\n",
    "    else:\n",
    "        i_min = search(data.x,x_min)\n",
    "        i_max = search(data.x,x_max)+1\n",
    "\n",
    "        x = data.x[i_min:i_max]\n",
    "        y = data.y[i_min:i_max]\n",
    "\n",
    "    v0 = (x_min+x_max)/2.0\n",
    "\n",
    "    params = result['result'].x\n",
    "    model_l = params[0] + params[1] * np.sin(x*params[2] + (params[3]+params[4]*np.pi)) + params[5] * (x - v0)\n",
    "    model_r = params[0] + params[1] * np.sin(x*params[2] + params[3]) + params[5] * (x - v0)\n",
    "    if if_data:\n",
    "        plt.plot(x,y)\n",
    "    plt.plot(x,model_r,c='r')\n",
    "    plt.plot(x,model_l,c='k')"
   ]
  },
  {
   "cell_type": "code",
   "execution_count": 4,
   "metadata": {},
   "outputs": [],
   "source": [
    "reg = np.load('Fake Data Reg Multi Phase.npy')\n",
    "data_hold = np.load('Fake Data Hold Multi Phase.npy')"
   ]
  },
  {
   "cell_type": "code",
   "execution_count": 51,
   "metadata": {},
   "outputs": [],
   "source": [
    "val_acc = 0.6\n",
    "filenum = 1\n",
    "\n",
    "\n",
    "count = 0\n",
    "for i in reg3[filenum]:\n",
    "    if i['result'] is not None:\n",
    "        if i['val_acc']>val_acc and 0.17 < i['result'].x[4] < 1.80:\n",
    "            plt.figure()\n",
    "            plot(data_hold[filenum],i)\n",
    "            plt.title(str(count) + ', '+ str(i['ci_deltaphi']) + ', '+ str(i['result'].x[4])+ ', '+ str(i['val_acc']))\n",
    "    count += 1"
   ]
  },
  {
   "cell_type": "code",
   "execution_count": 12,
   "metadata": {},
   "outputs": [],
   "source": [
    "bf_hold = list()"
   ]
  },
  {
   "cell_type": "code",
   "execution_count": 28,
   "metadata": {},
   "outputs": [],
   "source": [
    "n = [47,27,11]\n",
    "temp = list()\n",
    "for i in n:\n",
    "    temp.append(reg3[filenum][i])\n",
    "bf_hold.append(temp)"
   ]
  },
  {
   "cell_type": "code",
   "execution_count": 29,
   "metadata": {},
   "outputs": [
    {
     "data": {
      "text/plain": [
       "7"
      ]
     },
     "execution_count": 29,
     "metadata": {},
     "output_type": "execute_result"
    }
   ],
   "source": [
    "len(bf_hold)"
   ]
  },
  {
   "cell_type": "code",
   "execution_count": 224,
   "metadata": {},
   "outputs": [],
   "source": [
    "np.save('Fake Data Reg3 Multi Phase',reg3)"
   ]
  },
  {
   "cell_type": "code",
   "execution_count": null,
   "metadata": {},
   "outputs": [],
   "source": [
    "val_acc = 0.50\n",
    "filenum = 1\n",
    "hold = list()\n",
    "count = 0\n",
    "for i in reg[filenum]:\n",
    "    if i['result'] is not None:\n",
    "        if i['val_acc']>val_acc and 0.16 < i['result'].x[4] < 1.80:\n",
    "            if i['result'].x[4] > 1.0:\n",
    "                hold.append(2-i['result'].x[4])\n",
    "            else:\n",
    "                hold.append(i['result'].x[4])\n",
    "    count += 1\n",
    "print(np.mean(hold))"
   ]
  },
  {
   "cell_type": "code",
   "execution_count": null,
   "metadata": {},
   "outputs": [],
   "source": [
    "len(bf_hold)"
   ]
  },
  {
   "cell_type": "code",
   "execution_count": 30,
   "metadata": {},
   "outputs": [],
   "source": [
    "def csf(scipy_fit):\n",
    "    x = scipy_fit['result'].x\n",
    "    out = list()\n",
    "    out.append(x[2])\n",
    "    out.append(x[1])\n",
    "    out.append(x[3]+x[4]*np.pi)\n",
    "    out.append(x[3])\n",
    "    out.append(x[0])\n",
    "    out.append(x[5])\n",
    "    out.append(scipy_fit['val_acc'])\n",
    "    out.append(scipy_fit['x_min'])\n",
    "    out.append(scipy_fit['x_max'])\n",
    "    phi = x[4]\n",
    "    out.append(phi)\n",
    "    out.append(scipy_fit['ci_deltaphi'])\n",
    "    out.append((scipy_fit['x_min'] + scipy_fit['x_max'])/2)\n",
    "    return np.array(out)"
   ]
  },
  {
   "cell_type": "code",
   "execution_count": 31,
   "metadata": {},
   "outputs": [],
   "source": [
    "fit_hold = list()\n",
    "for i in bf_hold:\n",
    "    temp = list()\n",
    "    for j in i:\n",
    "        temp.append(csf(j))\n",
    "    fit_hold.append(temp)"
   ]
  },
  {
   "cell_type": "code",
   "execution_count": 32,
   "metadata": {},
   "outputs": [
    {
     "data": {
      "text/plain": [
       "7"
      ]
     },
     "execution_count": 32,
     "metadata": {},
     "output_type": "execute_result"
    }
   ],
   "source": [
    "len(fit_hold)"
   ]
  },
  {
   "cell_type": "code",
   "execution_count": 33,
   "metadata": {},
   "outputs": [],
   "source": [
    "np.save('Fake Data BF Multi Phase', fit_hold)"
   ]
  },
  {
   "cell_type": "code",
   "execution_count": 123,
   "metadata": {},
   "outputs": [],
   "source": [
    "fake = Analysis.Run(np.load(\"Fake Data Multi Phase.npy\"), np.load(\"Fake Data Multi Phase.npy\"), np.ones(10),np.load('Fake Data BF Multi Phase.npy'))"
   ]
  },
  {
   "cell_type": "code",
   "execution_count": 140,
   "metadata": {},
   "outputs": [],
   "source": [
    "se = list()"
   ]
  },
  {
   "cell_type": "code",
   "execution_count": 141,
   "metadata": {},
   "outputs": [],
   "source": [
    "mom = 5\n",
    "mindiff = 0.03\n",
    "dV = 0.1\n",
    "minsep = 1.0"
   ]
  },
  {
   "cell_type": "code",
   "execution_count": 281,
   "metadata": {},
   "outputs": [],
   "source": [
    "filenum = 0"
   ]
  },
  {
   "cell_type": "code",
   "execution_count": 282,
   "metadata": {},
   "outputs": [],
   "source": [
    "plt.figure()\n",
    "fake.prune_data[filenum].plot()\n",
    "for i in fake.prune_data[filenum].fits:\n",
    "    i.plot(False)"
   ]
  },
  {
   "cell_type": "code",
   "execution_count": 283,
   "metadata": {},
   "outputs": [
    {
     "data": {
      "text/plain": [
       "<matplotlib.text.Text at 0x3a20f320>"
      ]
     },
     "execution_count": 283,
     "metadata": {},
     "output_type": "execute_result"
    }
   ],
   "source": [
    "plt.xlabel('V$_P$ (mV)')\n",
    "plt.ylabel('R$_D$ (k$\\Omega$)')"
   ]
  },
  {
   "cell_type": "code",
   "execution_count": 275,
   "metadata": {},
   "outputs": [],
   "source": [
    "plt.rc('font', size=12)    "
   ]
  },
  {
   "cell_type": "code",
   "execution_count": 284,
   "metadata": {},
   "outputs": [],
   "source": [
    "plt.savefig('Fake Data Multi Phase Full Sweep_1',dpi=1000)"
   ]
  },
  {
   "cell_type": "code",
   "execution_count": 285,
   "metadata": {},
   "outputs": [],
   "source": [
    "plt.clf()"
   ]
  },
  {
   "cell_type": "code",
   "execution_count": 233,
   "metadata": {},
   "outputs": [],
   "source": [
    "x = fake.prune_data[filenum].x\n",
    "y = fake.prune_data[filenum].y\n",
    "fit_hold = fake.prune_data[filenum].fits"
   ]
  },
  {
   "cell_type": "code",
   "execution_count": 234,
   "metadata": {},
   "outputs": [],
   "source": [
    "temp = list(fr.countEdge(x,y,fit_hold,1,dV=dV,momentum=mom,minsep=minsep,mindiff = mindiff))"
   ]
  },
  {
   "cell_type": "code",
   "execution_count": 235,
   "metadata": {},
   "outputs": [
    {
     "data": {
      "text/plain": [
       "[array([-9.61921192,  1.        ,  0.94763189,  0.79520697]),\n",
       " array([-8.87663766,  1.        ,  0.94763189,  0.79520697]),\n",
       " array([-5.78882888,  1.        ,  0.94763189,  0.79520697]),\n",
       " array([-11.04435444,   1.        ,   1.22291418,   0.75913978]),\n",
       " array([-17.6750175 ,   1.        ,   1.26853338,   0.81136364]),\n",
       " array([-17.4349935 ,   1.        ,   1.26853338,   0.81136364]),\n",
       " array([-14.90474047,   1.        ,   1.26853338,   0.81136364]),\n",
       " array([-14.16966697,   1.        ,   1.26853338,   0.81136364]),\n",
       " array([-19.81523152,   1.        ,   0.74177097,   0.81086957]),\n",
       " array([-27.11846185,   1.        ,   1.78879941,   0.8091954 ]),\n",
       " array([-23.64311431,   1.        ,   1.78879941,   0.8091954 ])]"
      ]
     },
     "execution_count": 235,
     "metadata": {},
     "output_type": "execute_result"
    }
   ],
   "source": [
    "temp"
   ]
  },
  {
   "cell_type": "code",
   "execution_count": 200,
   "metadata": {},
   "outputs": [],
   "source": [
    "plt.figure()\n",
    "plt.plot(x,y)\n",
    "for i in temp:\n",
    "    j = i[0]\n",
    "    index = rcv.search(x,j)\n",
    "    plt.plot(x[index],y[index],'y*',markersize=20)"
   ]
  },
  {
   "cell_type": "code",
   "execution_count": 201,
   "metadata": {},
   "outputs": [],
   "source": [
    "se.append(np.array(temp))"
   ]
  },
  {
   "cell_type": "code",
   "execution_count": 202,
   "metadata": {},
   "outputs": [
    {
     "data": {
      "text/plain": [
       "7"
      ]
     },
     "execution_count": 202,
     "metadata": {},
     "output_type": "execute_result"
    }
   ],
   "source": [
    "len(se)"
   ]
  },
  {
   "cell_type": "code",
   "execution_count": 203,
   "metadata": {},
   "outputs": [],
   "source": [
    "np.save('Fake Data SE Multi Phase', se)"
   ]
  },
  {
   "cell_type": "code",
   "execution_count": 183,
   "metadata": {},
   "outputs": [],
   "source": [
    "del temp[0]"
   ]
  },
  {
   "cell_type": "code",
   "execution_count": 43,
   "metadata": {},
   "outputs": [],
   "source": [
    "c = 0\n",
    "for i in fe:\n",
    "    if len(i)>0:\n",
    "        plt.figure()\n",
    "        plt.plot(x,y)\n",
    "        fit_hold[c].plot(False)\n",
    "        for j in i:\n",
    "            index = rcv.search(x,j[3])\n",
    "            plt.plot(x[index],y[index],'c*',markersize=20)\n",
    "            index = rcv.search(x,j[2])\n",
    "            plt.plot(x[index],y[index],'y*',markersize=20)\n",
    "    c += 1"
   ]
  },
  {
   "cell_type": "code",
   "execution_count": 18,
   "metadata": {},
   "outputs": [],
   "source": [
    "sof = fr.smoothOnFit(x,y,fit_hold,mindiff=0.03)"
   ]
  },
  {
   "cell_type": "code",
   "execution_count": 27,
   "metadata": {},
   "outputs": [],
   "source": [
    "for i in sof:\n",
    "    plt.figure()\n",
    "    plt.plot(i[:,2],i[:,1])"
   ]
  },
  {
   "cell_type": "code",
   "execution_count": 22,
   "metadata": {},
   "outputs": [],
   "source": [
    "pof = fr.pruneOnFit(x,y,fit_hold,mindiff=0.02)"
   ]
  },
  {
   "cell_type": "code",
   "execution_count": 23,
   "metadata": {},
   "outputs": [],
   "source": [
    "for i in pof:\n",
    "    plt.figure()\n",
    "    plt.plot(i[:,2],i[:,1])"
   ]
  },
  {
   "cell_type": "code",
   "execution_count": 16,
   "metadata": {},
   "outputs": [
    {
     "data": {
      "text/plain": [
       "array([ -1.        ,   0.        , -27.44974497,   0.        ])"
      ]
     },
     "execution_count": 16,
     "metadata": {},
     "output_type": "execute_result"
    }
   ],
   "source": [
    "sof[0][1000]"
   ]
  },
  {
   "cell_type": "code",
   "execution_count": 55,
   "metadata": {},
   "outputs": [],
   "source": [
    "plt.figure()\n",
    "plt.plot(x,y)\n",
    "fs = fr.finalSlips(x,y,fit_hold,dV=0.09,mindiff=0.04)\n",
    "for j in fs:\n",
    "    for i in j:\n",
    "        index = rcv.search(x,(i[2]+i[3])/2)\n",
    "        plt.plot(x[index],y[index],'c*',markersize=20)\n"
   ]
  },
  {
   "cell_type": "code",
   "execution_count": 57,
   "metadata": {},
   "outputs": [
    {
     "data": {
      "text/plain": [
       "array([ array([[  1.0197071 ,   2.        , -22.25672567, -22.25422542,\n",
       "          0.80687831]]),\n",
       "       array([[  0.98482398,   1.        , -20.88158816, -20.87908791,\n",
       "          0.81201044],\n",
       "       [  0.98482398,   2.        , -20.3540354 , -20.35153515,\n",
       "          0.81201044],\n",
       "       [  0.98482398,   1.        , -17.19621962, -17.19371937,\n",
       "          0.81201044]]),\n",
       "       array([[ 1.03834573,  2.        , -8.73537354, -8.73287329,  0.77950713]])], dtype=object)"
      ]
     },
     "execution_count": 57,
     "metadata": {},
     "output_type": "execute_result"
    }
   ],
   "source": [
    "fs"
   ]
  },
  {
   "cell_type": "code",
   "execution_count": null,
   "metadata": {},
   "outputs": [],
   "source": [
    "hold = list()\n",
    "dV = 0.1\n",
    "n = 0\n",
    "for i in e:\n",
    "    for j in range(len(i)-1):\n",
    "        if i[j][1] != i[j+1][1] and i[j+1][4] > dV and i[j][4] > dV:\n",
    "            hold.append([(i[j][3]+i[j+1][2])/2,i[j][0],i[j][5],n])\n",
    "            n+=1"
   ]
  },
  {
   "cell_type": "code",
   "execution_count": null,
   "metadata": {},
   "outputs": [],
   "source": [
    "plt.figure()\n",
    "plt.plot(x,y)\n",
    "for j in hold:\n",
    "    index = rcv.search(x,j[0])\n",
    "    plt.plot(x[index],y[index],'y*',markersize=20)"
   ]
  },
  {
   "cell_type": "code",
   "execution_count": 56,
   "metadata": {},
   "outputs": [],
   "source": [
    "all_slips = list()\n",
    "dV = 0.09\n",
    "for filenum in range(len(fake.prune_data)):\n",
    "    x = fake.prune_data[filenum].x\n",
    "    y = fake.prune_data[filenum].y\n",
    "    fit_hold = fake.prune_data[filenum].fits\n",
    "    e = fr.findEdge(x,y,fit_hold,dV=dV, mindiff=0.10)\n",
    "    hold = list()\n",
    "    n = 0\n",
    "    for i in e:\n",
    "        for j in range(len(i)-1):\n",
    "            if i[j][1] != i[j+1][1] and i[j+1][4] > dV and i[j][4] > dV:\n",
    "                hold.append([(i[j][3]+i[j+1][2])/2,i[j][0],i[j][5],n])\n",
    "                n+=1\n",
    "    del_hold = list()\n",
    "    for a,b in itertools.combinations(hold, 2):\n",
    "        if abs(a[0]-b[0]) < dV:\n",
    "            if a[2]>b[2]:\n",
    "                del_hold.append(b[3])\n",
    "            else:\n",
    "                del_hold.append(a[3])\n",
    "    del_hold = sorted(set(del_hold))\n",
    "    for i in reversed(del_hold):\n",
    "        del hold[i]\n",
    "    all_slips.append(hold)\n",
    "    plt.figure()\n",
    "    plt.plot(x,y)\n",
    "    for j in hold:\n",
    "        index = rcv.search(x,j[0])\n",
    "        plt.plot(x[index],y[index],'y*',markersize=20)"
   ]
  },
  {
   "cell_type": "code",
   "execution_count": null,
   "metadata": {},
   "outputs": [],
   "source": []
  },
  {
   "cell_type": "code",
   "execution_count": null,
   "metadata": {},
   "outputs": [],
   "source": [
    "for filenum in range(len(fake.prune_data)):\n",
    "    plt.figure()\n",
    "    fake.prune_data[filenum].plot()\n",
    "    x = fake.prune_data[filenum].x\n",
    "    y = fake.prune_data[filenum].y\n",
    "    for j in all_slips[filenum]:\n",
    "        index = rcv.search(x,j[0])\n",
    "        plt.plot(x[index],y[index],'y*',markersize=20)\n"
   ]
  },
  {
   "cell_type": "code",
   "execution_count": 74,
   "metadata": {},
   "outputs": [],
   "source": [
    "np.save('Fake Slips Noise Spikes',all_slips)"
   ]
  },
  {
   "cell_type": "code",
   "execution_count": 134,
   "metadata": {},
   "outputs": [
    {
     "ename": "NameError",
     "evalue": "name 'all_slips' is not defined",
     "output_type": "error",
     "traceback": [
      "\u001b[1;31m---------------------------------------------------------------------------\u001b[0m",
      "\u001b[1;31mNameError\u001b[0m                                 Traceback (most recent call last)",
      "\u001b[1;32m<ipython-input-134-f2813c9cd5c3>\u001b[0m in \u001b[0;36m<module>\u001b[1;34m()\u001b[0m\n\u001b[0;32m     30\u001b[0m     \u001b[0my\u001b[0m \u001b[1;33m=\u001b[0m \u001b[0mfake\u001b[0m\u001b[1;33m.\u001b[0m\u001b[0mprune_data\u001b[0m\u001b[1;33m[\u001b[0m\u001b[0mn\u001b[0m\u001b[1;33m]\u001b[0m\u001b[1;33m.\u001b[0m\u001b[0my\u001b[0m\u001b[1;33m\u001b[0m\u001b[0m\n\u001b[0;32m     31\u001b[0m     \u001b[0mfake\u001b[0m\u001b[1;33m.\u001b[0m\u001b[0mprune_data\u001b[0m\u001b[1;33m[\u001b[0m\u001b[0mn\u001b[0m\u001b[1;33m]\u001b[0m\u001b[1;33m.\u001b[0m\u001b[0mplot\u001b[0m\u001b[1;33m(\u001b[0m\u001b[1;33m)\u001b[0m\u001b[1;33m\u001b[0m\u001b[0m\n\u001b[1;32m---> 32\u001b[1;33m     \u001b[1;32mfor\u001b[0m \u001b[0mj\u001b[0m \u001b[1;32min\u001b[0m \u001b[0mall_slips\u001b[0m\u001b[1;33m[\u001b[0m\u001b[0mn\u001b[0m\u001b[1;33m]\u001b[0m\u001b[1;33m:\u001b[0m\u001b[1;33m\u001b[0m\u001b[0m\n\u001b[0m\u001b[0;32m     33\u001b[0m         \u001b[0mindex\u001b[0m \u001b[1;33m=\u001b[0m \u001b[0mrcv\u001b[0m\u001b[1;33m.\u001b[0m\u001b[0msearch\u001b[0m\u001b[1;33m(\u001b[0m\u001b[0mx\u001b[0m\u001b[1;33m,\u001b[0m\u001b[0mj\u001b[0m\u001b[1;33m[\u001b[0m\u001b[1;36m0\u001b[0m\u001b[1;33m]\u001b[0m\u001b[1;33m)\u001b[0m\u001b[1;33m\u001b[0m\u001b[0m\n\u001b[0;32m     34\u001b[0m         \u001b[0mplt\u001b[0m\u001b[1;33m.\u001b[0m\u001b[0mplot\u001b[0m\u001b[1;33m(\u001b[0m\u001b[0mx\u001b[0m\u001b[1;33m[\u001b[0m\u001b[0mindex\u001b[0m\u001b[1;33m]\u001b[0m\u001b[1;33m,\u001b[0m\u001b[0my\u001b[0m\u001b[1;33m[\u001b[0m\u001b[0mindex\u001b[0m\u001b[1;33m]\u001b[0m\u001b[1;33m,\u001b[0m\u001b[1;34m'y*'\u001b[0m\u001b[1;33m,\u001b[0m\u001b[0mmarkersize\u001b[0m\u001b[1;33m=\u001b[0m\u001b[1;36m7\u001b[0m\u001b[1;33m)\u001b[0m\u001b[1;33m\u001b[0m\u001b[0m\n",
      "\u001b[1;31mNameError\u001b[0m: name 'all_slips' is not defined"
     ]
    }
   ],
   "source": [
    "L = len(fake.prune_data)\n",
    "m = 0\n",
    "for i in fake.prune_data:\n",
    "    if len(i.fits) > m:\n",
    "        m = len(i.fits)\n",
    "\n",
    "        \n",
    "m += 2 # one for fits, one for hist\n",
    "total = L*m\n",
    "c = 1\n",
    "n = 0\n",
    "\n",
    "phase_hold = [0.25,0.33,0.66,1,1.25]\n",
    "\n",
    "plt.rc('font', size=6)    \n",
    "bins = np.arange(0.0,2.03,0.03)\n",
    "fig = plt.figure(figsize=(20,40))\n",
    "for i in fake.prune_data:\n",
    "    temp = 0\n",
    "    for j in i.fits:\n",
    "        ax = plt.subplot(L,m,c)\n",
    "        i.plot()\n",
    "        j.plot(False)\n",
    "        plt.xlim([min(i.x),max(i.x)])\n",
    "        c += 1\n",
    "        temp += 1\n",
    "        \n",
    "    ax = plt.subplot(L,m,c)\n",
    "    x = fake.prune_data[n].x\n",
    "    y = fake.prune_data[n].y\n",
    "    fake.prune_data[n].plot()\n",
    "    for j in all_slips[n]:\n",
    "        index = rcv.search(x,j[0])\n",
    "        plt.plot(x[index],y[index],'y*',markersize=7)\n",
    "    c += 1\n",
    "    temp += 1\n",
    "    \n",
    "    ax = plt.subplot(L,m,c)\n",
    "    plt.hist(all_slips[n][:,1], bins=bins)\n",
    "    plt.xlim([0,2.0])\n",
    "    plt.xticks([0,0.25,0.5,0.75,1.0,1.25,1.5,1.75,2.0])\n",
    "    ax.annotate(\"{}$\\pi$ Model Value\".format(phase_hold[n]), xy=(0.72, 0.80), xycoords=\"axes fraction\")\n",
    "    c += (m-temp)\n",
    "    n += 1\n",
    "fig.tight_layout()"
   ]
  },
  {
   "cell_type": "code",
   "execution_count": null,
   "metadata": {},
   "outputs": [],
   "source": [
    "for i in range(len(all_slips)):\n",
    "    for j in range(len(all_slips[i])):\n",
    "        if all_slips[i][j][1] > 1.3:\n",
    "            all_slips[i][j][1] = 2 - all_slips[i][j][1]\n",
    "    "
   ]
  },
  {
   "cell_type": "code",
   "execution_count": 77,
   "metadata": {},
   "outputs": [],
   "source": [
    "fig.savefig('Fake Data Noise Spikes Full Algo',dpi=1000)"
   ]
  },
  {
   "cell_type": "code",
   "execution_count": 66,
   "metadata": {},
   "outputs": [],
   "source": [
    "all_slips = list()\n",
    "for filenum in range(5):\n",
    "\n",
    "    x = fake.prune_data[filenum].x\n",
    "    y = fake.prune_data[filenum].y\n",
    "    fit_hold = fake.prune_data[filenum].fits\n",
    "    fs = fr.finalSlips(x,y,fit_hold,dV=0.09,mindiff=0.04)\n",
    "    hold = list()\n",
    "    for j in fs:\n",
    "        for i in j:\n",
    "            hold.append([(i[2]+i[3])/2.0,i[0]])\n",
    "    all_slips.append(np.array(hold))"
   ]
  },
  {
   "cell_type": "code",
   "execution_count": 121,
   "metadata": {},
   "outputs": [],
   "source": [
    "data = list()\n",
    "for filenum in range(7):\n",
    "    data.append(np.array([data_hold[filenum].x,data_hold[filenum].y]))"
   ]
  },
  {
   "cell_type": "code",
   "execution_count": 122,
   "metadata": {},
   "outputs": [],
   "source": [
    "np.save('Fake Data Multi Phase', data)"
   ]
  },
  {
   "cell_type": "code",
   "execution_count": 269,
   "metadata": {},
   "outputs": [],
   "source": [
    "#Plot with histogram and edges:\n",
    "\n",
    "run = Analysis.Run(np.load(\"Fake Data Multi Phase.npy\"), np.load(\"Fake Data Multi Phase.npy\"), np.ones(10),np.load('Fake Data BF Multi Phase.npy'))\n",
    "bf = np.load('Fake Data BF Multi Phase.npy')\n",
    "se = np.load('Fake Data SE Multi Phase.npy')\n",
    "\n",
    "m = 0\n",
    "for i in [bf[0],bf[3]]:\n",
    "    if len(i) > m:\n",
    "        m = len(i)\n",
    "m += 1 #for histo\n",
    "\n",
    "\n",
    "L = len([bf[0],bf[3]])\n",
    "total = L*m\n",
    "c = 1\n",
    "n = 0\n",
    "plt.rc('font', size=6)    \n",
    "bins = np.arange(0.0,2.03,0.03)\n",
    "fig = plt.figure(figsize=(20,5))\n",
    "for i in [run.prune_data[0],run.prune_data[3]]:\n",
    "    temp = 0\n",
    "    for j in i.fits:\n",
    "        ax = plt.subplot(L,m,c)\n",
    "        i.plot()\n",
    "        j.plot(False)\n",
    "        plt.xlim([j.pos_left,j.pos_right])\n",
    "        if len(se[n]) > 0:\n",
    "            for k in se[n][np.abs(se[n][:,2] - bf[n][temp][9])<0.01]:\n",
    "                ax.axvline(k[0],color='k',lw=3)\n",
    "        c += 1\n",
    "        temp += 1\n",
    "    ax = plt.subplot(L,m,c)\n",
    "    if len(se[n]) > 0:\n",
    "        plt.hist(se[n][:,2], bins=bins)\n",
    "        plt.xlim([0,2.0])\n",
    "        plt.xticks([0,0.5,1.0,1.5,2.0])\n",
    "    c += (m-temp)\n",
    "    n = 3 #Changed\n",
    "fig.tight_layout()\n"
   ]
  },
  {
   "cell_type": "code",
   "execution_count": 270,
   "metadata": {},
   "outputs": [],
   "source": [
    "fig.savefig('Fake Data Multi Phase',dpi=1000)"
   ]
  },
  {
   "cell_type": "code",
   "execution_count": 207,
   "metadata": {},
   "outputs": [],
   "source": [
    "se = np.load('Fake Data SE Multi Phase.npy')"
   ]
  },
  {
   "cell_type": "code",
   "execution_count": 211,
   "metadata": {},
   "outputs": [
    {
     "data": {
      "text/plain": [
       "array([ 1.77830088,  1.77830088,  1.07994229,  0.97029265,  1.75305926,\n",
       "        1.75305926])"
      ]
     },
     "execution_count": 211,
     "metadata": {},
     "output_type": "execute_result"
    }
   ],
   "source": [
    "se[0][:,2]"
   ]
  },
  {
   "cell_type": "code",
   "execution_count": 216,
   "metadata": {},
   "outputs": [
    {
     "ename": "TypeError",
     "evalue": "list indices must be integers, not tuple",
     "output_type": "error",
     "traceback": [
      "\u001b[1;31m---------------------------------------------------------------------------\u001b[0m",
      "\u001b[1;31mTypeError\u001b[0m                                 Traceback (most recent call last)",
      "\u001b[1;32m<ipython-input-216-9cbaa81d718d>\u001b[0m in \u001b[0;36m<module>\u001b[1;34m()\u001b[0m\n\u001b[1;32m----> 1\u001b[1;33m \u001b[0mse\u001b[0m\u001b[1;33m[\u001b[0m\u001b[1;36m0\u001b[0m\u001b[1;33m]\u001b[0m\u001b[1;33m[\u001b[0m\u001b[0mnp\u001b[0m\u001b[1;33m.\u001b[0m\u001b[0mabs\u001b[0m\u001b[1;33m(\u001b[0m\u001b[0mse\u001b[0m\u001b[1;33m[\u001b[0m\u001b[1;36m0\u001b[0m\u001b[1;33m]\u001b[0m\u001b[1;33m[\u001b[0m\u001b[1;33m:\u001b[0m\u001b[1;33m,\u001b[0m\u001b[1;36m2\u001b[0m\u001b[1;33m]\u001b[0m \u001b[1;33m-\u001b[0m \u001b[0mbf\u001b[0m\u001b[1;33m[\u001b[0m\u001b[1;36m0\u001b[0m\u001b[1;33m]\u001b[0m\u001b[1;33m[\u001b[0m\u001b[1;36m0\u001b[0m\u001b[1;33m,\u001b[0m\u001b[1;36m9\u001b[0m\u001b[1;33m]\u001b[0m\u001b[1;33m)\u001b[0m\u001b[1;33m<\u001b[0m\u001b[1;36m0.01\u001b[0m\u001b[1;33m]\u001b[0m\u001b[1;33m\u001b[0m\u001b[0m\n\u001b[0m",
      "\u001b[1;31mTypeError\u001b[0m: list indices must be integers, not tuple"
     ]
    }
   ],
   "source": [
    "se[0][np.abs(se[0][:,2] - bf[0][0,9])<0.01]"
   ]
  },
  {
   "cell_type": "code",
   "execution_count": 217,
   "metadata": {},
   "outputs": [
    {
     "ename": "TypeError",
     "evalue": "list indices must be integers, not tuple",
     "output_type": "error",
     "traceback": [
      "\u001b[1;31m---------------------------------------------------------------------------\u001b[0m",
      "\u001b[1;31mTypeError\u001b[0m                                 Traceback (most recent call last)",
      "\u001b[1;32m<ipython-input-217-2a38134d6957>\u001b[0m in \u001b[0;36m<module>\u001b[1;34m()\u001b[0m\n\u001b[1;32m----> 1\u001b[1;33m \u001b[0mnp\u001b[0m\u001b[1;33m.\u001b[0m\u001b[0mabs\u001b[0m\u001b[1;33m(\u001b[0m\u001b[0mse\u001b[0m\u001b[1;33m[\u001b[0m\u001b[1;36m0\u001b[0m\u001b[1;33m]\u001b[0m\u001b[1;33m[\u001b[0m\u001b[1;33m:\u001b[0m\u001b[1;33m,\u001b[0m\u001b[1;36m2\u001b[0m\u001b[1;33m]\u001b[0m \u001b[1;33m-\u001b[0m \u001b[0mbf\u001b[0m\u001b[1;33m[\u001b[0m\u001b[1;36m0\u001b[0m\u001b[1;33m]\u001b[0m\u001b[1;33m[\u001b[0m\u001b[1;36m0\u001b[0m\u001b[1;33m,\u001b[0m\u001b[1;36m9\u001b[0m\u001b[1;33m]\u001b[0m\u001b[1;33m)\u001b[0m\u001b[1;33m<\u001b[0m\u001b[1;36m0.01\u001b[0m\u001b[1;33m\u001b[0m\u001b[0m\n\u001b[0m",
      "\u001b[1;31mTypeError\u001b[0m: list indices must be integers, not tuple"
     ]
    }
   ],
   "source": [
    "np.abs(se[0][:,2] - bf[0][0,9])<0.01"
   ]
  },
  {
   "cell_type": "code",
   "execution_count": 220,
   "metadata": {},
   "outputs": [
    {
     "data": {
      "text/plain": [
       "1.7783008758174907"
      ]
     },
     "execution_count": 220,
     "metadata": {},
     "output_type": "execute_result"
    }
   ],
   "source": [
    "bf[0][0][9]"
   ]
  },
  {
   "cell_type": "code",
   "execution_count": 289,
   "metadata": {},
   "outputs": [],
   "source": [
    "x_1 = np.linspace(0,1,100)\n",
    "x_2 = np.linspace(1,2,100)\n",
    "y_1 = np.sin(x_1*(2*np.pi))\n",
    "y_1_e = np.sin(x_2*(2*np.pi))\n",
    "y_2 = np.sin(x_2*(2*np.pi)-1.25*np.pi)\n",
    "y_2_e = np.sin(x_1*(2*np.pi)-1.25*np.pi)\n",
    "y_3 = np.sin(x_2*(2*np.pi)+0.75*np.pi)\n",
    "y_3_e = np.sin(x_1*(2*np.pi)+0.75*np.pi)"
   ]
  },
  {
   "cell_type": "code",
   "execution_count": 293,
   "metadata": {},
   "outputs": [
    {
     "data": {
      "text/plain": [
       "[<matplotlib.lines.Line2D at 0x37fca6d8>]"
      ]
     },
     "execution_count": 293,
     "metadata": {},
     "output_type": "execute_result"
    }
   ],
   "source": [
    "plt.figure()\n",
    "plt.plot(x_1,y_1,'k')\n",
    "plt.plot(x_2,y_1_e,'k--')\n",
    "plt.plot(x_2,y_2,'r',lw=3)\n",
    "plt.plot(x_1,y_2_e,'r--',lw=3)\n",
    "plt.plot(x_2,y_3,'y')\n",
    "plt.plot(x_1,y_3_e,'y--')"
   ]
  },
  {
   "cell_type": "code",
   "execution_count": 294,
   "metadata": {},
   "outputs": [],
   "source": [
    "run.prune_data[0].plot()"
   ]
  },
  {
   "cell_type": "code",
   "execution_count": 295,
   "metadata": {},
   "outputs": [],
   "source": [
    "plt.figure()\n",
    "run.prune_data[0].plot()\n",
    "for i in run.prune_data[0].fits:\n",
    "    i.plot(False)"
   ]
  },
  {
   "cell_type": "code",
   "execution_count": 297,
   "metadata": {},
   "outputs": [],
   "source": [
    "plt.figure()\n",
    "run.prune_data[0].plot()\n",
    "run.prune_data[0].plot_fit(-1)"
   ]
  },
  {
   "cell_type": "code",
   "execution_count": 302,
   "metadata": {},
   "outputs": [],
   "source": [
    "run.prune_data[0].plot()\n",
    "plt.xlabel('V$_P$ (mV)')\n",
    "plt.ylabel('R$_D$ (k$\\Omega$)')\n",
    "plt.tight_layout()"
   ]
  },
  {
   "cell_type": "code",
   "execution_count": 301,
   "metadata": {},
   "outputs": [],
   "source": [
    "plt.savefig('Fake Data Sweep',dpi=1000)"
   ]
  },
  {
   "cell_type": "code",
   "execution_count": 309,
   "metadata": {},
   "outputs": [],
   "source": [
    "run.prune_data[0].plot()\n",
    "plt.xlabel('V$_P$ (mV)')\n",
    "plt.ylabel('R$_D$ (k$\\Omega$)')\n",
    "i = run.prune_data[0].fits[-1]\n",
    "p = -22.0048\n",
    "#i.plot_select('l','k',3,p-4,p)\n",
    "#i.plot_select('l','k',3,p,p+4,'--')\n",
    "#i.plot_select('r','r',3,p-4,p,'--')\n",
    "#i.plot_select('r','r',3,p,p+4)\n",
    "plt.xlim(p-4,p+4)\n",
    "plt.ylim(10.986,11.8468)\n",
    "plt.tight_layout()"
   ]
  },
  {
   "cell_type": "code",
   "execution_count": null,
   "metadata": {},
   "outputs": [],
   "source": []
  }
 ],
 "metadata": {
  "kernelspec": {
   "display_name": "Python 2",
   "language": "python",
   "name": "python2"
  },
  "language_info": {
   "codemirror_mode": {
    "name": "ipython",
    "version": 2
   },
   "file_extension": ".py",
   "mimetype": "text/x-python",
   "name": "python",
   "nbconvert_exporter": "python",
   "pygments_lexer": "ipython2",
   "version": "2.7.10"
  }
 },
 "nbformat": 4,
 "nbformat_minor": 2
}
