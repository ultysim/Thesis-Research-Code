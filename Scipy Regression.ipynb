{
 "cells": [
  {
   "cell_type": "code",
   "execution_count": 1,
   "metadata": {},
   "outputs": [
    {
     "name": "stdout",
     "output_type": "stream",
     "text": [
      "Using matplotlib backend: TkAgg\n"
     ]
    }
   ],
   "source": [
    "import lmfit\n",
    "from lmfit import minimize, Parameters, fit_report\n",
    "import numpy as np\n",
    "import matplotlib as mpl\n",
    "from matplotlib import pyplot as plt\n",
    "import Analysis\n",
    "from scipy.optimize import least_squares\n",
    "%matplotlib"
   ]
  },
  {
   "cell_type": "code",
   "execution_count": 2,
   "metadata": {
    "collapsed": true
   },
   "outputs": [],
   "source": [
    "import pickle\n",
    "def save_object(obj, filename):\n",
    "    with open(filename, 'wb') as output:\n",
    "        pickle.dump(obj, output, pickle.HIGHEST_PROTOCOL)"
   ]
  },
  {
   "cell_type": "code",
   "execution_count": 3,
   "metadata": {
    "collapsed": true
   },
   "outputs": [],
   "source": [
    "with open('noslope.pkl', 'rb') as input:\n",
    "    noslope = pickle.load(input)"
   ]
  },
  {
   "cell_type": "code",
   "execution_count": 5,
   "metadata": {
    "collapsed": true
   },
   "outputs": [],
   "source": [
    "def sigmoid(x,v0):\n",
    "    return 1.0 / (1 + np.exp(np.array((-x+v0)/0.1,dtype='float')))\n",
    "\n",
    "\n",
    "def residual(params, x, y, v0, eps_data):\n",
    "\n",
    "    model_l = params[0] + params[1] * np.sin(x*params[2] + (params[3]+params[4]*np.pi)) + params[5] * (x - v0)\n",
    "    model_r = params[0] + params[1] * np.sin(x*params[2] + params[3]) + params[5] * (x - v0)\n",
    "    \n",
    "    out_r = (y-model_r)*sigmoid(x,v0)\n",
    "    out_l = (y-model_l)*(1.0-sigmoid(x,v0))\n",
    "    \n",
    "    return (out_r+out_l)/eps_data\n",
    "\n"
   ]
  },
  {
   "cell_type": "code",
   "execution_count": 6,
   "metadata": {
    "collapsed": true
   },
   "outputs": [],
   "source": [
    "def search(seq, t):  \n",
    "    min = 0\n",
    "    max = len(seq) - 1\n",
    "    while True:        \n",
    "        m = (min + max) // 2\n",
    "        if max <= min:\n",
    "            if np.abs(t-seq[m]) < np.abs(t-seq[m-1]):          \n",
    "                return m\n",
    "            else:\n",
    "                return m-1        \n",
    "        if seq[m] < t:\n",
    "            min = m + 1\n",
    "        elif seq[m] > t:\n",
    "            max = m - 1\n",
    "        else:\n",
    "            return m"
   ]
  },
  {
   "cell_type": "code",
   "execution_count": 7,
   "metadata": {
    "collapsed": true
   },
   "outputs": [],
   "source": [
    "def regression(x_min, x_max, data, loss = 'linear', eps = 0.1, plot=False, x_scale = 1.0):\n",
    "    \n",
    "    i_min = search(data.x,x_min)\n",
    "    i_max = search(data.x,x_max)+1\n",
    "    \n",
    "    if i_min < 0:\n",
    "        i_min = 0\n",
    "    if i_max > len(data.x):\n",
    "        i_max = len(data.x)\n",
    "    \n",
    "    x = data.x[i_min:i_max]\n",
    "    y = data.y[i_min:i_max]\n",
    "    \n",
    "    \n",
    "    \n",
    "    a = (np.percentile(y,99)-np.percentile(y,1))/2.0\n",
    "    \n",
    "    params = []\n",
    "    bounds = ([],[])\n",
    "    \n",
    "    h = np.mean(y)\n",
    "    params.append(h) #height\n",
    "    bounds[0].append(h*0.99)\n",
    "    bounds[1].append(h*1.01)\n",
    "    \n",
    "    params.append(a) #amplitude\n",
    "    bounds[0].append(a*0.8)\n",
    "    bounds[1].append(a*1.2)\n",
    "    \n",
    "    params.append(2*np.pi/10) #frequency\n",
    "    bounds[0].append(0.6)\n",
    "    bounds[1].append(0.77)\n",
    "    \n",
    "    params.append(0.0) #phase\n",
    "    bounds[0].append(0.0)\n",
    "    bounds[1].append(2*np.pi)\n",
    "    \n",
    "    params.append(np.random.uniform(0.1,1.9)) #delta phase\n",
    "    bounds[0].append(0.0)\n",
    "    bounds[1].append(2)\n",
    "    \n",
    "    params.append(0.0) #slope\n",
    "    bounds[0].append(-0.02)\n",
    "    bounds[1].append(0.02)\n",
    "    \n",
    "    v0 = (x_min+x_max)/2.0 \n",
    "    \n",
    "    \n",
    "    out = least_squares(residual, x0 = params, bounds=bounds, loss=loss, x_scale = x_scale, args=(x , y, v0, eps))\n",
    "    \n",
    "    if plot:\n",
    "        params = out['x']\n",
    "        model_l = params[0] + params[1] * np.sin(x*params[2] + (params[3]+params[4]*np.pi)) + params[5] * (x - v0)\n",
    "        model_r = params[0] + params[1] * np.sin(x*params[2] + params[3]) + params[5] * (x - v0)\n",
    "        plt.plot(x,y)\n",
    "        plt.plot(x,model_r,c='r')\n",
    "        plt.plot(x,model_l,c='k')\n",
    "    \n",
    "    return out    "
   ]
  },
  {
   "cell_type": "code",
   "execution_count": 8,
   "metadata": {
    "collapsed": true
   },
   "outputs": [],
   "source": [
    "def regression_rand(x_min, x_max, data, loss = 'linear', eps = 0.1, plot=False, x_scale = 1.0):\n",
    "        \n",
    "    x = data.x\n",
    "    y = data.y\n",
    "    \n",
    "    i_min = search(x,x_min)\n",
    "    i_max = search(x,x_max)+1\n",
    "    \n",
    "    if i_min < 0:\n",
    "        i_min = 0\n",
    "    if i_max > len(x):\n",
    "        i_max = len(x)\n",
    "    \n",
    "    x = x[i_min:i_max]\n",
    "    y = y[i_min:i_max]\n",
    "    \n",
    "    \n",
    "    \n",
    "    a = (np.percentile(y,99)-np.percentile(y,1))/2.0\n",
    "    \n",
    "    params = []\n",
    "    bounds = ([],[])\n",
    "    \n",
    "    h = np.mean(y)+np.random.randn()*0.1\n",
    "    params.append(h) #height\n",
    "    bounds[0].append(h*0.7)\n",
    "    bounds[1].append(h*1.3)\n",
    "    \n",
    "    params.append(a+np.random.randn()*0.001) #amplitude\n",
    "    bounds[0].append(a*0.8)\n",
    "    bounds[1].append(a*1.2)\n",
    "    \n",
    "    params.append(2*np.pi/10+np.random.randn()*0.01) #frequency\n",
    "    bounds[0].append(0.6)\n",
    "    bounds[1].append(0.8)\n",
    "    \n",
    "    params.append(np.random.random()+0.001) #phase\n",
    "    bounds[0].append(0.0)\n",
    "    bounds[1].append(2*np.pi)\n",
    "    \n",
    "    params.append(np.random.uniform(0.1,1.9)) #delta phase\n",
    "    bounds[0].append(0.0)\n",
    "    bounds[1].append(2)\n",
    "    \n",
    "    params.append(np.random.randn()*0.001) #slope\n",
    "    bounds[0].append(-0.001)\n",
    "    bounds[1].append(0.001)\n",
    "    \n",
    "    v0 = (x_min+x_max)/2.0\n",
    "    \n",
    "    try:\n",
    "\n",
    "        out = least_squares(residual, x0 = params, bounds=bounds, loss=loss, x_scale = x_scale, args=(x , y, v0, eps))\n",
    "\n",
    "        if plot:\n",
    "            params = out['x']\n",
    "            model_l = params[0] + params[1] * np.sin(x*params[2] + (params[3]+params[4]*np.pi)) + params[5] * (x - v0)\n",
    "            model_r = params[0] + params[1] * np.sin(x*params[2] + params[3]) + params[5] * (x - v0)\n",
    "            plt.plot(x,y)\n",
    "            plt.plot(x,model_r,c='r')\n",
    "            plt.plot(x,model_l,c='k')\n",
    "    \n",
    "    except:\n",
    "        out = regression_rand(x_min, x_max, data, loss = loss, eps = eps, x_scale = x_scale, plot = plot)\n",
    "    \n",
    "    return out    "
   ]
  },
  {
   "cell_type": "code",
   "execution_count": 9,
   "metadata": {
    "collapsed": true
   },
   "outputs": [],
   "source": [
    "def regression_nobounds(x_min, x_max, data, loss = 'linear', eps = 0.1, plot=False, x_scale = 1.0):\n",
    "    \n",
    "        \n",
    "    x = data.x\n",
    "    y = data.y\n",
    "    \n",
    "    i_min = search(x,x_min)\n",
    "    i_max = search(x,x_max)+1\n",
    "    \n",
    "    if i_min < 0:\n",
    "        i_min = 0\n",
    "    if i_max > len(x):\n",
    "        i_max = len(x)\n",
    "    \n",
    "    x = x[i_min:i_max]\n",
    "    y = y[i_min:i_max]\n",
    "    \n",
    "    \n",
    "    \n",
    "    a = (np.percentile(y,99)-np.percentile(y,1))/2.0\n",
    "    \n",
    "    params = []\n",
    "    bounds = ([],[])\n",
    "    \n",
    "    h = np.mean(y+np.random.randn()*0.1)\n",
    "    params.append(h) #height\n",
    "    bounds[0].append(-np.inf)\n",
    "    bounds[1].append(np.inf)\n",
    "    \n",
    "    params.append(a+np.random.randn()*0.001) #amplitude\n",
    "    bounds[0].append(-np.inf)\n",
    "    bounds[1].append(np.inf)\n",
    "    \n",
    "    params.append(2*np.pi/10+np.random.randn()*0.01) #frequency\n",
    "    bounds[0].append(-np.inf)\n",
    "    bounds[1].append(np.inf)\n",
    "    \n",
    "    params.append(np.random.random()+0.001) #phase\n",
    "    bounds[0].append(0.0)\n",
    "    bounds[1].append(2*np.pi)\n",
    "    \n",
    "    params.append(np.random.uniform(0.1,1.9)) #delta phase\n",
    "    bounds[0].append(0.0)\n",
    "    bounds[1].append(2)\n",
    "    \n",
    "    params.append(np.random.randn()*0.001) #slope\n",
    "    bounds[0].append(-np.inf)\n",
    "    bounds[1].append(np.inf)\n",
    "    \n",
    "    v0 = (x_min+x_max)/2.0\n",
    "    \n",
    "    out = least_squares(residual, x0 = params, method = 'lm', loss=loss, x_scale = x_scale, args=(x , y, v0, eps))\n",
    "    \n",
    "    if plot:\n",
    "        params = out['x']\n",
    "        model_l = params[0] + params[1] * np.sin(x*params[2] + (params[3]+params[4]*np.pi)) + params[5] * (x - v0)\n",
    "        model_r = params[0] + params[1] * np.sin(x*params[2] + params[3]) + params[5] * (x - v0)\n",
    "        plt.plot(x,y)\n",
    "        plt.plot(x,model_r,c='r')\n",
    "        plt.plot(x,model_l,c='k')\n",
    "    \n",
    "    return out    "
   ]
  },
  {
   "cell_type": "code",
   "execution_count": 25,
   "metadata": {
    "collapsed": true
   },
   "outputs": [],
   "source": [
    "from sklearn.model_selection import train_test_split"
   ]
  },
  {
   "cell_type": "code",
   "execution_count": 26,
   "metadata": {
    "collapsed": true
   },
   "outputs": [],
   "source": [
    "def regression_CV(x_min, x_max, data, loss = 'linear', eps = 0.1, plot=False, x_scale = 1.0):\n",
    "    \n",
    "    x = data.x\n",
    "    y = data.y\n",
    "    \n",
    "    i_min = search(x,x_min)\n",
    "    i_max = search(x,x_max)+1\n",
    "    \n",
    "    if i_min < 0:\n",
    "        i_min = 0\n",
    "    if i_max > len(x):\n",
    "        i_max = len(x)\n",
    "    \n",
    "    x = x[i_min:i_max]\n",
    "    y = y[i_min:i_max]\n",
    "    \n",
    "    X_train, X_test, y_train, y_test = train_test_split(x, y, test_size=0.2, random_state=0)\n",
    "    \n",
    "    \n",
    "    a = (np.percentile(y_train,99)-np.percentile(y_train,1))/2.0\n",
    "    \n",
    "    params = []\n",
    "    bounds = ([],[])\n",
    "    \n",
    "    h = np.mean(y_train)+np.random.randn()*0.1\n",
    "    params.append(h) #height\n",
    "    bounds[0].append(h*0.7)\n",
    "    bounds[1].append(h*1.3)\n",
    "    \n",
    "    params.append(a+np.random.randn()*0.001) #amplitude\n",
    "    bounds[0].append(a*0.8)\n",
    "    bounds[1].append(a*1.2)\n",
    "    \n",
    "    params.append(2*np.pi/10+np.random.randn()*0.01) #frequency\n",
    "    bounds[0].append(0.6)\n",
    "    bounds[1].append(0.8)\n",
    "    \n",
    "    params.append(np.random.random()+0.001) #phase\n",
    "    bounds[0].append(0.0)\n",
    "    bounds[1].append(2*np.pi)\n",
    "    \n",
    "    params.append(np.random.uniform(0.1,1.9)) #delta phase\n",
    "    bounds[0].append(0.0)\n",
    "    bounds[1].append(2)\n",
    "    \n",
    "    params.append(np.random.randn()*0.001) #slope\n",
    "    bounds[0].append(-0.001)\n",
    "    bounds[1].append(0.001)\n",
    "    \n",
    "    v0 = (x_min+x_max)/2.0\n",
    "    \n",
    "    out = least_squares(residual, x0 = params, method = 'lm', loss=loss, x_scale = x_scale, args=(X_train , y_train, v0, eps))\n",
    "    \n",
    "    if plot:\n",
    "        params = out['x']\n",
    "        model_l = params[0] + params[1] * np.sin(x*params[2] + (params[3]+params[4]*np.pi)) + params[5] * (x - v0)\n",
    "        model_r = params[0] + params[1] * np.sin(x*params[2] + params[3]) + params[5] * (x - v0)\n",
    "        plt.plot(x,y)\n",
    "        plt.plot(x,model_r,c='r')\n",
    "        plt.plot(x,model_l,c='k')\n",
    "    \n",
    "    return out    "
   ]
  },
  {
   "cell_type": "code",
   "execution_count": 10,
   "metadata": {
    "collapsed": true
   },
   "outputs": [],
   "source": [
    "def multi_reg_param_ci(data, x_min, x_max, result, eps): \n",
    "    i_min = search(data.x,x_min)\n",
    "    i_max = search(data.x,x_max)+1\n",
    "\n",
    "    if i_min < 0:\n",
    "        i_min = 0\n",
    "    if i_max > len(data.x):\n",
    "        i_max = len(data.x)\n",
    "\n",
    "    N = float(i_max - i_min)\n",
    "    k = len(result.x)\n",
    "\n",
    "    x = data.x[i_min:i_max]\n",
    "    y = data.y[i_min:i_max]\n",
    "\n",
    "    v0 = (x_min+x_max)/2.0\n",
    "\n",
    "    res = result.fun*eps\n",
    "\n",
    "    sigma_r = 1/(N-k)*np.sum(res**2)\n",
    "    \n",
    "    inv_j = np.linalg.inv(np.dot(result.jac.transpose(),result.jac))\n",
    "\n",
    "    cov = sigma_r*inv_j\n",
    "    \n",
    "    return np.sqrt(np.diag(cov))"
   ]
  },
  {
   "cell_type": "code",
   "execution_count": 11,
   "metadata": {
    "collapsed": true
   },
   "outputs": [],
   "source": [
    "def multi_regression(x_min, x_max, data, reg_func, n = 20, loss = 'linear', eps = 0.1, x_scale = 1.0, plot=False):\n",
    "    ci_deltaphi = np.inf\n",
    "    result_hold = None\n",
    "    for _ in range(n):\n",
    "        result = reg_func(x_min, x_max, data, loss = loss, eps = eps, x_scale=x_scale)\n",
    "        if result.success:\n",
    "            ci = multi_reg_param_ci(data,x_min,x_max,result,eps)\n",
    "            if ci[4] < ci_deltaphi:\n",
    "                ci_deltaphi = ci[4]\n",
    "                result_hold = result\n",
    "                \n",
    "    if plot:\n",
    "        plt.figure()\n",
    "        \n",
    "        i_min = search(data.x,x_min)\n",
    "        i_max = search(data.x,x_max)+1\n",
    "    \n",
    "        x = data.x[i_min:i_max]\n",
    "        y = data.y[i_min:i_max]\n",
    "        \n",
    "        v0 = (x_min+x_max)/2.0\n",
    "        \n",
    "        params = result_hold.x\n",
    "        model_l = params[0] + params[1] * np.sin(x*params[2] + (params[3]+params[4]*np.pi)) + params[5] * (x - v0)\n",
    "        model_r = params[0] + params[1] * np.sin(x*params[2] + params[3]) + params[5] * (x - v0)\n",
    "        plt.plot(x,y)\n",
    "        plt.plot(x,model_r,c='r')\n",
    "        plt.plot(x,model_l,c='k')\n",
    "    return result_hold, ci_deltaphi"
   ]
  },
  {
   "cell_type": "code",
   "execution_count": 12,
   "metadata": {
    "collapsed": true
   },
   "outputs": [],
   "source": [
    "def sweep_regression(data, reg_func, d = 6.0, c = 20, n = 20, loss = 'linear', eps = 0.1, x_scale = 1.0, plot=False):\n",
    "    out = list()\n",
    "    x_max = max(data.x) - 0.005\n",
    "    x_min = min(data.x) + 0.005\n",
    "    #step = (x_max-x_min-2*d)/c\n",
    "    step = (x_max-x_min)/c\n",
    "    for i in range(c+1):\n",
    "        #Try to start at edge with half\n",
    "        #center = x_min + d +  i*step\n",
    "        center = x_min +  i*step\n",
    "        low = center - d\n",
    "        if low < x_min:\n",
    "            low = x_min\n",
    "        high = center + d\n",
    "        if high > x_max:\n",
    "            high = x_max\n",
    "        result, ci_deltaphi = multi_regression(low, high, data, reg_func, n, loss = loss, eps = eps, x_scale = x_scale, plot = plot)\n",
    "        \n",
    "        res_dict = {'result':result, 'x_min':low, 'x_max':high, 'eps':eps, 'ci_deltaphi':ci_deltaphi}\n",
    "        \n",
    "        out.append(res_dict)\n",
    "    return out\n",
    "    "
   ]
  },
  {
   "cell_type": "code",
   "execution_count": 13,
   "metadata": {
    "collapsed": true
   },
   "outputs": [],
   "source": [
    "def run_regression(data, reg_func, d = 6.0, c = 20, n = 20, loss = 'linear', eps = 0.01, x_scale = 1.0, plot=False):\n",
    "    count = 0\n",
    "    out = []\n",
    "    for i in data:\n",
    "        print('Running sweep ' + str(count))\n",
    "        out.append(sweep_regression(i, reg_func, d = d, c = c, n=n, eps = eps, x_scale = x_scale, loss = loss, plot = plot))\n",
    "        count += 1\n",
    "    return out"
   ]
  },
  {
   "cell_type": "code",
   "execution_count": 14,
   "metadata": {
    "collapsed": true
   },
   "outputs": [],
   "source": [
    "def param_ci(data,result):\n",
    "    x_min = result['x_min']\n",
    "    x_max = result['x_max']\n",
    "    i_min = search(data.x,x_min)\n",
    "    i_max = search(data.x,x_max)+1\n",
    "\n",
    "    if i_min < 0:\n",
    "        i_min = 0\n",
    "    if i_max > len(data.x):\n",
    "        i_max = len(data.x)\n",
    "\n",
    "    N = float(i_max - i_min)\n",
    "    k = len(result['result'].x)\n",
    "\n",
    "    x = data.x[i_min:i_max]\n",
    "    y = data.y[i_min:i_max]\n",
    "\n",
    "    v0 = (x_min+x_max)/2.0\n",
    "\n",
    "    res = result['result'].fun*result['eps']\n",
    "\n",
    "    sigma_r = 1/(N-k)*np.sum(res**2)\n",
    "    \n",
    "    inv_j = np.linalg.inv(np.dot(result['result'].jac.transpose(),result['result'].jac))\n",
    "\n",
    "    cov = sigma_r*inv_j\n",
    "    \n",
    "    return np.sqrt(np.diag(cov))\n",
    "    \n"
   ]
  },
  {
   "cell_type": "code",
   "execution_count": 15,
   "metadata": {
    "collapsed": true
   },
   "outputs": [],
   "source": [
    "def plot(data,result,full=False):\n",
    "    x_min = result['x_min']\n",
    "    x_max = result['x_max']\n",
    "    if full:\n",
    "        x = data.x\n",
    "        y = data.y\n",
    "    else:\n",
    "        i_min = search(data.x,x_min)\n",
    "        i_max = search(data.x,x_max)+1\n",
    "\n",
    "        x = data.x[i_min:i_max]\n",
    "        y = data.y[i_min:i_max]\n",
    "\n",
    "    v0 = (x_min+x_max)/2.0\n",
    "\n",
    "    params = result['result'].x\n",
    "    model_l = params[0] + params[1] * np.sin(x*params[2] + (params[3]+params[4]*np.pi)) + params[5] * (x - v0)\n",
    "    model_r = params[0] + params[1] * np.sin(x*params[2] + params[3]) + params[5] * (x - v0)\n",
    "\n",
    "    plt.plot(x,y)\n",
    "    plt.plot(x,model_r,c='r')\n",
    "    plt.plot(x,model_l,c='k')"
   ]
  },
  {
   "cell_type": "code",
   "execution_count": 16,
   "metadata": {
    "collapsed": true
   },
   "outputs": [],
   "source": [
    "def r_squared(data,result):\n",
    "    x_min = result['x_min']\n",
    "    x_max = result['x_max']\n",
    "    i_min = search(data.x,x_min)\n",
    "    i_max = search(data.x,x_max)+1\n",
    "    \n",
    "    if i_min < 0:\n",
    "        i_min = 0\n",
    "    if i_max > len(data.x):\n",
    "        i_max = len(data.x)\n",
    "\n",
    "    x = data.x[i_min:i_max]\n",
    "    y = data.y[i_min:i_max]\n",
    "\n",
    "    v0 = (x_min+x_max)/2.0\n",
    "    \n",
    "    res = result['result'].fun*result['eps']\n",
    "    SSres = np.sum(res*res)\n",
    "    \n",
    "    ybar = np.mean(y)\n",
    "    \n",
    "    SStot = np.sum((y-ybar)**2)\n",
    "\n",
    "    return 1 - SSres/SStot"
   ]
  },
  {
   "cell_type": "code",
   "execution_count": null,
   "metadata": {
    "collapsed": true
   },
   "outputs": [],
   "source": []
  },
  {
   "cell_type": "code",
   "execution_count": 22,
   "metadata": {
    "collapsed": true
   },
   "outputs": [],
   "source": [
    "run = Analysis.generate_2014()"
   ]
  },
  {
   "cell_type": "code",
   "execution_count": 24,
   "metadata": {
    "collapsed": true
   },
   "outputs": [],
   "source": [
    "test = regression(-19.5464, -8.39718,run.prune_data[0],eps = 1.0, plot = True)"
   ]
  },
  {
   "cell_type": "code",
   "execution_count": 64,
   "metadata": {
    "collapsed": true
   },
   "outputs": [],
   "source": [
    "test_multi = multi_regression(-19.5464, -8.39718, run.prune_data[0], eps = 0.01, plot = True, x_scale = [10.0,0.1,0.1,1.0,1.0,1.0], loss = 'huber')"
   ]
  },
  {
   "cell_type": "code",
   "execution_count": 117,
   "metadata": {
    "collapsed": true
   },
   "outputs": [],
   "source": [
    "test_sweep_reg = sweep_regression(run.prune_data[0], d = 4.5, c = 50, eps = 0.01, x_scale = [10.0,0.1,0.1,1.0,1.0,1.0], loss = 'huber')"
   ]
  },
  {
   "cell_type": "code",
   "execution_count": 157,
   "metadata": {},
   "outputs": [
    {
     "name": "stdout",
     "output_type": "stream",
     "text": [
      "Running sweep 0\n",
      "Running sweep 1\n",
      "Running sweep 2\n",
      "Running sweep 3\n",
      "Running sweep 4\n",
      "Running sweep 5\n",
      "Running sweep 6\n",
      "Running sweep 7\n",
      "Running sweep 8\n",
      "Running sweep 9\n",
      "Running sweep 10\n",
      "Running sweep 11\n",
      "Running sweep 12\n",
      "Running sweep 13\n",
      "Running sweep 14\n"
     ]
    }
   ],
   "source": [
    "run_reg = run_regression(run.prune_data, regression, d = 4.5, c = 50, eps = 0.01, x_scale = [10.0,0.1,0.1,1.0,1.0,10**-5], loss = 'huber')"
   ]
  },
  {
   "cell_type": "code",
   "execution_count": 27,
   "metadata": {},
   "outputs": [
    {
     "name": "stdout",
     "output_type": "stream",
     "text": [
      "Running sweep 0\n",
      "Running sweep 1\n",
      "Running sweep 2\n",
      "Running sweep 3\n",
      "Running sweep 4\n",
      "Running sweep 5\n",
      "Running sweep 6\n",
      "Running sweep 7\n",
      "Running sweep 8\n",
      "Running sweep 9\n",
      "Running sweep 10\n",
      "Running sweep 11\n",
      "Running sweep 12\n",
      "Running sweep 13\n",
      "Running sweep 14\n"
     ]
    }
   ],
   "source": [
    "run_reg_rand = run_regression(run.prune_data, regression_rand, d = 5.5, c = 50, eps = 0.01, x_scale = [10.0,0.1,0.1,1.0,1.0,10**-3], loss = 'huber')"
   ]
  },
  {
   "cell_type": "code",
   "execution_count": 22,
   "metadata": {},
   "outputs": [
    {
     "name": "stdout",
     "output_type": "stream",
     "text": [
      "Running sweep 0\n",
      "Running sweep 1\n",
      "Running sweep 2\n",
      "Running sweep 3\n",
      "Running sweep 4\n",
      "Running sweep 5\n",
      "Running sweep 6\n",
      "Running sweep 7\n",
      "Running sweep 8\n",
      "Running sweep 9\n",
      "Running sweep 10\n",
      "Running sweep 11\n",
      "Running sweep 12\n",
      "Running sweep 13\n",
      "Running sweep 14\n"
     ]
    }
   ],
   "source": [
    "run_reg_rand_smallerwindow = run_regression(run.prune_data, regression_rand, d = 4.0, c = 50, eps = 0.01, x_scale = [10.0,0.1,0.1,1.0,1.0,10**-3], loss = 'huber')"
   ]
  },
  {
   "cell_type": "code",
   "execution_count": 37,
   "metadata": {
    "collapsed": true
   },
   "outputs": [],
   "source": [
    "np.save('2014_scipy_run_rand_tightslope_includeedge_smallwindow',run_reg_rand_smallerwindow)"
   ]
  },
  {
   "cell_type": "code",
   "execution_count": 17,
   "metadata": {
    "collapsed": true
   },
   "outputs": [],
   "source": [
    "run_reg_rand = np.load('2014_scipy_run_rand_tightslope_includeedge_smallwindow.npy')"
   ]
  },
  {
   "cell_type": "code",
   "execution_count": 18,
   "metadata": {
    "collapsed": true
   },
   "outputs": [],
   "source": [
    "filenum = 3"
   ]
  },
  {
   "cell_type": "code",
   "execution_count": 20,
   "metadata": {},
   "outputs": [],
   "source": [
    "t = run_reg_rand[filenum]"
   ]
  },
  {
   "cell_type": "code",
   "execution_count": 19,
   "metadata": {},
   "outputs": [
    {
     "data": {
      "text/plain": [
       "[<matplotlib.lines.Line2D at 0x2d28b048>]"
      ]
     },
     "execution_count": 19,
     "metadata": {},
     "output_type": "execute_result"
    }
   ],
   "source": [
    "filenum = 0\n",
    "t = run_reg_rand[filenum]\n",
    "hold = list()\n",
    "for i in t:\n",
    "    hold.append(i['ci_deltaphi'])\n",
    "    \n",
    "plt.plot(hold)"
   ]
  },
  {
   "cell_type": "code",
   "execution_count": 23,
   "metadata": {
    "collapsed": true
   },
   "outputs": [],
   "source": [
    "filenum = 3\n",
    "run.prune_data[filenum].plot()"
   ]
  },
  {
   "cell_type": "code",
   "execution_count": 20,
   "metadata": {
    "collapsed": true
   },
   "outputs": [],
   "source": [
    "filenum = 3\n",
    "t = run_reg_rand[filenum]\n",
    "count = 0\n",
    "for i in t:\n",
    "    if i['ci_deltaphi'] < 0.001 and 0.1 < i['result'].x[4] < 1.9:\n",
    "        plt.figure()\n",
    "        plot(run.prune_data[filenum],i)\n",
    "        plt.title(str(count) + ', '+ str(i['ci_deltaphi']) + ', '+ str(i['result'].x[4]))\n",
    "    count += 1"
   ]
  },
  {
   "cell_type": "code",
   "execution_count": 31,
   "metadata": {
    "collapsed": true
   },
   "outputs": [],
   "source": [
    "plt.figure()\n",
    "run.prune_data[filenum].plot()"
   ]
  },
  {
   "cell_type": "code",
   "execution_count": 168,
   "metadata": {
    "collapsed": true
   },
   "outputs": [],
   "source": [
    "plt.figure()\n",
    "t = test_run_reg[filenum]\n",
    "plot(run.prune_data[filenum],t[32])"
   ]
  },
  {
   "cell_type": "code",
   "execution_count": 23,
   "metadata": {},
   "outputs": [],
   "source": [
    "for i in range(49,51):\n",
    "    plt.figure()\n",
    "    plot(run.prune_data[filenum],t[i])"
   ]
  },
  {
   "cell_type": "code",
   "execution_count": 27,
   "metadata": {
    "collapsed": true
   },
   "outputs": [],
   "source": [
    "plot(run.prune_data[filenum],t[i],full=True)"
   ]
  },
  {
   "cell_type": "code",
   "execution_count": 36,
   "metadata": {},
   "outputs": [
    {
     "data": {
      "text/plain": [
       "{'ci_deltaphi': 0.0022057385940080555,\n",
       " 'eps': 0.01,\n",
       " 'result':  active_mask: array([ 0, -1, -1,  0,  0,  1])\n",
       "        cost: 3436.0282782675813\n",
       "         fun: array([ 2.35925935,  2.33473977,  0.31110951, ..., -3.80727092,\n",
       "       -1.25846849, -0.35061096])\n",
       "        grad: array([  7.06826444e-06,   1.60111941e+03,   3.12624277e+02,\n",
       "        -9.97835598e-07,  -3.71549630e-04,  -2.68466638e+02])\n",
       "         jac: array([[ -1.49011612e-06,  -1.46999212e-06,   3.41831448e-07,\n",
       "         -4.28311179e-08,  -1.34557984e-07,   2.98164640e-06],\n",
       "       [ -1.49011612e-06,  -1.47017935e-06,   3.40194357e-07,\n",
       "         -4.26328380e-08,  -1.33935034e-07,   2.97973752e-06],\n",
       "       [ -1.00000000e+02,  -9.86755725e+01,   2.27113721e+01,\n",
       "         -2.84666599e+00,  -8.94306896e+00,   1.99828398e+02],\n",
       "       ..., \n",
       "       [ -1.49011612e-06,   2.18761367e-07,   1.02985140e-06,\n",
       "         -2.58665751e-07,   1.41162557e-15,  -2.97807894e-06],\n",
       "       [ -1.49011612e-06,   2.17848496e-07,   1.02967874e-06,\n",
       "         -2.58689446e-07,   1.23517238e-15,  -2.97961691e-06],\n",
       "       [ -1.00000000e+02,   1.46006943e+01,   6.90970061e+01,\n",
       "         -1.73608441e+01,   9.17721952e-08,  -1.99990499e+02]])\n",
       "     message: '`ftol` termination condition is satisfied.'\n",
       "        nfev: 19\n",
       "        njev: 17\n",
       "  optimality: 0.00027554983320829499\n",
       "      status: 2\n",
       "     success: True\n",
       "           x: array([  1.12312404e+01,   1.75489081e-01,   6.00000000e-01,\n",
       "         2.24149809e+00,   1.25837678e+00,   9.99999999e-04]),\n",
       " 'x_max': -3.9799530000000001,\n",
       " 'x_min': -7.9799530000000019}"
      ]
     },
     "execution_count": 36,
     "metadata": {},
     "output_type": "execute_result"
    }
   ],
   "source": [
    "t[50]"
   ]
  },
  {
   "cell_type": "code",
   "execution_count": 49,
   "metadata": {},
   "outputs": [
    {
     "data": {
      "text/plain": [
       "[<matplotlib.lines.Line2D at 0x309bc710>]"
      ]
     },
     "execution_count": 49,
     "metadata": {},
     "output_type": "execute_result"
    }
   ],
   "source": [
    "plt.plot(t[19]['result'].fun)"
   ]
  },
  {
   "cell_type": "code",
   "execution_count": 158,
   "metadata": {},
   "outputs": [
    {
     "name": "stdout",
     "output_type": "stream",
     "text": [
      "Running sweep 0\n",
      "Running sweep 1\n",
      "Running sweep 2\n",
      "Running sweep 3\n",
      "Running sweep 4\n",
      "Running sweep 5\n",
      "Running sweep 6\n",
      "Running sweep 7\n",
      "Running sweep 8\n",
      "Running sweep 9\n",
      "Running sweep 10\n",
      "Running sweep 11\n",
      "Running sweep 12\n",
      "Running sweep 13\n",
      "Running sweep 14\n"
     ]
    }
   ],
   "source": [
    "test_run_reg_noslope = run_regression(noslope.prune_data, regression_nobounds, d = 4.5, c = 50, eps = 0.01, x_scale = [10.0,0.1,0.1,1.0,1.0,10**-5], loss = 'linear')"
   ]
  },
  {
   "cell_type": "code",
   "execution_count": 159,
   "metadata": {},
   "outputs": [
    {
     "name": "stdout",
     "output_type": "stream",
     "text": [
      "Running sweep 0\n",
      "Running sweep 1\n",
      "Running sweep 2\n",
      "Running sweep 3\n",
      "Running sweep 4\n",
      "Running sweep 5\n",
      "Running sweep 6\n",
      "Running sweep 7\n",
      "Running sweep 8\n",
      "Running sweep 9\n",
      "Running sweep 10\n",
      "Running sweep 11\n",
      "Running sweep 12\n",
      "Running sweep 13\n",
      "Running sweep 14\n"
     ]
    }
   ],
   "source": [
    "test_run_reg_rand = run_regression(noslope.prune_data, regression_rand, d = 4.5, c = 50, eps = 0.01, x_scale = [10.0,0.1,0.1,1.0,1.0,10**-5], loss = 'huber')"
   ]
  },
  {
   "cell_type": "code",
   "execution_count": 16,
   "metadata": {
    "collapsed": true
   },
   "outputs": [],
   "source": [
    "run_reg = np.load('scipy_run.npy')\n",
    "run_rand = np.load('scipy_run_rand.npy')"
   ]
  },
  {
   "cell_type": "code",
   "execution_count": 107,
   "metadata": {
    "collapsed": true
   },
   "outputs": [],
   "source": [
    "plot(run.prune_data[filenum],test_run_reg_noslope[filenum][36],True)"
   ]
  },
  {
   "cell_type": "code",
   "execution_count": 174,
   "metadata": {
    "collapsed": true
   },
   "outputs": [],
   "source": [
    "filenum = 2\n",
    "t = run_reg_noslope[filenum]\n",
    "count = 0\n",
    "for i in t:\n",
    "    if i['ci_deltaphi'] < 0.001 and 0.1 < i['result'].x[4] < 1.9:\n",
    "        plt.figure()\n",
    "        plot(run.prune_data[filenum],i)\n",
    "        plt.title(str(count) + ', '+ str(i['ci_deltaphi']) + ', '+ str(i['result'].x[4]))\n",
    "    count += 1"
   ]
  },
  {
   "cell_type": "code",
   "execution_count": 124,
   "metadata": {
    "collapsed": true
   },
   "outputs": [],
   "source": [
    "plt.figure()\n",
    "plot(noslope.prune_data[filenum],t[12],True)"
   ]
  },
  {
   "cell_type": "code",
   "execution_count": 175,
   "metadata": {
    "collapsed": true
   },
   "outputs": [],
   "source": [
    "filenum = 2\n",
    "t = run_reg[filenum]\n",
    "count = 0\n",
    "for i in t:\n",
    "    if i['ci_deltaphi'] < 0.001 and 0.1 < i['result'].x[4] < 1.9:\n",
    "        plt.figure()\n",
    "        plot(run.prune_data[filenum],i)\n",
    "        plt.title(str(count) + ', '+ str(i['ci_deltaphi']) + ', '+ str(i['result'].x[4]))\n",
    "    count += 1"
   ]
  },
  {
   "cell_type": "code",
   "execution_count": 55,
   "metadata": {
    "collapsed": true
   },
   "outputs": [],
   "source": [
    "plt.figure()\n",
    "t = run_reg[filenum]\n",
    "plot(run.prune_data[filenum],t[37],full=True)"
   ]
  },
  {
   "cell_type": "code",
   "execution_count": 64,
   "metadata": {
    "collapsed": true
   },
   "outputs": [],
   "source": [
    "filenum = 0\n",
    "t = run_rand[filenum]\n",
    "count = 0\n",
    "for i in t:\n",
    "    if i['ci_deltaphi'] < 0.001 and 0.1 < i['result'].x[4] < 1.9:\n",
    "        plt.figure()\n",
    "        plot(noslope.prune_data[filenum],i)\n",
    "        plt.title(str(count) + ', '+ str(i['ci_deltaphi']) + ', '+ str(i['result'].x[4]))\n",
    "    count += 1"
   ]
  }
 ],
 "metadata": {
  "kernelspec": {
   "display_name": "Python 2",
   "language": "python",
   "name": "python2"
  },
  "language_info": {
   "codemirror_mode": {
    "name": "ipython",
    "version": 2
   },
   "file_extension": ".py",
   "mimetype": "text/x-python",
   "name": "python",
   "nbconvert_exporter": "python",
   "pygments_lexer": "ipython2",
   "version": "2.7.10"
  }
 },
 "nbformat": 4,
 "nbformat_minor": 2
}
