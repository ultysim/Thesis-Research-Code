{
 "cells": [
  {
   "cell_type": "code",
   "execution_count": 1,
   "metadata": {},
   "outputs": [
    {
     "name": "stdout",
     "output_type": "stream",
     "text": [
      "Using matplotlib backend: TkAgg\n"
     ]
    }
   ],
   "source": [
    "import numpy as np\n",
    "import matplotlib as mpl\n",
    "from matplotlib import pyplot as plt\n",
    "from matplotlib.gridspec import GridSpec\n",
    "import CompleteHist as ch\n",
    "%matplotlib\n",
    "se2011 = np.load('2011se.npy')\n",
    "se52 = np.load('52se.npy')"
   ]
  },
  {
   "cell_type": "code",
   "execution_count": 2,
   "metadata": {
    "collapsed": true
   },
   "outputs": [],
   "source": [
    "from matplotlib.colors import LinearSegmentedColormap"
   ]
  },
  {
   "cell_type": "code",
   "execution_count": 7,
   "metadata": {
    "collapsed": true
   },
   "outputs": [],
   "source": [
    "cdict = {'red':   ((0.0, 1.0, 1.0),\n",
    "                   (0.5, 1.0, 1.0),\n",
    "                   (1.0, 1, 1)),\n",
    "\n",
    "         'green': ((0.0, 0.3, 0.3),\n",
    "                   (0.5,0.0,0.0),\n",
    "                   (1.0, 0.0, 0.0)),\n",
    "\n",
    "         'blue':  ((0.0, 0.0, 0.0),\n",
    "                   (0.5, 0.0, 0.0),\n",
    "                   (1.0, 0.3, 0.3))\n",
    "        }\n",
    "        \n",
    "piRed = LinearSegmentedColormap('PiRed', cdict)\n"
   ]
  },
  {
   "cell_type": "code",
   "execution_count": 8,
   "metadata": {},
   "outputs": [
    {
     "data": {
      "text/plain": [
       "<matplotlib.colorbar.ColorbarBase at 0x1f984b70>"
      ]
     },
     "execution_count": 8,
     "metadata": {},
     "output_type": "execute_result"
    }
   ],
   "source": [
    "cdict = {'red':   ((0.0, 0.0, 0.0),\n",
    "                   (0.5, 0.0, 0.0),\n",
    "                   (1.0, 0.4, 0.4)),\n",
    "\n",
    "         'green': ((0.0, 0.4, 0.4),\n",
    "                   (0.5,0.0,0.0),\n",
    "                   (1.0, 0.0, 0.0)),\n",
    "\n",
    "         'blue':  ((0.0, 1.0, 1.0),\n",
    "                   (0.5, 1.0, 1.0),\n",
    "                   (1.0, 1, 1)),\n",
    "        }\n",
    "        \n",
    "qBlue = LinearSegmentedColormap('QBlue', cdict)\n",
    "\n",
    "fig, ax = plt.subplots()\n",
    "\n",
    "mpl.colorbar.ColorbarBase(ax, cmap=qBlue,orientation='horizontal')"
   ]
  },
  {
   "cell_type": "code",
   "execution_count": 3,
   "metadata": {
    "collapsed": true
   },
   "outputs": [],
   "source": [
    "pi11 = [x for x in se2011[0][:,0]]\n",
    "q11 = ([x for x in se2011[1][:,0]])\n",
    "\n",
    "pi14 = [x for x in se52[1][:,0]]\n",
    "q14 = ([x for x in se52[0][:,0]])\n",
    "\n",
    "a = plt.hist([pi11,q11,pi14,q14],58,label=[\"$2011 \\phi=\\pi$\",\"$2011 \\phi=\\pi/4$\",\"$2014 \\phi=\\pi$\",\"$2014 \\phi=\\pi/4$\"],color=['#0033cc','#cc0000','#4d79ff','#ff5050'],stacked=True,rwidth=1.2)"
   ]
  },
  {
   "cell_type": "code",
   "execution_count": 4,
   "metadata": {
    "collapsed": true
   },
   "outputs": [],
   "source": [
    "x = np.arange(0.81,1.23,0.03)\n",
    "normedp = (x-min(x))/(max(x)-min(x))\n",
    "x = np.arange(0.24,0.39,.03)\n",
    "normedq = (x-min(x))/(max(x)-min(x))"
   ]
  },
  {
   "cell_type": "code",
   "execution_count": 2,
   "metadata": {
    "collapsed": true
   },
   "outputs": [],
   "source": [
    "def plotColorizedHist(items,cutoff,colors):\n",
    "    hold = list()\n",
    "    for i in items:\n",
    "        colorindex = int((i[2]-cutoff)/0.03)\n",
    "        hold.append([i[0],colorindex])\n",
    "    colorhold = [[] for i in range(len(colors))]\n",
    "    for i in hold:\n",
    "        colorhold[i[1]].append(i[0])\n",
    "    temp = np.zeros(len(a[1])-1)\n",
    "    for i in range(len(colorhold)):\n",
    "        if len(colorhold[i]) == 0:\n",
    "            continue\n",
    "        x,_ = np.histogram(colorhold[i],a[1])\n",
    "        plt.bar(a[1][:-1],x,bottom=temp,width=0.58676,color=colors[i])\n",
    "        temp+=x"
   ]
  },
  {
   "cell_type": "code",
   "execution_count": 9,
   "metadata": {},
   "outputs": [
    {
     "data": {
      "text/plain": [
       "<matplotlib.text.Text at 0xca17400>"
      ]
     },
     "execution_count": 9,
     "metadata": {},
     "output_type": "execute_result"
    }
   ],
   "source": [
    "#Fig 1\n",
    "bins = np.arange(0,2.0,.03)\n",
    "pi = list(se52[1][:,2])\n",
    "pi.extend(list(se2011[1][:,2]))\n",
    "q = list(se52[0][:,2])\n",
    "q.extend(list(se2011[0][:,2]))\n",
    "pihist, pibins = np.histogram(pi,np.arange(0.81,1.23,.03))\n",
    "qhist, qbins = np.histogram(q,np.arange(0.24,0.39,.03))\n",
    "\n",
    "#Get number of bars:\n",
    "dp = max(pi)-min(pi)\n",
    "lenp = 13.0\n",
    "\n",
    "#Get color bars:\n",
    "cmapp = piRed\n",
    "normp = mpl.colors.Normalize(vmin=min(pi), vmax=max(pi))\n",
    "colorsp = cmapp(normedp)\n",
    "\n",
    "cmapq = qBlue\n",
    "normq = mpl.colors.Normalize(vmin=min(q), vmax=max(q))\n",
    "colorsq = cmapq(normedq)\n",
    "\n",
    "fig = plt.figure()\n",
    "ax = fig.add_axes([0.075, 0.2, 0.9, 0.75])\n",
    "ax1 = fig.add_axes([0.075, 0.08, 0.45, 0.03])\n",
    "ax2 = fig.add_axes([0.525, 0.08, 0.45, 0.03])\n",
    "\n",
    "cbp = mpl.colorbar.ColorbarBase(ax2, cmap=cmapp, norm=normp, orientation='horizontal',ticks=[0.9, 1, 1.1])\n",
    "\n",
    "cbq = mpl.colorbar.ColorbarBase(ax1, cmap=cmapq, norm=normq, orientation='horizontal',ticks=[0.25, 0.3, 0.35])\n",
    "\n",
    "ax.bar(pibins[:-1], pihist, width=0.03, color=colorsp, alpha=0.8)\n",
    "ax.bar(qbins[:-1], qhist, width=0.03, color=colorsq, alpha=0.8)\n",
    "plt.show()\n",
    "\n",
    "ax.set_xlim((0., 2.))\n",
    "ax.set_xlabel('$\\Delta \\phi$ ($\\pi$)')\n",
    "ax.set_ylabel('Count')"
   ]
  },
  {
   "cell_type": "code",
   "execution_count": 10,
   "metadata": {},
   "outputs": [
    {
     "data": {
      "text/plain": [
       "<matplotlib.text.Text at 0x22be5668>"
      ]
     },
     "execution_count": 10,
     "metadata": {},
     "output_type": "execute_result"
    }
   ],
   "source": [
    "gs = GridSpec(500,1000)\n",
    "fig = plt.figure()\n",
    "ax3 = fig.add_subplot(gs[:,:])\n",
    "plt.tick_params(axis='x',which='both',bottom='off',top='off',labelbottom='off')\n",
    "plt.tick_params(axis='y',which='both',bottom='off',top='off',labelleft='off')\n",
    "ax3.set_ylabel('Count',labelpad=17)\n",
    "ax1 = fig.add_subplot(gs[:250,:])\n",
    "plotColorizedHist(se52[1],0.83,colorsp)\n",
    "plotColorizedHist(se52[0],0.24,colorsq)\n",
    "plt.tick_params(axis='x',which='both',bottom='on',top='on',labelbottom='off')\n",
    "plt.yticks([0,2,4], ([0,2,4]))\n",
    "plt.title('Split Hist, stacked')\n",
    "ax2 = fig.add_subplot(gs[250:,:])\n",
    "plotColorizedHist(se2011[1],0.83,colorsp)\n",
    "plotColorizedHist(se2011[0],0.24,colorsq)\n",
    "plt.yticks([0,2,4,6], ([0,2,4,6]))\n",
    "ax2.set_xlabel('$V_p$ (mV)')\n"
   ]
  },
  {
   "cell_type": "code",
   "execution_count": 11,
   "metadata": {},
   "outputs": [
    {
     "data": {
      "text/plain": [
       "<matplotlib.text.Text at 0x24d52be0>"
      ]
     },
     "execution_count": 11,
     "metadata": {},
     "output_type": "execute_result"
    }
   ],
   "source": [
    "pi11 = [x for x in se2011[1][:,0]]\n",
    "q11 = ([x for x in se2011[0][:,0]])\n",
    "\n",
    "pi14 = [x for x in se52[1][:,0]]\n",
    "q14 = ([x for x in se52[0][:,0]])\n",
    "\n",
    "gs = GridSpec(500,1000)\n",
    "fig = plt.figure()\n",
    "ax3 = fig.add_subplot(gs[:,:])\n",
    "plt.tick_params(axis='x',which='both',bottom='off',top='off',labelbottom='off')\n",
    "plt.tick_params(axis='y',which='both',bottom='off',top='off',labelleft='off')\n",
    "ax3.set_ylabel('Count',labelpad=17)\n",
    "ax1 = fig.add_subplot(gs[:250,:])\n",
    "ax1.hist([pi14,q14],a[1],label=[\"$\\phi=\\pi$\",\"$\\phi=\\pi/4$\"],color=['b','r'],stacked=True,rwidth=1.2)\n",
    "plt.tick_params(axis='x',which='both',bottom='on',top='on',labelbottom='off')\n",
    "plt.yticks([0,2,4], ([0,2,4]))\n",
    "plt.legend(loc=0)\n",
    "plt.title('Split Hist, stacked')\n",
    "ax2 = fig.add_subplot(gs[250:,:])\n",
    "ax2.hist([pi11,q11],a[1],label=[\"$\\phi=\\pi$\",\"$\\phi=\\pi/4$\"],color=['b','r'],stacked=True,rwidth=1.2)\n",
    "plt.yticks([0,2,4,6], ([0,2,4,6]))\n",
    "ax2.set_xlabel('$V_p$ (mV)')\n"
   ]
  },
  {
   "cell_type": "code",
   "execution_count": 92,
   "metadata": {
    "collapsed": true
   },
   "outputs": [],
   "source": [
    "hold = list()\n",
    "for i in se2011[1]:\n",
    "    colorindex = int((i[2]-0.81)/0.03)\n",
    "    hold.append([i[0],colorindex])"
   ]
  },
  {
   "cell_type": "code",
   "execution_count": 93,
   "metadata": {
    "collapsed": true
   },
   "outputs": [],
   "source": [
    "colorhold = [[] for i in range(len(colorsp))]\n",
    "for i in hold:\n",
    "    colorhold[i[1]].append(i[0])"
   ]
  },
  {
   "cell_type": "code",
   "execution_count": 94,
   "metadata": {
    "collapsed": true
   },
   "outputs": [],
   "source": [
    "ph11,_ = np.histogram(pi11,a[1])"
   ]
  },
  {
   "cell_type": "code",
   "execution_count": 95,
   "metadata": {
    "collapsed": true
   },
   "outputs": [],
   "source": [
    "temp = np.zeros(len(a[1])-1)\n",
    "for i in range(len(colorhold)):\n",
    "    if len(colorhold[i]) == 0:\n",
    "        continue\n",
    "    x,_ = np.histogram(colorhold[i],a[1])\n",
    "    plt.bar(a[1][:-1],x,bottom=temp,width=0.58676,color=colorsp[i])\n",
    "    temp+=x"
   ]
  },
  {
   "cell_type": "code",
   "execution_count": 13,
   "metadata": {
    "collapsed": true
   },
   "outputs": [],
   "source": [
    "x = np.arange(0.825,1.245,0.03)\n",
    "normedp = x/2.\n",
    "x = np.arange(0.255,0.4,.03)\n",
    "normedq = x/2."
   ]
  },
  {
   "cell_type": "code",
   "execution_count": 31,
   "metadata": {
    "collapsed": true
   },
   "outputs": [],
   "source": [
    "cdict = {'red':   ((0.0, 0.0, 0.0),\n",
    "                   (0.125, 0.0, 0.0),\n",
    "                   (0.17, 0.2, 0.2),\n",
    "                   (0.4, 1, 1),\n",
    "                   (0.5, 1.0, 1.0),\n",
    "                   (0.7, 1.0, 1.0),\n",
    "                   (0.8, 0.0, 0.0),\n",
    "                  (1.0, 0.5, 0.5)),\n",
    "\n",
    "         'green': ((0.0, 1, 1),\n",
    "                   (0.1, 0.5, 0.5),\n",
    "                   (0.135, 0.0, 0.0),\n",
    "                   (0.4, 0.0, 0.0),\n",
    "                   (0.5,0.0,0.0),\n",
    "                   (0.6, 0.6, 0.6),\n",
    "                   (0.8, 0.8, .8),\n",
    "                  (1.0, 1, 1)),\n",
    "\n",
    "         'blue':  ((0.0, 0.2, 0.2),\n",
    "                   (0.13, 1.0, 1),\n",
    "                   (0.135, .8, .8),\n",
    "                   (0.17, 0.6, 0.6),\n",
    "                   (0.4, 0.8, 0.8),\n",
    "                   (0.5, 0.0, 0.0),\n",
    "                   (0.85, 0, 0),\n",
    "                   (1.0, 0.2, 0.2)),\n",
    "        }\n",
    "        \n",
    "fullC = LinearSegmentedColormap('fullC', cdict)\n"
   ]
  },
  {
   "cell_type": "code",
   "execution_count": 32,
   "metadata": {},
   "outputs": [
    {
     "data": {
      "text/plain": [
       "<matplotlib.text.Text at 0x2e2f7828>"
      ]
     },
     "execution_count": 32,
     "metadata": {},
     "output_type": "execute_result"
    }
   ],
   "source": [
    "fig = plt.figure(figsize=[7,8])\n",
    "ax = fig.add_axes([0.085, 0.7, 0.87, 0.25])\n",
    "ax4 = fig.add_axes([0.085, 0.2, 0.87, 0.44])\n",
    "plt.tick_params(axis='x',which='both',bottom='off',top='off',labelbottom='off')\n",
    "plt.tick_params(axis='y',which='both',bottom='off',top='off',labelleft='off')\n",
    "ax4.set_ylabel('Count',labelpad=24)\n",
    "ax1 = fig.add_axes([0.085, 0.42, 0.87, 0.22])\n",
    "plotColorizedHist(se52[1],0.825,colorsp)\n",
    "plotColorizedHist(se52[0],0.24,colorsq)\n",
    "plt.tick_params(axis='x',which='both',bottom='on',top='on',labelbottom='off')\n",
    "plt.yticks([0,2,4,6], ([0,2,4,6]))\n",
    "plt.ylim((0,6))\n",
    "plt.xticks([-40,-30,-20,-10])\n",
    "ax2 = fig.add_axes([0.085, 0.2, 0.87, 0.22])\n",
    "plotColorizedHist(se2011[1],0.825,colorsp)\n",
    "plotColorizedHist(se2011[0],0.24,colorsq)\n",
    "plt.yticks([0,2,4,6], ([0,2,4,6]))\n",
    "plt.ylim((0,8))\n",
    "plt.xticks([-40,-30,-20,-10])\n",
    "ax2.set_xlabel('$V_p$ (mV)')\n",
    "ax3 = fig.add_axes([0.085, 0.08, 0.87, 0.03])\n",
    "cbq = mpl.colorbar.ColorbarBase(ax3, cmap=cmap, norm=norm, orientation='horizontal',ticks=[0.0,0.5, 1.0,1.5, 2.0])\n",
    "ax3.set_xlabel('$\\Delta \\phi$ ($\\pi$)',labelpad=0)\n",
    "ax.bar(pibins[:-1], pihist, width=0.03, color=colorsp)\n",
    "ax.bar(qbins[:-1], qhist, width=0.03, color=colorsq)\n",
    "ax.set_xlim((0., 2.))\n",
    "ax.set_ylim((0,15))\n",
    "ax.set_yticks([0,5,10,15])\n",
    "ax.set_xlabel('$\\Delta \\phi$ ($\\pi$)',labelpad=0)\n",
    "ax.set_ylabel('Count')\n",
    "\n",
    "\n",
    "\n",
    "\n"
   ]
  },
  {
   "cell_type": "code",
   "execution_count": 27,
   "metadata": {},
   "outputs": [
    {
     "data": {
      "text/plain": [
       "<matplotlib.text.Text at 0x27697908>"
      ]
     },
     "execution_count": 27,
     "metadata": {},
     "output_type": "execute_result"
    }
   ],
   "source": [
    "#Fig 1\n",
    "bins = np.arange(0,2.0,.03)\n",
    "pi = list(se52[1][:,2])\n",
    "pi.extend(list(se2011[1][:,2]))\n",
    "q = list(se52[0][:,2])\n",
    "q.extend(list(se2011[0][:,2]))\n",
    "pihist, pibins = np.histogram(pi,np.arange(0.81,1.23,.03))\n",
    "qhist, qbins = np.histogram(q,np.arange(0.24,0.39,.03))\n",
    "\n",
    "#Get number of bars:\n",
    "dp = max(pi)-min(pi)\n",
    "lenp = 13.0\n",
    "\n",
    "#Get color bars:\n",
    "cmap = fullC\n",
    "\n",
    "norm = mpl.colors.Normalize(vmin=0, vmax=2)\n",
    "colorsq = cmap(normedq)\n",
    "colorsp = cmap(normedp)\n",
    "\n",
    "fig = plt.figure()\n",
    "ax = fig.add_axes([0.075, 0.2, 0.9, 0.75])\n",
    "ax1 = fig.add_axes([0.075, 0.08, 0.9, 0.03])\n",
    "\n",
    "\n",
    "cbq = mpl.colorbar.ColorbarBase(ax1, cmap=cmap, norm=norm, orientation='horizontal',ticks=[0.0, 1.0, 2.0])\n",
    "\n",
    "ax.bar(pibins[:-1], pihist, width=0.03, color=colorsp, alpha=0.8)\n",
    "ax.bar(qbins[:-1], qhist, width=0.03, color=colorsq, alpha=0.8)\n",
    "\n",
    "\n",
    "ax.set_xlim((0., 2.))\n",
    "ax.set_xlabel('$\\Delta \\phi$ ($\\pi$)')\n",
    "ax.set_ylabel('Count')"
   ]
  },
  {
   "cell_type": "code",
   "execution_count": 78,
   "metadata": {},
   "outputs": [
    {
     "data": {
      "text/plain": [
       "<Container object of 5 artists>"
      ]
     },
     "execution_count": 78,
     "metadata": {},
     "output_type": "execute_result"
    }
   ],
   "source": [
    "plt.bar(qbins[:-1],[1]*5,width=0.03,color=colorsq, alpha=0.8)"
   ]
  },
  {
   "cell_type": "code",
   "execution_count": 26,
   "metadata": {},
   "outputs": [
    {
     "data": {
      "text/plain": [
       "<matplotlib.text.Text at 0x23bc47b8>"
      ]
     },
     "execution_count": 26,
     "metadata": {},
     "output_type": "execute_result"
    }
   ],
   "source": [
    "fig = plt.figure(figsize=[7,8])\n",
    "ax = fig.add_axes([0.085, 0.7, 0.87, 0.25])\n",
    "ax1 = fig.add_axes([0.085, 0.42, 0.87, 0.22])\n",
    "plotColorizedHist(se52[1],0.825,colorsp)\n",
    "plotColorizedHist(se52[0],0.24,colorsq)\n",
    "plt.tick_params(axis='x',which='both',bottom='on',top='on',labelbottom='off')\n",
    "plt.yticks([0,2,4,6], ([0,2,4,6]))\n",
    "plt.ylim((0,6))\n",
    "plt.xticks([-40,-30,-20,-10])\n",
    "ax2 = fig.add_axes([0.085, 0.19, 0.87, 0.22])\n",
    "plotColorizedHist(se2011[1],0.825,colorsp)\n",
    "plotColorizedHist(se2011[0],0.24,colorsq)\n",
    "plt.yticks([0,2,4,6], ([0,2,4,6]))\n",
    "plt.ylim((0,8))\n",
    "plt.xticks([-40,-30,-20,-10])\n",
    "ax2.set_ylabel('Count')\n",
    "ax2.yaxis.set_label_coords(-0.059,1.05)\n",
    "ax2.set_xlabel('$V_p$ (mV)',labelpad=0)\n",
    "ax3 = fig.add_axes([0.085, 0.08, 0.87, 0.03])\n",
    "cbq = mpl.colorbar.ColorbarBase(ax3, cmap=cmap, norm=norm, orientation='horizontal',ticks=[0.0,0.5, 1.0,1.5, 2.0])\n",
    "ax3.set_xlabel('$\\Delta \\phi$ ($\\pi$)',labelpad=0)\n",
    "ax.bar(pibins[:-1], pihist, width=0.03, color=colorsp)\n",
    "ax.bar(qbins[:-1], qhist, width=0.03, color=colorsq)\n",
    "ax.set_xlim((0., 2.))\n",
    "ax.set_ylim((0,15))\n",
    "ax.set_yticks([0,5,10,15])\n",
    "ax.set_xlabel('$\\Delta \\phi$ ($\\pi$)',labelpad=0)\n",
    "ax.set_ylabel('Count')\n",
    "\n",
    "\n",
    "\n",
    "\n"
   ]
  },
  {
   "cell_type": "markdown",
   "metadata": {},
   "source": [
    "Scatter Plot:"
   ]
  },
  {
   "cell_type": "code",
   "execution_count": 34,
   "metadata": {
    "collapsed": true
   },
   "outputs": [],
   "source": [
    "fig1 = plt.figure(1)\n",
    "\n",
    "s5p = plt.scatter((se52[1][:,1]),se52[1][:,0],s=50,edgecolor='k')\n",
    "s5q = plt.scatter((se52[0][:,1]),se52[0][:,0],s=50,color='r',marker='d',edgecolor='k')\n",
    "s2q = plt.scatter((se2011[0][:,1]),se2011[0][:,0],color='r',s=50,marker='d',edgecolor='k')\n",
    "s2p = plt.scatter((se2011[1][:,1]),se2011[1][:,0],s=50)\n",
    "\n",
    "plt.ylim(-41,-3)\n",
    "plt.xlabel('B (T)')\n",
    "plt.ylabel('V$_P$(mV)')\n",
    "plt.xlim(5.5235,5.587)\n",
    "plt.legend((s2q,s2p),\n",
    "           ('$\\Delta\\phi = \\\\frac{\\pi}{4}$', '$\\Delta\\phi = \\pi$'),\n",
    "           scatterpoints=1,\n",
    "           loc='upper left',\n",
    "           ncol=1,\n",
    "           fontsize=10)\n",
    "plt.savefig('Scatter',dpi=1200)"
   ]
  },
  {
   "cell_type": "code",
   "execution_count": null,
   "metadata": {
    "collapsed": true
   },
   "outputs": [],
   "source": []
  }
 ],
 "metadata": {
  "kernelspec": {
   "display_name": "Python 2",
   "language": "python",
   "name": "python2"
  },
  "language_info": {
   "codemirror_mode": {
    "name": "ipython",
    "version": 2
   },
   "file_extension": ".py",
   "mimetype": "text/x-python",
   "name": "python",
   "nbconvert_exporter": "python",
   "pygments_lexer": "ipython2",
   "version": "2.7.10"
  }
 },
 "nbformat": 4,
 "nbformat_minor": 2
}
